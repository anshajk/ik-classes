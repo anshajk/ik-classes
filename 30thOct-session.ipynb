{
  "cells": [
    {
      "cell_type": "markdown",
      "metadata": {
        "id": "view-in-github",
        "colab_type": "text"
      },
      "source": [
        "<a href=\"https://colab.research.google.com/github/anshajk/ik-classes/blob/main/30thOct-session.ipynb\" target=\"_parent\"><img src=\"https://colab.research.google.com/assets/colab-badge.svg\" alt=\"Open In Colab\"/></a>"
      ]
    },
    {
      "cell_type": "markdown",
      "id": "4626660a",
      "metadata": {
        "id": "4626660a"
      },
      "source": [
        "# Python - Week 2 - Assignment Review"
      ]
    },
    {
      "cell_type": "markdown",
      "id": "548c2de9",
      "metadata": {
        "id": "548c2de9"
      },
      "source": [
        "#### MCQ-1"
      ]
    },
    {
      "cell_type": "code",
      "execution_count": 1,
      "id": "303aaaa4",
      "metadata": {
        "id": "303aaaa4"
      },
      "outputs": [],
      "source": [
        "s=\"interview kickstart\""
      ]
    },
    {
      "cell_type": "code",
      "execution_count": 2,
      "id": "014dc94f",
      "metadata": {
        "id": "014dc94f",
        "outputId": "f8b6f379-181a-4fb0-c4cc-318099395745",
        "colab": {
          "base_uri": "https://localhost:8080/"
        }
      },
      "outputs": [
        {
          "output_type": "stream",
          "name": "stdout",
          "text": [
            "inter\n"
          ]
        }
      ],
      "source": [
        "print(s[:5])\n",
        "\n",
        "# Starting index is always included\n",
        "# ending index is always excluded"
      ]
    },
    {
      "cell_type": "markdown",
      "id": "4c87071a",
      "metadata": {
        "id": "4c87071a"
      },
      "source": [
        "#### MCQ-2"
      ]
    },
    {
      "cell_type": "code",
      "execution_count": 3,
      "id": "b334b380",
      "metadata": {
        "id": "b334b380",
        "outputId": "bf6a7f4d-0d57-4f38-9f19-07166f343cb9",
        "colab": {
          "base_uri": "https://localhost:8080/"
        }
      },
      "outputs": [
        {
          "output_type": "stream",
          "name": "stdout",
          "text": [
            "2\n"
          ]
        }
      ],
      "source": [
        "str1 = \"my isname isisis jameis isis bond\";\n",
        "sub = \"is\";\n",
        "print(str1.count(sub, 4, 14))"
      ]
    },
    {
      "cell_type": "markdown",
      "id": "6fc218b1",
      "metadata": {
        "id": "6fc218b1"
      },
      "source": [
        "#### MCQ-3"
      ]
    },
    {
      "cell_type": "code",
      "execution_count": 4,
      "id": "62e7d385",
      "metadata": {
        "id": "62e7d385",
        "outputId": "17ecd575-5d0a-46a6-e324-c09f30bce503",
        "colab": {
          "base_uri": "https://localhost:8080/",
          "height": 35
        }
      },
      "outputs": [
        {
          "output_type": "execute_result",
          "data": {
            "text/plain": [
              "'232232'"
            ],
            "application/vnd.google.colaboratory.intrinsic+json": {
              "type": "string"
            }
          },
          "metadata": {},
          "execution_count": 4
        }
      ],
      "source": [
        "def example(a):\n",
        "    a = str(a) # '23'\n",
        "    a = a + '2' # '232'\n",
        "    a *= 2 # '232232'\n",
        "    return a\n",
        "\n",
        "example(23)"
      ]
    },
    {
      "cell_type": "code",
      "source": [
        "def function_new():\n",
        "  print(\"I'm a new function\")"
      ],
      "metadata": {
        "id": "ywCoXmbjJKfY"
      },
      "id": "ywCoXmbjJKfY",
      "execution_count": null,
      "outputs": []
    },
    {
      "cell_type": "markdown",
      "id": "436734ac",
      "metadata": {
        "id": "436734ac"
      },
      "source": [
        "#### MCQ-4"
      ]
    },
    {
      "cell_type": "code",
      "execution_count": null,
      "id": "90270145",
      "metadata": {
        "id": "90270145",
        "outputId": "8f51bf23-0ccc-49bc-a67f-b042b92dda6e"
      },
      "outputs": [
        {
          "name": "stdout",
          "output_type": "stream",
          "text": [
            "[[1, 2], [3, 4]]\n",
            "<class 'list'>\n"
          ]
        }
      ],
      "source": [
        "# L = [1, 23, 'hello', True] # list\n",
        "# L = {1, 23, 'hello', 1} # set\n",
        "# L = (1, 23, 'hello', 1) # tuple\n",
        "# D = {'a':1, 'b':2} # dict\n",
        "\n",
        "L = [[1, 2], [3, 4]]\n",
        "\n",
        "print(L)\n",
        "print(type(L))"
      ]
    },
    {
      "cell_type": "markdown",
      "id": "570b3de4",
      "metadata": {
        "id": "570b3de4"
      },
      "source": [
        "#### MCQ-5\n",
        "\n",
        "![](https://media.geeksforgeeks.org/wp-content/uploads/20240619161350/Set-Operations.webp)"
      ]
    },
    {
      "cell_type": "code",
      "execution_count": 6,
      "id": "82b6dc8d",
      "metadata": {
        "id": "82b6dc8d",
        "outputId": "b4172b9f-8fda-4940-e0f8-48e06dc8f381",
        "colab": {
          "base_uri": "https://localhost:8080/"
        }
      },
      "outputs": [
        {
          "output_type": "stream",
          "name": "stdout",
          "text": [
            "{3}\n",
            "{1, 2, 3, 5}\n",
            "{2, 5}\n"
          ]
        }
      ],
      "source": [
        "set1={2,5,3}\n",
        "set2={3,1}\n",
        "# set3={}\n",
        "\n",
        "set1.intersection(set2)\n",
        "\n",
        "set_intersection = set1 & set2 # intersection\n",
        "set_union = set1 | set2 # union\n",
        "set_diff = set1 - set2 # difference\n",
        "\n",
        "print(set_intersection)\n",
        "print(set_union)\n",
        "print(set_diff)"
      ]
    },
    {
      "cell_type": "code",
      "source": [
        "set1.intersection(set2)"
      ],
      "metadata": {
        "colab": {
          "base_uri": "https://localhost:8080/"
        },
        "id": "cyOwlHDsLxgw",
        "outputId": "46b498e5-d344-4d20-9a1a-d3faf9513e8a"
      },
      "id": "cyOwlHDsLxgw",
      "execution_count": 7,
      "outputs": [
        {
          "output_type": "execute_result",
          "data": {
            "text/plain": [
              "{3}"
            ]
          },
          "metadata": {},
          "execution_count": 7
        }
      ]
    },
    {
      "cell_type": "markdown",
      "id": "30869a7f",
      "metadata": {
        "id": "30869a7f"
      },
      "source": [
        "#### MCQ-6"
      ]
    },
    {
      "cell_type": "code",
      "source": [
        "my_dict = {}\n",
        "\n",
        "my_dict['a'] = 1\n",
        "my_dict['b'] = 2\n",
        "my_dict['c'] = 3\n",
        "my_dict['b'] = 4\n",
        "\n",
        "print(my_dict)"
      ],
      "metadata": {
        "colab": {
          "base_uri": "https://localhost:8080/"
        },
        "id": "PONGCwnwMuyY",
        "outputId": "ab3d0bdd-fae2-4ce6-c60c-22598c66043a"
      },
      "id": "PONGCwnwMuyY",
      "execution_count": 18,
      "outputs": [
        {
          "output_type": "stream",
          "name": "stdout",
          "text": [
            "{'a': 1, 'b': 4, 'c': 3}\n"
          ]
        }
      ]
    },
    {
      "cell_type": "code",
      "source": [
        "# Pop items using .popitem()\n",
        "item1 = my_dict.popitem()\n",
        "\n",
        "# item2 = my_dict.popitem()"
      ],
      "metadata": {
        "id": "F6R-5FYfM66I"
      },
      "id": "F6R-5FYfM66I",
      "execution_count": 19,
      "outputs": []
    },
    {
      "cell_type": "code",
      "source": [
        "item1"
      ],
      "metadata": {
        "colab": {
          "base_uri": "https://localhost:8080/"
        },
        "id": "a39kNs_jNJyH",
        "outputId": "a24e3414-c19e-449a-ba67-f821fae8a0ca"
      },
      "id": "a39kNs_jNJyH",
      "execution_count": 20,
      "outputs": [
        {
          "output_type": "execute_result",
          "data": {
            "text/plain": [
              "('c', 3)"
            ]
          },
          "metadata": {},
          "execution_count": 20
        }
      ]
    },
    {
      "cell_type": "code",
      "execution_count": 17,
      "id": "05dfb153",
      "metadata": {
        "id": "05dfb153",
        "outputId": "437dd991-59cd-40fa-a97b-db3e28d8a76d",
        "colab": {
          "base_uri": "https://localhost:8080/"
        }
      },
      "outputs": [
        {
          "output_type": "stream",
          "name": "stdout",
          "text": [
            "{'a': 1, 'b': 4, 'c': 3}\n",
            "{'a': 1}\n",
            "('c', 3)\n",
            "('b', 4)\n",
            "('d', 4)\n"
          ]
        }
      ],
      "source": [
        "my_dict = {}\n",
        "\n",
        "my_dict['a'] = 1\n",
        "my_dict['b'] = 2\n",
        "my_dict['c'] = 3\n",
        "my_dict['b'] = 4\n",
        "\n",
        "print(my_dict)\n",
        "\n",
        "# Pop items using .popitem()\n",
        "item1 = my_dict.popitem()\n",
        "item2 = my_dict.popitem()\n",
        "\n",
        "my_dict['d'] = 4\n",
        "\n",
        "item3 = my_dict.popitem()\n",
        "\n",
        "print(my_dict)\n",
        "print(item1)\n",
        "print(item2)\n",
        "print(item3)"
      ]
    },
    {
      "cell_type": "markdown",
      "id": "394f060d",
      "metadata": {
        "id": "394f060d"
      },
      "source": [
        "#### MCQ-8"
      ]
    },
    {
      "cell_type": "code",
      "execution_count": 32,
      "id": "1dd5363c",
      "metadata": {
        "id": "1dd5363c",
        "outputId": "8d5146f3-73e4-4232-9d4e-a30842a61ea6",
        "colab": {
          "base_uri": "https://localhost:8080/"
        }
      },
      "outputs": [
        {
          "output_type": "stream",
          "name": "stdout",
          "text": [
            "[['a', 'b', 'c', 'd', 'e', 'f', 'g']]\n"
          ]
        }
      ],
      "source": [
        "listOne  =  ['a', 'b', 'c', 'd']\n",
        "listTwo =  ['e', 'f', 'g']\n",
        "\n",
        "newList = listOne + listTwo\n",
        "print(newList)\n"
      ]
    },
    {
      "cell_type": "code",
      "source": [
        "print('New list:', newList)\n",
        "print('ListOne:', listOne)\n",
        "print('ListTwo:', listTwo)"
      ],
      "metadata": {
        "colab": {
          "base_uri": "https://localhost:8080/"
        },
        "id": "Z9Xu98xnO5yI",
        "outputId": "783973fb-2e3e-4431-ad0d-fa7f044b59e5"
      },
      "id": "Z9Xu98xnO5yI",
      "execution_count": 29,
      "outputs": [
        {
          "output_type": "stream",
          "name": "stdout",
          "text": [
            "New list: ['a', 'b', 'c', 'd', 'e', 'f', 'g']\n",
            "ListOne: ['a', 'b', 'c', 'd']\n",
            "ListTwo: ['e', 'f', 'g']\n"
          ]
        }
      ]
    },
    {
      "cell_type": "code",
      "source": [
        "listOne  =  ['a', 'b', 'c', 'd']\n",
        "listTwo =  ['e', 'f', 'g']\n",
        "\n",
        "newList = listOne.extend(listTwo)\n"
      ],
      "metadata": {
        "id": "MPpy94LUPejf"
      },
      "id": "MPpy94LUPejf",
      "execution_count": 30,
      "outputs": []
    },
    {
      "cell_type": "code",
      "source": [
        "print('New list:', newList)\n",
        "print('ListOne:', listOne)\n",
        "print('ListTwo:', listTwo)"
      ],
      "metadata": {
        "colab": {
          "base_uri": "https://localhost:8080/"
        },
        "id": "xysa5I72PiZV",
        "outputId": "fea57e42-966b-4cc9-aa28-288a57084621"
      },
      "id": "xysa5I72PiZV",
      "execution_count": 31,
      "outputs": [
        {
          "output_type": "stream",
          "name": "stdout",
          "text": [
            "New list: None\n",
            "ListOne: ['a', 'b', 'c', 'd', 'e', 'f', 'g']\n",
            "ListTwo: ['e', 'f', 'g']\n"
          ]
        }
      ]
    },
    {
      "cell_type": "markdown",
      "id": "27c347b2",
      "metadata": {
        "id": "27c347b2"
      },
      "source": [
        "#### 2 Sum in a Sorted Array"
      ]
    },
    {
      "cell_type": "code",
      "execution_count": 39,
      "id": "1dd5c233",
      "metadata": {
        "id": "1dd5c233"
      },
      "outputs": [],
      "source": [
        "# Brute force with Nested for loops\n",
        "def pair_sum_sorted_array(numbers, target):\n",
        "\n",
        "    # Iterate over each number in the array\n",
        "    for i in range(len(numbers)):\n",
        "\n",
        "        # For each number, iterate over the rest of the numbers in the array\n",
        "        for j in range(i+1, len(numbers)):\n",
        "\n",
        "            # If the two numbers add up to the target, return their indices\n",
        "            print(\"Value of i:\", i, \"Value of j:\", j)\n",
        "\n",
        "            if numbers[i] + numbers[j] == target:\n",
        "\n",
        "                return [i, j]\n",
        "\n",
        "# O(n2) -> Time complexity\n",
        "\n",
        "    # If no pair of numbers add up to the target, return [-1, -1]\n",
        "    return [-1, -1]"
      ]
    },
    {
      "cell_type": "code",
      "source": [
        "numbers = [2,7,11,15]\n",
        "target = 18\n",
        "\n",
        "pair_sum_sorted_array(numbers, target)\n",
        "\n"
      ],
      "metadata": {
        "colab": {
          "base_uri": "https://localhost:8080/"
        },
        "id": "uc55pUb6ViWT",
        "outputId": "c8f6a8da-ddf0-4d34-fe01-a1de6150768f"
      },
      "id": "uc55pUb6ViWT",
      "execution_count": 40,
      "outputs": [
        {
          "output_type": "stream",
          "name": "stdout",
          "text": [
            "Value of i: 0 Value of j: 1\n",
            "Value of i: 0 Value of j: 2\n",
            "Value of i: 0 Value of j: 3\n",
            "Value of i: 1 Value of j: 2\n",
            "Value of i: 1 Value of j: 3\n"
          ]
        },
        {
          "output_type": "execute_result",
          "data": {
            "text/plain": [
              "[1, 3]"
            ]
          },
          "metadata": {},
          "execution_count": 40
        }
      ]
    },
    {
      "cell_type": "code",
      "execution_count": 44,
      "id": "466ce10a",
      "metadata": {
        "id": "466ce10a"
      },
      "outputs": [],
      "source": [
        "# Two Pointers\n",
        "\n",
        "# One pointer is the slow pointer (left), the starting pointer\n",
        "# The other is usually called the fast one\n",
        "\n",
        "# numbers = [2,7,11,15]\n",
        "# target = 22\n",
        "\n",
        "def pair_sum_sorted_array(numbers, target):\n",
        "\n",
        "    # Set up two pointers: 'start' at the beginning of the array and 'end' at the end of the array\n",
        "    start = 0\n",
        "    end = len(numbers)-1 # 3\n",
        "\n",
        "    # While the 'start' pointer is less than the 'end' pointer\n",
        "    while start < end:\n",
        "        print(\"Start\", start, \"End:\", end)\n",
        "        # Calculate the current sum of the values pointed by the 'start' and 'end' pointers\n",
        "        csum = numbers[start] + numbers[end]\n",
        "\n",
        "        # If the current sum is less than the target\n",
        "        if csum < target:\n",
        "\n",
        "            # Move the 'start' pointer one step towards the end\n",
        "            print(\"Increasing start pointer\")\n",
        "            start += 1\n",
        "\n",
        "        # Else if the current sum is more than the target\n",
        "        elif csum > target:\n",
        "            print(\"Decreasing end pointer\")\n",
        "            # Move the 'end' pointer one step towards the start\n",
        "            end -= 1\n",
        "\n",
        "        # Else (the current sum is exactly equal to the target)\n",
        "        else:\n",
        "\n",
        "            # Return the indices of the two numbers that add up to the target\n",
        "            return [start, end]\n",
        "\n",
        "    # If no pair sums up to the target, return [-1, -1]\n",
        "  # O(n)\n",
        "    return [-1, -1]"
      ]
    },
    {
      "cell_type": "code",
      "source": [
        "numbers = [2,7,11,15]\n",
        "target = 16\n",
        "\n",
        "pair_sum_sorted_array(numbers, target)"
      ],
      "metadata": {
        "colab": {
          "base_uri": "https://localhost:8080/"
        },
        "id": "s2Z3281OZiCa",
        "outputId": "eacf5fa0-6b6d-43fc-cf40-9ff5eac473a0"
      },
      "id": "s2Z3281OZiCa",
      "execution_count": 47,
      "outputs": [
        {
          "output_type": "stream",
          "name": "stdout",
          "text": [
            "Start 0 End: 3\n",
            "Decreasing end pointer\n",
            "Start 0 End: 2\n",
            "Increasing start pointer\n",
            "Start 1 End: 2\n",
            "Decreasing end pointer\n"
          ]
        },
        {
          "output_type": "execute_result",
          "data": {
            "text/plain": [
              "[-1, -1]"
            ]
          },
          "metadata": {},
          "execution_count": 47
        }
      ]
    },
    {
      "cell_type": "markdown",
      "source": [
        "Two sum (unsorted array) with O(n) time complexity - https://leetcode.com/problems/two-sum/solutions/3619262/3-method-s-c-java-python-beginner-friendly/"
      ],
      "metadata": {
        "id": "zcXNtfQebvIJ"
      },
      "id": "zcXNtfQebvIJ"
    },
    {
      "cell_type": "markdown",
      "id": "74a95faa",
      "metadata": {
        "id": "74a95faa"
      },
      "source": [
        "#### Majority Element"
      ]
    },
    {
      "cell_type": "code",
      "execution_count": 48,
      "id": "88d6583b",
      "metadata": {
        "id": "88d6583b"
      },
      "outputs": [],
      "source": [
        "# Brute-Force\n",
        "import math\n",
        "\n",
        "def majority_element(nums):\n",
        "    \"\"\"\n",
        "    Args:\n",
        "     nums(list_int32): A list of integers.\n",
        "    Returns:\n",
        "     int32: The majority element if it exists, or 0 if no majority element exists.\n",
        "    \"\"\"\n",
        "    for elem in nums:\n",
        "        if nums.count(elem) > math.floor(len(nums)/2):\n",
        "            return elem"
      ]
    },
    {
      "cell_type": "code",
      "execution_count": 52,
      "id": "67b26300",
      "metadata": {
        "id": "67b26300"
      },
      "outputs": [],
      "source": [
        "# Dictionary Approach -\n",
        "def majority_element(nums):\n",
        "    # Initialize a dictionary to hold the counts of each number\n",
        "    counts = {}\n",
        "\n",
        "    # Iterate over the array\n",
        "    for num in nums:\n",
        "\n",
        "        print('Counts dict', counts)\n",
        "        # If the number is not in the dictionary, add the key with a count of 1\n",
        "        # If the number is already in the dictionary, increment its count\n",
        "        if num not in counts: # Not in -> Checks for the dict key\n",
        "            counts[num] = 1\n",
        "        else:\n",
        "            counts[num] += 1\n",
        "\n",
        "        # If the count of the current number is more than half the size of the array,\n",
        "        # return it as the majority element\n",
        "        if counts[num] > len(nums) // 2:\n",
        "            print(\"Value found\")\n",
        "            print(counts)\n",
        "            return num"
      ]
    },
    {
      "cell_type": "code",
      "source": [
        "nums = [2,2,1,1,1,2,2]\n",
        "majority_element(nums)"
      ],
      "metadata": {
        "colab": {
          "base_uri": "https://localhost:8080/"
        },
        "id": "ywaA8e8Zc8aQ",
        "outputId": "7fd63d1c-71a4-4ce6-c716-74e8f4fd72b3"
      },
      "id": "ywaA8e8Zc8aQ",
      "execution_count": 53,
      "outputs": [
        {
          "output_type": "stream",
          "name": "stdout",
          "text": [
            "Counts dict {}\n",
            "Counts dict {2: 1}\n",
            "Counts dict {2: 2}\n",
            "Counts dict {2: 2, 1: 1}\n",
            "Counts dict {2: 2, 1: 2}\n",
            "Counts dict {2: 2, 1: 3}\n",
            "Counts dict {2: 3, 1: 3}\n",
            "Value found\n",
            "{2: 4, 1: 3}\n"
          ]
        },
        {
          "output_type": "execute_result",
          "data": {
            "text/plain": [
              "2"
            ]
          },
          "metadata": {},
          "execution_count": 53
        }
      ]
    },
    {
      "cell_type": "code",
      "source": [],
      "metadata": {
        "id": "U81f8EJnddaj"
      },
      "id": "U81f8EJnddaj",
      "execution_count": null,
      "outputs": []
    },
    {
      "cell_type": "markdown",
      "id": "d78e623c",
      "metadata": {
        "id": "d78e623c"
      },
      "source": [
        "#### Check if Arrays Contains Duplicates"
      ]
    },
    {
      "cell_type": "code",
      "execution_count": null,
      "id": "c3dabacd",
      "metadata": {
        "id": "c3dabacd"
      },
      "outputs": [],
      "source": [
        "# Nested for loops\n",
        "def check_if_array_contains_duplicate(nums):\n",
        "    for i in range(len(nums)):\n",
        "        for j in range(i+1, len(nums)):\n",
        "            if nums[i] == nums[j]:\n",
        "                return True\n",
        "    return False"
      ]
    },
    {
      "cell_type": "code",
      "execution_count": null,
      "id": "5315d9fa",
      "metadata": {
        "id": "5315d9fa"
      },
      "outputs": [],
      "source": [
        "# Set Approach\n",
        "def check_if_array_contains_duplicate(nums):\n",
        "\n",
        "    # Convert the list of numbers to a set. A set in Python only stores unique elements,\n",
        "    # so any duplicates in the original list will be automatically removed in the set.\n",
        "    set1 = set(nums)\n",
        "\n",
        "    # Compare the lengths of the original list and the set.\n",
        "    # If the lengths are equal, it means that all elements in the list were unique.\n",
        "    # So, return False to indicate that there are no duplicates.\n",
        "    if len(nums) == len(set1):\n",
        "        return False\n",
        "\n",
        "    # If the lengths are not equal, it means that some elements in the list were duplicates,\n",
        "    # as those duplicates have been removed in the set. So, return True to indicate that there are duplicates.\n",
        "    else:\n",
        "        return True"
      ]
    },
    {
      "cell_type": "code",
      "execution_count": null,
      "id": "55b80f6b",
      "metadata": {
        "id": "55b80f6b"
      },
      "outputs": [],
      "source": [
        "# Sorting\n",
        "def check_if_array_contains_duplicate(nums):\n",
        "\n",
        "    # Sort the array\n",
        "    nums.sort()\n",
        "\n",
        "    for i in range(len(nums) - 1):\n",
        "\n",
        "        # If any element is the same as the next one, return True\n",
        "        if nums[i] == nums[i + 1]:\n",
        "            return True\n",
        "\n",
        "    # If no duplicates are found, return False\n",
        "    return False"
      ]
    },
    {
      "cell_type": "markdown",
      "id": "7f2dcee6",
      "metadata": {
        "id": "7f2dcee6"
      },
      "source": [
        "#### Intersection of Two Sorted Arrays"
      ]
    },
    {
      "cell_type": "code",
      "execution_count": 54,
      "id": "60458686",
      "metadata": {
        "id": "60458686"
      },
      "outputs": [],
      "source": [
        "# Set Approach\n",
        "def get_intersection(numbers1, numbers2):\n",
        "\n",
        "    # Convert the input arrays into sets to remove duplicates\n",
        "    set1 = set(numbers1)\n",
        "    set2 = set(numbers2)\n",
        "\n",
        "    # Find the intersection of the two sets\n",
        "    intersection = set1.intersection(set2)\n",
        "    # intersection = set1 & set2\n",
        "\n",
        "    # Sort the intersection and convert it back to a list\n",
        "    result = list(intersection)\n",
        "\n",
        "    # Return the result or [-1] if the intersection is empty\n",
        "    if result:\n",
        "        return result\n",
        "    else:\n",
        "        return [-1]\n",
        "    # return result if result else [-1] (Optional)"
      ]
    },
    {
      "cell_type": "code",
      "execution_count": null,
      "id": "0d083d39",
      "metadata": {
        "id": "0d083d39"
      },
      "outputs": [],
      "source": [
        "# Two Pointer Approach\n",
        "def get_intersection(numbers1, numbers2):\n",
        "\n",
        "    intersection = []\n",
        "\n",
        "    ind1 = 0\n",
        "    ind2 = 0\n",
        "\n",
        "    while ind1 < len(numbers1) and ind2 < len(numbers2):\n",
        "\n",
        "        if numbers1[ind1] == numbers2[ind2]:\n",
        "            intersection.append(numbers1[ind1])\n",
        "\n",
        "            # Skipping the duplicate entries in both the arrays to avoid duplicate entries in result.\n",
        "            ind1 += 1\n",
        "            while ind1 < len(numbers1) and numbers1[ind1] == numbers1[ind1 - 1]:\n",
        "                ind1 += 1\n",
        "\n",
        "            ind2 += 1\n",
        "            while ind2 < len(numbers2) and numbers2[ind2] == numbers2[ind2 - 1]:\n",
        "                ind2 += 1\n",
        "\n",
        "        elif numbers1[ind1] < numbers2[ind2]:\n",
        "            ind1 += 1\n",
        "\n",
        "        else:\n",
        "            ind2 += 1\n",
        "\n",
        "    return intersection if intersection else [-1]"
      ]
    },
    {
      "cell_type": "markdown",
      "id": "380280e0",
      "metadata": {
        "id": "380280e0"
      },
      "source": [
        "\n",
        "\n",
        "```\n",
        "# This is formatted as code\n",
        "```\n",
        "\n",
        "#### Single Number"
      ]
    },
    {
      "cell_type": "code",
      "execution_count": 55,
      "id": "7e365606",
      "metadata": {
        "id": "7e365606"
      },
      "outputs": [],
      "source": [
        "# Using Dict\n",
        "def single_number(arr):\n",
        "\n",
        "    dict_1 = {}\n",
        "\n",
        "    for x in arr:\n",
        "        if(x in dict_1):\n",
        "            dict_1[x] += 1\n",
        "        else:\n",
        "            dict_1[x] = 1\n",
        "\n",
        "    for k,v in dict_1.items():\n",
        "        if(v == 1):\n",
        "            return k"
      ]
    },
    {
      "cell_type": "code",
      "execution_count": 56,
      "id": "c0d23659",
      "metadata": {
        "id": "c0d23659"
      },
      "outputs": [],
      "source": [
        "# Math and Set\n",
        "def single_number(arr):\n",
        "    return 2 * sum(set(arr)) - sum(arr)"
      ]
    },
    {
      "cell_type": "code",
      "source": [
        "arr = [4,1,2,1,2]\n",
        "\n",
        "sum(set(arr)) * 2\n",
        "\n",
        "\n",
        "\n",
        "\n"
      ],
      "metadata": {
        "colab": {
          "base_uri": "https://localhost:8080/"
        },
        "id": "RwVmqlBAnRa8",
        "outputId": "f26d068a-b6b8-46d2-9d25-7e174fdef32c"
      },
      "id": "RwVmqlBAnRa8",
      "execution_count": 59,
      "outputs": [
        {
          "output_type": "execute_result",
          "data": {
            "text/plain": [
              "14"
            ]
          },
          "metadata": {},
          "execution_count": 59
        }
      ]
    },
    {
      "cell_type": "code",
      "source": [
        "def single_number(arr):\n",
        "    \"\"\"\n",
        "    Args:\n",
        "     arr(list_int32)\n",
        "    Returns:\n",
        "     int32\n",
        "    \"\"\"\n",
        "    # Write your code here.\n",
        "    x = 0\n",
        "    for i, num in enumerate(arr):\n",
        "        x = x ^ num #\n",
        "    return x"
      ],
      "metadata": {
        "id": "BMhmZY5zoFq_"
      },
      "id": "BMhmZY5zoFq_",
      "execution_count": 60,
      "outputs": []
    },
    {
      "cell_type": "markdown",
      "source": [
        "https://leetcode.com/problem-list/bit-manipulation/"
      ],
      "metadata": {
        "id": "ePaIyzwCo8OB"
      },
      "id": "ePaIyzwCo8OB"
    },
    {
      "cell_type": "code",
      "source": [],
      "metadata": {
        "id": "QU1DQ97-onJl"
      },
      "id": "QU1DQ97-onJl",
      "execution_count": null,
      "outputs": []
    },
    {
      "cell_type": "code",
      "source": [
        "single_number()"
      ],
      "metadata": {
        "id": "ObIFiRgmoOVN"
      },
      "id": "ObIFiRgmoOVN",
      "execution_count": null,
      "outputs": []
    },
    {
      "cell_type": "markdown",
      "id": "aa98821e",
      "metadata": {
        "id": "aa98821e"
      },
      "source": [
        "\n",
        "\n",
        "```\n",
        "# This is formatted as code\n",
        "```\n",
        "\n",
        "#### Squares of a Sorted Array"
      ]
    },
    {
      "cell_type": "code",
      "execution_count": 62,
      "id": "b968d7bb",
      "metadata": {
        "id": "b968d7bb"
      },
      "outputs": [],
      "source": [
        "# Sorting\n",
        "def generate_sorted_array_of_squares(numbers):\n",
        "\n",
        "    # Iterate over the array\n",
        "    for i in range(len(numbers)):\n",
        "\n",
        "        # Square each number in the array\n",
        "        numbers[i] = numbers[i] * numbers[i]\n",
        "\n",
        "    # Sort the array\n",
        "    numbers.sort()\n",
        "\n",
        "    # Return the sorted array of squares\n",
        "    return numbers"
      ]
    },
    {
      "cell_type": "code",
      "source": [
        "generate_sorted_array_of_squares([-4,-1,0,3,10])"
      ],
      "metadata": {
        "colab": {
          "base_uri": "https://localhost:8080/"
        },
        "id": "Qoa8bsippwL0",
        "outputId": "30ba28a5-87e5-4712-a606-268c215ae7ef"
      },
      "id": "Qoa8bsippwL0",
      "execution_count": 63,
      "outputs": [
        {
          "output_type": "execute_result",
          "data": {
            "text/plain": [
              "[0, 1, 9, 16, 100]"
            ]
          },
          "metadata": {},
          "execution_count": 63
        }
      ]
    },
    {
      "cell_type": "code",
      "execution_count": 66,
      "id": "9d86f21d",
      "metadata": {
        "id": "9d86f21d"
      },
      "outputs": [],
      "source": [
        "# Two pointers approach\n",
        "def generate_sorted_array_of_squares(numbers):\n",
        "\n",
        "    # Initialize pointers at the start and end of the array\n",
        "    start, end = 0, len(numbers) - 1\n",
        "\n",
        "    # Initialize the result array with the same length as the input array\n",
        "    result = [0] * len(numbers)\n",
        "\n",
        "    # Initialize a pointer for the result array at the end\n",
        "    res_pointer = len(numbers) - 1\n",
        "\n",
        "    # While the start pointer is less than or equal to the end pointer\n",
        "    while start <= end:\n",
        "        print(\"Start:\", start, \"End:\", end)\n",
        "        print(\"Result:\", result)\n",
        "        # Square the numbers at the start and end pointers\n",
        "        start_square = numbers[start] ** 2\n",
        "        end_square = numbers[end] ** 2\n",
        "\n",
        "        print(\"Start square:\", start_square)\n",
        "        print(\"End square:\", end_square)\n",
        "\n",
        "        # If the square at the start is greater than the square at the end\n",
        "        if start_square > end_square:\n",
        "\n",
        "            # Add the square at the start to the result array\n",
        "            result[res_pointer] = start_square\n",
        "\n",
        "            # Move the start pointer forward\n",
        "            start += 1\n",
        "        else:\n",
        "            # Otherwise, add the square at the end to the result array\n",
        "            result[res_pointer] = end_square\n",
        "\n",
        "            # Move the end pointer backward\n",
        "            end -= 1\n",
        "\n",
        "        # Move the result pointer backward\n",
        "\n",
        "        res_pointer -= 1\n",
        "\n",
        "    # Return the result array\n",
        "    return result"
      ]
    },
    {
      "cell_type": "code",
      "source": [
        "generate_sorted_array_of_squares([-4,-1,0,3,10])"
      ],
      "metadata": {
        "colab": {
          "base_uri": "https://localhost:8080/"
        },
        "id": "Q-6EoSFLqcz3",
        "outputId": "f7a58033-d4a3-43c6-e940-6bee4f7f946a"
      },
      "id": "Q-6EoSFLqcz3",
      "execution_count": 67,
      "outputs": [
        {
          "output_type": "stream",
          "name": "stdout",
          "text": [
            "Start: 0 End: 4\n",
            "Result: [0, 0, 0, 0, 0]\n",
            "Start square: 16\n",
            "End square: 100\n",
            "Start: 0 End: 3\n",
            "Result: [0, 0, 0, 0, 100]\n",
            "Start square: 16\n",
            "End square: 9\n",
            "Start: 1 End: 3\n",
            "Result: [0, 0, 0, 16, 100]\n",
            "Start square: 1\n",
            "End square: 9\n",
            "Start: 1 End: 2\n",
            "Result: [0, 0, 9, 16, 100]\n",
            "Start square: 1\n",
            "End square: 0\n",
            "Start: 2 End: 2\n",
            "Result: [0, 1, 9, 16, 100]\n",
            "Start square: 0\n",
            "End square: 0\n"
          ]
        },
        {
          "output_type": "execute_result",
          "data": {
            "text/plain": [
              "[0, 1, 9, 16, 100]"
            ]
          },
          "metadata": {},
          "execution_count": 67
        }
      ]
    },
    {
      "cell_type": "markdown",
      "id": "6dab7d53",
      "metadata": {
        "id": "6dab7d53"
      },
      "source": [
        "\n",
        "\n",
        "```\n",
        "# This is formatted as code\n",
        "```\n",
        "\n",
        "##### Maximum Sum Subarray\n",
        "\n",
        "[-2,1,-3,4,-1,2,1,-5,4]\n",
        "\n"
      ]
    },
    {
      "cell_type": "code",
      "execution_count": null,
      "id": "6093c603",
      "metadata": {
        "id": "6093c603"
      },
      "outputs": [],
      "source": [
        "# Using Brute force\n",
        "import math\n",
        "\n",
        "def find_maximum_sum_subarray(numbers):\n",
        "\n",
        "    # Set value to a negative number\n",
        "    max_subarray = -math.inf\n",
        "\n",
        "    # Iterate through the list\n",
        "    for i in range(len(numbers)):\n",
        "\n",
        "        # Initiate current subarray\n",
        "        current_subarray = 0\n",
        "\n",
        "        # Check all subarrays from the current index\n",
        "        for j in range(i, len(numbers)):\n",
        "\n",
        "            # Add elements to the current subarray\n",
        "            current_subarray += numbers[j]\n",
        "\n",
        "            # Update the maximum value if needed\n",
        "            max_subarray = max(max_subarray, current_subarray)\n",
        "\n",
        "    return max_subarray"
      ]
    },
    {
      "cell_type": "code",
      "execution_count": 76,
      "id": "063f2a9b",
      "metadata": {
        "id": "063f2a9b"
      },
      "outputs": [],
      "source": [
        "# Using Kadane's algorithm (Optional)\n",
        "# This is a dynamic programming approach\n",
        "\n",
        "\n",
        "def find_maximum_sum_subarray(numbers):\n",
        "\n",
        "    # Initialize the maximum subarray sum to negative infinity\n",
        "    ret = float(\"-inf\")\n",
        "\n",
        "    # Initialize the current subarray sum to 0\n",
        "    curr = 0\n",
        "\n",
        "    # Iterate over the array\n",
        "    for num in numbers:\n",
        "        print(\"Num value in this iteration is\", num)\n",
        "        # Add the current number to the current subarray sum\n",
        "        curr += num\n",
        "        print(\"Curr:\", curr)\n",
        "        # If the current number is greater than the current subarray sum\n",
        "        # it means it's better to start a new subarray from the current number\n",
        "        if num > curr:\n",
        "            print(f\"Num: {num} is greater than {curr}. Assigning curr subarray to the value {num}\")\n",
        "            curr = num\n",
        "\n",
        "        # Update the maximum subarray sum\n",
        "        ret = max(ret, curr)\n",
        "        print(\"Maximum subarray at this point:\", ret)\n",
        "        print('-------------------')\n",
        "\n",
        "    # Return the maximum subarray sum\n",
        "    return ret"
      ]
    },
    {
      "cell_type": "code",
      "source": [
        "nums = [-2,1,-3,4,-1,2,1,-5,4]\n",
        "\n",
        "# answer to this is [4,-1,2,1]\n",
        "\n",
        "find_maximum_sum_subarray(nums)"
      ],
      "metadata": {
        "colab": {
          "base_uri": "https://localhost:8080/"
        },
        "id": "i12HWylSwZKy",
        "outputId": "d2ed4bcd-6c44-4fcd-a550-06a57ecd3d6c"
      },
      "id": "i12HWylSwZKy",
      "execution_count": 77,
      "outputs": [
        {
          "output_type": "stream",
          "name": "stdout",
          "text": [
            "Num value in this iteration is -2\n",
            "Curr: -2\n",
            "Maximum subarray at this point: -2\n",
            "-------------------\n",
            "Num value in this iteration is 1\n",
            "Curr: -1\n",
            "Num: 1 is greater than -1. Assigning curr subarray to the value 1\n",
            "Maximum subarray at this point: 1\n",
            "-------------------\n",
            "Num value in this iteration is -3\n",
            "Curr: -2\n",
            "Maximum subarray at this point: 1\n",
            "-------------------\n",
            "Num value in this iteration is 4\n",
            "Curr: 2\n",
            "Num: 4 is greater than 2. Assigning curr subarray to the value 4\n",
            "Maximum subarray at this point: 4\n",
            "-------------------\n",
            "Num value in this iteration is -1\n",
            "Curr: 3\n",
            "Maximum subarray at this point: 4\n",
            "-------------------\n",
            "Num value in this iteration is 2\n",
            "Curr: 5\n",
            "Maximum subarray at this point: 5\n",
            "-------------------\n",
            "Num value in this iteration is 1\n",
            "Curr: 6\n",
            "Maximum subarray at this point: 6\n",
            "-------------------\n",
            "Num value in this iteration is -5\n",
            "Curr: 1\n",
            "Maximum subarray at this point: 6\n",
            "-------------------\n",
            "Num value in this iteration is 4\n",
            "Curr: 5\n",
            "Maximum subarray at this point: 6\n",
            "-------------------\n"
          ]
        },
        {
          "output_type": "execute_result",
          "data": {
            "text/plain": [
              "6"
            ]
          },
          "metadata": {},
          "execution_count": 77
        }
      ]
    },
    {
      "cell_type": "markdown",
      "id": "ef68d11c",
      "metadata": {
        "id": "ef68d11c"
      },
      "source": [
        "#### Find Winner\n",
        "\n",
        "Given a list of votes, containing names of candidates in an election, find which candidate received maximum number of votes. If two or more candidate got the same number of votes, return the lexicographically smaller name.\n"
      ]
    },
    {
      "cell_type": "code",
      "execution_count": null,
      "id": "70c0fe6d",
      "metadata": {
        "id": "70c0fe6d"
      },
      "outputs": [],
      "source": [
        "# Brute Force\n",
        "def find_winner(votes):\n",
        "\n",
        "    winner = \"\"\n",
        "    max_votes = 1\n",
        "\n",
        "    # Find the maximum vote\n",
        "    for name in votes:\n",
        "\n",
        "        # Count the list for the current name\n",
        "        count = votes.count(name)\n",
        "\n",
        "        # Find the maximum vote\n",
        "        if count > max_votes:\n",
        "            max_votes = count\n",
        "\n",
        "\n",
        "    for name in votes:\n",
        "\n",
        "        # Count the list for the current name\n",
        "        count = votes.count(name)\n",
        "\n",
        "        if count == max_votes:\n",
        "\n",
        "            # If no winner so far, set winner\n",
        "            if winner ==\"\":\n",
        "                winner = name\n",
        "\n",
        "            # If winner not unique, choose the lower lexicographically\n",
        "            elif name < winner:\n",
        "                winner = name\n",
        "                # winner = min(winner, name) # Optional\n",
        "\n",
        "    return winner"
      ]
    },
    {
      "cell_type": "code",
      "execution_count": null,
      "id": "864d943f",
      "metadata": {
        "id": "864d943f"
      },
      "outputs": [],
      "source": [
        "# Using lists\n",
        "def find_winner(votes):\n",
        "\n",
        "    winners_list = []\n",
        "    max_votes = 0\n",
        "\n",
        "    # Find the max vote\n",
        "    for vote in votes:\n",
        "        if(votes.count(vote) >= max_votes):\n",
        "            max_votes = votes.count(vote)\n",
        "\n",
        "    # Find the list of winners\n",
        "    for vote in votes:\n",
        "        if(votes.count(vote) == max_votes):\n",
        "            winners_list.append(vote)\n",
        "\n",
        "    return min(winners_list)"
      ]
    },
    {
      "cell_type": "code",
      "execution_count": null,
      "id": "804adb2c",
      "metadata": {
        "id": "804adb2c"
      },
      "outputs": [],
      "source": [
        "# Using dictionary\n",
        "def find_winner(votes):\n",
        "\n",
        "    # Create a dictionary, containing the number of votes of each candidate\n",
        "    vote_count = {}\n",
        "\n",
        "    # Populate the dictionary with vote counts\n",
        "    for candidate in votes:\n",
        "\n",
        "        # Increment of the count of votes.\n",
        "        if candidate in vote_count:\n",
        "            vote_count[candidate] += 1\n",
        "        else:\n",
        "            vote_count[candidate] = 1\n",
        "\n",
        "    # Find the maximum number of votes\n",
        "    max_votes = max(vote_count.values())\n",
        "\n",
        "    voters_list = []\n",
        "\n",
        "    for candidate in vote_count.keys():\n",
        "        if vote_count[candidate] == max_votes:\n",
        "            voters_list.append(candidate)\n",
        "\n",
        "    # return lexicographical smallest candidate name\n",
        "    return(min(voters_list))"
      ]
    }
  ],
  "metadata": {
    "kernelspec": {
      "display_name": "Python 3",
      "language": "python",
      "name": "python3"
    },
    "language_info": {
      "codemirror_mode": {
        "name": "ipython",
        "version": 3
      },
      "file_extension": ".py",
      "mimetype": "text/x-python",
      "name": "python",
      "nbconvert_exporter": "python",
      "pygments_lexer": "ipython3",
      "version": "3.8.8"
    },
    "colab": {
      "provenance": [],
      "include_colab_link": true
    }
  },
  "nbformat": 4,
  "nbformat_minor": 5
}