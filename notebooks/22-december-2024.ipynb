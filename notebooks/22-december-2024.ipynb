{
  "cells": [
    {
      "cell_type": "markdown",
      "metadata": {
        "id": "view-in-github",
        "colab_type": "text"
      },
      "source": [
        "<a href=\"https://colab.research.google.com/github/anshajk/ik-classes/blob/main/notebooks/22-december-2024.ipynb\" target=\"_parent\"><img src=\"https://colab.research.google.com/assets/colab-badge.svg\" alt=\"Open In Colab\"/></a>"
      ]
    },
    {
      "cell_type": "markdown",
      "id": "93bf79a9",
      "metadata": {
        "id": "93bf79a9"
      },
      "source": [
        "# Python Fundamentals - Week 3"
      ]
    },
    {
      "cell_type": "code",
      "source": [
        "def christmas_is_coming():\n",
        "  s = \"Ho Ho Ho! Santa is here!\"\n",
        "  print(s)\n",
        "  print(type(s))\n"
      ],
      "metadata": {
        "id": "TPrZmOXXY9q4"
      },
      "id": "TPrZmOXXY9q4",
      "execution_count": 3,
      "outputs": []
    },
    {
      "cell_type": "code",
      "source": [
        "christmas_is_coming()"
      ],
      "metadata": {
        "colab": {
          "base_uri": "https://localhost:8080/"
        },
        "id": "H20MxQQtZNqI",
        "outputId": "8b6fc4dd-b635-4a2d-8c15-c8e1d860f2d2"
      },
      "id": "H20MxQQtZNqI",
      "execution_count": 4,
      "outputs": [
        {
          "output_type": "stream",
          "name": "stdout",
          "text": [
            "Ho Ho Ho! Santa is here!\n",
            "<class 'str'>\n"
          ]
        }
      ]
    },
    {
      "cell_type": "code",
      "source": [
        "def make_a_fruit_cake():\n",
        "  global recipe\n",
        "  recipe = \"I'm making a fruit cake!\"\n",
        "  print(recipe)\n",
        "\n",
        "recipe = \"Take some flour and bake it. Don't forget to add Sugar\"\n",
        "\n",
        "\n",
        "print(recipe)\n",
        "make_a_fruit_cake()\n",
        "print(recipe)"
      ],
      "metadata": {
        "colab": {
          "base_uri": "https://localhost:8080/"
        },
        "id": "0IsJJHYmZebC",
        "outputId": "84db4f06-c029-4dc9-b5f4-e6b1928663d6"
      },
      "id": "0IsJJHYmZebC",
      "execution_count": 6,
      "outputs": [
        {
          "output_type": "stream",
          "name": "stdout",
          "text": [
            "Take some flour and bake it. Don't forget to add Sugar\n",
            "I'm making a fruit cake!\n",
            "I'm making a fruit cake!\n"
          ]
        }
      ]
    },
    {
      "cell_type": "code",
      "source": [
        "def make_the_cake(flour_weight: int, secret_ingredient: str, proportions: dict):\n",
        "  print('Flour weight', flour_weight)\n",
        "  print('Secret Ingredient', secret_ingredient)\n",
        "  print('Proportions', proportions)\n",
        "  proportions['water'] = 20\n",
        "\n"
      ],
      "metadata": {
        "id": "0WXg02u9a99s"
      },
      "id": "0WXg02u9a99s",
      "execution_count": 10,
      "outputs": []
    },
    {
      "cell_type": "code",
      "source": [
        "flour_weight = 5\n",
        "secret_ingredient = 'vanilla and raspberry'\n",
        "proportions = {\n",
        "    'sugar': 5,\n",
        "    'butter': 10,\n",
        "    'eggs': 2\n",
        "}\n",
        "\n",
        "make_the_cake(flour_weight, secret_ingredient, proportions)\n",
        "\n",
        "\n",
        "print(proportions)\n",
        "\n",
        "\n",
        "\n"
      ],
      "metadata": {
        "colab": {
          "base_uri": "https://localhost:8080/"
        },
        "id": "Zt7AXnwYbYiQ",
        "outputId": "dbfa6274-985a-4567-fdd8-a3347864a886"
      },
      "id": "Zt7AXnwYbYiQ",
      "execution_count": 11,
      "outputs": [
        {
          "output_type": "stream",
          "name": "stdout",
          "text": [
            "Flour weight 5\n",
            "Secret Ingredient vanilla and raspberry\n",
            "Proportions {'sugar': 5, 'butter': 10, 'eggs': 2}\n",
            "{'sugar': 5, 'butter': 10, 'eggs': 2, 'water': 20}\n"
          ]
        }
      ]
    },
    {
      "cell_type": "markdown",
      "id": "2d65ff74",
      "metadata": {
        "id": "2d65ff74"
      },
      "source": [
        "## OOP Concepts - Part I"
      ]
    },
    {
      "cell_type": "markdown",
      "id": "d912cb53",
      "metadata": {
        "id": "d912cb53"
      },
      "source": [
        "### How to Define a Class"
      ]
    },
    {
      "cell_type": "code",
      "source": [
        "def add_numbers(a=1, b=2):\n",
        "  return a + b"
      ],
      "metadata": {
        "id": "PPQPyIvqnjK1"
      },
      "id": "PPQPyIvqnjK1",
      "execution_count": 27,
      "outputs": []
    },
    {
      "cell_type": "code",
      "source": [
        "add_numbers()"
      ],
      "metadata": {
        "colab": {
          "base_uri": "https://localhost:8080/"
        },
        "id": "pnnGaEHnnvfZ",
        "outputId": "29358e7f-5066-4152-9544-285ab918c6f3"
      },
      "id": "pnnGaEHnnvfZ",
      "execution_count": 28,
      "outputs": [
        {
          "output_type": "execute_result",
          "data": {
            "text/plain": [
              "3"
            ]
          },
          "metadata": {},
          "execution_count": 28
        }
      ]
    },
    {
      "cell_type": "code",
      "source": [
        "def make_oatmeal(**kwargs):\n",
        "  for key, value in kwargs.items():\n",
        "    print(key, value)"
      ],
      "metadata": {
        "id": "Jz8mWatVns78"
      },
      "id": "Jz8mWatVns78",
      "execution_count": 29,
      "outputs": []
    },
    {
      "cell_type": "code",
      "source": [
        "make_oatmeal(water=1, sugar=0)"
      ],
      "metadata": {
        "colab": {
          "base_uri": "https://localhost:8080/"
        },
        "id": "tjEfAXgcn79U",
        "outputId": "9532b08e-8aff-45f4-cba9-6fc8232b5a2e"
      },
      "id": "tjEfAXgcn79U",
      "execution_count": 30,
      "outputs": [
        {
          "output_type": "stream",
          "name": "stdout",
          "text": [
            "water 1\n",
            "sugar 0\n"
          ]
        }
      ]
    },
    {
      "cell_type": "code",
      "source": [
        "make_oatmeal(milk=\"5\", oats=10)"
      ],
      "metadata": {
        "colab": {
          "base_uri": "https://localhost:8080/"
        },
        "id": "F-33W-g3oAPX",
        "outputId": "ed22f9c6-b256-4702-ed12-1ffc8599c4fe"
      },
      "id": "F-33W-g3oAPX",
      "execution_count": 31,
      "outputs": [
        {
          "output_type": "stream",
          "name": "stdout",
          "text": [
            "milk 5\n",
            "oats 10\n"
          ]
        }
      ]
    },
    {
      "cell_type": "code",
      "execution_count": 12,
      "id": "da75ff36",
      "metadata": {
        "id": "da75ff36"
      },
      "outputs": [],
      "source": [
        "# Create a new class\n",
        "class Student:\n",
        "\n",
        "    # Define a constructor\n",
        "    def __init__(self, name):\n",
        "        self.name = name # Attribute\n",
        "        print(\"New student added:\", name)\n",
        "        self.grades = [] # Attribute\n",
        "\n",
        "    # Define an instance method\n",
        "    def add_grade(self, course, grade):\n",
        "        self.grades.append((course, grade))\n",
        "        print(f\"Grade {grade} added for the course {course}\")"
      ]
    },
    {
      "cell_type": "code",
      "execution_count": 13,
      "id": "1db1dba1",
      "metadata": {
        "colab": {
          "base_uri": "https://localhost:8080/"
        },
        "id": "1db1dba1",
        "outputId": "c9b3302e-97fc-434e-b175-b55b3f32e017"
      },
      "outputs": [
        {
          "output_type": "stream",
          "name": "stdout",
          "text": [
            "New student added: John\n"
          ]
        }
      ],
      "source": [
        "# create an object from the class\n",
        "student1 = Student(\"John\")"
      ]
    },
    {
      "cell_type": "code",
      "source": [
        "student1.name"
      ],
      "metadata": {
        "colab": {
          "base_uri": "https://localhost:8080/",
          "height": 35
        },
        "id": "-yJbTfUZkkyn",
        "outputId": "e1e07636-2685-4a43-d651-0742656b4447"
      },
      "id": "-yJbTfUZkkyn",
      "execution_count": 14,
      "outputs": [
        {
          "output_type": "execute_result",
          "data": {
            "text/plain": [
              "'John'"
            ],
            "application/vnd.google.colaboratory.intrinsic+json": {
              "type": "string"
            }
          },
          "metadata": {},
          "execution_count": 14
        }
      ]
    },
    {
      "cell_type": "code",
      "execution_count": 15,
      "id": "e01d4910",
      "metadata": {
        "colab": {
          "base_uri": "https://localhost:8080/"
        },
        "id": "e01d4910",
        "outputId": "7d66b5f5-1a56-4e7b-d83c-a61a11545c12"
      },
      "outputs": [
        {
          "output_type": "execute_result",
          "data": {
            "text/plain": [
              "[]"
            ]
          },
          "metadata": {},
          "execution_count": 15
        }
      ],
      "source": [
        "student1.grades"
      ]
    },
    {
      "cell_type": "code",
      "execution_count": 16,
      "id": "ab2504c0",
      "metadata": {
        "colab": {
          "base_uri": "https://localhost:8080/"
        },
        "id": "ab2504c0",
        "outputId": "61862b88-0431-4d1d-c01d-3a76789c3483"
      },
      "outputs": [
        {
          "output_type": "stream",
          "name": "stdout",
          "text": [
            "<class '__main__.Student'>\n"
          ]
        }
      ],
      "source": [
        "print(type(student1))"
      ]
    },
    {
      "cell_type": "code",
      "execution_count": 17,
      "id": "850b5486",
      "metadata": {
        "colab": {
          "base_uri": "https://localhost:8080/",
          "height": 35
        },
        "id": "850b5486",
        "outputId": "737ed59c-f1bb-4da7-e473-4592305416fb"
      },
      "outputs": [
        {
          "output_type": "execute_result",
          "data": {
            "text/plain": [
              "'John'"
            ],
            "application/vnd.google.colaboratory.intrinsic+json": {
              "type": "string"
            }
          },
          "metadata": {},
          "execution_count": 17
        }
      ],
      "source": [
        "student1.name"
      ]
    },
    {
      "cell_type": "code",
      "execution_count": 18,
      "id": "6db50152",
      "metadata": {
        "colab": {
          "base_uri": "https://localhost:8080/"
        },
        "id": "6db50152",
        "outputId": "ef189dfc-db01-4aba-8158-00f3a68f6da9"
      },
      "outputs": [
        {
          "output_type": "stream",
          "name": "stdout",
          "text": [
            "Grade 87 added for the course Algebra\n"
          ]
        }
      ],
      "source": [
        "student1.add_grade(\"Algebra\", 87)"
      ]
    },
    {
      "cell_type": "code",
      "execution_count": 19,
      "id": "c4b2bc8b",
      "metadata": {
        "colab": {
          "base_uri": "https://localhost:8080/"
        },
        "id": "c4b2bc8b",
        "outputId": "ea0c2b20-a4e6-41a4-f675-cdcd54d3736a"
      },
      "outputs": [
        {
          "output_type": "execute_result",
          "data": {
            "text/plain": [
              "[('Algebra', 87)]"
            ]
          },
          "metadata": {},
          "execution_count": 19
        }
      ],
      "source": [
        "student1.grades"
      ]
    },
    {
      "cell_type": "code",
      "execution_count": 20,
      "id": "ce277657",
      "metadata": {
        "colab": {
          "base_uri": "https://localhost:8080/"
        },
        "id": "ce277657",
        "outputId": "10ab37ef-8ad9-4d59-abac-a2b69e9b7eb7"
      },
      "outputs": [
        {
          "output_type": "stream",
          "name": "stdout",
          "text": [
            "Grade 65 added for the course Physics\n"
          ]
        },
        {
          "output_type": "execute_result",
          "data": {
            "text/plain": [
              "[('Algebra', 87), ('Physics', 65)]"
            ]
          },
          "metadata": {},
          "execution_count": 20
        }
      ],
      "source": [
        "student1.add_grade(\"Physics\", 65)\n",
        "student1.grades"
      ]
    },
    {
      "cell_type": "code",
      "execution_count": 21,
      "id": "d42c5900",
      "metadata": {
        "colab": {
          "base_uri": "https://localhost:8080/"
        },
        "id": "d42c5900",
        "outputId": "612f52a8-ce05-4234-e2da-083729aa75f0"
      },
      "outputs": [
        {
          "output_type": "stream",
          "name": "stdout",
          "text": [
            "New student added: Mary\n"
          ]
        }
      ],
      "source": [
        "# create a second object\n",
        "student2 = Student(\"Mary\")"
      ]
    },
    {
      "cell_type": "code",
      "execution_count": 22,
      "id": "cf0dc80a",
      "metadata": {
        "colab": {
          "base_uri": "https://localhost:8080/",
          "height": 35
        },
        "id": "cf0dc80a",
        "outputId": "9418a5d6-7449-493c-e6ac-24b40325109c"
      },
      "outputs": [
        {
          "output_type": "execute_result",
          "data": {
            "text/plain": [
              "'Mary'"
            ],
            "application/vnd.google.colaboratory.intrinsic+json": {
              "type": "string"
            }
          },
          "metadata": {},
          "execution_count": 22
        }
      ],
      "source": [
        "student2.name"
      ]
    },
    {
      "cell_type": "code",
      "execution_count": 23,
      "id": "cef226c2",
      "metadata": {
        "colab": {
          "base_uri": "https://localhost:8080/"
        },
        "id": "cef226c2",
        "outputId": "45bfaf63-2ca6-4b29-87a8-c5d51068e499"
      },
      "outputs": [
        {
          "output_type": "execute_result",
          "data": {
            "text/plain": [
              "[]"
            ]
          },
          "metadata": {},
          "execution_count": 23
        }
      ],
      "source": [
        "student2.grades"
      ]
    },
    {
      "cell_type": "code",
      "execution_count": 24,
      "id": "c58760df",
      "metadata": {
        "colab": {
          "base_uri": "https://localhost:8080/"
        },
        "id": "c58760df",
        "outputId": "34d24a5e-d62f-47df-9706-759a5f778afd"
      },
      "outputs": [
        {
          "output_type": "stream",
          "name": "stdout",
          "text": [
            "Grade 59 added for the course Sciences\n",
            "Grade 91 added for the course English\n"
          ]
        },
        {
          "output_type": "execute_result",
          "data": {
            "text/plain": [
              "[('Sciences', 59), ('English', 91)]"
            ]
          },
          "metadata": {},
          "execution_count": 24
        }
      ],
      "source": [
        "student2.add_grade(\"Sciences\", 59)\n",
        "student2.add_grade(\"English\", 91)\n",
        "student2.grades"
      ]
    },
    {
      "cell_type": "code",
      "execution_count": 25,
      "id": "fa4ca24c",
      "metadata": {
        "id": "fa4ca24c"
      },
      "outputs": [],
      "source": [
        "student2.name = 'Mary Jane'"
      ]
    },
    {
      "cell_type": "code",
      "execution_count": 26,
      "id": "63eb5818",
      "metadata": {
        "colab": {
          "base_uri": "https://localhost:8080/",
          "height": 35
        },
        "id": "63eb5818",
        "outputId": "dd7690c4-eceb-44f6-9270-1ce558a176d2"
      },
      "outputs": [
        {
          "output_type": "execute_result",
          "data": {
            "text/plain": [
              "'Mary Jane'"
            ],
            "application/vnd.google.colaboratory.intrinsic+json": {
              "type": "string"
            }
          },
          "metadata": {},
          "execution_count": 26
        }
      ],
      "source": [
        "student2.name"
      ]
    },
    {
      "cell_type": "markdown",
      "id": "b4b580cf",
      "metadata": {
        "id": "b4b580cf"
      },
      "source": [
        "### Instance vs Class Methods and Attributes"
      ]
    },
    {
      "cell_type": "code",
      "execution_count": 39,
      "id": "72aafcf3",
      "metadata": {
        "id": "72aafcf3"
      },
      "outputs": [],
      "source": [
        "class Student:\n",
        "\n",
        "    num_of_students = 0 # Class attribute\n",
        "\n",
        "    # Define a constructor\n",
        "    def __init__(self, name):\n",
        "        self.name = name # Instance attribute\n",
        "        print(\"New student added:\", name)\n",
        "        Student.num_of_students += 1 # Student.num_of_students = Student.num_of_students + 1\n",
        "        self.grades = [] # Instance attribute\n",
        "\n",
        "    # Instance method\n",
        "    def add_grade(self, course, grade):\n",
        "        self.grades.append((course, grade))\n",
        "        self.studies = True\n",
        "        print(f\"Grade {grade} added for the course {course}\")\n",
        "\n",
        "    @classmethod # Python decorators -> Tenacity library\n",
        "    def class_count(cls):\n",
        "        return cls.num_of_students"
      ]
    },
    {
      "cell_type": "code",
      "execution_count": 40,
      "id": "884fd9ca",
      "metadata": {
        "colab": {
          "base_uri": "https://localhost:8080/"
        },
        "id": "884fd9ca",
        "outputId": "4cc6781d-3026-4430-931c-0255977c0ac6"
      },
      "outputs": [
        {
          "output_type": "stream",
          "name": "stdout",
          "text": [
            "New student added: John\n"
          ]
        }
      ],
      "source": [
        "student1 = Student(\"John\")"
      ]
    },
    {
      "cell_type": "code",
      "source": [
        "student1.name"
      ],
      "metadata": {
        "colab": {
          "base_uri": "https://localhost:8080/",
          "height": 35
        },
        "id": "me2JDMtBwiyo",
        "outputId": "2ec7be53-8294-4339-fef3-4d262cc10415"
      },
      "id": "me2JDMtBwiyo",
      "execution_count": 41,
      "outputs": [
        {
          "output_type": "execute_result",
          "data": {
            "text/plain": [
              "'John'"
            ],
            "application/vnd.google.colaboratory.intrinsic+json": {
              "type": "string"
            }
          },
          "metadata": {},
          "execution_count": 41
        }
      ]
    },
    {
      "cell_type": "code",
      "source": [
        "student1.grades"
      ],
      "metadata": {
        "colab": {
          "base_uri": "https://localhost:8080/"
        },
        "id": "htYVxrCdwoYS",
        "outputId": "8c989b6c-e3c7-40d8-bcfb-ef1e2d972b6d"
      },
      "id": "htYVxrCdwoYS",
      "execution_count": 42,
      "outputs": [
        {
          "output_type": "execute_result",
          "data": {
            "text/plain": [
              "[]"
            ]
          },
          "metadata": {},
          "execution_count": 42
        }
      ]
    },
    {
      "cell_type": "code",
      "source": [
        "student1.studies"
      ],
      "metadata": {
        "colab": {
          "base_uri": "https://localhost:8080/",
          "height": 139
        },
        "id": "EVud6BFDwrj4",
        "outputId": "0b14f2f1-ae44-4657-ca91-bf648fc6c6bf"
      },
      "id": "EVud6BFDwrj4",
      "execution_count": 43,
      "outputs": [
        {
          "output_type": "error",
          "ename": "AttributeError",
          "evalue": "'Student' object has no attribute 'studies'",
          "traceback": [
            "\u001b[0;31m---------------------------------------------------------------------------\u001b[0m",
            "\u001b[0;31mAttributeError\u001b[0m                            Traceback (most recent call last)",
            "\u001b[0;32m<ipython-input-43-826a4d107d97>\u001b[0m in \u001b[0;36m<cell line: 1>\u001b[0;34m()\u001b[0m\n\u001b[0;32m----> 1\u001b[0;31m \u001b[0mstudent1\u001b[0m\u001b[0;34m.\u001b[0m\u001b[0mstudies\u001b[0m\u001b[0;34m\u001b[0m\u001b[0;34m\u001b[0m\u001b[0m\n\u001b[0m",
            "\u001b[0;31mAttributeError\u001b[0m: 'Student' object has no attribute 'studies'"
          ]
        }
      ]
    },
    {
      "cell_type": "code",
      "source": [
        "student1.add_grade(\"Algebra\", 87)"
      ],
      "metadata": {
        "colab": {
          "base_uri": "https://localhost:8080/"
        },
        "id": "9EV6CQI3wyAv",
        "outputId": "8b2c26e9-0700-4269-956d-0f4783b0f1c1"
      },
      "id": "9EV6CQI3wyAv",
      "execution_count": 44,
      "outputs": [
        {
          "output_type": "stream",
          "name": "stdout",
          "text": [
            "Grade 87 added for the course Algebra\n"
          ]
        }
      ]
    },
    {
      "cell_type": "code",
      "source": [
        "student1.studies"
      ],
      "metadata": {
        "colab": {
          "base_uri": "https://localhost:8080/"
        },
        "id": "xfoAgV1iw0ve",
        "outputId": "8be2e233-3c16-48cf-96ca-c9334b9d2635"
      },
      "id": "xfoAgV1iw0ve",
      "execution_count": 45,
      "outputs": [
        {
          "output_type": "execute_result",
          "data": {
            "text/plain": [
              "True"
            ]
          },
          "metadata": {},
          "execution_count": 45
        }
      ]
    },
    {
      "cell_type": "code",
      "execution_count": 34,
      "id": "0ecbd8b7",
      "metadata": {
        "colab": {
          "base_uri": "https://localhost:8080/"
        },
        "id": "0ecbd8b7",
        "outputId": "ce8f363b-0af8-4fff-bd5f-5966c10fa7e7"
      },
      "outputs": [
        {
          "output_type": "execute_result",
          "data": {
            "text/plain": [
              "1"
            ]
          },
          "metadata": {},
          "execution_count": 34
        }
      ],
      "source": [
        "Student.class_count()"
      ]
    },
    {
      "cell_type": "code",
      "execution_count": 35,
      "id": "bab06154",
      "metadata": {
        "colab": {
          "base_uri": "https://localhost:8080/"
        },
        "id": "bab06154",
        "outputId": "7ae1e65e-4b66-4991-e64e-7d37459416fa"
      },
      "outputs": [
        {
          "output_type": "stream",
          "name": "stdout",
          "text": [
            "New student added: Mary\n"
          ]
        }
      ],
      "source": [
        "student2 = Student(\"Mary\")"
      ]
    },
    {
      "cell_type": "code",
      "execution_count": 36,
      "id": "31e85ca5",
      "metadata": {
        "colab": {
          "base_uri": "https://localhost:8080/"
        },
        "id": "31e85ca5",
        "outputId": "6a8ada4e-3dd4-4485-a5b9-fa2f23987520"
      },
      "outputs": [
        {
          "output_type": "execute_result",
          "data": {
            "text/plain": [
              "2"
            ]
          },
          "metadata": {},
          "execution_count": 36
        }
      ],
      "source": [
        "Student.class_count()"
      ]
    },
    {
      "cell_type": "code",
      "execution_count": 37,
      "id": "fa03cafc",
      "metadata": {
        "colab": {
          "base_uri": "https://localhost:8080/"
        },
        "id": "fa03cafc",
        "outputId": "8953ba8e-453c-4e25-88b5-50c943b66859"
      },
      "outputs": [
        {
          "output_type": "execute_result",
          "data": {
            "text/plain": [
              "2"
            ]
          },
          "metadata": {},
          "execution_count": 37
        }
      ],
      "source": [
        "student1.class_count()"
      ]
    },
    {
      "cell_type": "code",
      "execution_count": 38,
      "id": "04503e48",
      "metadata": {
        "colab": {
          "base_uri": "https://localhost:8080/"
        },
        "id": "04503e48",
        "outputId": "f00f4735-06f1-427b-e569-968d28de794b"
      },
      "outputs": [
        {
          "output_type": "execute_result",
          "data": {
            "text/plain": [
              "2"
            ]
          },
          "metadata": {},
          "execution_count": 38
        }
      ],
      "source": [
        "student2.class_count()"
      ]
    },
    {
      "cell_type": "markdown",
      "id": "2e560308",
      "metadata": {
        "id": "2e560308"
      },
      "source": [
        "### Static Methods"
      ]
    },
    {
      "cell_type": "code",
      "execution_count": 46,
      "id": "ab086b66",
      "metadata": {
        "id": "ab086b66"
      },
      "outputs": [],
      "source": [
        "class Student:\n",
        "\n",
        "    num_of_students = 0 # Class attribute\n",
        "\n",
        "    # Define a constructor\n",
        "    def __init__(self, name):\n",
        "        self.name = name # Instance attribute\n",
        "        print(\"New student added:\", name)\n",
        "        Student.num_of_students += 1\n",
        "        self.grades = [] # Instance attribute\n",
        "\n",
        "    # Instance method\n",
        "    def add_grade(self, course, num_grade):\n",
        "        grade = Student.grade_mapper(num_grade)\n",
        "        self.grades.append((course, grade))\n",
        "        print(f\"Grade {grade} added for the course {course}\")\n",
        "\n",
        "    @classmethod\n",
        "    def class_count(cls):\n",
        "        return cls.num_of_students\n",
        "\n",
        "    @staticmethod\n",
        "    def grade_mapper(score):\n",
        "        if 85 <= score <= 100:\n",
        "            return 'A'\n",
        "        elif 70 <= score < 85:\n",
        "            return 'B'\n",
        "        elif 55 <= score < 70:\n",
        "            return 'C'\n",
        "        elif 40 <= score < 55:\n",
        "            return 'D'\n",
        "        else:\n",
        "            return 'F'"
      ]
    },
    {
      "cell_type": "code",
      "execution_count": 47,
      "id": "b121dcd2",
      "metadata": {
        "colab": {
          "base_uri": "https://localhost:8080/"
        },
        "id": "b121dcd2",
        "outputId": "c475ed65-9067-45f2-936e-a9211a21e516"
      },
      "outputs": [
        {
          "output_type": "stream",
          "name": "stdout",
          "text": [
            "New student added: John\n"
          ]
        }
      ],
      "source": [
        "student = Student(\"John\")"
      ]
    },
    {
      "cell_type": "code",
      "execution_count": 48,
      "id": "afa9d194",
      "metadata": {
        "colab": {
          "base_uri": "https://localhost:8080/"
        },
        "id": "afa9d194",
        "outputId": "b32893a8-6283-4d7f-9543-df4718aa207e"
      },
      "outputs": [
        {
          "output_type": "stream",
          "name": "stdout",
          "text": [
            "Grade A added for the course Algebra\n"
          ]
        },
        {
          "output_type": "execute_result",
          "data": {
            "text/plain": [
              "[('Algebra', 'A')]"
            ]
          },
          "metadata": {},
          "execution_count": 48
        }
      ],
      "source": [
        "student.add_grade(\"Algebra\", 87)\n",
        "student.grades"
      ]
    },
    {
      "cell_type": "code",
      "execution_count": 49,
      "id": "857467c0",
      "metadata": {
        "scrolled": true,
        "colab": {
          "base_uri": "https://localhost:8080/"
        },
        "id": "857467c0",
        "outputId": "8cebb6e6-a242-404c-9ff8-9ef0e5195835"
      },
      "outputs": [
        {
          "output_type": "stream",
          "name": "stdout",
          "text": [
            "Grade C added for the course Physics\n"
          ]
        },
        {
          "output_type": "execute_result",
          "data": {
            "text/plain": [
              "[('Algebra', 'A'), ('Physics', 'C')]"
            ]
          },
          "metadata": {},
          "execution_count": 49
        }
      ],
      "source": [
        "student.add_grade(\"Physics\", 65)\n",
        "student.grades"
      ]
    },
    {
      "cell_type": "code",
      "source": [
        "print(student1)"
      ],
      "metadata": {
        "colab": {
          "base_uri": "https://localhost:8080/"
        },
        "id": "zQKeaZuVybjC",
        "outputId": "9eeb8614-0a3a-405e-d7b4-b425baab22b5"
      },
      "id": "zQKeaZuVybjC",
      "execution_count": 50,
      "outputs": [
        {
          "output_type": "stream",
          "name": "stdout",
          "text": [
            "<__main__.Student object at 0x7e56066d0070>\n"
          ]
        }
      ]
    },
    {
      "cell_type": "code",
      "source": [
        "print(student2)"
      ],
      "metadata": {
        "colab": {
          "base_uri": "https://localhost:8080/"
        },
        "id": "xPOClfVtyecj",
        "outputId": "ee9523e0-7cad-428f-fba6-4dcb3ba7bdc3"
      },
      "id": "xPOClfVtyecj",
      "execution_count": 51,
      "outputs": [
        {
          "output_type": "stream",
          "name": "stdout",
          "text": [
            "<__main__.Student object at 0x7e56067a19f0>\n"
          ]
        }
      ]
    },
    {
      "cell_type": "markdown",
      "id": "1f72fda6",
      "metadata": {
        "id": "1f72fda6"
      },
      "source": [
        "### Magic Methods"
      ]
    },
    {
      "cell_type": "code",
      "execution_count": 52,
      "id": "c4cbb837",
      "metadata": {
        "id": "c4cbb837"
      },
      "outputs": [],
      "source": [
        "class Student:\n",
        "\n",
        "    num_of_students = 0 # Class attribute\n",
        "\n",
        "    # Define a constructor\n",
        "    def __init__(self, name):\n",
        "        self.name = name # Instance attribute\n",
        "        print(\"New student added:\", name)\n",
        "        Student.num_of_students += 1\n",
        "        self.grades = [] # Instance attribute\n",
        "\n",
        "    # Instance method\n",
        "    def add_grade(self, course, num_grade):\n",
        "        grade = Student.grade_mapper(num_grade)\n",
        "        self.grades.append((course, grade))\n",
        "        print(f\"Grade {grade} added for the course {course}\")\n",
        "\n",
        "    @classmethod\n",
        "    def class_count(cls):\n",
        "        return cls.num_of_students\n",
        "\n",
        "    @staticmethod\n",
        "    def grade_mapper(score):\n",
        "        if 85 <= score <= 100:\n",
        "            return 'A'\n",
        "        elif 70 <= score < 85:\n",
        "            return 'B'\n",
        "        elif 55 <= score < 70:\n",
        "            return 'C'\n",
        "        elif 40 <= score < 55:\n",
        "            return 'D'\n",
        "        else:\n",
        "            return 'F'\n",
        "\n",
        "    def __repr__(self):\n",
        "        return f\"Grades of student {self.name}: {self.grades}\"\n"
      ]
    },
    {
      "cell_type": "code",
      "execution_count": 53,
      "id": "0c150952",
      "metadata": {
        "colab": {
          "base_uri": "https://localhost:8080/"
        },
        "id": "0c150952",
        "outputId": "10261327-dc18-45e5-e9c1-9e7aa23b9970"
      },
      "outputs": [
        {
          "output_type": "stream",
          "name": "stdout",
          "text": [
            "New student added: John\n"
          ]
        }
      ],
      "source": [
        "student1 = Student(\"John\")"
      ]
    },
    {
      "cell_type": "code",
      "execution_count": 54,
      "id": "d4821f6e",
      "metadata": {
        "colab": {
          "base_uri": "https://localhost:8080/"
        },
        "id": "d4821f6e",
        "outputId": "146e57ea-bd61-4c94-aa53-8878b4d63ff1"
      },
      "outputs": [
        {
          "output_type": "stream",
          "name": "stdout",
          "text": [
            "Grade A added for the course Algebra\n"
          ]
        },
        {
          "output_type": "execute_result",
          "data": {
            "text/plain": [
              "[('Algebra', 'A')]"
            ]
          },
          "metadata": {},
          "execution_count": 54
        }
      ],
      "source": [
        "student1.add_grade(\"Algebra\", 87)\n",
        "student1.grades"
      ]
    },
    {
      "cell_type": "code",
      "execution_count": 55,
      "id": "eedcaee7",
      "metadata": {
        "colab": {
          "base_uri": "https://localhost:8080/"
        },
        "id": "eedcaee7",
        "outputId": "aa933657-2f24-4b69-bc9d-72b66ad59f2c"
      },
      "outputs": [
        {
          "output_type": "stream",
          "name": "stdout",
          "text": [
            "Grade C added for the course Physics\n"
          ]
        },
        {
          "output_type": "execute_result",
          "data": {
            "text/plain": [
              "[('Algebra', 'A'), ('Physics', 'C')]"
            ]
          },
          "metadata": {},
          "execution_count": 55
        }
      ],
      "source": [
        "student1.add_grade(\"Physics\", 65)\n",
        "student1.grades"
      ]
    },
    {
      "cell_type": "code",
      "execution_count": 56,
      "id": "ac9d5799",
      "metadata": {
        "colab": {
          "base_uri": "https://localhost:8080/"
        },
        "id": "ac9d5799",
        "outputId": "70011396-64f4-468b-f557-183f90d09c07"
      },
      "outputs": [
        {
          "output_type": "stream",
          "name": "stdout",
          "text": [
            "Grades of student John: [('Algebra', 'A'), ('Physics', 'C')]\n"
          ]
        }
      ],
      "source": [
        "print(student1)"
      ]
    },
    {
      "cell_type": "code",
      "execution_count": null,
      "id": "5d885828",
      "metadata": {
        "id": "5d885828",
        "outputId": "339cd293-be61-4bd8-d1f5-ba0c7319608e"
      },
      "outputs": [
        {
          "name": "stdout",
          "output_type": "stream",
          "text": [
            "Grades of student John: [('Algebra', 'A'), ('Physics', 'C')]\n"
          ]
        }
      ],
      "source": [
        "print(repr(student1))"
      ]
    },
    {
      "cell_type": "code",
      "execution_count": null,
      "id": "8fed5a44",
      "metadata": {
        "id": "8fed5a44",
        "outputId": "b3dff193-7446-47d5-d18c-8222d6a11dd0"
      },
      "outputs": [
        {
          "name": "stdout",
          "output_type": "stream",
          "text": [
            "New student added: Mary\n"
          ]
        }
      ],
      "source": [
        "student2 = Student(\"Mary\")"
      ]
    },
    {
      "cell_type": "code",
      "execution_count": null,
      "id": "11ccfe33",
      "metadata": {
        "id": "11ccfe33",
        "outputId": "be866bc1-e5a6-4289-d4ab-1c598ac4596a"
      },
      "outputs": [
        {
          "name": "stdout",
          "output_type": "stream",
          "text": [
            "Student John & Student Mary\n"
          ]
        }
      ],
      "source": [
        "print(student1 + student2)"
      ]
    },
    {
      "cell_type": "markdown",
      "id": "f9c11971",
      "metadata": {
        "id": "f9c11971"
      },
      "source": [
        "#### Question: What if we remove 'self' from an instance method by mistake?"
      ]
    },
    {
      "cell_type": "markdown",
      "id": "a5f60fa8",
      "metadata": {
        "id": "a5f60fa8"
      },
      "source": [
        "If you define a method in a Python class without including self or cls as the first parameter, and without using the @staticmethod decorator, it is technically treated as an unbound instance method and Python treats it as a regular function within the class's namespace. It is still considered an instance method, but because it lacks self, it doesn't behave like a proper instance method. When you call this method on a class (ClassName.method()), it behaves like a regular function. When you call this method on an instance (instance.method()), Python tries to pass the instance as the first argument, which leads to a TypeError if the method is not designed to accept it."
      ]
    },
    {
      "cell_type": "code",
      "execution_count": null,
      "id": "8ab79a21",
      "metadata": {
        "id": "8ab79a21"
      },
      "outputs": [],
      "source": [
        "class Student:\n",
        "    def hello():\n",
        "        print(\"Hi\")"
      ]
    },
    {
      "cell_type": "code",
      "execution_count": null,
      "id": "e0ac216f",
      "metadata": {
        "id": "e0ac216f",
        "outputId": "803a34da-8626-435e-9900-123bb0961d04"
      },
      "outputs": [
        {
          "name": "stdout",
          "output_type": "stream",
          "text": [
            "Hi\n"
          ]
        }
      ],
      "source": [
        "Student.hello()"
      ]
    },
    {
      "cell_type": "code",
      "execution_count": null,
      "id": "6a56ae9c",
      "metadata": {
        "id": "6a56ae9c"
      },
      "outputs": [],
      "source": [
        "student = Student()"
      ]
    },
    {
      "cell_type": "code",
      "execution_count": null,
      "id": "5f302031",
      "metadata": {
        "id": "5f302031",
        "outputId": "a4eecf1e-6296-4243-8530-ded8aae054be"
      },
      "outputs": [
        {
          "ename": "NameError",
          "evalue": "name 'student_instance' is not defined",
          "output_type": "error",
          "traceback": [
            "\u001b[0;31m---------------------------------------------------------------------------\u001b[0m",
            "\u001b[0;31mNameError\u001b[0m                                 Traceback (most recent call last)",
            "Cell \u001b[0;32mIn[142], line 1\u001b[0m\n\u001b[0;32m----> 1\u001b[0m \u001b[43mstudent_instance\u001b[49m\u001b[38;5;241m.\u001b[39mhello()\n",
            "\u001b[0;31mNameError\u001b[0m: name 'student_instance' is not defined"
          ]
        }
      ],
      "source": [
        "student_instance.hello()"
      ]
    },
    {
      "cell_type": "markdown",
      "id": "c47b4a22",
      "metadata": {
        "id": "c47b4a22"
      },
      "source": [
        "### Class Activity (Leetcode Problem)"
      ]
    },
    {
      "cell_type": "code",
      "execution_count": 57,
      "id": "1312991d",
      "metadata": {
        "id": "1312991d"
      },
      "outputs": [],
      "source": [
        "class MyHashMap:\n",
        "\n",
        "#     count = 0\n",
        "\n",
        "    # constructor\n",
        "    def __init__(self):\n",
        "        self.data = []\n",
        "        print(type(self.data))\n",
        "\n",
        "    # put\n",
        "    def put(self, key, value):\n",
        "\n",
        "        for item in self.data:\n",
        "            if item[0] == key:\n",
        "                item[1] = value\n",
        "                return\n",
        "        pair = [key, value]\n",
        "        self.data.append(pair)\n",
        "#         MyHashMap.count += 1\n",
        "\n",
        "    # get\n",
        "    def get(self, key):\n",
        "\n",
        "        for item in self.data:\n",
        "            if item[0] == key:\n",
        "                return item[1]\n",
        "        return -1\n",
        "\n",
        "    # remove\n",
        "    def remove(self, key):\n",
        "\n",
        "        for item in self.data:\n",
        "            if item[0] == key:\n",
        "                self.data.remove(item)\n",
        "                return\n",
        "        return None"
      ]
    },
    {
      "cell_type": "code",
      "execution_count": 58,
      "id": "dd091e41",
      "metadata": {
        "colab": {
          "base_uri": "https://localhost:8080/"
        },
        "id": "dd091e41",
        "outputId": "5e197ac5-deb6-43d7-98bf-6af1ed0265f1"
      },
      "outputs": [
        {
          "output_type": "stream",
          "name": "stdout",
          "text": [
            "[]\n"
          ]
        }
      ],
      "source": [
        "myHashMap = MyHashMap()\n",
        "\n",
        "print(myHashMap.data)"
      ]
    },
    {
      "cell_type": "code",
      "execution_count": 59,
      "id": "f74b14a1",
      "metadata": {
        "colab": {
          "base_uri": "https://localhost:8080/"
        },
        "id": "f74b14a1",
        "outputId": "55f9ec46-65a0-45ef-e657-a073a52b156d"
      },
      "outputs": [
        {
          "output_type": "stream",
          "name": "stdout",
          "text": [
            "[[1, 100]]\n"
          ]
        }
      ],
      "source": [
        "myHashMap.put(1, 100)\n",
        "print(myHashMap.data)"
      ]
    },
    {
      "cell_type": "code",
      "execution_count": 60,
      "id": "40e88901",
      "metadata": {
        "colab": {
          "base_uri": "https://localhost:8080/"
        },
        "id": "40e88901",
        "outputId": "9a8b1093-028d-4258-b785-a4c85287fcad"
      },
      "outputs": [
        {
          "output_type": "stream",
          "name": "stdout",
          "text": [
            "[[1, 100], [2, 200]]\n"
          ]
        }
      ],
      "source": [
        "myHashMap.put(2, 200)\n",
        "print(myHashMap.data)"
      ]
    },
    {
      "cell_type": "code",
      "source": [
        "myHashMap.put(1, 300)\n",
        "print(myHashMap.data)"
      ],
      "metadata": {
        "colab": {
          "base_uri": "https://localhost:8080/"
        },
        "id": "8NOwx04e0t1H",
        "outputId": "98bec9f7-a6c7-4f10-f2bb-045f905614db"
      },
      "id": "8NOwx04e0t1H",
      "execution_count": 61,
      "outputs": [
        {
          "output_type": "stream",
          "name": "stdout",
          "text": [
            "[[1, 300], [2, 200]]\n"
          ]
        }
      ]
    },
    {
      "cell_type": "code",
      "execution_count": 62,
      "id": "df9cb043",
      "metadata": {
        "colab": {
          "base_uri": "https://localhost:8080/"
        },
        "id": "df9cb043",
        "outputId": "0980b80d-4bf8-4abd-e0e9-1bba663d89ee"
      },
      "outputs": [
        {
          "output_type": "stream",
          "name": "stdout",
          "text": [
            "300\n",
            "200\n",
            "-1\n"
          ]
        }
      ],
      "source": [
        "print(myHashMap.get(1))\n",
        "print(myHashMap.get(2))\n",
        "print(myHashMap.get(3))"
      ]
    },
    {
      "cell_type": "code",
      "source": [
        "myHashMap.data"
      ],
      "metadata": {
        "colab": {
          "base_uri": "https://localhost:8080/"
        },
        "id": "ecRn-jlp1WW6",
        "outputId": "e9f5d0bf-0df1-48da-c7a7-56bdf2527b59"
      },
      "id": "ecRn-jlp1WW6",
      "execution_count": 63,
      "outputs": [
        {
          "output_type": "execute_result",
          "data": {
            "text/plain": [
              "[[1, 300], [2, 200]]"
            ]
          },
          "metadata": {},
          "execution_count": 63
        }
      ]
    },
    {
      "cell_type": "code",
      "source": [
        "myHashMap.remove(2)"
      ],
      "metadata": {
        "id": "DECw4d2x1Y-m"
      },
      "id": "DECw4d2x1Y-m",
      "execution_count": 64,
      "outputs": []
    },
    {
      "cell_type": "code",
      "source": [
        "myHashMap.data"
      ],
      "metadata": {
        "colab": {
          "base_uri": "https://localhost:8080/"
        },
        "id": "mmypykBy1dCV",
        "outputId": "3dd99edd-f7bd-4a3a-a1ee-a78f0821ab87"
      },
      "id": "mmypykBy1dCV",
      "execution_count": 65,
      "outputs": [
        {
          "output_type": "execute_result",
          "data": {
            "text/plain": [
              "[[1, 300]]"
            ]
          },
          "metadata": {},
          "execution_count": 65
        }
      ]
    },
    {
      "cell_type": "code",
      "execution_count": null,
      "id": "42de6032",
      "metadata": {
        "id": "42de6032",
        "outputId": "4537cfcf-8af3-438a-c9a7-e076dc803f7a"
      },
      "outputs": [
        {
          "name": "stdout",
          "output_type": "stream",
          "text": [
            "[[1, 1], [2, 1]]\n"
          ]
        }
      ],
      "source": [
        "myHashMap.put(2, 1)\n",
        "print(myHashMap.data)"
      ]
    },
    {
      "cell_type": "code",
      "execution_count": null,
      "id": "8ea1e5f3",
      "metadata": {
        "id": "8ea1e5f3",
        "outputId": "a4e1d401-9041-4799-ab91-aa7e24615e82"
      },
      "outputs": [
        {
          "name": "stdout",
          "output_type": "stream",
          "text": [
            "1\n"
          ]
        }
      ],
      "source": [
        "print(myHashMap.get(2))"
      ]
    },
    {
      "cell_type": "code",
      "execution_count": null,
      "id": "840f914d",
      "metadata": {
        "id": "840f914d",
        "outputId": "325c6081-c051-4181-b3d6-9eaf05b1490a"
      },
      "outputs": [
        {
          "name": "stdout",
          "output_type": "stream",
          "text": [
            "[[1, 1]]\n"
          ]
        }
      ],
      "source": [
        "myHashMap.remove(2)\n",
        "print(myHashMap.data)"
      ]
    },
    {
      "cell_type": "code",
      "execution_count": null,
      "id": "e348a1b2",
      "metadata": {
        "scrolled": true,
        "id": "e348a1b2",
        "outputId": "c40f8d72-10bb-44ac-aa72-b913038dea8a"
      },
      "outputs": [
        {
          "name": "stdout",
          "output_type": "stream",
          "text": [
            "-1\n"
          ]
        }
      ],
      "source": [
        "print(myHashMap.get(2))"
      ]
    },
    {
      "cell_type": "markdown",
      "id": "f9d08394",
      "metadata": {
        "id": "f9d08394"
      },
      "source": [
        "## OOP Concepts - Part II"
      ]
    },
    {
      "cell_type": "markdown",
      "id": "ada50c02",
      "metadata": {
        "id": "ada50c02"
      },
      "source": [
        "### Inheritance"
      ]
    },
    {
      "cell_type": "code",
      "execution_count": 66,
      "id": "e208d161",
      "metadata": {
        "id": "e208d161"
      },
      "outputs": [],
      "source": [
        "class Student:\n",
        "\n",
        "    num_of_students = 0 # Class attribute\n",
        "\n",
        "    # Define a constructor\n",
        "    def __init__(self, name):\n",
        "        self.name = name # Instance attribute\n",
        "        print(\"New student added:\", name)\n",
        "        Student.num_of_students += 1\n",
        "        self.grades = [] # Instance attribute\n",
        "\n",
        "    # Instance method\n",
        "    def add_grade(self, course, num_grade):\n",
        "        grade = Student.grade_mapper(num_grade)\n",
        "        self.grades.append((course, grade))\n",
        "        print(f\"Grade {grade} added for the course {course}\")\n",
        "\n",
        "    @classmethod\n",
        "    def class_count(cls):\n",
        "        return cls.num_of_students\n",
        "\n",
        "    @staticmethod\n",
        "    def grade_mapper(score):\n",
        "        if 85 <= score <= 100:\n",
        "            return 'A'\n",
        "        elif 70 <= score < 85:\n",
        "            return 'B'\n",
        "        elif 55 <= score < 70:\n",
        "            return 'C'\n",
        "        elif 40 <= score < 55:\n",
        "            return 'D'\n",
        "        else:\n",
        "            return 'F'"
      ]
    },
    {
      "cell_type": "code",
      "execution_count": 67,
      "id": "c8a6ad88",
      "metadata": {
        "id": "c8a6ad88"
      },
      "outputs": [],
      "source": [
        "class NewGrad(Student):\n",
        "\n",
        "    def __init__(self, name, school):\n",
        "        super().__init__(name)\n",
        "        self.school = school\n",
        "\n",
        "    def isPassed(self):\n",
        "        for grade in self.grades:\n",
        "            if grade[1] >= 'C':\n",
        "                print(f\"{self.name} from {self.school} has failed the course {grade[0]} with grade {grade[1]}.\")\n",
        "                return False\n",
        "        print(f\"{self.name} from {self.school} has passed all tests.\")\n",
        "        return True"
      ]
    },
    {
      "cell_type": "code",
      "execution_count": 68,
      "id": "82be8409",
      "metadata": {
        "colab": {
          "base_uri": "https://localhost:8080/"
        },
        "id": "82be8409",
        "outputId": "7c1b72e6-cb5f-4564-c458-9e58eea79229"
      },
      "outputs": [
        {
          "output_type": "stream",
          "name": "stdout",
          "text": [
            "New student added: John\n",
            "Grade B added for the course Linear Algebra\n",
            "Grade C added for the course Optimal Control\n",
            "John from UCLA has failed the course Optimal Control with grade C.\n"
          ]
        },
        {
          "output_type": "execute_result",
          "data": {
            "text/plain": [
              "False"
            ]
          },
          "metadata": {},
          "execution_count": 68
        }
      ],
      "source": [
        "new_graduate1 = NewGrad(\"John\", \"UCLA\")\n",
        "\n",
        "new_graduate1.add_grade(\"Linear Algebra\", 78)\n",
        "new_graduate1.add_grade(\"Optimal Control\", 65)\n",
        "\n",
        "new_graduate1.isPassed()"
      ]
    },
    {
      "cell_type": "code",
      "execution_count": 69,
      "id": "b2fb26e5",
      "metadata": {
        "scrolled": true,
        "colab": {
          "base_uri": "https://localhost:8080/"
        },
        "id": "b2fb26e5",
        "outputId": "79b4d499-d222-4d4b-9e82-6f5682f6c24a"
      },
      "outputs": [
        {
          "output_type": "stream",
          "name": "stdout",
          "text": [
            "New student added: Mary\n",
            "Grade A added for the course Statistics\n",
            "Grade B added for the course Computer Vision\n",
            "Mary from Harvard has passed all tests.\n"
          ]
        },
        {
          "output_type": "execute_result",
          "data": {
            "text/plain": [
              "True"
            ]
          },
          "metadata": {},
          "execution_count": 69
        }
      ],
      "source": [
        "new_graduate2 = NewGrad(\"Mary\", \"Harvard\")\n",
        "\n",
        "new_graduate2.add_grade(\"Statistics\", 92)\n",
        "new_graduate2.add_grade(\"Computer Vision\", 83)\n",
        "\n",
        "new_graduate2.isPassed()"
      ]
    },
    {
      "cell_type": "markdown",
      "id": "84a86a9b",
      "metadata": {
        "id": "84a86a9b"
      },
      "source": [
        "#### Question: How does multiple inheritance work?"
      ]
    },
    {
      "cell_type": "code",
      "execution_count": null,
      "id": "6b013aad",
      "metadata": {
        "id": "6b013aad",
        "outputId": "03fced86-2393-4d54-f418-ed4f681d8db0"
      },
      "outputs": [
        {
          "name": "stdout",
          "output_type": "stream",
          "text": [
            "Method A from class A\n",
            "Method B from class B\n",
            "Method C from class C\n",
            "Shared method A\n"
          ]
        }
      ],
      "source": [
        "class A:\n",
        "    def method_a(self):\n",
        "        print(\"Method A from class A\")\n",
        "\n",
        "    def shared_method(self):\n",
        "        print(\"Shared method A\")\n",
        "\n",
        "class B:\n",
        "    def method_b(self):\n",
        "        print(\"Method B from class B\")\n",
        "\n",
        "    def shared_method(self):\n",
        "        print(\"Shared method B\")\n",
        "\n",
        "class C(A, B):\n",
        "    def method_c(self):\n",
        "        print(\"Method C from class C\")\n",
        "\n",
        "# Creating an object of class C\n",
        "obj = C()\n",
        "\n",
        "# Calling methods inherited from class A\n",
        "obj.method_a()\n",
        "\n",
        "# Calling methods inherited from class B\n",
        "obj.method_b()\n",
        "\n",
        "# Calling method defined in class C\n",
        "obj.method_c()\n",
        "\n",
        "# Calling the shared method\n",
        "obj.shared_method()"
      ]
    },
    {
      "cell_type": "markdown",
      "id": "ab85f53f",
      "metadata": {
        "id": "ab85f53f"
      },
      "source": [
        "### Encapsulation"
      ]
    },
    {
      "cell_type": "code",
      "execution_count": null,
      "id": "9fbd12fd",
      "metadata": {
        "id": "9fbd12fd"
      },
      "outputs": [],
      "source": [
        "class Student:\n",
        "\n",
        "    _num_of_students = 0 # Protected class attribute\n",
        "\n",
        "    # Define a constructor\n",
        "    def __init__(self, name):\n",
        "        self._name = name # Protected instance attribute\n",
        "        print(\"New student added:\", name)\n",
        "        Student._num_of_students += 1\n",
        "        self.__grades = [] # Private instance attribute\n",
        "\n",
        "    # Instance method\n",
        "    def add_grade(self, course, num_grade):\n",
        "        grade = Student.__grade_mapper(num_grade)\n",
        "        self.__grades.append((course, grade))\n",
        "        print(f\"Grade {grade} added for the course {course}\")\n",
        "\n",
        "    @classmethod\n",
        "    def _class_count(cls):\n",
        "        return cls._num_of_students\n",
        "\n",
        "    @staticmethod\n",
        "    def __grade_mapper(score):\n",
        "        if 85 <= score <= 100:\n",
        "            return 'A'\n",
        "        elif 70 <= score < 85:\n",
        "            return 'B'\n",
        "        elif 55 <= score < 70:\n",
        "            return 'C'\n",
        "        elif 40 <= score < 55:\n",
        "            return 'D'\n",
        "        else:\n",
        "            return 'F'"
      ]
    },
    {
      "cell_type": "code",
      "execution_count": null,
      "id": "746ac390",
      "metadata": {
        "id": "746ac390",
        "outputId": "33d29ba2-9b84-4c71-e53f-0d7ce6f069e1"
      },
      "outputs": [
        {
          "name": "stdout",
          "output_type": "stream",
          "text": [
            "New student added: John\n"
          ]
        }
      ],
      "source": [
        "student1 = Student(\"John\")"
      ]
    },
    {
      "cell_type": "code",
      "execution_count": null,
      "id": "49e8aae4",
      "metadata": {
        "id": "49e8aae4",
        "outputId": "19dbe60a-f29d-4a96-c3a1-29d1dc2efa61"
      },
      "outputs": [
        {
          "data": {
            "text/plain": [
              "'John'"
            ]
          },
          "execution_count": 35,
          "metadata": {},
          "output_type": "execute_result"
        }
      ],
      "source": [
        "student1._name"
      ]
    },
    {
      "cell_type": "code",
      "execution_count": null,
      "id": "9842a9e3",
      "metadata": {
        "id": "9842a9e3",
        "outputId": "7974d0a7-a323-4369-8d97-c8034c8c53cb"
      },
      "outputs": [
        {
          "data": {
            "text/plain": [
              "1"
            ]
          },
          "execution_count": 36,
          "metadata": {},
          "output_type": "execute_result"
        }
      ],
      "source": [
        "student1._num_of_students"
      ]
    },
    {
      "cell_type": "code",
      "execution_count": null,
      "id": "a2b6c4e4",
      "metadata": {
        "id": "a2b6c4e4",
        "outputId": "339a94e2-72b1-44c5-dc66-da88ee2182ae"
      },
      "outputs": [
        {
          "data": {
            "text/plain": [
              "1"
            ]
          },
          "execution_count": 37,
          "metadata": {},
          "output_type": "execute_result"
        }
      ],
      "source": [
        "student1._class_count()"
      ]
    },
    {
      "cell_type": "code",
      "execution_count": null,
      "id": "b8cfcd03",
      "metadata": {
        "scrolled": false,
        "id": "b8cfcd03",
        "outputId": "829c3613-f99c-4846-cfa5-6f7efc5e19c5"
      },
      "outputs": [
        {
          "ename": "AttributeError",
          "evalue": "'Student' object has no attribute '__grades'",
          "output_type": "error",
          "traceback": [
            "\u001b[0;31m---------------------------------------------------------------------------\u001b[0m",
            "\u001b[0;31mAttributeError\u001b[0m                            Traceback (most recent call last)",
            "Cell \u001b[0;32mIn[38], line 1\u001b[0m\n\u001b[0;32m----> 1\u001b[0m \u001b[43mstudent1\u001b[49m\u001b[38;5;241;43m.\u001b[39;49m\u001b[43m__grades\u001b[49m\n",
            "\u001b[0;31mAttributeError\u001b[0m: 'Student' object has no attribute '__grades'"
          ]
        }
      ],
      "source": [
        "student1.__grades"
      ]
    },
    {
      "cell_type": "code",
      "execution_count": null,
      "id": "02a4df79",
      "metadata": {
        "id": "02a4df79",
        "outputId": "c2e02fcb-5bf7-4a2a-b683-4ea4cb476763"
      },
      "outputs": [
        {
          "ename": "AttributeError",
          "evalue": "'Student' object has no attribute '__grade_mapper'",
          "output_type": "error",
          "traceback": [
            "\u001b[0;31m---------------------------------------------------------------------------\u001b[0m",
            "\u001b[0;31mAttributeError\u001b[0m                            Traceback (most recent call last)",
            "Cell \u001b[0;32mIn[39], line 1\u001b[0m\n\u001b[0;32m----> 1\u001b[0m \u001b[43mstudent1\u001b[49m\u001b[38;5;241;43m.\u001b[39;49m\u001b[43m__grade_mapper\u001b[49m(\u001b[38;5;241m92\u001b[39m)\n",
            "\u001b[0;31mAttributeError\u001b[0m: 'Student' object has no attribute '__grade_mapper'"
          ]
        }
      ],
      "source": [
        "student1.__grade_mapper(92)"
      ]
    },
    {
      "cell_type": "markdown",
      "id": "251dca53",
      "metadata": {
        "id": "251dca53"
      },
      "source": [
        "### Polymorphism"
      ]
    },
    {
      "cell_type": "code",
      "execution_count": 70,
      "id": "50229ff5",
      "metadata": {
        "id": "50229ff5"
      },
      "outputs": [],
      "source": [
        "class Student:\n",
        "\n",
        "    num_of_students = 0 # Protected class attribute\n",
        "\n",
        "    # Define a constructor\n",
        "    def __init__(self, name):\n",
        "        self.name = name # Protected instance attribute\n",
        "        print(\"New student added:\", name)\n",
        "        Student.num_of_students += 1\n",
        "        self.grades = [] # Private instance attribute\n",
        "\n",
        "    # Instance method\n",
        "    def add_grade(self, course, num_grade):\n",
        "        grade = Student.grade_mapper(num_grade)\n",
        "        self.grades.append((course, grade))\n",
        "        print(f\"Grade {grade} added for the course {course}\")\n",
        "\n",
        "    @classmethod\n",
        "    def class_count(cls):\n",
        "        return cls.num_of_students\n",
        "\n",
        "    @staticmethod\n",
        "    def grade_mapper(score):\n",
        "        if 85 <= score <= 100:\n",
        "            return 'A'\n",
        "        elif 70 <= score < 85:\n",
        "            return 'B'\n",
        "        elif 55 <= score < 70:\n",
        "            return 'C'\n",
        "        elif 40 <= score < 55:\n",
        "            return 'D'\n",
        "        else:\n",
        "            return 'F'\n",
        "\n",
        "    def isPassed(self):\n",
        "        return None"
      ]
    },
    {
      "cell_type": "code",
      "execution_count": null,
      "id": "ba863edb",
      "metadata": {
        "id": "ba863edb"
      },
      "outputs": [],
      "source": [
        "class NewStudent(Student):\n",
        "\n",
        "    def isPassed(self):\n",
        "        for grade in self.grades:\n",
        "            if grade[1] >= 'C':\n",
        "                print(f\"{self.name} from {self.school} has failed the course {grade[0]} with grade {grade[1]}.\")\n",
        "                return False\n",
        "        print(f\"{self.name} from {self.school} has passed all tests.\")\n",
        "        return True"
      ]
    },
    {
      "cell_type": "code",
      "execution_count": null,
      "id": "53719582",
      "metadata": {
        "id": "53719582",
        "outputId": "7ef3dbf1-21c6-437f-e371-597f40b6c530"
      },
      "outputs": [
        {
          "name": "stdout",
          "output_type": "stream",
          "text": [
            "New student added: John\n",
            "Grade B added for the course Linear Algebra\n",
            "Grade C added for the course Optimal Control\n",
            "John from UCLA has failed the course Optimal Control with grade C.\n"
          ]
        },
        {
          "data": {
            "text/plain": [
              "False"
            ]
          },
          "execution_count": 42,
          "metadata": {},
          "output_type": "execute_result"
        }
      ],
      "source": [
        "new_student = NewStudent(\"John\")\n",
        "\n",
        "new_graduate1.add_grade(\"Linear Algebra\", 78)\n",
        "new_graduate1.add_grade(\"Optimal Control\", 65)\n",
        "\n",
        "new_graduate1.isPassed()"
      ]
    },
    {
      "cell_type": "markdown",
      "id": "696b415d",
      "metadata": {
        "id": "696b415d"
      },
      "source": [
        "#### Question: Method overloading in Python"
      ]
    },
    {
      "cell_type": "markdown",
      "id": "740bd867",
      "metadata": {
        "id": "740bd867"
      },
      "source": [
        "In Python, method overloading as it is known in languages like Java or C++ (where multiple methods can have the same name but different parameter lists) doesn't exist in the same way. Python does not support method overloading natively. Instead, Python allows you to define a method with the same name only once in a class. If you define the same method multiple times, the last definition will override the previous ones."
      ]
    },
    {
      "cell_type": "markdown",
      "id": "6c9efb0e",
      "metadata": {
        "id": "6c9efb0e"
      },
      "source": [
        "#### Using Default Arguments"
      ]
    },
    {
      "cell_type": "code",
      "source": [],
      "metadata": {
        "id": "Lp1xU9VJA_X9"
      },
      "id": "Lp1xU9VJA_X9",
      "execution_count": null,
      "outputs": []
    },
    {
      "cell_type": "code",
      "execution_count": null,
      "id": "f378a906",
      "metadata": {
        "id": "f378a906",
        "outputId": "d108e173-7f02-4e3e-c20c-6d35d2950d95"
      },
      "outputs": [
        {
          "name": "stdout",
          "output_type": "stream",
          "text": [
            "Hello, World!\n",
            "Hello, Alice!\n"
          ]
        }
      ],
      "source": [
        "class Example:\n",
        "    def greet(self, name=\"World\"):\n",
        "        print(f\"Hello, {name}!\")\n",
        "\n",
        "obj = Example()\n",
        "obj.greet()           # Output: Hello, World!\n",
        "obj.greet(\"Alice\")    # Output: Hello, Alice!"
      ]
    },
    {
      "cell_type": "markdown",
      "id": "78dc43e4",
      "metadata": {
        "id": "78dc43e4"
      },
      "source": [
        "#### Using Variable-Length Arguments ('*args')"
      ]
    },
    {
      "cell_type": "code",
      "execution_count": null,
      "id": "01aea848",
      "metadata": {
        "id": "01aea848",
        "outputId": "c4257cc4-05f1-4893-d889-c3e0ef445f02"
      },
      "outputs": [
        {
          "name": "stdout",
          "output_type": "stream",
          "text": [
            "5\n",
            "14\n"
          ]
        }
      ],
      "source": [
        "class Example:\n",
        "    def add(self, *args):\n",
        "        return sum(args)\n",
        "\n",
        "obj = Example()\n",
        "print(obj.add(2, 3))          # Output: 5\n",
        "print(obj.add(2, 3, 4, 5))    # Output: 14"
      ]
    },
    {
      "cell_type": "code",
      "source": [
        "def add(a,b):\n",
        "  return a + b"
      ],
      "metadata": {
        "id": "lQoUKfhQBAeD"
      },
      "id": "lQoUKfhQBAeD",
      "execution_count": 72,
      "outputs": []
    },
    {
      "cell_type": "code",
      "source": [
        "add(2,3)"
      ],
      "metadata": {
        "colab": {
          "base_uri": "https://localhost:8080/"
        },
        "id": "8ITlGEd0BGVo",
        "outputId": "6961f721-0375-4023-ba74-0decb4e4f3b3"
      },
      "id": "8ITlGEd0BGVo",
      "execution_count": 73,
      "outputs": [
        {
          "output_type": "execute_result",
          "data": {
            "text/plain": [
              "5"
            ]
          },
          "metadata": {},
          "execution_count": 73
        }
      ]
    },
    {
      "cell_type": "code",
      "source": [
        "add(2,3,4)"
      ],
      "metadata": {
        "colab": {
          "base_uri": "https://localhost:8080/",
          "height": 139
        },
        "id": "EGUAZx7GBKu2",
        "outputId": "13198afc-77aa-4a0c-89b0-8a904e12f348"
      },
      "id": "EGUAZx7GBKu2",
      "execution_count": 74,
      "outputs": [
        {
          "output_type": "error",
          "ename": "TypeError",
          "evalue": "add() takes 2 positional arguments but 3 were given",
          "traceback": [
            "\u001b[0;31m---------------------------------------------------------------------------\u001b[0m",
            "\u001b[0;31mTypeError\u001b[0m                                 Traceback (most recent call last)",
            "\u001b[0;32m<ipython-input-74-0fe015c80267>\u001b[0m in \u001b[0;36m<cell line: 1>\u001b[0;34m()\u001b[0m\n\u001b[0;32m----> 1\u001b[0;31m \u001b[0madd\u001b[0m\u001b[0;34m(\u001b[0m\u001b[0;36m2\u001b[0m\u001b[0;34m,\u001b[0m\u001b[0;36m3\u001b[0m\u001b[0;34m,\u001b[0m\u001b[0;36m4\u001b[0m\u001b[0;34m)\u001b[0m\u001b[0;34m\u001b[0m\u001b[0;34m\u001b[0m\u001b[0m\n\u001b[0m",
            "\u001b[0;31mTypeError\u001b[0m: add() takes 2 positional arguments but 3 were given"
          ]
        }
      ]
    },
    {
      "cell_type": "code",
      "source": [
        "def add(*args):\n",
        "  sum = 0\n",
        "  for value in args:\n",
        "    sum = sum + value\n",
        "  return sum"
      ],
      "metadata": {
        "id": "Tw1tjoF6BTik"
      },
      "id": "Tw1tjoF6BTik",
      "execution_count": 78,
      "outputs": []
    },
    {
      "cell_type": "code",
      "source": [
        "add(1,2)"
      ],
      "metadata": {
        "colab": {
          "base_uri": "https://localhost:8080/"
        },
        "id": "czW89j4dBaHd",
        "outputId": "f56847bd-c30f-449a-b71b-e258eea18042"
      },
      "id": "czW89j4dBaHd",
      "execution_count": 79,
      "outputs": [
        {
          "output_type": "execute_result",
          "data": {
            "text/plain": [
              "3"
            ]
          },
          "metadata": {},
          "execution_count": 79
        }
      ]
    },
    {
      "cell_type": "code",
      "source": [
        "add(1,2,3,4)"
      ],
      "metadata": {
        "colab": {
          "base_uri": "https://localhost:8080/"
        },
        "id": "8DuYyZVmBa_L",
        "outputId": "bfa1936c-e333-4d1f-cbad-07b40cc8b0dd"
      },
      "id": "8DuYyZVmBa_L",
      "execution_count": 80,
      "outputs": [
        {
          "output_type": "execute_result",
          "data": {
            "text/plain": [
              "10"
            ]
          },
          "metadata": {},
          "execution_count": 80
        }
      ]
    },
    {
      "cell_type": "code",
      "source": [
        "def employee_details(**kwargs):\n",
        "  for key, value in kwargs.items():\n",
        "    print(f\"{key}: {value}\")"
      ],
      "metadata": {
        "id": "CMRzcydjBucL"
      },
      "id": "CMRzcydjBucL",
      "execution_count": 81,
      "outputs": []
    },
    {
      "cell_type": "code",
      "source": [
        "employee_details(name=\"John\", age=25, department=\"IT\",likes_coffee=\"yes\")"
      ],
      "metadata": {
        "colab": {
          "base_uri": "https://localhost:8080/"
        },
        "id": "TkPDPdqEB0mP",
        "outputId": "4e87ad33-199f-4167-9336-02d031dd6a9a"
      },
      "id": "TkPDPdqEB0mP",
      "execution_count": 82,
      "outputs": [
        {
          "output_type": "stream",
          "name": "stdout",
          "text": [
            "name: John\n",
            "age: 25\n",
            "department: IT\n",
            "likes_coffee: yes\n"
          ]
        }
      ]
    },
    {
      "cell_type": "markdown",
      "id": "9e0f9520",
      "metadata": {
        "id": "9e0f9520"
      },
      "source": [
        "#### Using Type Checking in Methods"
      ]
    },
    {
      "cell_type": "markdown",
      "id": "e6d7b3d4",
      "metadata": {
        "id": "e6d7b3d4"
      },
      "source": [
        "See the following for more information: https://www.geeksforgeeks.org/method-overriding-in-python/"
      ]
    },
    {
      "cell_type": "markdown",
      "id": "499f7b71",
      "metadata": {
        "id": "499f7b71"
      },
      "source": [
        "### Class Activity"
      ]
    },
    {
      "cell_type": "code",
      "execution_count": null,
      "id": "0fe7e397",
      "metadata": {
        "id": "0fe7e397"
      },
      "outputs": [],
      "source": [
        "# Base Class\n",
        "class Animal:\n",
        "    def __init__(self, name, species, age):\n",
        "        # Initialize the name, species, and age as private attributes\n",
        "        self.__name = name\n",
        "        self.__species = species\n",
        "        self.__age = age\n",
        "\n",
        "    def get_info(self):\n",
        "        # Return a string with the animal's name, species, and age\n",
        "        return f\"Animal name is {self.__name}, species is {self.__species}, age is {self.__age}\"\n",
        "\n",
        "    def make_sound(self):\n",
        "        return \"Some generic animal sound\"\n",
        "\n",
        "# Derived Class: Mammal\n",
        "class Mammal(Animal):\n",
        "    def __init__(self, name, species, age, fur_color):\n",
        "        # Initialize the mammal with its specific private attributes\n",
        "        super().__init__(name, species, age)\n",
        "        self.__fur_color = fur_color\n",
        "\n",
        "    def make_sound(self):\n",
        "        return \"Generic Mammal Sound\"\n",
        "\n",
        "# Derived Class: Bird\n",
        "class Bird(Animal):\n",
        "    def __init__(self, name, species, age, wing_span):\n",
        "        # Initialize the bird with its private specific attributes\n",
        "        super().__init__(name, species, age)\n",
        "        self.__wing_span = wing_span\n",
        "\n",
        "    def make_sound(self):\n",
        "        return \"Tweet Tweet\"\n",
        "\n",
        "# Specific Animal: Lion\n",
        "class Lion(Mammal):\n",
        "    def __init__(self, name, age, fur_color):\n",
        "        # Initialize the lion with its private specific attributes\n",
        "        super().__init__(name, \"Lion\", age, fur_color)\n",
        "\n",
        "    def make_sound(self):\n",
        "        return \"Roar\"\n",
        "\n",
        "# Specific Animal: Parrot\n",
        "class Parrot(Bird):\n",
        "    def __init__(self, name, age, wing_span):\n",
        "        # Initialize the parrot with its specific attributes\n",
        "        super().__init__(name, \"Parrot\", age, wing_span)\n",
        "\n",
        "    def make_sound(self):\n",
        "        return \"Squawk\""
      ]
    },
    {
      "cell_type": "code",
      "execution_count": null,
      "id": "67125264",
      "metadata": {
        "scrolled": false,
        "id": "67125264",
        "outputId": "2cb4f2c6-8fc7-442f-852d-eb95375a7263"
      },
      "outputs": [
        {
          "name": "stdout",
          "output_type": "stream",
          "text": [
            "Animal name is Leo, species is Lion, age is 5\n",
            "Animal name is Polly, species is Parrot, age is 2\n",
            "Roar\n",
            "Squawk\n"
          ]
        }
      ],
      "source": [
        "lion = Lion(name=\"Leo\", age=5, fur_color=\"Golden\")\n",
        "parrot = Parrot(name=\"Polly\", age=2, wing_span=0.25)\n",
        "\n",
        "print(lion.get_info())\n",
        "print(parrot.get_info())\n",
        "\n",
        "animals = [lion, parrot]\n",
        "\n",
        "for animal in animals:\n",
        "    print(animal.make_sound())"
      ]
    },
    {
      "cell_type": "markdown",
      "id": "0f4e5774",
      "metadata": {
        "id": "0f4e5774"
      },
      "source": [
        "## Custom Sort Functions"
      ]
    },
    {
      "cell_type": "markdown",
      "id": "9a0a09e9",
      "metadata": {
        "id": "9a0a09e9"
      },
      "source": [
        "### sorted()"
      ]
    },
    {
      "cell_type": "code",
      "execution_count": 84,
      "id": "bdde5e84",
      "metadata": {
        "scrolled": true,
        "colab": {
          "base_uri": "https://localhost:8080/"
        },
        "id": "bdde5e84",
        "outputId": "045d307f-f25e-45ca-9304-18e9e824e107"
      },
      "outputs": [
        {
          "output_type": "stream",
          "name": "stdout",
          "text": [
            "Original list: [4, 2, 9, 1, 5]\n",
            "Sorted list: [1, 2, 4, 5, 9]\n"
          ]
        }
      ],
      "source": [
        "numbers = [4, 2, 9, 1, 5]\n",
        "\n",
        "sorted_list = sorted(numbers)\n",
        "\n",
        "print(\"Original list:\", numbers)\n",
        "print(\"Sorted list:\", sorted_list)"
      ]
    },
    {
      "cell_type": "code",
      "execution_count": null,
      "id": "d61daf21",
      "metadata": {
        "id": "d61daf21",
        "outputId": "de3c3872-df0c-4903-f7e7-4df6a54bd165"
      },
      "outputs": [
        {
          "name": "stdout",
          "output_type": "stream",
          "text": [
            "Original list: [4, 2, 9, 1, 5]\n",
            "Sorted list [1, 2, 4, 5, 9]\n"
          ]
        }
      ],
      "source": [
        "sorted_numbers = sorted(numbers)\n",
        "\n",
        "print(\"Original list:\", numbers)\n",
        "print(\"Sorted list\", sorted_numbers)"
      ]
    },
    {
      "cell_type": "markdown",
      "id": "487e9403",
      "metadata": {
        "id": "487e9403"
      },
      "source": [
        "### sort()"
      ]
    },
    {
      "cell_type": "code",
      "execution_count": 85,
      "id": "0cdd73a6",
      "metadata": {
        "colab": {
          "base_uri": "https://localhost:8080/"
        },
        "id": "0cdd73a6",
        "outputId": "8d76973d-7b17-4b56-b9db-9aea8a9f52cc"
      },
      "outputs": [
        {
          "output_type": "stream",
          "name": "stdout",
          "text": [
            "List before sort: [4, 2, 9, 1, 5]\n",
            "List after sort: [1, 2, 4, 5, 9]\n"
          ]
        }
      ],
      "source": [
        "numbers = [4, 2, 9, 1, 5]\n",
        "\n",
        "print(\"List before sort:\", numbers)\n",
        "\n",
        "numbers.sort()\n",
        "\n",
        "print(\"List after sort:\", numbers)"
      ]
    },
    {
      "cell_type": "code",
      "execution_count": null,
      "id": "9212c8f3",
      "metadata": {
        "id": "9212c8f3",
        "outputId": "5471d15b-1c14-4ae0-ccd5-528bf5b9b5c8"
      },
      "outputs": [
        {
          "name": "stdout",
          "output_type": "stream",
          "text": [
            "None\n"
          ]
        }
      ],
      "source": [
        "print(numbers.sort())"
      ]
    },
    {
      "cell_type": "markdown",
      "id": "3688eb1c",
      "metadata": {
        "id": "3688eb1c"
      },
      "source": [
        "### key / reverse"
      ]
    },
    {
      "cell_type": "code",
      "execution_count": 87,
      "id": "9a93292b",
      "metadata": {
        "id": "9a93292b"
      },
      "outputs": [],
      "source": [
        "words = [\"apple\", \"banana\", \"cherry\", \"date\", \"fig\", \"bananas\"]"
      ]
    },
    {
      "cell_type": "code",
      "execution_count": 88,
      "id": "e5faa00f",
      "metadata": {
        "colab": {
          "base_uri": "https://localhost:8080/"
        },
        "id": "e5faa00f",
        "outputId": "12b3e024-f005-475c-dd2b-deacaa27a165"
      },
      "outputs": [
        {
          "output_type": "stream",
          "name": "stdout",
          "text": [
            "['fig', 'date', 'apple', 'banana', 'cherry', 'bananas']\n"
          ]
        }
      ],
      "source": [
        "# sort based on length\n",
        "sorted_words = sorted(words, key=lambda x: len(x))\n",
        "# sorted_words = sorted(words, key=len)\n",
        "print(sorted_words)"
      ]
    },
    {
      "cell_type": "code",
      "execution_count": null,
      "id": "18b32560",
      "metadata": {
        "id": "18b32560",
        "outputId": "f2ac267c-650b-4b9d-acb4-ef06fac49047"
      },
      "outputs": [
        {
          "name": "stdout",
          "output_type": "stream",
          "text": [
            "['bananas', 'banana', 'cherry', 'apple', 'date', 'fig']\n"
          ]
        }
      ],
      "source": [
        "# sort based on length in reverse order\n",
        "sorted_words = sorted(words, key=len, reverse=True)\n",
        "print(sorted_words)"
      ]
    },
    {
      "cell_type": "code",
      "execution_count": null,
      "id": "f2b080f7",
      "metadata": {
        "id": "f2b080f7",
        "outputId": "b53a35da-5182-489d-c4b8-10e2f8a72109"
      },
      "outputs": [
        {
          "name": "stdout",
          "output_type": "stream",
          "text": [
            "['banana', 'bananas', 'date', 'cherry', 'fig', 'apple']\n"
          ]
        }
      ],
      "source": [
        "# sort based on the second letter\n",
        "sorted_words2 = sorted(words, key=lambda x: (x[1], x[0]))\n",
        "print(sorted_words2)"
      ]
    },
    {
      "cell_type": "markdown",
      "id": "cd8b5131",
      "metadata": {
        "id": "cd8b5131"
      },
      "source": [
        "#### Exercise"
      ]
    },
    {
      "cell_type": "markdown",
      "id": "3ec623d1",
      "metadata": {
        "id": "3ec623d1"
      },
      "source": [
        "What are the outputs to the following sorts:"
      ]
    },
    {
      "cell_type": "code",
      "execution_count": null,
      "id": "763f70ee",
      "metadata": {
        "id": "763f70ee",
        "outputId": "fbe83024-7522-43a9-a915-0a8723c11b9b"
      },
      "outputs": [
        {
          "name": "stdout",
          "output_type": "stream",
          "text": [
            "abcd cadb cbda\n"
          ]
        }
      ],
      "source": [
        "points = [['a', 1, 2], ['c', 0, 4], ['b', 6, 3], ['d', 1, 3]]\n",
        "\n",
        "sorted_points1 = sorted(points)\n",
        "sorted_points2 = sorted(points, key=lambda x: (x[1]))\n",
        "sorted_points3 = sorted(points, key=lambda x: (x[2], x[1]), reverse=True)\n",
        "\n",
        "print(''.join([x[0] for x in sorted_points1]), end=' ')\n",
        "print(''.join([x[0] for x in sorted_points2]), end=' ')\n",
        "print(''.join([x[0] for x in sorted_points3]))\n",
        "\n",
        "# abcd cadb cbda (Correct ans)\n",
        "# abcd badc cdab\n",
        "# abcd cadb adbc\n",
        "# acbd cadb cbda"
      ]
    },
    {
      "cell_type": "markdown",
      "id": "f7cc4dee",
      "metadata": {
        "id": "f7cc4dee"
      },
      "source": [
        "#### Exercise"
      ]
    },
    {
      "cell_type": "markdown",
      "id": "51cf8b9f",
      "metadata": {
        "id": "51cf8b9f"
      },
      "source": [
        "Consider the following class:"
      ]
    },
    {
      "cell_type": "code",
      "execution_count": null,
      "id": "da40b864",
      "metadata": {
        "id": "da40b864"
      },
      "outputs": [],
      "source": [
        "class Employee:\n",
        "\n",
        "    def __init__(self, name, dept, age):\n",
        "        self.name = name\n",
        "        self.dept = dept\n",
        "        self.age = age\n",
        "\n",
        "    def __repr__(self):\n",
        "        return f\"({self.name}, {self.age})\""
      ]
    },
    {
      "cell_type": "markdown",
      "id": "f97bf38b",
      "metadata": {
        "id": "f97bf38b"
      },
      "source": [
        "Create the following list of employees and sort the list based on employees names:\n",
        "- Name: John, Department: IT, Age: 28\n",
        "- Name: Sam, Department: Banking, Age: 20\n",
        "- Name: John, Department: Finance, Age: 25\n",
        "\n",
        "In case of a tie, order based on age."
      ]
    },
    {
      "cell_type": "code",
      "execution_count": null,
      "id": "d73b247f",
      "metadata": {
        "id": "d73b247f",
        "outputId": "918bc772-69fe-43e7-d301-f86097c69ce5"
      },
      "outputs": [
        {
          "name": "stdout",
          "output_type": "stream",
          "text": [
            "[(John, 25), (John, 28), (Sam, 20)]\n"
          ]
        }
      ],
      "source": [
        "# Write your code here\n",
        "\n",
        "# create objects\n",
        "employee1 = Employee(\"John\", \"IT\", 28)\n",
        "employee2 = Employee(\"Sam\", \"Banking\", 20)\n",
        "employee3 = Employee(\"John\", \"Finance\", 25)\n",
        "\n",
        "# create list of employees\n",
        "employees = [employee1, employee2, employee3]\n",
        "\n",
        "# sorted the list\n",
        "sorted_list = sorted(employees, key=lambda x: (x.name, x.age))\n",
        "\n",
        "print(sorted_list)"
      ]
    },
    {
      "cell_type": "markdown",
      "id": "688476b1",
      "metadata": {
        "id": "688476b1"
      },
      "source": [
        "## Exception Handling"
      ]
    },
    {
      "cell_type": "markdown",
      "id": "0264ace5",
      "metadata": {
        "id": "0264ace5"
      },
      "source": [
        "### Common Errors"
      ]
    },
    {
      "cell_type": "code",
      "execution_count": null,
      "id": "513db0dd",
      "metadata": {
        "id": "513db0dd",
        "outputId": "cdfe2661-0476-4e79-b3de-df55f2814d04"
      },
      "outputs": [
        {
          "ename": "SyntaxError",
          "evalue": "incomplete input (501430583.py, line 2)",
          "output_type": "error",
          "traceback": [
            "\u001b[0;36m  Cell \u001b[0;32mIn[59], line 2\u001b[0;36m\u001b[0m\n\u001b[0;31m    print(\"Hello World\"\u001b[0m\n\u001b[0m                       ^\u001b[0m\n\u001b[0;31mSyntaxError\u001b[0m\u001b[0;31m:\u001b[0m incomplete input\n"
          ]
        }
      ],
      "source": [
        "# SyntaxError - Missing closing parenthesis\n",
        "print(\"Hello World\""
      ]
    },
    {
      "cell_type": "code",
      "execution_count": null,
      "id": "4edca494",
      "metadata": {
        "id": "4edca494",
        "outputId": "7c403ccb-06de-4a40-bb2e-9c87bdae7ef1"
      },
      "outputs": [
        {
          "ename": "TypeError",
          "evalue": "can only concatenate str (not \"int\") to str",
          "output_type": "error",
          "traceback": [
            "\u001b[0;31m---------------------------------------------------------------------------\u001b[0m",
            "\u001b[0;31mTypeError\u001b[0m                                 Traceback (most recent call last)",
            "Cell \u001b[0;32mIn[60], line 2\u001b[0m\n\u001b[1;32m      1\u001b[0m \u001b[38;5;66;03m# TypeError - Trying to add a string and an integer\u001b[39;00m\n\u001b[0;32m----> 2\u001b[0m result \u001b[38;5;241m=\u001b[39m \u001b[38;5;124;43m\"\u001b[39;49m\u001b[38;5;124;43m5\u001b[39;49m\u001b[38;5;124;43m\"\u001b[39;49m\u001b[43m \u001b[49m\u001b[38;5;241;43m+\u001b[39;49m\u001b[43m \u001b[49m\u001b[38;5;241;43m3\u001b[39;49m\n",
            "\u001b[0;31mTypeError\u001b[0m: can only concatenate str (not \"int\") to str"
          ]
        }
      ],
      "source": [
        "# TypeError - Trying to add a string and an integer\n",
        "result = \"5\" + 3"
      ]
    },
    {
      "cell_type": "code",
      "execution_count": null,
      "id": "0c9ef96d",
      "metadata": {
        "id": "0c9ef96d",
        "outputId": "7bd63be3-de01-41c0-deec-4ee17277a1ce"
      },
      "outputs": [
        {
          "ename": "ValueError",
          "evalue": "invalid literal for int() with base 10: 'abc'",
          "output_type": "error",
          "traceback": [
            "\u001b[0;31m---------------------------------------------------------------------------\u001b[0m",
            "\u001b[0;31mValueError\u001b[0m                                Traceback (most recent call last)",
            "Cell \u001b[0;32mIn[61], line 3\u001b[0m\n\u001b[1;32m      1\u001b[0m \u001b[38;5;66;03m# ValueError - Converting a non-numeric string to an integer\u001b[39;00m\n\u001b[1;32m      2\u001b[0m number_str \u001b[38;5;241m=\u001b[39m \u001b[38;5;124m\"\u001b[39m\u001b[38;5;124mabc\u001b[39m\u001b[38;5;124m\"\u001b[39m\n\u001b[0;32m----> 3\u001b[0m result \u001b[38;5;241m=\u001b[39m \u001b[38;5;28;43mint\u001b[39;49m\u001b[43m(\u001b[49m\u001b[43mnumber_str\u001b[49m\u001b[43m)\u001b[49m\n",
            "\u001b[0;31mValueError\u001b[0m: invalid literal for int() with base 10: 'abc'"
          ]
        }
      ],
      "source": [
        "# ValueError - Converting a non-numeric string to an integer\n",
        "number_str = \"abc\"\n",
        "result = int(number_str)"
      ]
    },
    {
      "cell_type": "code",
      "execution_count": null,
      "id": "b756d772",
      "metadata": {
        "id": "b756d772",
        "outputId": "50b75f6c-cf94-4978-b01d-ca4cadb3e2f0"
      },
      "outputs": [
        {
          "ename": "FileNotFoundError",
          "evalue": "[Errno 2] No such file or directory: 'non_existent_file.txt'",
          "output_type": "error",
          "traceback": [
            "\u001b[0;31m---------------------------------------------------------------------------\u001b[0m",
            "\u001b[0;31mFileNotFoundError\u001b[0m                         Traceback (most recent call last)",
            "Cell \u001b[0;32mIn[62], line 3\u001b[0m\n\u001b[1;32m      1\u001b[0m \u001b[38;5;66;03m# FileNotFoundError - Trying to open a non-existent file\u001b[39;00m\n\u001b[1;32m      2\u001b[0m file_path \u001b[38;5;241m=\u001b[39m \u001b[38;5;124m\"\u001b[39m\u001b[38;5;124mnon_existent_file.txt\u001b[39m\u001b[38;5;124m\"\u001b[39m\n\u001b[0;32m----> 3\u001b[0m \u001b[38;5;28;01mwith\u001b[39;00m \u001b[38;5;28;43mopen\u001b[39;49m\u001b[43m(\u001b[49m\u001b[43mfile_path\u001b[49m\u001b[43m,\u001b[49m\u001b[43m \u001b[49m\u001b[38;5;124;43m\"\u001b[39;49m\u001b[38;5;124;43mr\u001b[39;49m\u001b[38;5;124;43m\"\u001b[39;49m\u001b[43m)\u001b[49m \u001b[38;5;28;01mas\u001b[39;00m file:\n\u001b[1;32m      4\u001b[0m     content \u001b[38;5;241m=\u001b[39m file\u001b[38;5;241m.\u001b[39mread()\n",
            "File \u001b[0;32m~/anaconda3/lib/python3.10/site-packages/IPython/core/interactiveshell.py:282\u001b[0m, in \u001b[0;36m_modified_open\u001b[0;34m(file, *args, **kwargs)\u001b[0m\n\u001b[1;32m    275\u001b[0m \u001b[38;5;28;01mif\u001b[39;00m file \u001b[38;5;129;01min\u001b[39;00m {\u001b[38;5;241m0\u001b[39m, \u001b[38;5;241m1\u001b[39m, \u001b[38;5;241m2\u001b[39m}:\n\u001b[1;32m    276\u001b[0m     \u001b[38;5;28;01mraise\u001b[39;00m \u001b[38;5;167;01mValueError\u001b[39;00m(\n\u001b[1;32m    277\u001b[0m         \u001b[38;5;124mf\u001b[39m\u001b[38;5;124m\"\u001b[39m\u001b[38;5;124mIPython won\u001b[39m\u001b[38;5;124m'\u001b[39m\u001b[38;5;124mt let you open fd=\u001b[39m\u001b[38;5;132;01m{\u001b[39;00mfile\u001b[38;5;132;01m}\u001b[39;00m\u001b[38;5;124m by default \u001b[39m\u001b[38;5;124m\"\u001b[39m\n\u001b[1;32m    278\u001b[0m         \u001b[38;5;124m\"\u001b[39m\u001b[38;5;124mas it is likely to crash IPython. If you know what you are doing, \u001b[39m\u001b[38;5;124m\"\u001b[39m\n\u001b[1;32m    279\u001b[0m         \u001b[38;5;124m\"\u001b[39m\u001b[38;5;124myou can use builtins\u001b[39m\u001b[38;5;124m'\u001b[39m\u001b[38;5;124m open.\u001b[39m\u001b[38;5;124m\"\u001b[39m\n\u001b[1;32m    280\u001b[0m     )\n\u001b[0;32m--> 282\u001b[0m \u001b[38;5;28;01mreturn\u001b[39;00m \u001b[43mio_open\u001b[49m\u001b[43m(\u001b[49m\u001b[43mfile\u001b[49m\u001b[43m,\u001b[49m\u001b[43m \u001b[49m\u001b[38;5;241;43m*\u001b[39;49m\u001b[43margs\u001b[49m\u001b[43m,\u001b[49m\u001b[43m \u001b[49m\u001b[38;5;241;43m*\u001b[39;49m\u001b[38;5;241;43m*\u001b[39;49m\u001b[43mkwargs\u001b[49m\u001b[43m)\u001b[49m\n",
            "\u001b[0;31mFileNotFoundError\u001b[0m: [Errno 2] No such file or directory: 'non_existent_file.txt'"
          ]
        }
      ],
      "source": [
        "# FileNotFoundError - Trying to open a non-existent file\n",
        "file_path = \"non_existent_file.txt\"\n",
        "with open(file_path, \"r\") as file:\n",
        "    content = file.read()"
      ]
    },
    {
      "cell_type": "markdown",
      "id": "935eac4e",
      "metadata": {
        "id": "935eac4e"
      },
      "source": [
        "### try / except"
      ]
    },
    {
      "cell_type": "code",
      "source": [
        "def division_function(a, b):\n",
        "  print(a/b)"
      ],
      "metadata": {
        "id": "AKep3-mYJYUS"
      },
      "id": "AKep3-mYJYUS",
      "execution_count": 89,
      "outputs": []
    },
    {
      "cell_type": "code",
      "source": [
        "division_function(10,2)"
      ],
      "metadata": {
        "colab": {
          "base_uri": "https://localhost:8080/"
        },
        "id": "7H_Y59SSJetf",
        "outputId": "04a5a896-6618-47b2-8336-6e3286147e77"
      },
      "id": "7H_Y59SSJetf",
      "execution_count": 90,
      "outputs": [
        {
          "output_type": "stream",
          "name": "stdout",
          "text": [
            "5.0\n"
          ]
        }
      ]
    },
    {
      "cell_type": "code",
      "source": [
        "division_function(10,0)"
      ],
      "metadata": {
        "colab": {
          "base_uri": "https://localhost:8080/",
          "height": 207
        },
        "id": "djS9QCPuJkZh",
        "outputId": "094a7eb8-49d1-42d7-9e7d-98d7a603f9d5"
      },
      "id": "djS9QCPuJkZh",
      "execution_count": 91,
      "outputs": [
        {
          "output_type": "error",
          "ename": "ZeroDivisionError",
          "evalue": "division by zero",
          "traceback": [
            "\u001b[0;31m---------------------------------------------------------------------------\u001b[0m",
            "\u001b[0;31mZeroDivisionError\u001b[0m                         Traceback (most recent call last)",
            "\u001b[0;32m<ipython-input-91-0a0ac88c8be8>\u001b[0m in \u001b[0;36m<cell line: 1>\u001b[0;34m()\u001b[0m\n\u001b[0;32m----> 1\u001b[0;31m \u001b[0mdivision_function\u001b[0m\u001b[0;34m(\u001b[0m\u001b[0;36m10\u001b[0m\u001b[0;34m,\u001b[0m\u001b[0;36m0\u001b[0m\u001b[0;34m)\u001b[0m\u001b[0;34m\u001b[0m\u001b[0;34m\u001b[0m\u001b[0m\n\u001b[0m",
            "\u001b[0;32m<ipython-input-89-0ee9b3872d88>\u001b[0m in \u001b[0;36mdivision_function\u001b[0;34m(a, b)\u001b[0m\n\u001b[1;32m      1\u001b[0m \u001b[0;32mdef\u001b[0m \u001b[0mdivision_function\u001b[0m\u001b[0;34m(\u001b[0m\u001b[0ma\u001b[0m\u001b[0;34m,\u001b[0m \u001b[0mb\u001b[0m\u001b[0;34m)\u001b[0m\u001b[0;34m:\u001b[0m\u001b[0;34m\u001b[0m\u001b[0;34m\u001b[0m\u001b[0m\n\u001b[0;32m----> 2\u001b[0;31m   \u001b[0mprint\u001b[0m\u001b[0;34m(\u001b[0m\u001b[0ma\u001b[0m\u001b[0;34m/\u001b[0m\u001b[0mb\u001b[0m\u001b[0;34m)\u001b[0m\u001b[0;34m\u001b[0m\u001b[0;34m\u001b[0m\u001b[0m\n\u001b[0m",
            "\u001b[0;31mZeroDivisionError\u001b[0m: division by zero"
          ]
        }
      ]
    },
    {
      "cell_type": "code",
      "source": [
        "def better_division_function():\n",
        "  a = input('Enter value a: ')\n",
        "  b = input('Enter value b: ')\n",
        "\n",
        "  try:\n",
        "    print(\"Division result is\", int(a)/int(b))\n",
        "  except:\n",
        "    print(\"Something strange happened but I did not crash\")\n",
        "  finally:\n",
        "    print(\"Closing the calculator safely\")\n"
      ],
      "metadata": {
        "id": "RH4Wr8OSJsho"
      },
      "id": "RH4Wr8OSJsho",
      "execution_count": 97,
      "outputs": []
    },
    {
      "cell_type": "code",
      "source": [
        "better_division_function()"
      ],
      "metadata": {
        "colab": {
          "base_uri": "https://localhost:8080/"
        },
        "id": "kjqSq1dYKCE_",
        "outputId": "af9cd2fb-a576-4d19-b1a0-b47b5c447bb3"
      },
      "id": "kjqSq1dYKCE_",
      "execution_count": 98,
      "outputs": [
        {
          "output_type": "stream",
          "name": "stdout",
          "text": [
            "Enter value a: 10\n",
            "Enter value b: 0\n",
            "Something strange happened but I did not crash\n",
            "Closing the calculator safely\n"
          ]
        }
      ]
    },
    {
      "cell_type": "code",
      "source": [
        "def even_better_division_function():\n",
        "  a = input('Enter value a: ')\n",
        "  b = input('Enter value b: ')\n",
        "\n",
        "  try:\n",
        "    print(\"Division result is\", int(a)/int(b))\n",
        "  except ZeroDivisionError:\n",
        "    while int(b) == 0:\n",
        "      b = int(input(\"Enter a non zero b value please: \"))\n",
        "    print(\"Now, the Division result is\", int(a)/int(b))\n",
        "  except ValueError, ZeroDivisionError:\n",
        "    a = int(input(\"Please enter valid a value which is a number: \"))\n",
        "    b = int(input(\"Please enter valid b value which is a number: \"))\n",
        "  except Exception as e:\n",
        "    print(f\"Something strange happened: {e}\")\n",
        "    raise e\n",
        "    # handle it more\n",
        "\n",
        "  finally:\n",
        "    print(\"Closing the calculator safely\")\n"
      ],
      "metadata": {
        "id": "Z80WpiMLKWTU"
      },
      "id": "Z80WpiMLKWTU",
      "execution_count": 106,
      "outputs": []
    },
    {
      "cell_type": "code",
      "source": [
        "even_better_division_function()"
      ],
      "metadata": {
        "colab": {
          "base_uri": "https://localhost:8080/"
        },
        "id": "55mfdCVmK1iy",
        "outputId": "bc412425-8277-471f-de9a-cd9ff20635f5"
      },
      "id": "55mfdCVmK1iy",
      "execution_count": 100,
      "outputs": [
        {
          "output_type": "stream",
          "name": "stdout",
          "text": [
            "Enter value a: 10\n",
            "Enter value b: 2\n",
            "Division result is 5.0\n",
            "Closing the calculator safely\n"
          ]
        }
      ]
    },
    {
      "cell_type": "code",
      "source": [
        "even_better_division_function()"
      ],
      "metadata": {
        "colab": {
          "base_uri": "https://localhost:8080/"
        },
        "id": "OdB6nLNIK50-",
        "outputId": "a94b33ce-c2a6-4434-daaf-521f126c1f5d"
      },
      "id": "OdB6nLNIK50-",
      "execution_count": 101,
      "outputs": [
        {
          "output_type": "stream",
          "name": "stdout",
          "text": [
            "Enter value a: 10\n",
            "Enter value b: 0\n",
            "Enter a non zero b value please: 0\n",
            "Enter a non zero b value please: 0\n",
            "Enter a non zero b value please: 5\n",
            "Now, the Division result is 2.0\n",
            "Closing the calculator safely\n"
          ]
        }
      ]
    },
    {
      "cell_type": "code",
      "source": [
        "even_better_division_function()"
      ],
      "metadata": {
        "colab": {
          "base_uri": "https://localhost:8080/"
        },
        "id": "4ChgV4wCLWP6",
        "outputId": "5190d5dd-bdd6-42a2-dc8b-7b2044d02fe0"
      },
      "id": "4ChgV4wCLWP6",
      "execution_count": 103,
      "outputs": [
        {
          "output_type": "stream",
          "name": "stdout",
          "text": [
            "Enter value a: 10\n",
            "Enter value b: bh\n",
            "Something strange happened: invalid literal for int() with base 10: 'bh'\n",
            "Closing the calculator safely\n"
          ]
        }
      ]
    },
    {
      "cell_type": "code",
      "source": [
        "even_better_division_function()"
      ],
      "metadata": {
        "colab": {
          "base_uri": "https://localhost:8080/",
          "height": 350
        },
        "id": "eb_yyv6XMTng",
        "outputId": "a40213ea-0f7a-4ec7-81aa-11cfce6a5872"
      },
      "id": "eb_yyv6XMTng",
      "execution_count": 105,
      "outputs": [
        {
          "output_type": "stream",
          "name": "stdout",
          "text": [
            "Enter value a: 10\n",
            "Enter value b: bh\n",
            "Something strange happened: invalid literal for int() with base 10: 'bh'\n",
            "Closing the calculator safely\n"
          ]
        },
        {
          "output_type": "error",
          "ename": "ValueError",
          "evalue": "invalid literal for int() with base 10: 'bh'",
          "traceback": [
            "\u001b[0;31m---------------------------------------------------------------------------\u001b[0m",
            "\u001b[0;31mValueError\u001b[0m                                Traceback (most recent call last)",
            "\u001b[0;32m<ipython-input-105-d12afb351315>\u001b[0m in \u001b[0;36m<cell line: 1>\u001b[0;34m()\u001b[0m\n\u001b[0;32m----> 1\u001b[0;31m \u001b[0meven_better_division_function\u001b[0m\u001b[0;34m(\u001b[0m\u001b[0;34m)\u001b[0m\u001b[0;34m\u001b[0m\u001b[0;34m\u001b[0m\u001b[0m\n\u001b[0m",
            "\u001b[0;32m<ipython-input-104-38222603ad90>\u001b[0m in \u001b[0;36meven_better_division_function\u001b[0;34m()\u001b[0m\n\u001b[1;32m     11\u001b[0m   \u001b[0;32mexcept\u001b[0m \u001b[0mException\u001b[0m \u001b[0;32mas\u001b[0m \u001b[0me\u001b[0m\u001b[0;34m:\u001b[0m\u001b[0;34m\u001b[0m\u001b[0;34m\u001b[0m\u001b[0m\n\u001b[1;32m     12\u001b[0m     \u001b[0mprint\u001b[0m\u001b[0;34m(\u001b[0m\u001b[0;34mf\"Something strange happened: {e}\"\u001b[0m\u001b[0;34m)\u001b[0m\u001b[0;34m\u001b[0m\u001b[0;34m\u001b[0m\u001b[0m\n\u001b[0;32m---> 13\u001b[0;31m     \u001b[0;32mraise\u001b[0m \u001b[0me\u001b[0m\u001b[0;34m\u001b[0m\u001b[0;34m\u001b[0m\u001b[0m\n\u001b[0m\u001b[1;32m     14\u001b[0m     \u001b[0;31m# handle it more\u001b[0m\u001b[0;34m\u001b[0m\u001b[0;34m\u001b[0m\u001b[0m\n\u001b[1;32m     15\u001b[0m \u001b[0;34m\u001b[0m\u001b[0m\n",
            "\u001b[0;32m<ipython-input-104-38222603ad90>\u001b[0m in \u001b[0;36meven_better_division_function\u001b[0;34m()\u001b[0m\n\u001b[1;32m      4\u001b[0m \u001b[0;34m\u001b[0m\u001b[0m\n\u001b[1;32m      5\u001b[0m   \u001b[0;32mtry\u001b[0m\u001b[0;34m:\u001b[0m\u001b[0;34m\u001b[0m\u001b[0;34m\u001b[0m\u001b[0m\n\u001b[0;32m----> 6\u001b[0;31m     \u001b[0mprint\u001b[0m\u001b[0;34m(\u001b[0m\u001b[0;34m\"Division result is\"\u001b[0m\u001b[0;34m,\u001b[0m \u001b[0mint\u001b[0m\u001b[0;34m(\u001b[0m\u001b[0ma\u001b[0m\u001b[0;34m)\u001b[0m\u001b[0;34m/\u001b[0m\u001b[0mint\u001b[0m\u001b[0;34m(\u001b[0m\u001b[0mb\u001b[0m\u001b[0;34m)\u001b[0m\u001b[0;34m)\u001b[0m\u001b[0;34m\u001b[0m\u001b[0;34m\u001b[0m\u001b[0m\n\u001b[0m\u001b[1;32m      7\u001b[0m   \u001b[0;32mexcept\u001b[0m \u001b[0mZeroDivisionError\u001b[0m\u001b[0;34m:\u001b[0m\u001b[0;34m\u001b[0m\u001b[0;34m\u001b[0m\u001b[0m\n\u001b[1;32m      8\u001b[0m     \u001b[0;32mwhile\u001b[0m \u001b[0mint\u001b[0m\u001b[0;34m(\u001b[0m\u001b[0mb\u001b[0m\u001b[0;34m)\u001b[0m \u001b[0;34m==\u001b[0m \u001b[0;36m0\u001b[0m\u001b[0;34m:\u001b[0m\u001b[0;34m\u001b[0m\u001b[0;34m\u001b[0m\u001b[0m\n",
            "\u001b[0;31mValueError\u001b[0m: invalid literal for int() with base 10: 'bh'"
          ]
        }
      ]
    },
    {
      "cell_type": "code",
      "source": [
        "even_better_division_function()"
      ],
      "metadata": {
        "colab": {
          "base_uri": "https://localhost:8080/"
        },
        "id": "LNTf-gKjMil0",
        "outputId": "40a5baf0-2ec7-4316-ad97-222a6ab95a5a"
      },
      "id": "LNTf-gKjMil0",
      "execution_count": 107,
      "outputs": [
        {
          "output_type": "stream",
          "name": "stdout",
          "text": [
            "Enter value a: 10\n",
            "Enter value b: bh\n",
            "Please enter valid a value which is a number: 10\n",
            "Please enter valid b value which is a number: 20\n",
            "Closing the calculator safely\n"
          ]
        }
      ]
    },
    {
      "cell_type": "code",
      "execution_count": null,
      "id": "576eedd4",
      "metadata": {
        "id": "576eedd4",
        "outputId": "483a7d3b-3016-4330-fe9a-c5ee41e22209"
      },
      "outputs": [
        {
          "name": "stdout",
          "output_type": "stream",
          "text": [
            "Cannot divide by zero!\n",
            "Completed!\n"
          ]
        }
      ],
      "source": [
        "a = 5\n",
        "b = 0\n",
        "\n",
        "# print(a / b)\n",
        "\n",
        "try:\n",
        "    print(a / b)\n",
        "\n",
        "except:\n",
        "    print(\"Cannot divide by zero!\")\n",
        "\n",
        "print(\"Completed!\")"
      ]
    },
    {
      "cell_type": "code",
      "execution_count": null,
      "id": "01f34937",
      "metadata": {
        "id": "01f34937",
        "outputId": "47ebb3c5-231f-4898-86c1-f84cc027e4d5"
      },
      "outputs": [
        {
          "name": "stdout",
          "output_type": "stream",
          "text": [
            "4\n",
            "\n",
            "This line is printed anyways\n"
          ]
        }
      ],
      "source": [
        "x = 2\n",
        "\n",
        "try:\n",
        "#     y += 3\n",
        "\n",
        "#     x += \"abc\"\n",
        "\n",
        "    x += 2\n",
        "    print(x)\n",
        "\n",
        "except Exception as e:\n",
        "\n",
        "    print(\"Oops! something went wrong\")\n",
        "    print(type(e))\n",
        "    print(e)\n",
        "\n",
        "print(\"\\nThis line is printed anyways\")"
      ]
    },
    {
      "cell_type": "markdown",
      "id": "06accc56",
      "metadata": {
        "id": "06accc56"
      },
      "source": [
        "### Raise an error"
      ]
    },
    {
      "cell_type": "code",
      "execution_count": null,
      "id": "3dbe46c3",
      "metadata": {
        "id": "3dbe46c3"
      },
      "outputs": [],
      "source": [
        "# Using raise\n",
        "def divide(a, b):\n",
        "    if b == 0:\n",
        "        raise Exception(\"Cannot divide by zero\")\n",
        "    return a / b"
      ]
    },
    {
      "cell_type": "code",
      "execution_count": null,
      "id": "86d65a81",
      "metadata": {
        "id": "86d65a81",
        "outputId": "419246e2-b99a-4ee7-a765-871fa61c3712"
      },
      "outputs": [
        {
          "data": {
            "text/plain": [
              "5.0"
            ]
          },
          "execution_count": 70,
          "metadata": {},
          "output_type": "execute_result"
        }
      ],
      "source": [
        "divide(10, 2)"
      ]
    },
    {
      "cell_type": "code",
      "execution_count": null,
      "id": "8185d6ea",
      "metadata": {
        "scrolled": true,
        "id": "8185d6ea",
        "outputId": "b7f3f243-1a77-40d9-8593-d96859070fba"
      },
      "outputs": [
        {
          "ename": "Exception",
          "evalue": "Cannot divide by zero",
          "output_type": "error",
          "traceback": [
            "\u001b[0;31m---------------------------------------------------------------------------\u001b[0m",
            "\u001b[0;31mException\u001b[0m                                 Traceback (most recent call last)",
            "Cell \u001b[0;32mIn[71], line 1\u001b[0m\n\u001b[0;32m----> 1\u001b[0m \u001b[43mdivide\u001b[49m\u001b[43m(\u001b[49m\u001b[38;5;241;43m10\u001b[39;49m\u001b[43m,\u001b[49m\u001b[43m \u001b[49m\u001b[38;5;241;43m0\u001b[39;49m\u001b[43m)\u001b[49m\n",
            "Cell \u001b[0;32mIn[69], line 4\u001b[0m, in \u001b[0;36mdivide\u001b[0;34m(a, b)\u001b[0m\n\u001b[1;32m      2\u001b[0m \u001b[38;5;28;01mdef\u001b[39;00m \u001b[38;5;21mdivide\u001b[39m(a, b):\n\u001b[1;32m      3\u001b[0m     \u001b[38;5;28;01mif\u001b[39;00m b \u001b[38;5;241m==\u001b[39m \u001b[38;5;241m0\u001b[39m:\n\u001b[0;32m----> 4\u001b[0m         \u001b[38;5;28;01mraise\u001b[39;00m \u001b[38;5;167;01mException\u001b[39;00m(\u001b[38;5;124m\"\u001b[39m\u001b[38;5;124mCannot divide by zero\u001b[39m\u001b[38;5;124m\"\u001b[39m)\n\u001b[1;32m      5\u001b[0m     \u001b[38;5;28;01mreturn\u001b[39;00m a \u001b[38;5;241m/\u001b[39m b\n",
            "\u001b[0;31mException\u001b[0m: Cannot divide by zero"
          ]
        }
      ],
      "source": [
        "divide(10, 0)"
      ]
    },
    {
      "cell_type": "markdown",
      "id": "d766eed0",
      "metadata": {
        "id": "d766eed0"
      },
      "source": [
        "### Multiple Excepts and One Else"
      ]
    },
    {
      "cell_type": "code",
      "execution_count": null,
      "id": "c0f79bc1",
      "metadata": {
        "id": "c0f79bc1",
        "outputId": "ba1eb576-6bda-4fa0-b44f-2265737d8720"
      },
      "outputs": [
        {
          "name": "stdout",
          "output_type": "stream",
          "text": [
            "Denominator cannot be 0.\n"
          ]
        }
      ],
      "source": [
        "# Catching Specific Exceptions in Python\n",
        "try:\n",
        "    # Case 1\n",
        "#     even_numbers = [2, 4, 6, 8]\n",
        "#     print(even_numbers[5])\n",
        "\n",
        "    # Case 2\n",
        "    x = 5 / 0\n",
        "\n",
        "except IndexError:\n",
        "    print(\"Index Out of Bound.\")\n",
        "\n",
        "except ZeroDivisionError:\n",
        "    print(\"Denominator cannot be 0.\")"
      ]
    },
    {
      "cell_type": "markdown",
      "id": "898efba8",
      "metadata": {
        "id": "898efba8"
      },
      "source": [
        "An else block can be used after all the except blocks. The code within the else block will be executed only if no exceptions were raised in the try block. You can only have one else block."
      ]
    },
    {
      "cell_type": "code",
      "execution_count": null,
      "id": "58192f44",
      "metadata": {
        "id": "58192f44",
        "outputId": "b4631f98-6d14-43c1-fcc0-03c9551150ad"
      },
      "outputs": [
        {
          "name": "stdout",
          "output_type": "stream",
          "text": [
            "No exceptions occurred, the result is: 2.0\n"
          ]
        }
      ],
      "source": [
        "try:\n",
        "    # Code that may raise an exception\n",
        "#     result = 10 / 0\n",
        "#     result = int('a')\n",
        "#     result = 2 + 'b'\n",
        "    result = 10 / 5\n",
        "\n",
        "except ZeroDivisionError:\n",
        "    print(\"You can't divide by zero!\")\n",
        "\n",
        "except ValueError:\n",
        "    print(\"A ValueError occurred!\")\n",
        "\n",
        "except Exception as e:\n",
        "    print(f\"An unexpected error occurred: {e}\")\n",
        "\n",
        "else:\n",
        "    print(\"No exceptions occurred, the result is:\", result)"
      ]
    },
    {
      "cell_type": "markdown",
      "id": "a0bfe0ac",
      "metadata": {
        "id": "a0bfe0ac"
      },
      "source": [
        "### try / except / else / finally"
      ]
    },
    {
      "cell_type": "code",
      "execution_count": null,
      "id": "8ae684bf",
      "metadata": {
        "id": "8ae684bf",
        "outputId": "0f065636-de83-44b3-d853-4b06c872e4fd"
      },
      "outputs": [
        {
          "name": "stdout",
          "output_type": "stream",
          "text": [
            "Enter an even number: 5\n",
            "\n",
            "Not an even number!\n",
            "\n",
            "Run Completed!\n"
          ]
        }
      ],
      "source": [
        "# Use else after except\n",
        "\n",
        "try:\n",
        "    num = int(input(\"Enter an even number: \"))\n",
        "    assert num % 2 == 0\n",
        "\n",
        "except:\n",
        "    print(\"\\nNot an even number!\")\n",
        "\n",
        "else:\n",
        "    reciprocal = 1/num\n",
        "    print()\n",
        "    print(reciprocal)\n",
        "\n",
        "finally:\n",
        "    print(\"\\nRun Completed!\")"
      ]
    },
    {
      "cell_type": "markdown",
      "id": "b42a1ebf",
      "metadata": {
        "id": "b42a1ebf"
      },
      "source": [
        "### Custom Exception"
      ]
    },
    {
      "cell_type": "code",
      "execution_count": null,
      "id": "23fb1ede",
      "metadata": {
        "scrolled": true,
        "id": "23fb1ede"
      },
      "outputs": [],
      "source": [
        "# Create Custom Exception\n",
        "class CustomError(Exception):\n",
        "\n",
        "    def __init__(self, message):\n",
        "        self.message = message"
      ]
    },
    {
      "cell_type": "code",
      "execution_count": null,
      "id": "52eb860d",
      "metadata": {
        "id": "52eb860d",
        "outputId": "665a6780-756f-446b-d0d1-f2718fb1ae34"
      },
      "outputs": [
        {
          "name": "stdout",
          "output_type": "stream",
          "text": [
            "<class '__main__.CustomError'>\n",
            "This is a custom error!\n"
          ]
        }
      ],
      "source": [
        "try:\n",
        "    raise CustomError(\"This is a custom error!\")\n",
        "\n",
        "except Exception as e:\n",
        "    print(type(e))\n",
        "    print(e.message)"
      ]
    },
    {
      "cell_type": "markdown",
      "id": "74222603",
      "metadata": {
        "id": "74222603"
      },
      "source": [
        "## File Handling"
      ]
    },
    {
      "cell_type": "markdown",
      "id": "f6736eee",
      "metadata": {
        "id": "f6736eee"
      },
      "source": [
        "### Read file - 1"
      ]
    },
    {
      "cell_type": "code",
      "source": [
        "! echo \"Hello Everyone from \\n Python fundamentals class\" >> test1.txt"
      ],
      "metadata": {
        "id": "adCagOnZOHtD"
      },
      "id": "adCagOnZOHtD",
      "execution_count": 108,
      "outputs": []
    },
    {
      "cell_type": "code",
      "execution_count": 109,
      "id": "693f9ea0",
      "metadata": {
        "id": "693f9ea0"
      },
      "outputs": [],
      "source": [
        "file = open(\"test1.txt\", \"r\")"
      ]
    },
    {
      "cell_type": "code",
      "execution_count": 110,
      "id": "4a5a9fc0",
      "metadata": {
        "id": "4a5a9fc0"
      },
      "outputs": [],
      "source": [
        "content = file.read()"
      ]
    },
    {
      "cell_type": "code",
      "execution_count": 111,
      "id": "ea7bd1a1",
      "metadata": {
        "scrolled": true,
        "colab": {
          "base_uri": "https://localhost:8080/"
        },
        "id": "ea7bd1a1",
        "outputId": "37a2ecf6-5dfc-4f69-8875-a25c01e104b0"
      },
      "outputs": [
        {
          "output_type": "stream",
          "name": "stdout",
          "text": [
            "<class 'str'>\n",
            "\n",
            "Hello Everyone from \\n Python fundamentals class\n",
            "\n"
          ]
        }
      ],
      "source": [
        "print(type(content))\n",
        "print()\n",
        "print(content)"
      ]
    },
    {
      "cell_type": "code",
      "execution_count": 112,
      "id": "87ea6c16",
      "metadata": {
        "id": "87ea6c16"
      },
      "outputs": [],
      "source": [
        "file.close()"
      ]
    },
    {
      "cell_type": "code",
      "execution_count": 113,
      "id": "0279850f",
      "metadata": {
        "scrolled": true,
        "colab": {
          "base_uri": "https://localhost:8080/",
          "height": 139
        },
        "id": "0279850f",
        "outputId": "7a9155a1-22ac-467e-cb4f-9005741bead2"
      },
      "outputs": [
        {
          "output_type": "error",
          "ename": "ValueError",
          "evalue": "I/O operation on closed file.",
          "traceback": [
            "\u001b[0;31m---------------------------------------------------------------------------\u001b[0m",
            "\u001b[0;31mValueError\u001b[0m                                Traceback (most recent call last)",
            "\u001b[0;32m<ipython-input-113-94a652c86bec>\u001b[0m in \u001b[0;36m<cell line: 1>\u001b[0;34m()\u001b[0m\n\u001b[0;32m----> 1\u001b[0;31m \u001b[0mcontent\u001b[0m \u001b[0;34m=\u001b[0m \u001b[0mfile\u001b[0m\u001b[0;34m.\u001b[0m\u001b[0mread\u001b[0m\u001b[0;34m(\u001b[0m\u001b[0;34m)\u001b[0m\u001b[0;34m\u001b[0m\u001b[0;34m\u001b[0m\u001b[0m\n\u001b[0m",
            "\u001b[0;31mValueError\u001b[0m: I/O operation on closed file."
          ]
        }
      ],
      "source": [
        "content = file.read()"
      ]
    },
    {
      "cell_type": "markdown",
      "id": "0344afc4",
      "metadata": {
        "id": "0344afc4"
      },
      "source": [
        "### Read file - 2"
      ]
    },
    {
      "cell_type": "code",
      "execution_count": 114,
      "id": "82a2903c",
      "metadata": {
        "colab": {
          "base_uri": "https://localhost:8080/"
        },
        "id": "82a2903c",
        "outputId": "86a0271a-0a8c-472a-82a3-395b1912a9b4"
      },
      "outputs": [
        {
          "output_type": "stream",
          "name": "stdout",
          "text": [
            "Hello Everyone from \\n Python fundamentals class\n",
            "\n"
          ]
        }
      ],
      "source": [
        "with open(\"test1.txt\", \"r\") as file:\n",
        "    content = file.read()\n",
        "    print(content)"
      ]
    },
    {
      "cell_type": "markdown",
      "id": "90d3d905",
      "metadata": {
        "id": "90d3d905"
      },
      "source": [
        "### readline()"
      ]
    },
    {
      "cell_type": "code",
      "execution_count": 115,
      "id": "c413651e",
      "metadata": {
        "colab": {
          "base_uri": "https://localhost:8080/"
        },
        "id": "c413651e",
        "outputId": "87c4811e-9a86-4935-c50d-2b5593569f19"
      },
      "outputs": [
        {
          "output_type": "stream",
          "name": "stdout",
          "text": [
            "Hello Everyone from \\n Python fundamentals class\n",
            "\n",
            "\n"
          ]
        }
      ],
      "source": [
        "with open(\"test1.txt\", \"r\") as file:\n",
        "\n",
        "    cur_line = file.readline()\n",
        "    print(cur_line)\n",
        "\n",
        "    cur_line = file.readline()\n",
        "    print(cur_line)"
      ]
    },
    {
      "cell_type": "code",
      "execution_count": null,
      "id": "c7177ba3",
      "metadata": {
        "id": "c7177ba3",
        "outputId": "e45ede69-69ef-4f54-e4e0-c8dcfafd5475"
      },
      "outputs": [
        {
          "name": "stdout",
          "output_type": "stream",
          "text": [
            "hey, how are you?\n",
            "\n",
            "I am good, what about you?\n",
            "\n",
            "I am also good.\n"
          ]
        }
      ],
      "source": [
        "with open('test1.txt', 'r') as file:\n",
        "    while True:\n",
        "        cur_line = file.readline()\n",
        "        if cur_line:\n",
        "            # Some operations here\n",
        "            print(cur_line)\n",
        "        else:\n",
        "            break"
      ]
    },
    {
      "cell_type": "markdown",
      "id": "2bb5df4c",
      "metadata": {
        "id": "2bb5df4c"
      },
      "source": [
        "### readlines()"
      ]
    },
    {
      "cell_type": "code",
      "execution_count": null,
      "id": "0b073b39",
      "metadata": {
        "id": "0b073b39",
        "outputId": "6d43249a-0aae-4088-9383-19997f765990"
      },
      "outputs": [
        {
          "name": "stdout",
          "output_type": "stream",
          "text": [
            "['hey, how are you?\\n', 'I am good, what about you?\\n', 'I am also good.']\n"
          ]
        }
      ],
      "source": [
        "with open('test1.txt', 'r') as file:\n",
        "    lines = file.readlines()\n",
        "    print(lines)"
      ]
    },
    {
      "cell_type": "code",
      "execution_count": null,
      "id": "659c59a5",
      "metadata": {
        "id": "659c59a5",
        "outputId": "0b61891c-3fb5-4d6c-e19b-3a4becc62ca8"
      },
      "outputs": [
        {
          "name": "stdout",
          "output_type": "stream",
          "text": [
            "hey, how are you?\n",
            "\n",
            "I am good, what about you?\n",
            "\n",
            "I am also good.\n"
          ]
        }
      ],
      "source": [
        "for line in lines:\n",
        "    print(line)"
      ]
    },
    {
      "cell_type": "markdown",
      "id": "a5e204ae",
      "metadata": {
        "id": "a5e204ae"
      },
      "source": [
        "### Explore the file"
      ]
    },
    {
      "cell_type": "code",
      "execution_count": null,
      "id": "ab5867a4",
      "metadata": {
        "id": "ab5867a4",
        "outputId": "15890414-007b-4055-c5ac-50f36e276fd8"
      },
      "outputs": [
        {
          "name": "stdout",
          "output_type": "stream",
          "text": [
            "how are you?\n",
            "I am good, what about you?\n",
            "I am also good.\n",
            "\n",
            "60\n"
          ]
        }
      ],
      "source": [
        "with open('test1.txt', 'r') as file:\n",
        "\n",
        "    file.seek(5)\n",
        "    print(file.read())\n",
        "\n",
        "    print()\n",
        "\n",
        "    position = file.tell()\n",
        "    print(position)"
      ]
    },
    {
      "cell_type": "markdown",
      "id": "4b6008cc",
      "metadata": {
        "id": "4b6008cc"
      },
      "source": [
        "### Write"
      ]
    },
    {
      "cell_type": "code",
      "execution_count": null,
      "id": "8fa7fafa",
      "metadata": {
        "id": "8fa7fafa"
      },
      "outputs": [],
      "source": [
        "# How to write a file\n",
        "file = open(\"test2.txt\", \"w\")\n",
        "file.write(\"Hello John!\\nHow are you?\")\n",
        "file.close()"
      ]
    },
    {
      "cell_type": "code",
      "execution_count": 116,
      "id": "43b44418",
      "metadata": {
        "id": "43b44418"
      },
      "outputs": [],
      "source": [
        "# Create a new file OR erase and overwrite\n",
        "with open('test2.txt', 'w') as file:\n",
        "\n",
        "    # write contents to the test2.txt file\n",
        "    file.write('Programming is Fun.\\n')\n",
        "    file.write('Python for beginners\\n')"
      ]
    },
    {
      "cell_type": "code",
      "execution_count": null,
      "id": "e05ace92",
      "metadata": {
        "id": "e05ace92",
        "outputId": "f580de79-7446-41b3-c94b-5b6251558df7"
      },
      "outputs": [
        {
          "ename": "FileExistsError",
          "evalue": "[Errno 17] File exists: 'test2.txt'",
          "output_type": "error",
          "traceback": [
            "\u001b[0;31m---------------------------------------------------------------------------\u001b[0m",
            "\u001b[0;31mFileExistsError\u001b[0m                           Traceback (most recent call last)",
            "Cell \u001b[0;32mIn[98], line 1\u001b[0m\n\u001b[0;32m----> 1\u001b[0m \u001b[38;5;28;01mwith\u001b[39;00m \u001b[38;5;28;43mopen\u001b[39;49m\u001b[43m(\u001b[49m\u001b[38;5;124;43m'\u001b[39;49m\u001b[38;5;124;43mtest2.txt\u001b[39;49m\u001b[38;5;124;43m'\u001b[39;49m\u001b[43m,\u001b[49m\u001b[43m \u001b[49m\u001b[38;5;124;43m'\u001b[39;49m\u001b[38;5;124;43mx\u001b[39;49m\u001b[38;5;124;43m'\u001b[39;49m\u001b[43m)\u001b[49m \u001b[38;5;28;01mas\u001b[39;00m file:\n\u001b[1;32m      2\u001b[0m     file\u001b[38;5;241m.\u001b[39mwrite(\u001b[38;5;124m\"\u001b[39m\u001b[38;5;124mThis is the end of the document\u001b[39m\u001b[38;5;124m\"\u001b[39m)\n",
            "File \u001b[0;32m~/anaconda3/lib/python3.10/site-packages/IPython/core/interactiveshell.py:282\u001b[0m, in \u001b[0;36m_modified_open\u001b[0;34m(file, *args, **kwargs)\u001b[0m\n\u001b[1;32m    275\u001b[0m \u001b[38;5;28;01mif\u001b[39;00m file \u001b[38;5;129;01min\u001b[39;00m {\u001b[38;5;241m0\u001b[39m, \u001b[38;5;241m1\u001b[39m, \u001b[38;5;241m2\u001b[39m}:\n\u001b[1;32m    276\u001b[0m     \u001b[38;5;28;01mraise\u001b[39;00m \u001b[38;5;167;01mValueError\u001b[39;00m(\n\u001b[1;32m    277\u001b[0m         \u001b[38;5;124mf\u001b[39m\u001b[38;5;124m\"\u001b[39m\u001b[38;5;124mIPython won\u001b[39m\u001b[38;5;124m'\u001b[39m\u001b[38;5;124mt let you open fd=\u001b[39m\u001b[38;5;132;01m{\u001b[39;00mfile\u001b[38;5;132;01m}\u001b[39;00m\u001b[38;5;124m by default \u001b[39m\u001b[38;5;124m\"\u001b[39m\n\u001b[1;32m    278\u001b[0m         \u001b[38;5;124m\"\u001b[39m\u001b[38;5;124mas it is likely to crash IPython. If you know what you are doing, \u001b[39m\u001b[38;5;124m\"\u001b[39m\n\u001b[1;32m    279\u001b[0m         \u001b[38;5;124m\"\u001b[39m\u001b[38;5;124myou can use builtins\u001b[39m\u001b[38;5;124m'\u001b[39m\u001b[38;5;124m open.\u001b[39m\u001b[38;5;124m\"\u001b[39m\n\u001b[1;32m    280\u001b[0m     )\n\u001b[0;32m--> 282\u001b[0m \u001b[38;5;28;01mreturn\u001b[39;00m \u001b[43mio_open\u001b[49m\u001b[43m(\u001b[49m\u001b[43mfile\u001b[49m\u001b[43m,\u001b[49m\u001b[43m \u001b[49m\u001b[38;5;241;43m*\u001b[39;49m\u001b[43margs\u001b[49m\u001b[43m,\u001b[49m\u001b[43m \u001b[49m\u001b[38;5;241;43m*\u001b[39;49m\u001b[38;5;241;43m*\u001b[39;49m\u001b[43mkwargs\u001b[49m\u001b[43m)\u001b[49m\n",
            "\u001b[0;31mFileExistsError\u001b[0m: [Errno 17] File exists: 'test2.txt'"
          ]
        }
      ],
      "source": [
        "with open('test2.txt', 'x') as file:\n",
        "    file.write(\"This is the end of the document\")"
      ]
    },
    {
      "cell_type": "code",
      "execution_count": null,
      "id": "4e0c95c3",
      "metadata": {
        "id": "4e0c95c3"
      },
      "outputs": [],
      "source": [
        "with open('test2.txt', 'a') as file:\n",
        "    file.write(\"This is the end of the document\")"
      ]
    },
    {
      "cell_type": "markdown",
      "id": "b310f531",
      "metadata": {
        "id": "b310f531"
      },
      "source": [
        "### writelines()"
      ]
    },
    {
      "cell_type": "code",
      "execution_count": null,
      "id": "fbb39cab",
      "metadata": {
        "id": "fbb39cab"
      },
      "outputs": [],
      "source": [
        "with open(\"test3.txt\", \"w\") as file:\n",
        "    L = [\"This is Python\\n\", \"It's an amazing programming language\"]\n",
        "    file.writelines(L)"
      ]
    },
    {
      "cell_type": "markdown",
      "id": "e20fffaa",
      "metadata": {
        "id": "e20fffaa"
      },
      "source": [
        "### Class Activity"
      ]
    },
    {
      "cell_type": "markdown",
      "id": "cb5434b6",
      "metadata": {
        "id": "cb5434b6"
      },
      "source": [
        "1. Create a new text file named 'my_file.txt' and add the lines:\n",
        "[\"I love Python.\", \"Python is my favorite.\"] (in two separate lines)"
      ]
    },
    {
      "cell_type": "code",
      "execution_count": null,
      "id": "f3acd4f1",
      "metadata": {
        "id": "f3acd4f1"
      },
      "outputs": [],
      "source": [
        "lines = [\"I love Python.\", \"Python is my favorite.\"]"
      ]
    },
    {
      "cell_type": "code",
      "execution_count": null,
      "id": "938d5ac8",
      "metadata": {
        "id": "938d5ac8"
      },
      "outputs": [],
      "source": [
        "# Write your code here\n",
        "with open(\"my_file.txt\", \"w\") as file:\n",
        "    for line in lines:\n",
        "        file.write(line + \"\\n\")"
      ]
    },
    {
      "cell_type": "code",
      "execution_count": null,
      "id": "02d319e0",
      "metadata": {
        "id": "02d319e0",
        "outputId": "b2d28f2c-ade2-4eef-ee4e-d09336c27e25"
      },
      "outputs": [
        {
          "name": "stdout",
          "output_type": "stream",
          "text": [
            "I love Python.\n",
            "Python is my favorite.\n",
            "\n"
          ]
        }
      ],
      "source": [
        "# Test the text so far\n",
        "with open('my_file.txt', 'r') as file:\n",
        "    print(file.read())"
      ]
    },
    {
      "cell_type": "markdown",
      "id": "f56cd89e",
      "metadata": {
        "id": "f56cd89e"
      },
      "source": [
        "2. The append a new line: \"Yes! Python is great!\""
      ]
    },
    {
      "cell_type": "code",
      "execution_count": null,
      "id": "3cfc93c8",
      "metadata": {
        "id": "3cfc93c8"
      },
      "outputs": [],
      "source": [
        "# Write your code here\n",
        "with open(\"my_file.txt\", \"a\") as file:\n",
        "    file.write(\"Yes! Python is great!\")"
      ]
    },
    {
      "cell_type": "code",
      "execution_count": null,
      "id": "027babba",
      "metadata": {
        "id": "027babba",
        "outputId": "301650ec-13d8-4a6a-ddfe-4059f1ac77af"
      },
      "outputs": [
        {
          "name": "stdout",
          "output_type": "stream",
          "text": [
            "I love Python.\n",
            "Python is my favorite.\n",
            "Yes! Python is great!\n"
          ]
        }
      ],
      "source": [
        "# Test the text so far\n",
        "with open('my_file.txt', 'r') as file:\n",
        "    print(file.read())"
      ]
    },
    {
      "cell_type": "markdown",
      "id": "73f45c0f",
      "metadata": {
        "id": "73f45c0f"
      },
      "source": [
        "3. Iterate through lines and at each iteration find the location of \"Python\"\n",
        "(Hint: use str.index(...))\n"
      ]
    },
    {
      "cell_type": "code",
      "execution_count": null,
      "id": "99b920a3",
      "metadata": {
        "id": "99b920a3",
        "outputId": "8f90108d-c4a1-42db-8a77-3541489c122b"
      },
      "outputs": [
        {
          "name": "stdout",
          "output_type": "stream",
          "text": [
            "[7, 0, 5]\n"
          ]
        }
      ],
      "source": [
        "# Write your code here\n",
        "with open(\"my_file.txt\", \"r\") as file:\n",
        "    lines = file.readlines()\n",
        "\n",
        "idx = []\n",
        "for line in lines:\n",
        "    idx_loc = line.index(\"Python\")\n",
        "    idx.append(idx_loc)\n",
        "\n",
        "print(idx)"
      ]
    },
    {
      "cell_type": "markdown",
      "id": "00c0225a",
      "metadata": {
        "id": "00c0225a"
      },
      "source": [
        "#### Question: What if a file to read is huge??"
      ]
    },
    {
      "cell_type": "markdown",
      "id": "c43b5348",
      "metadata": {
        "id": "c43b5348"
      },
      "source": [
        "Please check out the concept of generators and yield in Python."
      ]
    },
    {
      "cell_type": "markdown",
      "id": "1216c7d7",
      "metadata": {
        "id": "1216c7d7"
      },
      "source": [
        "## JSON Module"
      ]
    },
    {
      "cell_type": "code",
      "execution_count": 117,
      "id": "3fe609ff",
      "metadata": {
        "id": "3fe609ff"
      },
      "outputs": [],
      "source": [
        "import json"
      ]
    },
    {
      "cell_type": "markdown",
      "id": "e75bd665",
      "metadata": {
        "id": "e75bd665"
      },
      "source": [
        "### Serialize to JSON string"
      ]
    },
    {
      "cell_type": "code",
      "execution_count": 118,
      "id": "a3409be1",
      "metadata": {
        "id": "a3409be1"
      },
      "outputs": [],
      "source": [
        "# Define a Python dictionary\n",
        "person = {\n",
        "    \"name\": \"John\",\n",
        "    \"age\": 30,\n",
        "    \"city\": \"New York\",\n",
        "    \"hasChildren\": False,\n",
        "    \"titles\": [\"engineer\", \"programmer\"]\n",
        "}"
      ]
    },
    {
      "cell_type": "code",
      "source": [
        "type(person)"
      ],
      "metadata": {
        "colab": {
          "base_uri": "https://localhost:8080/"
        },
        "id": "EqwieDynQha0",
        "outputId": "c8de8dd3-4e1c-4f8d-bf04-2f4cc53aea19"
      },
      "id": "EqwieDynQha0",
      "execution_count": 119,
      "outputs": [
        {
          "output_type": "execute_result",
          "data": {
            "text/plain": [
              "dict"
            ]
          },
          "metadata": {},
          "execution_count": 119
        }
      ]
    },
    {
      "cell_type": "code",
      "source": [
        "person['name']"
      ],
      "metadata": {
        "colab": {
          "base_uri": "https://localhost:8080/",
          "height": 35
        },
        "id": "FcjbnFwBQklj",
        "outputId": "cd9c274f-2b75-4a61-fb75-88be8a1d1969"
      },
      "id": "FcjbnFwBQklj",
      "execution_count": 120,
      "outputs": [
        {
          "output_type": "execute_result",
          "data": {
            "text/plain": [
              "'John'"
            ],
            "application/vnd.google.colaboratory.intrinsic+json": {
              "type": "string"
            }
          },
          "metadata": {},
          "execution_count": 120
        }
      ]
    },
    {
      "cell_type": "code",
      "source": [
        "person['titles']"
      ],
      "metadata": {
        "colab": {
          "base_uri": "https://localhost:8080/"
        },
        "id": "AWIWTN1SQoN3",
        "outputId": "798849b2-c031-42fe-de3e-af3175da979f"
      },
      "id": "AWIWTN1SQoN3",
      "execution_count": 121,
      "outputs": [
        {
          "output_type": "execute_result",
          "data": {
            "text/plain": [
              "['engineer', 'programmer']"
            ]
          },
          "metadata": {},
          "execution_count": 121
        }
      ]
    },
    {
      "cell_type": "code",
      "execution_count": 122,
      "id": "b83c8bac",
      "metadata": {
        "id": "b83c8bac"
      },
      "outputs": [],
      "source": [
        "person_json = json.dumps(person)"
      ]
    },
    {
      "cell_type": "code",
      "source": [
        "person_json"
      ],
      "metadata": {
        "colab": {
          "base_uri": "https://localhost:8080/",
          "height": 35
        },
        "id": "RN4ovo_yQxj1",
        "outputId": "fca5f175-9588-4b6f-cd99-52954066a6ed"
      },
      "id": "RN4ovo_yQxj1",
      "execution_count": 123,
      "outputs": [
        {
          "output_type": "execute_result",
          "data": {
            "text/plain": [
              "'{\"name\": \"John\", \"age\": 30, \"city\": \"New York\", \"hasChildren\": false, \"titles\": [\"engineer\", \"programmer\"]}'"
            ],
            "application/vnd.google.colaboratory.intrinsic+json": {
              "type": "string"
            }
          },
          "metadata": {},
          "execution_count": 123
        }
      ]
    },
    {
      "cell_type": "code",
      "source": [
        "type(person_json)"
      ],
      "metadata": {
        "colab": {
          "base_uri": "https://localhost:8080/"
        },
        "id": "ikJxdbGIQzrN",
        "outputId": "767298ae-d102-4357-e3f3-70cb497c08a8"
      },
      "id": "ikJxdbGIQzrN",
      "execution_count": 124,
      "outputs": [
        {
          "output_type": "execute_result",
          "data": {
            "text/plain": [
              "str"
            ]
          },
          "metadata": {},
          "execution_count": 124
        }
      ]
    },
    {
      "cell_type": "code",
      "execution_count": null,
      "id": "44966760",
      "metadata": {
        "scrolled": true,
        "id": "44966760",
        "outputId": "e2012cf8-78ea-4aac-c8a6-83d49805678b"
      },
      "outputs": [
        {
          "name": "stdout",
          "output_type": "stream",
          "text": [
            "<class 'str'>\n",
            "{\"name\": \"John\", \"age\": 30, \"city\": \"New York\", \"hasChildren\": false, \"titles\": [\"engineer\", \"programmer\"]}\n"
          ]
        }
      ],
      "source": [
        "print(type(person_json))\n",
        "print(person_json)"
      ]
    },
    {
      "cell_type": "code",
      "execution_count": 125,
      "id": "580cd430",
      "metadata": {
        "colab": {
          "base_uri": "https://localhost:8080/"
        },
        "id": "580cd430",
        "outputId": "ec0689c1-37cf-4377-d042-0c03a0caa710"
      },
      "outputs": [
        {
          "output_type": "stream",
          "name": "stdout",
          "text": [
            "{\n",
            "    \"age\"= 30; \n",
            "    \"city\"= \"New York\"; \n",
            "    \"hasChildren\"= false; \n",
            "    \"name\"= \"John\"; \n",
            "    \"titles\"= [\n",
            "        \"engineer\"; \n",
            "        \"programmer\"\n",
            "    ]\n",
            "}\n"
          ]
        }
      ],
      "source": [
        "person_json = json.dumps(person, indent=4, separators=(\"; \", \"= \"), sort_keys=True)\n",
        "\n",
        "print(person_json)"
      ]
    },
    {
      "cell_type": "markdown",
      "id": "10a0ff67",
      "metadata": {
        "id": "10a0ff67"
      },
      "source": [
        "### Serialize to a JSON file"
      ]
    },
    {
      "cell_type": "code",
      "execution_count": null,
      "id": "435c4b56",
      "metadata": {
        "id": "435c4b56"
      },
      "outputs": [],
      "source": [
        "# Define a Python dictionary\n",
        "person = {\n",
        "    \"name\": \"John\",\n",
        "    \"age\": 30,\n",
        "    \"city\": \"New York\",\n",
        "    \"hasChildren\": False,\n",
        "    \"titles\": [\"engineer\", \"programmer\"]\n",
        "}"
      ]
    },
    {
      "cell_type": "code",
      "execution_count": 126,
      "id": "3a815774",
      "metadata": {
        "id": "3a815774"
      },
      "outputs": [],
      "source": [
        "with open(\"person1.json\", \"w\") as file:\n",
        "    json.dump(person, file)"
      ]
    },
    {
      "cell_type": "markdown",
      "id": "860f2d50",
      "metadata": {
        "id": "860f2d50"
      },
      "source": [
        "### Deserialize JSON File"
      ]
    },
    {
      "cell_type": "code",
      "execution_count": 127,
      "id": "c0352bf8",
      "metadata": {
        "id": "c0352bf8"
      },
      "outputs": [],
      "source": [
        "with open(\"person1.json\", \"r\") as file:\n",
        "    loaded_person = json.load(file)"
      ]
    },
    {
      "cell_type": "code",
      "source": [
        "loaded_person"
      ],
      "metadata": {
        "colab": {
          "base_uri": "https://localhost:8080/"
        },
        "id": "ax-mmHaIRksm",
        "outputId": "2443f63a-85d8-4eed-e731-ede2d5e37e1a"
      },
      "id": "ax-mmHaIRksm",
      "execution_count": 128,
      "outputs": [
        {
          "output_type": "execute_result",
          "data": {
            "text/plain": [
              "{'name': 'John',\n",
              " 'age': 30,\n",
              " 'city': 'New York',\n",
              " 'hasChildren': False,\n",
              " 'titles': ['engineer', 'programmer']}"
            ]
          },
          "metadata": {},
          "execution_count": 128
        }
      ]
    },
    {
      "cell_type": "code",
      "execution_count": 129,
      "id": "7f5e4c95",
      "metadata": {
        "colab": {
          "base_uri": "https://localhost:8080/"
        },
        "id": "7f5e4c95",
        "outputId": "e324bd9a-d19f-409a-ec64-62c152b89420"
      },
      "outputs": [
        {
          "output_type": "stream",
          "name": "stdout",
          "text": [
            "<class 'dict'>\n"
          ]
        }
      ],
      "source": [
        "print(type(loaded_person))"
      ]
    },
    {
      "cell_type": "code",
      "execution_count": null,
      "id": "c98a5d1e",
      "metadata": {
        "scrolled": true,
        "id": "c98a5d1e",
        "outputId": "4ff11457-45d7-4ad3-d35b-a353a20b6b76"
      },
      "outputs": [
        {
          "name": "stdout",
          "output_type": "stream",
          "text": [
            "{'name': 'John', 'age': 30, 'city': 'New York', 'hasChildren': False, 'titles': ['engineer', 'programmer']}\n"
          ]
        }
      ],
      "source": [
        "print(loaded_person)"
      ]
    },
    {
      "cell_type": "code",
      "execution_count": null,
      "id": "bfe4576a",
      "metadata": {
        "id": "bfe4576a",
        "outputId": "52eee53c-7f21-41c5-e06e-4c304777a894"
      },
      "outputs": [
        {
          "data": {
            "text/plain": [
              "30"
            ]
          },
          "execution_count": 123,
          "metadata": {},
          "output_type": "execute_result"
        }
      ],
      "source": [
        "loaded_person['age']"
      ]
    },
    {
      "cell_type": "markdown",
      "id": "5fd2f62b",
      "metadata": {
        "id": "5fd2f62b"
      },
      "source": [
        "### Deserialized JSON"
      ]
    },
    {
      "cell_type": "code",
      "execution_count": 130,
      "id": "f349d1d5",
      "metadata": {
        "id": "f349d1d5"
      },
      "outputs": [],
      "source": [
        "person_json = \"\"\"\n",
        "    {\n",
        "        \"age\": 30,\n",
        "        \"city\": \"New York\",\n",
        "        \"hasChildren\": false,\n",
        "        \"name\": \"John\",\n",
        "        \"titles\": [\n",
        "            \"engineer\",\n",
        "            \"programmer\"\n",
        "        ]\n",
        "    }\n",
        "\"\"\""
      ]
    },
    {
      "cell_type": "code",
      "source": [
        "person_json[10:40]"
      ],
      "metadata": {
        "colab": {
          "base_uri": "https://localhost:8080/",
          "height": 35
        },
        "id": "gDahUEFORuX5",
        "outputId": "58fa5dea-7522-4baa-e2cf-7bf20d4e4a4f"
      },
      "id": "gDahUEFORuX5",
      "execution_count": 133,
      "outputs": [
        {
          "output_type": "execute_result",
          "data": {
            "text/plain": [
              "'     \"age\": 30,\\n        \"city\"'"
            ],
            "application/vnd.google.colaboratory.intrinsic+json": {
              "type": "string"
            }
          },
          "metadata": {},
          "execution_count": 133
        }
      ]
    },
    {
      "cell_type": "code",
      "execution_count": 134,
      "id": "af1f84f4",
      "metadata": {
        "id": "af1f84f4"
      },
      "outputs": [],
      "source": [
        "person = json.loads(person_json)"
      ]
    },
    {
      "cell_type": "code",
      "source": [
        "person"
      ],
      "metadata": {
        "colab": {
          "base_uri": "https://localhost:8080/"
        },
        "id": "rBQFB6POR-Qr",
        "outputId": "2e39275b-ff98-45d1-d38d-96e7eeeab577"
      },
      "id": "rBQFB6POR-Qr",
      "execution_count": 135,
      "outputs": [
        {
          "output_type": "execute_result",
          "data": {
            "text/plain": [
              "{'age': 30,\n",
              " 'city': 'New York',\n",
              " 'hasChildren': False,\n",
              " 'name': 'John',\n",
              " 'titles': ['engineer', 'programmer']}"
            ]
          },
          "metadata": {},
          "execution_count": 135
        }
      ]
    },
    {
      "cell_type": "code",
      "execution_count": 136,
      "id": "aa19357e",
      "metadata": {
        "colab": {
          "base_uri": "https://localhost:8080/"
        },
        "id": "aa19357e",
        "outputId": "129cc0b5-b2d7-4e2f-be8c-e728b58d524f"
      },
      "outputs": [
        {
          "output_type": "stream",
          "name": "stdout",
          "text": [
            "<class 'dict'>\n"
          ]
        }
      ],
      "source": [
        "print(type(person))"
      ]
    },
    {
      "cell_type": "code",
      "source": [
        "person['age']"
      ],
      "metadata": {
        "colab": {
          "base_uri": "https://localhost:8080/"
        },
        "id": "a0OFxisxR_8y",
        "outputId": "bc776e7a-27d8-4f8d-8e76-4afe9fc178a4"
      },
      "id": "a0OFxisxR_8y",
      "execution_count": 137,
      "outputs": [
        {
          "output_type": "execute_result",
          "data": {
            "text/plain": [
              "30"
            ]
          },
          "metadata": {},
          "execution_count": 137
        }
      ]
    },
    {
      "cell_type": "code",
      "source": [
        "person['titles']"
      ],
      "metadata": {
        "colab": {
          "base_uri": "https://localhost:8080/"
        },
        "id": "Wm7uxsDVSCO7",
        "outputId": "11886489-ab5f-46c4-b636-03f94a50c770"
      },
      "id": "Wm7uxsDVSCO7",
      "execution_count": 138,
      "outputs": [
        {
          "output_type": "execute_result",
          "data": {
            "text/plain": [
              "['engineer', 'programmer']"
            ]
          },
          "metadata": {},
          "execution_count": 138
        }
      ]
    },
    {
      "cell_type": "code",
      "execution_count": null,
      "id": "b42bc97e",
      "metadata": {
        "id": "b42bc97e",
        "outputId": "a3760f8c-0f95-4b0f-889d-4246a1d65938"
      },
      "outputs": [
        {
          "name": "stdout",
          "output_type": "stream",
          "text": [
            "{'age': 30, 'city': 'New York', 'hasChildren': False, 'name': 'John', 'titles': ['engineer', 'programmer']}\n"
          ]
        }
      ],
      "source": [
        "print(person)"
      ]
    },
    {
      "cell_type": "code",
      "execution_count": null,
      "id": "301fc06e",
      "metadata": {
        "id": "301fc06e",
        "outputId": "e6a6a580-563e-40be-ff88-50f00f5fb269"
      },
      "outputs": [
        {
          "data": {
            "text/plain": [
              "False"
            ]
          },
          "execution_count": 135,
          "metadata": {},
          "output_type": "execute_result"
        }
      ],
      "source": [
        "person['hasChildren']"
      ]
    },
    {
      "cell_type": "code",
      "source": [
        "def function_example(a, b, c,d ):\n",
        "  print(\"A\", id(a))\n",
        "  print(\"b\", id(b))\n",
        "  print(\"c\", id(c))\n",
        "  print(\"d\", id(d))\n",
        "\n",
        "  a += 1\n",
        "  d['b'] = 5\n",
        "\n",
        "  print('The id of a at this point:', id(a))\n",
        "  print('The id of d at this point:', id(d))\n",
        "  pass"
      ],
      "metadata": {
        "id": "plArz7TmScgB"
      },
      "id": "plArz7TmScgB",
      "execution_count": 144,
      "outputs": []
    },
    {
      "cell_type": "code",
      "source": [
        "a = 1\n",
        "b = 'abc'\n",
        "c = [1,3,4]\n",
        "d = {'a': 1}\n",
        "\n",
        "\n",
        "print(\"A\", id(a))\n",
        "print(\"b\", id(b))\n",
        "print(\"c\", id(c))\n",
        "print(\"d\", id(d))\n",
        "\n",
        "print('----------')\n",
        "\n",
        "function_example(a,b,c,d)"
      ],
      "metadata": {
        "colab": {
          "base_uri": "https://localhost:8080/"
        },
        "id": "_54vD0vKS1zq",
        "outputId": "5930e002-5253-4d4d-f0b9-999046ae4b2e"
      },
      "id": "_54vD0vKS1zq",
      "execution_count": 145,
      "outputs": [
        {
          "output_type": "stream",
          "name": "stdout",
          "text": [
            "A 138909261005040\n",
            "b 138909259829488\n",
            "c 138907934675840\n",
            "d 138907936225792\n",
            "----------\n",
            "A 138909261005040\n",
            "b 138909259829488\n",
            "c 138907934675840\n",
            "d 138907936225792\n",
            "The id of a at this point: 138909261005072\n",
            "The id of d at this point: 138907936225792\n"
          ]
        }
      ]
    },
    {
      "cell_type": "code",
      "source": [
        "password = input('Enter your password: ')\n",
        "try:\n",
        "  if len(password) < 8:\n",
        "    raise Exception('Password must be at least 8 characters long')\n",
        "  if password.isalpha():\n",
        "    raise Exception('Password must contain at least one number')\n",
        "  if password.isdigit():\n",
        "    raise Exception('Password must contain at least one letter')\n",
        "  print('Password is valid')\n",
        "except Exception as e:\n",
        "  print(e)\n"
      ],
      "metadata": {
        "colab": {
          "base_uri": "https://localhost:8080/"
        },
        "id": "tuRvh0CRT0xE",
        "outputId": "cc8fadbb-4bfb-4d87-b124-6b2816914cd9"
      },
      "id": "tuRvh0CRT0xE",
      "execution_count": 151,
      "outputs": [
        {
          "output_type": "stream",
          "name": "stdout",
          "text": [
            "Enter your password: 12345678\n",
            "Password must contain at least one letter\n"
          ]
        }
      ]
    },
    {
      "cell_type": "code",
      "source": [
        "try:\n",
        "  print(1)"
      ],
      "metadata": {
        "colab": {
          "base_uri": "https://localhost:8080/",
          "height": 105
        },
        "id": "AjRteiE0U12J",
        "outputId": "c06131ec-9585-40a0-9353-3643f40c169a"
      },
      "id": "AjRteiE0U12J",
      "execution_count": 153,
      "outputs": [
        {
          "output_type": "error",
          "ename": "SyntaxError",
          "evalue": "incomplete input (<ipython-input-153-439ba9121ba2>, line 2)",
          "traceback": [
            "\u001b[0;36m  File \u001b[0;32m\"<ipython-input-153-439ba9121ba2>\"\u001b[0;36m, line \u001b[0;32m2\u001b[0m\n\u001b[0;31m    print(1)\u001b[0m\n\u001b[0m            ^\u001b[0m\n\u001b[0;31mSyntaxError\u001b[0m\u001b[0;31m:\u001b[0m incomplete input\n"
          ]
        }
      ]
    }
  ],
  "metadata": {
    "kernelspec": {
      "display_name": "Python 3 (ipykernel)",
      "language": "python",
      "name": "python3"
    },
    "language_info": {
      "codemirror_mode": {
        "name": "ipython",
        "version": 3
      },
      "file_extension": ".py",
      "mimetype": "text/x-python",
      "name": "python",
      "nbconvert_exporter": "python",
      "pygments_lexer": "ipython3",
      "version": "3.10.9"
    },
    "colab": {
      "provenance": [],
      "include_colab_link": true
    }
  },
  "nbformat": 4,
  "nbformat_minor": 5
}