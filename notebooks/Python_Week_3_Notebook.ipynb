{
  "cells": [
    {
      "cell_type": "markdown",
      "metadata": {
        "id": "view-in-github",
        "colab_type": "text"
      },
      "source": [
        "<a href=\"https://colab.research.google.com/github/anshajk/ik-classes/blob/main/Python_Week_3_Notebook.ipynb\" target=\"_parent\"><img src=\"https://colab.research.google.com/assets/colab-badge.svg\" alt=\"Open In Colab\"/></a>"
      ]
    },
    {
      "cell_type": "markdown",
      "id": "93bf79a9",
      "metadata": {
        "id": "93bf79a9"
      },
      "source": [
        "# Python Fundamentals - Week 3\n",
        "\n",
        "Instructor - Anshaj Khare\n",
        "\n",
        "* [LinkedIn](https://www.linkedin.com/in/anshaj-khare/)\n",
        "* [Github](https://github.com/anshajk)\n",
        "\n"
      ]
    },
    {
      "cell_type": "markdown",
      "id": "2d65ff74",
      "metadata": {
        "id": "2d65ff74"
      },
      "source": [
        "## OOP Concepts - Part I"
      ]
    },
    {
      "cell_type": "markdown",
      "id": "d912cb53",
      "metadata": {
        "id": "d912cb53"
      },
      "source": [
        "### How to Define a Class"
      ]
    },
    {
      "cell_type": "code",
      "execution_count": null,
      "id": "da75ff36",
      "metadata": {
        "id": "da75ff36"
      },
      "outputs": [],
      "source": [
        "# Create a new class\n",
        "class Student:\n",
        "\n",
        "    # Define a constructor\n",
        "    def __init__(self, name):\n",
        "        self.name = name\n",
        "        print(\"New student added:\", name)\n",
        "        self.grades = [] # Attribute\n",
        "\n",
        "    # Define an instance method\n",
        "    def add_grade(self, course, grade):\n",
        "        self.grades.append((course, grade))\n",
        "        self.is_genius = True\n",
        "        print(f\"Grade {grade} added for the course {course}\")"
      ]
    },
    {
      "cell_type": "code",
      "execution_count": null,
      "id": "1db1dba1",
      "metadata": {
        "id": "1db1dba1",
        "colab": {
          "base_uri": "https://localhost:8080/"
        },
        "outputId": "0980b56a-b9be-4452-ac09-4cac503bc66e"
      },
      "outputs": [
        {
          "output_type": "stream",
          "name": "stdout",
          "text": [
            "New student added: John\n"
          ]
        }
      ],
      "source": [
        "# create an object from the class\n",
        "student1 = Student(\"John\")"
      ]
    },
    {
      "cell_type": "code",
      "execution_count": null,
      "id": "e01d4910",
      "metadata": {
        "id": "e01d4910",
        "colab": {
          "base_uri": "https://localhost:8080/"
        },
        "outputId": "b99be033-5841-4fde-e7ec-7464189cdd9d"
      },
      "outputs": [
        {
          "output_type": "execute_result",
          "data": {
            "text/plain": [
              "[]"
            ]
          },
          "metadata": {},
          "execution_count": 5
        }
      ],
      "source": [
        "student1.grades"
      ]
    },
    {
      "cell_type": "code",
      "execution_count": null,
      "id": "ab2504c0",
      "metadata": {
        "id": "ab2504c0",
        "colab": {
          "base_uri": "https://localhost:8080/"
        },
        "outputId": "19e25f0e-d549-488a-a676-154b3bd92d47"
      },
      "outputs": [
        {
          "output_type": "stream",
          "name": "stdout",
          "text": [
            "<class '__main__.Student'>\n"
          ]
        }
      ],
      "source": [
        "print(type(student1))"
      ]
    },
    {
      "cell_type": "code",
      "execution_count": null,
      "id": "850b5486",
      "metadata": {
        "id": "850b5486",
        "colab": {
          "base_uri": "https://localhost:8080/",
          "height": 35
        },
        "outputId": "37903327-c514-47e5-f414-667caabd0450"
      },
      "outputs": [
        {
          "output_type": "execute_result",
          "data": {
            "text/plain": [
              "'John'"
            ],
            "application/vnd.google.colaboratory.intrinsic+json": {
              "type": "string"
            }
          },
          "metadata": {},
          "execution_count": 7
        }
      ],
      "source": [
        "student1.name"
      ]
    },
    {
      "cell_type": "code",
      "execution_count": null,
      "id": "6db50152",
      "metadata": {
        "id": "6db50152",
        "colab": {
          "base_uri": "https://localhost:8080/"
        },
        "outputId": "3533c6c6-56ef-4092-e742-e98752dbaa0b"
      },
      "outputs": [
        {
          "output_type": "stream",
          "name": "stdout",
          "text": [
            "Grade 87 added for the course Algebra\n"
          ]
        }
      ],
      "source": [
        "student1.add_grade(\"Algebra\", 87)"
      ]
    },
    {
      "cell_type": "code",
      "execution_count": null,
      "id": "c4b2bc8b",
      "metadata": {
        "id": "c4b2bc8b",
        "colab": {
          "base_uri": "https://localhost:8080/"
        },
        "outputId": "8179fbdc-061c-4437-bd6b-1e1b716ced0c"
      },
      "outputs": [
        {
          "output_type": "execute_result",
          "data": {
            "text/plain": [
              "[('Algebra', 87)]"
            ]
          },
          "metadata": {},
          "execution_count": 9
        }
      ],
      "source": [
        "student1.grades"
      ]
    },
    {
      "cell_type": "code",
      "execution_count": null,
      "id": "ce277657",
      "metadata": {
        "id": "ce277657",
        "colab": {
          "base_uri": "https://localhost:8080/"
        },
        "outputId": "db5cef6c-c80d-4c01-8fca-ebec75179b5d"
      },
      "outputs": [
        {
          "output_type": "stream",
          "name": "stdout",
          "text": [
            "Grade 65 added for the course Physics\n"
          ]
        },
        {
          "output_type": "execute_result",
          "data": {
            "text/plain": [
              "[('Algebra', 87), ('Physics', 65)]"
            ]
          },
          "metadata": {},
          "execution_count": 10
        }
      ],
      "source": [
        "student1.add_grade(\"Physics\", 65)\n",
        "student1.grades"
      ]
    },
    {
      "cell_type": "code",
      "execution_count": null,
      "id": "d42c5900",
      "metadata": {
        "id": "d42c5900",
        "colab": {
          "base_uri": "https://localhost:8080/"
        },
        "outputId": "1abb7589-b59f-4ae6-aea9-479e8f6eff2a"
      },
      "outputs": [
        {
          "output_type": "stream",
          "name": "stdout",
          "text": [
            "New student added: Mary\n"
          ]
        }
      ],
      "source": [
        "# create a second object\n",
        "student2 = Student(\"Mary\")"
      ]
    },
    {
      "cell_type": "code",
      "execution_count": null,
      "id": "cf0dc80a",
      "metadata": {
        "id": "cf0dc80a",
        "colab": {
          "base_uri": "https://localhost:8080/",
          "height": 35
        },
        "outputId": "9703e42d-d1ee-4404-d686-637d1955b18a"
      },
      "outputs": [
        {
          "output_type": "execute_result",
          "data": {
            "text/plain": [
              "'Mary'"
            ],
            "application/vnd.google.colaboratory.intrinsic+json": {
              "type": "string"
            }
          },
          "metadata": {},
          "execution_count": 13
        }
      ],
      "source": [
        "student2.name"
      ]
    },
    {
      "cell_type": "code",
      "execution_count": null,
      "id": "cef226c2",
      "metadata": {
        "id": "cef226c2",
        "colab": {
          "base_uri": "https://localhost:8080/"
        },
        "outputId": "1cfdcb88-ea42-4880-ea63-f9c053bf2945"
      },
      "outputs": [
        {
          "output_type": "execute_result",
          "data": {
            "text/plain": [
              "[]"
            ]
          },
          "metadata": {},
          "execution_count": 14
        }
      ],
      "source": [
        "student2.grades"
      ]
    },
    {
      "cell_type": "code",
      "execution_count": null,
      "id": "c58760df",
      "metadata": {
        "id": "c58760df",
        "colab": {
          "base_uri": "https://localhost:8080/"
        },
        "outputId": "3c083e31-63c6-4c5b-c3f3-7db255b9c01f"
      },
      "outputs": [
        {
          "output_type": "stream",
          "name": "stdout",
          "text": [
            "Grade 59 added for the course Sciences\n",
            "Grade 91 added for the course English\n"
          ]
        },
        {
          "output_type": "execute_result",
          "data": {
            "text/plain": [
              "[('Sciences', 59), ('English', 91)]"
            ]
          },
          "metadata": {},
          "execution_count": 15
        }
      ],
      "source": [
        "student2.add_grade(\"Sciences\", 59)\n",
        "student2.add_grade(\"English\", 91)\n",
        "student2.grades"
      ]
    },
    {
      "cell_type": "code",
      "execution_count": null,
      "id": "fa4ca24c",
      "metadata": {
        "id": "fa4ca24c"
      },
      "outputs": [],
      "source": [
        "student2.name = 'Mary Jane'"
      ]
    },
    {
      "cell_type": "code",
      "execution_count": null,
      "id": "63eb5818",
      "metadata": {
        "id": "63eb5818",
        "colab": {
          "base_uri": "https://localhost:8080/",
          "height": 35
        },
        "outputId": "15e7d520-4c4b-42f1-a3c5-3717add51a98"
      },
      "outputs": [
        {
          "output_type": "execute_result",
          "data": {
            "text/plain": [
              "'Mary Jane'"
            ],
            "application/vnd.google.colaboratory.intrinsic+json": {
              "type": "string"
            }
          },
          "metadata": {},
          "execution_count": 17
        }
      ],
      "source": [
        "student2.name"
      ]
    },
    {
      "cell_type": "markdown",
      "id": "b4b580cf",
      "metadata": {
        "id": "b4b580cf"
      },
      "source": [
        "### Instance vs Class Methods and Attributes"
      ]
    },
    {
      "cell_type": "code",
      "execution_count": null,
      "id": "72aafcf3",
      "metadata": {
        "id": "72aafcf3"
      },
      "outputs": [],
      "source": [
        "class Student:\n",
        "\n",
        "    num_of_students = 0 # Class attribute\n",
        "\n",
        "    # Define a constructor\n",
        "    def __init__(self, name):\n",
        "        self.name = name # Instance attribute\n",
        "        print(\"New student added:\", name)\n",
        "        Student.num_of_students += 1\n",
        "        self.grades = [] # Instance attribute\n",
        "\n",
        "    # Instance method\n",
        "    def add_grade(self, course, grade):\n",
        "        self.grades.append((course, grade))\n",
        "        print(f\"Grade {grade} added for the course {course}\")\n",
        "\n",
        "    @classmethod\n",
        "    def class_count(cls):\n",
        "        return cls.num_of_students"
      ]
    },
    {
      "cell_type": "code",
      "execution_count": null,
      "id": "884fd9ca",
      "metadata": {
        "id": "884fd9ca",
        "colab": {
          "base_uri": "https://localhost:8080/"
        },
        "outputId": "dc73fdaa-3625-4bc2-c187-d5533fde62a6"
      },
      "outputs": [
        {
          "output_type": "stream",
          "name": "stdout",
          "text": [
            "New student added: John\n"
          ]
        }
      ],
      "source": [
        "student1 = Student(\"John\")"
      ]
    },
    {
      "cell_type": "code",
      "execution_count": null,
      "id": "0ecbd8b7",
      "metadata": {
        "id": "0ecbd8b7",
        "colab": {
          "base_uri": "https://localhost:8080/"
        },
        "outputId": "33721631-03c0-4e63-b828-da37c68f0024"
      },
      "outputs": [
        {
          "output_type": "execute_result",
          "data": {
            "text/plain": [
              "1"
            ]
          },
          "metadata": {},
          "execution_count": 20
        }
      ],
      "source": [
        "Student.class_count()"
      ]
    },
    {
      "cell_type": "code",
      "source": [
        "Student.add_grade('Physics',86)"
      ],
      "metadata": {
        "colab": {
          "base_uri": "https://localhost:8080/",
          "height": 190
        },
        "id": "vrQiuCy39oqW",
        "outputId": "a06163ce-f448-4dad-9238-d88dac62bcfb"
      },
      "id": "vrQiuCy39oqW",
      "execution_count": null,
      "outputs": [
        {
          "output_type": "error",
          "ename": "TypeError",
          "evalue": "Student.add_grade() missing 1 required positional argument: 'grade'",
          "traceback": [
            "\u001b[0;31m---------------------------------------------------------------------------\u001b[0m",
            "\u001b[0;31mTypeError\u001b[0m                                 Traceback (most recent call last)",
            "\u001b[0;32m<ipython-input-22-c3b72633e866>\u001b[0m in \u001b[0;36m<cell line: 1>\u001b[0;34m()\u001b[0m\n\u001b[0;32m----> 1\u001b[0;31m \u001b[0mStudent\u001b[0m\u001b[0;34m.\u001b[0m\u001b[0madd_grade\u001b[0m\u001b[0;34m(\u001b[0m\u001b[0;34m'Physics'\u001b[0m\u001b[0;34m,\u001b[0m\u001b[0;36m86\u001b[0m\u001b[0;34m)\u001b[0m\u001b[0;34m\u001b[0m\u001b[0;34m\u001b[0m\u001b[0m\n\u001b[0m",
            "\u001b[0;31mTypeError\u001b[0m: Student.add_grade() missing 1 required positional argument: 'grade'"
          ]
        }
      ]
    },
    {
      "cell_type": "code",
      "execution_count": null,
      "id": "bab06154",
      "metadata": {
        "id": "bab06154",
        "colab": {
          "base_uri": "https://localhost:8080/"
        },
        "outputId": "5c8e983f-0de1-463b-f092-adf37ae43434"
      },
      "outputs": [
        {
          "output_type": "stream",
          "name": "stdout",
          "text": [
            "New student added: Mary\n"
          ]
        }
      ],
      "source": [
        "student2 = Student(\"Mary\")"
      ]
    },
    {
      "cell_type": "code",
      "execution_count": null,
      "id": "31e85ca5",
      "metadata": {
        "id": "31e85ca5",
        "colab": {
          "base_uri": "https://localhost:8080/"
        },
        "outputId": "1ea468f5-18db-4e20-cb07-6b67d45c2ea2"
      },
      "outputs": [
        {
          "output_type": "execute_result",
          "data": {
            "text/plain": [
              "2"
            ]
          },
          "metadata": {},
          "execution_count": 24
        }
      ],
      "source": [
        "Student.class_count()"
      ]
    },
    {
      "cell_type": "code",
      "execution_count": null,
      "id": "fa03cafc",
      "metadata": {
        "id": "fa03cafc",
        "colab": {
          "base_uri": "https://localhost:8080/"
        },
        "outputId": "95d72585-8d18-43b1-b95c-aee497ef2394"
      },
      "outputs": [
        {
          "output_type": "execute_result",
          "data": {
            "text/plain": [
              "2"
            ]
          },
          "metadata": {},
          "execution_count": 25
        }
      ],
      "source": [
        "student1.class_count()"
      ]
    },
    {
      "cell_type": "code",
      "execution_count": null,
      "id": "04503e48",
      "metadata": {
        "id": "04503e48",
        "colab": {
          "base_uri": "https://localhost:8080/"
        },
        "outputId": "a5e10177-fafb-4734-8151-723117a13068"
      },
      "outputs": [
        {
          "output_type": "execute_result",
          "data": {
            "text/plain": [
              "2"
            ]
          },
          "metadata": {},
          "execution_count": 26
        }
      ],
      "source": [
        "student2.class_count()"
      ]
    },
    {
      "cell_type": "markdown",
      "id": "2e560308",
      "metadata": {
        "id": "2e560308"
      },
      "source": [
        "### Static Methods"
      ]
    },
    {
      "cell_type": "code",
      "execution_count": null,
      "id": "ab086b66",
      "metadata": {
        "id": "ab086b66"
      },
      "outputs": [],
      "source": [
        "class Student:\n",
        "\n",
        "    num_of_students = 0 # Class attribute\n",
        "\n",
        "    # Define a constructor\n",
        "    def __init__(self, name):\n",
        "        self.name = name # Instance attribute\n",
        "        print(\"New student added:\", name)\n",
        "        Student.num_of_students += 1\n",
        "        self.grades = [] # Instance attribute\n",
        "\n",
        "    # Instance method\n",
        "    def add_grade(self, course, num_grade):\n",
        "        grade = Student.grade_mapper(num_grade)\n",
        "        self.grades.append((course, grade))\n",
        "        print(f\"Grade {grade} added for the course {course}\")\n",
        "\n",
        "    @classmethod\n",
        "    def class_count(cls):\n",
        "        return cls.num_of_students\n",
        "\n",
        "    @staticmethod\n",
        "    def grade_mapper(score):\n",
        "        if 85 <= score <= 100:\n",
        "            return 'A'\n",
        "        elif 70 <= score < 85:\n",
        "            return 'B'\n",
        "        elif 55 <= score < 70:\n",
        "            return 'C'\n",
        "        elif 40 <= score < 55:\n",
        "            return 'D'\n",
        "        else:\n",
        "            return 'F'"
      ]
    },
    {
      "cell_type": "code",
      "execution_count": null,
      "id": "b121dcd2",
      "metadata": {
        "id": "b121dcd2",
        "colab": {
          "base_uri": "https://localhost:8080/"
        },
        "outputId": "6ac1c727-8db8-4d2b-85e0-a54254aeeded"
      },
      "outputs": [
        {
          "output_type": "stream",
          "name": "stdout",
          "text": [
            "New student added: John\n"
          ]
        }
      ],
      "source": [
        "student = Student(\"John\")"
      ]
    },
    {
      "cell_type": "code",
      "execution_count": null,
      "id": "afa9d194",
      "metadata": {
        "id": "afa9d194",
        "colab": {
          "base_uri": "https://localhost:8080/"
        },
        "outputId": "5a4e4f77-483e-4997-dbf7-72fb445e0318"
      },
      "outputs": [
        {
          "output_type": "stream",
          "name": "stdout",
          "text": [
            "Grade A added for the course Algebra\n"
          ]
        },
        {
          "output_type": "execute_result",
          "data": {
            "text/plain": [
              "[('Algebra', 'A')]"
            ]
          },
          "metadata": {},
          "execution_count": 29
        }
      ],
      "source": [
        "student.add_grade(\"Algebra\", 87)\n",
        "student.grades"
      ]
    },
    {
      "cell_type": "code",
      "execution_count": null,
      "id": "857467c0",
      "metadata": {
        "scrolled": true,
        "id": "857467c0",
        "colab": {
          "base_uri": "https://localhost:8080/"
        },
        "outputId": "0f9c101b-8036-4c12-ef0d-163ecc160e53"
      },
      "outputs": [
        {
          "output_type": "stream",
          "name": "stdout",
          "text": [
            "Grade C added for the course Physics\n"
          ]
        },
        {
          "output_type": "execute_result",
          "data": {
            "text/plain": [
              "[('Algebra', 'A'), ('Physics', 'C')]"
            ]
          },
          "metadata": {},
          "execution_count": 30
        }
      ],
      "source": [
        "student.add_grade(\"Physics\", 65)\n",
        "student.grades"
      ]
    },
    {
      "cell_type": "markdown",
      "id": "1f72fda6",
      "metadata": {
        "id": "1f72fda6"
      },
      "source": [
        "### Magic Methods"
      ]
    },
    {
      "cell_type": "code",
      "execution_count": null,
      "id": "c4cbb837",
      "metadata": {
        "id": "c4cbb837"
      },
      "outputs": [],
      "source": [
        "class Student:\n",
        "\n",
        "    num_of_students = 0 # Class attribute\n",
        "\n",
        "    # Define a constructor\n",
        "    def __init__(self, name):\n",
        "        self.name = name # Instance attribute\n",
        "        Student.num_of_students += 1\n",
        "        self.grades = [] # Instance attribute\n",
        "\n",
        "    # Instance method\n",
        "    def add_grade(self, course, num_grade):\n",
        "        grade = Student.grade_mapper(num_grade)\n",
        "        self.grades.append((course, grade))\n",
        "        print(f\"Grade {grade} added for the course {course}\")\n",
        "\n",
        "    @classmethod\n",
        "    def class_count(cls):\n",
        "        return cls.num_of_students\n",
        "\n",
        "    @staticmethod\n",
        "    def grade_mapper(score):\n",
        "        if 85 <= score <= 100:\n",
        "            return 'A'\n",
        "        elif 70 <= score < 85:\n",
        "            return 'B'\n",
        "        elif 55 <= score < 70:\n",
        "            return 'C'\n",
        "        elif 40 <= score < 55:\n",
        "            return 'D'\n",
        "        else:\n",
        "            return 'F'\n",
        "\n",
        "    def __repr__(self):\n",
        "        return f\"Grades of student {self.name}: {self.grades}\"\n",
        "\n",
        "    def __add__(self, other):\n",
        "        return f\"Student {self.name} & Student {other.name}\""
      ]
    },
    {
      "cell_type": "code",
      "execution_count": null,
      "id": "0c150952",
      "metadata": {
        "id": "0c150952"
      },
      "outputs": [],
      "source": [
        "student1 = Student(\"John\")"
      ]
    },
    {
      "cell_type": "code",
      "source": [
        "print(student1)"
      ],
      "metadata": {
        "colab": {
          "base_uri": "https://localhost:8080/"
        },
        "id": "aXLL7K7fFQHr",
        "outputId": "2bc8ab2a-07ca-4dd8-9f1a-5b17b09e7188"
      },
      "id": "aXLL7K7fFQHr",
      "execution_count": null,
      "outputs": [
        {
          "output_type": "stream",
          "name": "stdout",
          "text": [
            "Grades of student John: []\n"
          ]
        }
      ]
    },
    {
      "cell_type": "code",
      "execution_count": null,
      "id": "d4821f6e",
      "metadata": {
        "id": "d4821f6e",
        "outputId": "fb00ee63-cf1a-49f7-f85b-e082f9f0d136"
      },
      "outputs": [
        {
          "name": "stdout",
          "output_type": "stream",
          "text": [
            "Grade A added for the course Algebra\n"
          ]
        },
        {
          "data": {
            "text/plain": [
              "[('Algebra', 'A')]"
            ]
          },
          "execution_count": 12,
          "metadata": {},
          "output_type": "execute_result"
        }
      ],
      "source": [
        "student1.add_grade(\"Algebra\", 87)\n",
        "student1.grades"
      ]
    },
    {
      "cell_type": "code",
      "execution_count": null,
      "id": "eedcaee7",
      "metadata": {
        "id": "eedcaee7",
        "outputId": "59f97c57-5b28-4866-fcf7-d49f6aaa6007"
      },
      "outputs": [
        {
          "name": "stdout",
          "output_type": "stream",
          "text": [
            "Grade C added for the course Physics\n"
          ]
        },
        {
          "data": {
            "text/plain": [
              "[('Algebra', 'A'), ('Physics', 'C')]"
            ]
          },
          "execution_count": 13,
          "metadata": {},
          "output_type": "execute_result"
        }
      ],
      "source": [
        "student1.add_grade(\"Physics\", 65)\n",
        "student1.grades"
      ]
    },
    {
      "cell_type": "code",
      "execution_count": null,
      "id": "ac9d5799",
      "metadata": {
        "id": "ac9d5799",
        "outputId": "fda8a37a-233f-4990-b7e4-214e19076063"
      },
      "outputs": [
        {
          "name": "stdout",
          "output_type": "stream",
          "text": [
            "Grades of student John: [('Algebra', 'A'), ('Physics', 'C')]\n"
          ]
        }
      ],
      "source": [
        "print(student1)"
      ]
    },
    {
      "cell_type": "code",
      "execution_count": null,
      "id": "5d885828",
      "metadata": {
        "id": "5d885828",
        "outputId": "a4c409a1-4926-4a8d-b4c0-1e08e1dc913f"
      },
      "outputs": [
        {
          "name": "stdout",
          "output_type": "stream",
          "text": [
            "Grades of student John: [('Algebra', 'A'), ('Physics', 'C')]\n"
          ]
        }
      ],
      "source": [
        "print(repr(student1))"
      ]
    },
    {
      "cell_type": "code",
      "execution_count": null,
      "id": "8fed5a44",
      "metadata": {
        "id": "8fed5a44",
        "outputId": "ced1db7a-9bc8-4bbe-f2e7-d5867253b801"
      },
      "outputs": [
        {
          "name": "stdout",
          "output_type": "stream",
          "text": [
            "New student added: Mary\n"
          ]
        }
      ],
      "source": [
        "student2 = Student(\"Mary\")"
      ]
    },
    {
      "cell_type": "code",
      "execution_count": null,
      "id": "11ccfe33",
      "metadata": {
        "id": "11ccfe33",
        "outputId": "3c193775-7248-4691-dd5a-4bd7fb042675"
      },
      "outputs": [
        {
          "name": "stdout",
          "output_type": "stream",
          "text": [
            "Student John & Student Mary\n"
          ]
        }
      ],
      "source": [
        "print(student1 + student2)"
      ]
    },
    {
      "cell_type": "markdown",
      "id": "f9c11971",
      "metadata": {
        "id": "f9c11971"
      },
      "source": [
        "#### Question: What if we remove 'self' from an instance method by mistake?"
      ]
    },
    {
      "cell_type": "markdown",
      "id": "a5f60fa8",
      "metadata": {
        "id": "a5f60fa8"
      },
      "source": [
        "If you define a method in a Python class without including self or cls as the first parameter, and without using the @staticmethod decorator, it is technically treated as an unbound instance method and Python treats it as a regular function within the class's namespace. It is still considered an instance method, but because it lacks self, it doesn't behave like a proper instance method. When you call this method on a class (ClassName.method()), it behaves like a regular function. When you call this method on an instance (instance.method()), Python tries to pass the instance as the first argument, which leads to a TypeError if the method is not designed to accept it."
      ]
    },
    {
      "cell_type": "code",
      "execution_count": null,
      "id": "8ab79a21",
      "metadata": {
        "id": "8ab79a21"
      },
      "outputs": [],
      "source": [
        "class Student:\n",
        "    def hello():\n",
        "        print(\"Hi\")"
      ]
    },
    {
      "cell_type": "code",
      "execution_count": null,
      "id": "e0ac216f",
      "metadata": {
        "id": "e0ac216f",
        "outputId": "67234862-4a61-4302-b171-65582bdf6415"
      },
      "outputs": [
        {
          "name": "stdout",
          "output_type": "stream",
          "text": [
            "Hi\n"
          ]
        }
      ],
      "source": [
        "Student.hello()"
      ]
    },
    {
      "cell_type": "code",
      "execution_count": null,
      "id": "6a56ae9c",
      "metadata": {
        "id": "6a56ae9c"
      },
      "outputs": [],
      "source": [
        "student = Student()"
      ]
    },
    {
      "cell_type": "code",
      "execution_count": null,
      "id": "5f302031",
      "metadata": {
        "id": "5f302031",
        "outputId": "ad7688d4-347c-4cf7-aa7a-a731ce07a8e8"
      },
      "outputs": [
        {
          "ename": "NameError",
          "evalue": "name 'student_instance' is not defined",
          "output_type": "error",
          "traceback": [
            "\u001b[0;31m---------------------------------------------------------------------------\u001b[0m",
            "\u001b[0;31mNameError\u001b[0m                                 Traceback (most recent call last)",
            "Cell \u001b[0;32mIn[142], line 1\u001b[0m\n\u001b[0;32m----> 1\u001b[0m \u001b[43mstudent_instance\u001b[49m\u001b[38;5;241m.\u001b[39mhello()\n",
            "\u001b[0;31mNameError\u001b[0m: name 'student_instance' is not defined"
          ]
        }
      ],
      "source": [
        "student_instance.hello()"
      ]
    },
    {
      "cell_type": "code",
      "source": [
        "class Pizza:\n",
        "  def __init__(self, pizza_size):\n",
        "    self.size = pizza_size\n",
        "\n",
        "  def make_cheese_burst(self):\n",
        "    print(f\"I've added a lot of cheese to your {self.size} pizza\")"
      ],
      "metadata": {
        "id": "zh7NppV_F0d_"
      },
      "id": "zh7NppV_F0d_",
      "execution_count": null,
      "outputs": []
    },
    {
      "cell_type": "code",
      "source": [
        "pizza1 = Pizza(\"medium\")\n",
        "pizza1.size"
      ],
      "metadata": {
        "colab": {
          "base_uri": "https://localhost:8080/",
          "height": 35
        },
        "id": "uplCtS7LGEOO",
        "outputId": "4cf1caaa-96fa-4ac2-f588-a41d38111be0"
      },
      "id": "uplCtS7LGEOO",
      "execution_count": null,
      "outputs": [
        {
          "output_type": "execute_result",
          "data": {
            "text/plain": [
              "'medium'"
            ],
            "application/vnd.google.colaboratory.intrinsic+json": {
              "type": "string"
            }
          },
          "metadata": {},
          "execution_count": 49
        }
      ]
    },
    {
      "cell_type": "code",
      "source": [
        "pizza1.make_cheese_burst()"
      ],
      "metadata": {
        "colab": {
          "base_uri": "https://localhost:8080/"
        },
        "id": "1fmw2rTXGSV3",
        "outputId": "5afbab40-9a78-4c77-d0d3-baf236a90305"
      },
      "id": "1fmw2rTXGSV3",
      "execution_count": null,
      "outputs": [
        {
          "output_type": "stream",
          "name": "stdout",
          "text": [
            "I've added a lot of cheese to your medium pizza\n"
          ]
        }
      ]
    },
    {
      "cell_type": "code",
      "source": [
        "pizza2 = Pizza(\"large\")\n",
        "\n",
        "pizza2.make_cheese_burst()"
      ],
      "metadata": {
        "colab": {
          "base_uri": "https://localhost:8080/"
        },
        "id": "9xgVlxJbG_VG",
        "outputId": "a3990c82-7094-44e4-92e7-4127753e2981"
      },
      "id": "9xgVlxJbG_VG",
      "execution_count": null,
      "outputs": [
        {
          "output_type": "stream",
          "name": "stdout",
          "text": [
            "I've added a lot of cheese to your large pizza\n"
          ]
        }
      ]
    },
    {
      "cell_type": "markdown",
      "id": "c47b4a22",
      "metadata": {
        "id": "c47b4a22"
      },
      "source": [
        "### Class Activity (Leetcode Problem)"
      ]
    },
    {
      "cell_type": "code",
      "execution_count": null,
      "id": "1312991d",
      "metadata": {
        "id": "1312991d"
      },
      "outputs": [],
      "source": [
        "class MyHashMap:\n",
        "\n",
        "#     count = 0\n",
        "\n",
        "    # constructor\n",
        "    def __init__(self):\n",
        "        self.data = []\n",
        "\n",
        "    # put\n",
        "    def put(self, key, value):\n",
        "\n",
        "        for item in self.data:\n",
        "            if item[0] == key:\n",
        "                item[1] = value\n",
        "                return\n",
        "        pair = [key, value]\n",
        "        self.data.append(pair)\n",
        "#         MyHashMap.count += 1\n",
        "\n",
        "    # get\n",
        "    def get(self, key):\n",
        "\n",
        "        for item in self.data:\n",
        "            if item[0] == key:\n",
        "                return item[1]\n",
        "        return -1\n",
        "\n",
        "    # remove\n",
        "    def remove(self, key):\n",
        "\n",
        "        for item in self.data:\n",
        "            if item[0] == key:\n",
        "                self.data.remove(item)\n",
        "                return\n",
        "        return None"
      ]
    },
    {
      "cell_type": "code",
      "source": [
        "list1 = [[1,1],[2,2],[3,3]]\n",
        "\n",
        "list1.remove([3,3])\n",
        "list1"
      ],
      "metadata": {
        "colab": {
          "base_uri": "https://localhost:8080/"
        },
        "id": "q2iYlCkMKn05",
        "outputId": "b24794d2-35da-41bf-ff5c-06d8512430b9"
      },
      "id": "q2iYlCkMKn05",
      "execution_count": null,
      "outputs": [
        {
          "output_type": "execute_result",
          "data": {
            "text/plain": [
              "[[1, 1], [2, 2]]"
            ]
          },
          "metadata": {},
          "execution_count": 69
        }
      ]
    },
    {
      "cell_type": "code",
      "source": [
        "for item in list1:\n",
        "    if item[0] == 3:\n",
        "      list1.remove(item)"
      ],
      "metadata": {
        "colab": {
          "base_uri": "https://localhost:8080/"
        },
        "id": "hXYcnAAIKpa5",
        "outputId": "6fa9c606-e1af-4f02-cf6b-238805ffbcea"
      },
      "id": "hXYcnAAIKpa5",
      "execution_count": null,
      "outputs": [
        {
          "output_type": "stream",
          "name": "stdout",
          "text": [
            "[1, 1]\n",
            "[2, 2]\n",
            "[3, 3]\n"
          ]
        }
      ]
    },
    {
      "cell_type": "code",
      "source": [
        "list1.remove([3,3])"
      ],
      "metadata": {
        "id": "1iVH3kppLqei"
      },
      "id": "1iVH3kppLqei",
      "execution_count": null,
      "outputs": []
    },
    {
      "cell_type": "code",
      "source": [
        "list1"
      ],
      "metadata": {
        "colab": {
          "base_uri": "https://localhost:8080/"
        },
        "id": "M6Tw72l8Kq3M",
        "outputId": "aa0a81cf-b7de-4759-b17d-dc8ef174048f"
      },
      "id": "M6Tw72l8Kq3M",
      "execution_count": null,
      "outputs": [
        {
          "output_type": "execute_result",
          "data": {
            "text/plain": [
              "[[1, 1], [2, 2]]"
            ]
          },
          "metadata": {},
          "execution_count": 68
        }
      ]
    },
    {
      "cell_type": "code",
      "execution_count": null,
      "id": "dd091e41",
      "metadata": {
        "id": "dd091e41",
        "outputId": "be4ef932-0e57-4a41-ab6a-343b7d1d433c",
        "colab": {
          "base_uri": "https://localhost:8080/"
        }
      },
      "outputs": [
        {
          "output_type": "stream",
          "name": "stdout",
          "text": [
            "[]\n"
          ]
        }
      ],
      "source": [
        "myHashMap = MyHashMap()\n",
        "\n",
        "print(myHashMap.data)"
      ]
    },
    {
      "cell_type": "code",
      "execution_count": null,
      "id": "f74b14a1",
      "metadata": {
        "id": "f74b14a1",
        "outputId": "c68c3685-6a3a-4646-9872-91f64e1fb7a1",
        "colab": {
          "base_uri": "https://localhost:8080/"
        }
      },
      "outputs": [
        {
          "output_type": "stream",
          "name": "stdout",
          "text": [
            "[[1, 1]]\n"
          ]
        }
      ],
      "source": [
        "myHashMap.put(1, 1)\n",
        "print(myHashMap.data)"
      ]
    },
    {
      "cell_type": "code",
      "execution_count": null,
      "id": "40e88901",
      "metadata": {
        "id": "40e88901",
        "outputId": "5b8e3d3c-adec-4232-a021-e1e87c86420d",
        "colab": {
          "base_uri": "https://localhost:8080/"
        }
      },
      "outputs": [
        {
          "output_type": "stream",
          "name": "stdout",
          "text": [
            "[[1, 1], [2, 2]]\n"
          ]
        }
      ],
      "source": [
        "myHashMap.put(2, 2)\n",
        "print(myHashMap.data)"
      ]
    },
    {
      "cell_type": "code",
      "execution_count": null,
      "id": "df9cb043",
      "metadata": {
        "id": "df9cb043",
        "outputId": "9faf6601-8353-476c-c9a1-266714a74e16",
        "colab": {
          "base_uri": "https://localhost:8080/"
        }
      },
      "outputs": [
        {
          "output_type": "stream",
          "name": "stdout",
          "text": [
            "1\n",
            "2\n",
            "-1\n"
          ]
        }
      ],
      "source": [
        "print(myHashMap.get(1))\n",
        "print(myHashMap.get(2))\n",
        "print(myHashMap.get(3))"
      ]
    },
    {
      "cell_type": "code",
      "execution_count": null,
      "id": "42de6032",
      "metadata": {
        "id": "42de6032",
        "outputId": "422ff8c5-056d-475d-d2e9-1043be69d710",
        "colab": {
          "base_uri": "https://localhost:8080/"
        }
      },
      "outputs": [
        {
          "output_type": "stream",
          "name": "stdout",
          "text": [
            "[[1, 1], [2, 100]]\n"
          ]
        }
      ],
      "source": [
        "myHashMap.put(2, 100)\n",
        "print(myHashMap.data)"
      ]
    },
    {
      "cell_type": "code",
      "execution_count": null,
      "id": "8ea1e5f3",
      "metadata": {
        "id": "8ea1e5f3",
        "outputId": "e3a56b90-dc2f-4093-8b60-a96ee3510119",
        "colab": {
          "base_uri": "https://localhost:8080/"
        }
      },
      "outputs": [
        {
          "output_type": "stream",
          "name": "stdout",
          "text": [
            "100\n"
          ]
        }
      ],
      "source": [
        "print(myHashMap.get(2))"
      ]
    },
    {
      "cell_type": "code",
      "execution_count": null,
      "id": "840f914d",
      "metadata": {
        "id": "840f914d",
        "outputId": "963b9f1a-ba52-4689-a6b5-78d11871e1fc",
        "colab": {
          "base_uri": "https://localhost:8080/"
        }
      },
      "outputs": [
        {
          "output_type": "stream",
          "name": "stdout",
          "text": [
            "[[1, 1]]\n"
          ]
        }
      ],
      "source": [
        "myHashMap.remove(2)\n",
        "print(myHashMap.data)"
      ]
    },
    {
      "cell_type": "code",
      "execution_count": null,
      "id": "e348a1b2",
      "metadata": {
        "scrolled": true,
        "id": "e348a1b2",
        "outputId": "20ade258-c213-4b95-fbe3-4632380b4957"
      },
      "outputs": [
        {
          "name": "stdout",
          "output_type": "stream",
          "text": [
            "-1\n"
          ]
        }
      ],
      "source": [
        "print(myHashMap.get(2))"
      ]
    },
    {
      "cell_type": "markdown",
      "id": "f9d08394",
      "metadata": {
        "id": "f9d08394"
      },
      "source": [
        "## OOP Concepts - Part II"
      ]
    },
    {
      "cell_type": "markdown",
      "id": "ada50c02",
      "metadata": {
        "id": "ada50c02"
      },
      "source": [
        "### Inheritance"
      ]
    },
    {
      "cell_type": "code",
      "execution_count": null,
      "id": "e208d161",
      "metadata": {
        "id": "e208d161"
      },
      "outputs": [],
      "source": [
        "class Student:\n",
        "\n",
        "    num_of_students = 0 # Class attribute\n",
        "\n",
        "    # Define a constructor\n",
        "    def __init__(self, name):\n",
        "        self.name = name # Instance attribute\n",
        "        print(\"New student added:\", name)\n",
        "        Student.num_of_students += 1\n",
        "        self.grades = [] # Instance attribute\n",
        "\n",
        "    # Instance method\n",
        "    def add_grade(self, course, num_grade):\n",
        "        grade = Student.grade_mapper(num_grade)\n",
        "        self.grades.append((course, grade))\n",
        "        print(f\"Grade {grade} added for the course {course}\")\n",
        "\n",
        "    @classmethod\n",
        "    def class_count(cls):\n",
        "        return cls.num_of_students\n",
        "\n",
        "    @staticmethod\n",
        "    def grade_mapper(score):\n",
        "        if 85 <= score <= 100:\n",
        "            return 'A'\n",
        "        elif 70 <= score < 85:\n",
        "            return 'B'\n",
        "        elif 55 <= score < 70:\n",
        "            return 'C'\n",
        "        elif 40 <= score < 55:\n",
        "            return 'D'\n",
        "        else:\n",
        "            return 'F'"
      ]
    },
    {
      "cell_type": "code",
      "execution_count": null,
      "id": "c8a6ad88",
      "metadata": {
        "id": "c8a6ad88"
      },
      "outputs": [],
      "source": [
        "class NewGrad(Student):\n",
        "\n",
        "    def __init__(self, last_name, school):\n",
        "        super().__init__(last_name)\n",
        "        self.school = school\n",
        "\n",
        "\n",
        "    def isPassed(self):\n",
        "        for grade in self.grades:\n",
        "            if grade[1] >= 'C':\n",
        "                print(f\"{self.name} from {self.school} has failed the course {grade[0]} with grade {grade[1]}.\")\n",
        "                return False\n",
        "        print(f\"{self.name} from {self.school} has passed all tests.\")\n",
        "        return True"
      ]
    },
    {
      "cell_type": "code",
      "execution_count": null,
      "id": "82be8409",
      "metadata": {
        "id": "82be8409",
        "outputId": "5192a226-cd4b-4308-a23b-02036c070952",
        "colab": {
          "base_uri": "https://localhost:8080/"
        }
      },
      "outputs": [
        {
          "output_type": "stream",
          "name": "stdout",
          "text": [
            "New student added: John\n",
            "Grade B added for the course Linear Algebra\n",
            "Grade C added for the course Optimal Control\n",
            "John from UCLA has failed the course Optimal Control with grade C.\n"
          ]
        },
        {
          "output_type": "execute_result",
          "data": {
            "text/plain": [
              "False"
            ]
          },
          "metadata": {},
          "execution_count": 72
        }
      ],
      "source": [
        "new_graduate1 = NewGrad(\"John\", \"UCLA\")\n",
        "\n",
        "new_graduate1.add_grade(\"Linear Algebra\", 78)\n",
        "new_graduate1.add_grade(\"Optimal Control\", 65)\n",
        "\n",
        "new_graduate1.isPassed()"
      ]
    },
    {
      "cell_type": "code",
      "source": [
        "new_graduate1"
      ],
      "metadata": {
        "id": "8CkTAKD4SV60"
      },
      "id": "8CkTAKD4SV60",
      "execution_count": null,
      "outputs": []
    },
    {
      "cell_type": "code",
      "execution_count": null,
      "id": "b2fb26e5",
      "metadata": {
        "scrolled": true,
        "id": "b2fb26e5",
        "outputId": "5aa9cc1b-7042-49d2-d515-759a7d3a2d64",
        "colab": {
          "base_uri": "https://localhost:8080/"
        }
      },
      "outputs": [
        {
          "output_type": "stream",
          "name": "stdout",
          "text": [
            "New student added: Mary\n",
            "Grade A added for the course Statistics\n",
            "Grade B added for the course Computer Vision\n",
            "Mary from Harvard has passed all tests.\n"
          ]
        },
        {
          "output_type": "execute_result",
          "data": {
            "text/plain": [
              "True"
            ]
          },
          "metadata": {},
          "execution_count": 73
        }
      ],
      "source": [
        "new_graduate2 = NewGrad(\"Mary\", \"Harvard\")\n",
        "\n",
        "new_graduate2.add_grade(\"Statistics\", 92)\n",
        "new_graduate2.add_grade(\"Computer Vision\", 83)\n",
        "\n",
        "new_graduate2.isPassed()"
      ]
    },
    {
      "cell_type": "markdown",
      "id": "84a86a9b",
      "metadata": {
        "id": "84a86a9b"
      },
      "source": [
        "#### Question: How does multiple inheritance work?"
      ]
    },
    {
      "cell_type": "markdown",
      "source": [
        "## How do you talk to other programmers in python\n",
        "\n",
        "1. If you add a _ in front of a variable, it is assumed to be protected variable. This means that it shouldn't be called directly\n",
        "2. If something isn't supposed to be accessed directly, we use getter and setter methods for it.\n",
        "\n",
        "\n",
        "\n"
      ],
      "metadata": {
        "id": "GqHDKVPqVFmA"
      },
      "id": "GqHDKVPqVFmA"
    },
    {
      "cell_type": "markdown",
      "id": "ab85f53f",
      "metadata": {
        "id": "ab85f53f"
      },
      "source": [
        "### Encapsulation"
      ]
    },
    {
      "cell_type": "code",
      "source": [
        "class Computer:\n",
        "    def __init__(self, os, ram, cpu):\n",
        "        self._os = os\n",
        "        self._ram = ram\n",
        "        self._cpu = cpu\n",
        "\n",
        "    def get_os(self):\n",
        "        return self._os\n",
        "\n",
        "    def get_ram(self):\n",
        "        return self._ram\n",
        "\n",
        "    def get_cpu(self):\n",
        "        return self._cpu\n"
      ],
      "metadata": {
        "id": "DX_PFWjxWDSX"
      },
      "id": "DX_PFWjxWDSX",
      "execution_count": null,
      "outputs": []
    },
    {
      "cell_type": "code",
      "source": [
        "mac1 = Computer(\"MacOS\", 8, \"M1\")"
      ],
      "metadata": {
        "id": "pLhqBxpuWh5o"
      },
      "id": "pLhqBxpuWh5o",
      "execution_count": null,
      "outputs": []
    },
    {
      "cell_type": "code",
      "source": [
        "mac1.get_os()"
      ],
      "metadata": {
        "colab": {
          "base_uri": "https://localhost:8080/",
          "height": 35
        },
        "id": "k620MpK6Wlsb",
        "outputId": "911aea9b-4c69-4fa7-faa2-046891e35c12"
      },
      "id": "k620MpK6Wlsb",
      "execution_count": null,
      "outputs": [
        {
          "output_type": "execute_result",
          "data": {
            "text/plain": [
              "'MacOS'"
            ],
            "application/vnd.google.colaboratory.intrinsic+json": {
              "type": "string"
            }
          },
          "metadata": {},
          "execution_count": 77
        }
      ]
    },
    {
      "cell_type": "code",
      "source": [
        "mac1._os"
      ],
      "metadata": {
        "colab": {
          "base_uri": "https://localhost:8080/",
          "height": 35
        },
        "id": "mve_KetSXAc0",
        "outputId": "ac54bf08-e857-45be-8960-34bb40835700"
      },
      "id": "mve_KetSXAc0",
      "execution_count": null,
      "outputs": [
        {
          "output_type": "execute_result",
          "data": {
            "text/plain": [
              "'MacOS'"
            ],
            "application/vnd.google.colaboratory.intrinsic+json": {
              "type": "string"
            }
          },
          "metadata": {},
          "execution_count": 78
        }
      ]
    },
    {
      "cell_type": "code",
      "source": [
        "print(mac1.get_os())\n",
        "mac1._os"
      ],
      "metadata": {
        "colab": {
          "base_uri": "https://localhost:8080/",
          "height": 52
        },
        "id": "OCx2OD0EXp7I",
        "outputId": "8be69f91-bbd9-4671-cd00-e20c4e58ff2a"
      },
      "id": "OCx2OD0EXp7I",
      "execution_count": null,
      "outputs": [
        {
          "output_type": "stream",
          "name": "stdout",
          "text": [
            "MacOS\n"
          ]
        },
        {
          "output_type": "execute_result",
          "data": {
            "text/plain": [
              "'MacOS'"
            ],
            "application/vnd.google.colaboratory.intrinsic+json": {
              "type": "string"
            }
          },
          "metadata": {},
          "execution_count": 80
        }
      ]
    },
    {
      "cell_type": "code",
      "execution_count": null,
      "id": "9fbd12fd",
      "metadata": {
        "id": "9fbd12fd"
      },
      "outputs": [],
      "source": [
        "class Student:\n",
        "\n",
        "    _num_of_students = 0 # Protected class attribute\n",
        "\n",
        "    # Define a constructor\n",
        "    def __init__(self, name):\n",
        "        self._name = name # Protected instance attribute\n",
        "        print(\"New student added:\", name)\n",
        "        Student._num_of_students += 1\n",
        "\n",
        "\n",
        "    # Instance method\n",
        "    def add_grade(self, course, num_grade):\n",
        "\n",
        "        print(f\"Grade {grade} added for the course {course}\")\n",
        "\n",
        "    @classmethod\n",
        "    def _class_count(cls):\n",
        "        return cls._num_of_students\n",
        "\n",
        "    @staticmethod\n",
        "    def __grade_mapper(score):\n",
        "        if 85 <= score <= 100:\n",
        "            return 'A'\n",
        "        elif 70 <= score < 85:\n",
        "            return 'B'\n",
        "        elif 55 <= score < 70:\n",
        "            return 'C'\n",
        "        elif 40 <= score < 55:\n",
        "            return 'D'\n",
        "        else:\n",
        "            return 'F'"
      ]
    },
    {
      "cell_type": "code",
      "execution_count": null,
      "id": "746ac390",
      "metadata": {
        "id": "746ac390",
        "outputId": "5302195f-00e6-4f87-983c-04b38dc70de0"
      },
      "outputs": [
        {
          "name": "stdout",
          "output_type": "stream",
          "text": [
            "New student added: John\n"
          ]
        }
      ],
      "source": [
        "student1 = Student(\"John\")"
      ]
    },
    {
      "cell_type": "code",
      "execution_count": null,
      "id": "49e8aae4",
      "metadata": {
        "id": "49e8aae4",
        "outputId": "9a9ce953-d137-4cd9-c951-8f978c3cf540"
      },
      "outputs": [
        {
          "data": {
            "text/plain": [
              "'John'"
            ]
          },
          "execution_count": 35,
          "metadata": {},
          "output_type": "execute_result"
        }
      ],
      "source": [
        "student1._name"
      ]
    },
    {
      "cell_type": "code",
      "execution_count": null,
      "id": "9842a9e3",
      "metadata": {
        "id": "9842a9e3",
        "outputId": "6b442756-2d43-4546-cb6b-104a83312455"
      },
      "outputs": [
        {
          "data": {
            "text/plain": [
              "1"
            ]
          },
          "execution_count": 36,
          "metadata": {},
          "output_type": "execute_result"
        }
      ],
      "source": [
        "student1._num_of_students"
      ]
    },
    {
      "cell_type": "code",
      "execution_count": null,
      "id": "a2b6c4e4",
      "metadata": {
        "id": "a2b6c4e4",
        "outputId": "c3edfc4a-2763-412f-b8cd-e1f309219b1b"
      },
      "outputs": [
        {
          "data": {
            "text/plain": [
              "1"
            ]
          },
          "execution_count": 37,
          "metadata": {},
          "output_type": "execute_result"
        }
      ],
      "source": [
        "student1._class_count()"
      ]
    },
    {
      "cell_type": "code",
      "execution_count": null,
      "id": "b8cfcd03",
      "metadata": {
        "scrolled": false,
        "id": "b8cfcd03",
        "outputId": "3ecea917-e959-41f4-af28-d5a49b725db5"
      },
      "outputs": [
        {
          "ename": "AttributeError",
          "evalue": "'Student' object has no attribute '__grades'",
          "output_type": "error",
          "traceback": [
            "\u001b[0;31m---------------------------------------------------------------------------\u001b[0m",
            "\u001b[0;31mAttributeError\u001b[0m                            Traceback (most recent call last)",
            "Cell \u001b[0;32mIn[38], line 1\u001b[0m\n\u001b[0;32m----> 1\u001b[0m \u001b[43mstudent1\u001b[49m\u001b[38;5;241;43m.\u001b[39;49m\u001b[43m__grades\u001b[49m\n",
            "\u001b[0;31mAttributeError\u001b[0m: 'Student' object has no attribute '__grades'"
          ]
        }
      ],
      "source": [
        "student1.__grades"
      ]
    },
    {
      "cell_type": "code",
      "execution_count": null,
      "id": "02a4df79",
      "metadata": {
        "id": "02a4df79",
        "outputId": "33612174-93e7-4c7b-a958-b3a11aaf46b5"
      },
      "outputs": [
        {
          "ename": "AttributeError",
          "evalue": "'Student' object has no attribute '__grade_mapper'",
          "output_type": "error",
          "traceback": [
            "\u001b[0;31m---------------------------------------------------------------------------\u001b[0m",
            "\u001b[0;31mAttributeError\u001b[0m                            Traceback (most recent call last)",
            "Cell \u001b[0;32mIn[39], line 1\u001b[0m\n\u001b[0;32m----> 1\u001b[0m \u001b[43mstudent1\u001b[49m\u001b[38;5;241;43m.\u001b[39;49m\u001b[43m__grade_mapper\u001b[49m(\u001b[38;5;241m92\u001b[39m)\n",
            "\u001b[0;31mAttributeError\u001b[0m: 'Student' object has no attribute '__grade_mapper'"
          ]
        }
      ],
      "source": [
        "student1.__grade_mapper(92)"
      ]
    },
    {
      "cell_type": "markdown",
      "id": "251dca53",
      "metadata": {
        "id": "251dca53"
      },
      "source": [
        "### Polymorphism"
      ]
    },
    {
      "cell_type": "code",
      "source": [
        "print(\"Hello World!\")"
      ],
      "metadata": {
        "colab": {
          "base_uri": "https://localhost:8080/"
        },
        "id": "MTOyWon9YLXu",
        "outputId": "a14969b9-3fa7-496f-80d5-1f851fa9ef62"
      },
      "id": "MTOyWon9YLXu",
      "execution_count": null,
      "outputs": [
        {
          "output_type": "stream",
          "name": "stdout",
          "text": [
            "Hello World!\n"
          ]
        }
      ]
    },
    {
      "cell_type": "code",
      "source": [
        "print(\"Hello World!\", \"Welcome to Python!\")"
      ],
      "metadata": {
        "colab": {
          "base_uri": "https://localhost:8080/"
        },
        "id": "asIl-o0SYRXY",
        "outputId": "48f3855d-1e16-4ce5-ab90-9cfb91fc21b7"
      },
      "id": "asIl-o0SYRXY",
      "execution_count": null,
      "outputs": [
        {
          "output_type": "stream",
          "name": "stdout",
          "text": [
            "Hello World! Welcome to Python!\n"
          ]
        }
      ]
    },
    {
      "cell_type": "code",
      "source": [
        "print(1, \"hello world\", 1.56)"
      ],
      "metadata": {
        "colab": {
          "base_uri": "https://localhost:8080/"
        },
        "id": "pM_OMRD8axEb",
        "outputId": "413e8ea5-47e8-43be-d95c-8e00c280cca9"
      },
      "id": "pM_OMRD8axEb",
      "execution_count": 1,
      "outputs": [
        {
          "output_type": "stream",
          "name": "stdout",
          "text": [
            "1 hello world 1.56\n"
          ]
        }
      ]
    },
    {
      "cell_type": "code",
      "source": [
        "print(\"Hello World!\", \"Welcome to Python!\", \"I'm learning python\")"
      ],
      "metadata": {
        "colab": {
          "base_uri": "https://localhost:8080/"
        },
        "id": "CTV4mZ_HYWhc",
        "outputId": "6e07f17a-c12f-4e74-92b4-390ca1b7874c"
      },
      "id": "CTV4mZ_HYWhc",
      "execution_count": null,
      "outputs": [
        {
          "output_type": "stream",
          "name": "stdout",
          "text": [
            "Hello World! Welcome to Python! I'm learning python\n"
          ]
        }
      ]
    },
    {
      "cell_type": "code",
      "execution_count": 3,
      "id": "50229ff5",
      "metadata": {
        "id": "50229ff5"
      },
      "outputs": [],
      "source": [
        "class Student:\n",
        "\n",
        "    num_of_students = 0 # Protected class attribute\n",
        "\n",
        "    # Define a constructor\n",
        "    def __init__(self, name):\n",
        "        self.name = name # Protected instance attribute\n",
        "        print(\"New student added:\", name)\n",
        "        Student.num_of_students += 1\n",
        "        self.grades = [] # Private instance attribute\n",
        "\n",
        "    # Instance method\n",
        "    def add_grade(self, course, num_grade):\n",
        "        grade = Student.grade_mapper(num_grade)\n",
        "        self.grades.append((course, grade))\n",
        "        print(f\"Grade {grade} added for the course {course}\")\n",
        "\n",
        "    @classmethod\n",
        "    def class_count(cls):\n",
        "        return cls.num_of_students\n",
        "\n",
        "    @staticmethod\n",
        "    def grade_mapper(score):\n",
        "        if 85 <= score <= 100:\n",
        "            return 'A'\n",
        "        elif 70 <= score < 85:\n",
        "            return 'B'\n",
        "        elif 55 <= score < 70:\n",
        "            return 'C'\n",
        "        elif 40 <= score < 55:\n",
        "            return 'D'\n",
        "        else:\n",
        "            return 'F'\n",
        "\n",
        "    def isPassed(self):\n",
        "        pass"
      ]
    },
    {
      "cell_type": "code",
      "execution_count": null,
      "id": "ba863edb",
      "metadata": {
        "id": "ba863edb"
      },
      "outputs": [],
      "source": [
        "class NewStudent(Student):\n",
        "\n",
        "    def isPassed(self):\n",
        "        for grade in self.grades:\n",
        "            if grade[1] >= 'C':\n",
        "                print(f\"{self.name} from {self.school} has failed the course {grade[0]} with grade {grade[1]}.\")\n",
        "                return False\n",
        "        print(f\"{self.name} from {self.school} has passed all tests.\")\n",
        "        return True"
      ]
    },
    {
      "cell_type": "code",
      "execution_count": null,
      "id": "53719582",
      "metadata": {
        "id": "53719582",
        "outputId": "e9ba2aa1-c508-483d-da98-0c9af848a251"
      },
      "outputs": [
        {
          "name": "stdout",
          "output_type": "stream",
          "text": [
            "New student added: John\n",
            "Grade B added for the course Linear Algebra\n",
            "Grade C added for the course Optimal Control\n",
            "John from UCLA has failed the course Optimal Control with grade C.\n"
          ]
        },
        {
          "data": {
            "text/plain": [
              "False"
            ]
          },
          "execution_count": 42,
          "metadata": {},
          "output_type": "execute_result"
        }
      ],
      "source": [
        "new_student = NewStudent(\"John\")\n",
        "\n",
        "new_graduate1.add_grade(\"Linear Algebra\", 78)\n",
        "new_graduate1.add_grade(\"Optimal Control\", 65)\n",
        "\n",
        "new_graduate1.isPassed()"
      ]
    },
    {
      "cell_type": "markdown",
      "id": "696b415d",
      "metadata": {
        "id": "696b415d"
      },
      "source": [
        "#### Question: Method overloading in Python"
      ]
    },
    {
      "cell_type": "markdown",
      "id": "740bd867",
      "metadata": {
        "id": "740bd867"
      },
      "source": [
        "In Python, method overloading as it is known in languages like Java or C++ (where multiple methods can have the same name but different parameter lists) doesn't exist in the same way. Python does not support method overloading natively. Instead, Python allows you to define a method with the same name only once in a class. If you define the same method multiple times, the last definition will override the previous ones."
      ]
    },
    {
      "cell_type": "markdown",
      "id": "6c9efb0e",
      "metadata": {
        "id": "6c9efb0e"
      },
      "source": [
        "#### Using Default Arguments"
      ]
    },
    {
      "cell_type": "code",
      "execution_count": null,
      "id": "f378a906",
      "metadata": {
        "id": "f378a906",
        "outputId": "5e6545fd-8e89-4205-e683-b0f7a65a79a5"
      },
      "outputs": [
        {
          "name": "stdout",
          "output_type": "stream",
          "text": [
            "Hello, World!\n",
            "Hello, Alice!\n"
          ]
        }
      ],
      "source": [
        "class Example:\n",
        "    def greet(self, name=\"World\"):\n",
        "        print(f\"Hello, {name}!\")\n",
        "\n",
        "obj = Example()\n",
        "obj.greet()           # Output: Hello, World!\n",
        "obj.greet(\"Alice\")    # Output: Hello, Alice!"
      ]
    },
    {
      "cell_type": "markdown",
      "id": "78dc43e4",
      "metadata": {
        "id": "78dc43e4"
      },
      "source": [
        "#### Using Variable-Length Arguments ('*args')"
      ]
    },
    {
      "cell_type": "code",
      "execution_count": null,
      "id": "01aea848",
      "metadata": {
        "id": "01aea848",
        "outputId": "a43c038d-1a57-4e64-cd1b-2a8aa8d5d88a",
        "colab": {
          "base_uri": "https://localhost:8080/"
        }
      },
      "outputs": [
        {
          "output_type": "stream",
          "name": "stdout",
          "text": [
            "2\n",
            "3\n",
            "-----\n",
            "2\n",
            "3\n",
            "4\n",
            "5\n"
          ]
        }
      ],
      "source": [
        "def add(*args):\n",
        "    for i in args:\n",
        "      print(i)\n",
        "\n",
        "\n",
        "add(2, 3)\n",
        "print('-----')         # Output: 5\n",
        "add(2, 3, 4, 5)    # Output: 14"
      ]
    },
    {
      "cell_type": "code",
      "source": [
        "def interesting_print(**kwargs):\n",
        "    for key, value in kwargs.items():\n",
        "        print(f\"{key}: {value}\")\n",
        "\n",
        "interesting_print(name=\"Alice\", age=25,profession='Accountant')"
      ],
      "metadata": {
        "colab": {
          "base_uri": "https://localhost:8080/"
        },
        "id": "3ItQ0R4bZwMu",
        "outputId": "df66e357-f686-45ce-d190-d104113bf9d8"
      },
      "id": "3ItQ0R4bZwMu",
      "execution_count": null,
      "outputs": [
        {
          "output_type": "stream",
          "name": "stdout",
          "text": [
            "name: Alice\n",
            "age: 25\n",
            "profession: Accountant\n"
          ]
        }
      ]
    },
    {
      "cell_type": "markdown",
      "id": "9e0f9520",
      "metadata": {
        "id": "9e0f9520"
      },
      "source": [
        "#### Using Type Checking in Methods"
      ]
    },
    {
      "cell_type": "code",
      "execution_count": null,
      "id": "86760de5",
      "metadata": {
        "id": "86760de5",
        "outputId": "c8652a33-7041-428f-d6ba-34f09ce8e928"
      },
      "outputs": [
        {
          "name": "stdout",
          "output_type": "stream",
          "text": [
            "16\n",
            "9\n",
            "Hello, World!\n"
          ]
        }
      ],
      "source": [
        "class Example:\n",
        "    def operate(self, a, b=None):\n",
        "        if b is None:\n",
        "            return a * a  # Assume a is a number\n",
        "        elif isinstance(a, str) and isinstance(b, str):\n",
        "            return a + b  # Concatenate if both are strings\n",
        "        else:\n",
        "            return a + b  # Assume a and b are numbers and add them\n",
        "\n",
        "obj = Example()\n",
        "print(obj.operate(4))          # Output: 16 (square of 4)\n",
        "print(obj.operate(4, 5))       # Output: 9 (sum of 4 and 5)\n",
        "print(obj.operate(\"Hello, \", \"World!\"))  # Output: Hello, World!"
      ]
    },
    {
      "cell_type": "markdown",
      "id": "e6d7b3d4",
      "metadata": {
        "id": "e6d7b3d4"
      },
      "source": [
        "See the following for more information: https://www.geeksforgeeks.org/method-overriding-in-python/"
      ]
    },
    {
      "cell_type": "markdown",
      "id": "499f7b71",
      "metadata": {
        "id": "499f7b71"
      },
      "source": [
        "### Class Activity"
      ]
    },
    {
      "cell_type": "code",
      "execution_count": null,
      "id": "0fe7e397",
      "metadata": {
        "id": "0fe7e397"
      },
      "outputs": [],
      "source": [
        "# Base Class\n",
        "class Animal:\n",
        "    def __init__(self, name, species, age):\n",
        "        # Initialize the name, species, and age as private attributes\n",
        "        self.__name = name\n",
        "        self.__species = species\n",
        "        self.__age = age\n",
        "\n",
        "    def get_info(self):\n",
        "        # Return a string with the animal's name, species, and age\n",
        "        return f\"Animal name is {self.__name}, species is {self.__species}, age is {self.__age}\"\n",
        "\n",
        "    def make_sound(self):\n",
        "        return \"Some generic animal sound\"\n",
        "\n",
        "# Derived Class: Mammal\n",
        "class Mammal(Animal):\n",
        "    def __init__(self, name, species, age, fur_color):\n",
        "        # Initialize the mammal with its specific private attributes\n",
        "        super().__init__(name, species, age)\n",
        "        self.__fur_color = fur_color\n",
        "\n",
        "    def make_sound(self):\n",
        "        return \"Generic Mammal Sound\"\n",
        "\n",
        "# Derived Class: Bird\n",
        "class Bird(Animal):\n",
        "    def __init__(self, name, species, age, wing_span):\n",
        "        # Initialize the bird with its private specific attributes\n",
        "        super().__init__(name, species, age)\n",
        "        self.__wing_span = wing_span\n",
        "\n",
        "    def make_sound(self):\n",
        "        return \"Tweet Tweet\"\n",
        "\n",
        "# Specific Animal: Lion\n",
        "class Lion(Mammal):\n",
        "    def __init__(self, name, age, fur_color):\n",
        "        # Initialize the lion with its private specific attributes\n",
        "        super().__init__(name, \"Lion\", age, fur_color)\n",
        "\n",
        "    def make_sound(self):\n",
        "        return \"Roar\"\n",
        "\n",
        "# Specific Animal: Parrot\n",
        "class Parrot(Bird):\n",
        "    def __init__(self, name, age, wing_span):\n",
        "        # Initialize the parrot with its specific attributes\n",
        "        super().__init__(name, \"Parrot\", age, wing_span)\n",
        "\n",
        "    def make_sound(self):\n",
        "        return \"Squawk\""
      ]
    },
    {
      "cell_type": "code",
      "execution_count": null,
      "id": "67125264",
      "metadata": {
        "scrolled": false,
        "id": "67125264",
        "outputId": "06cf840d-c556-4b57-debb-798db29f6b55"
      },
      "outputs": [
        {
          "name": "stdout",
          "output_type": "stream",
          "text": [
            "Animal name is Leo, species is Lion, age is 5\n",
            "Animal name is Polly, species is Parrot, age is 2\n",
            "Roar\n",
            "Squawk\n"
          ]
        }
      ],
      "source": [
        "lion = Lion(name=\"Leo\", age=5, fur_color=\"Golden\")\n",
        "parrot = Parrot(name=\"Polly\", age=2, wing_span=0.25)\n",
        "\n",
        "print(lion.get_info())\n",
        "print(parrot.get_info())\n",
        "\n",
        "animals = [lion, parrot]\n",
        "\n",
        "for animal in animals:\n",
        "    print(animal.make_sound())"
      ]
    },
    {
      "cell_type": "markdown",
      "id": "0f4e5774",
      "metadata": {
        "id": "0f4e5774"
      },
      "source": [
        "## Custom Sort Functions"
      ]
    },
    {
      "cell_type": "markdown",
      "id": "9a0a09e9",
      "metadata": {
        "id": "9a0a09e9"
      },
      "source": [
        "### sorted()"
      ]
    },
    {
      "cell_type": "code",
      "execution_count": null,
      "id": "bdde5e84",
      "metadata": {
        "scrolled": true,
        "id": "bdde5e84",
        "outputId": "d769eace-717b-46ba-b28b-5f26822a18eb",
        "colab": {
          "base_uri": "https://localhost:8080/"
        }
      },
      "outputs": [
        {
          "output_type": "stream",
          "name": "stdout",
          "text": [
            "Original list: [4, 2, 9, 1, 5]\n"
          ]
        }
      ],
      "source": [
        "numbers = [4, 2, 9, 1, 5]\n",
        "\n",
        "sorted(numbers)\n",
        "\n",
        "print(\"Original list:\", numbers)"
      ]
    },
    {
      "cell_type": "code",
      "execution_count": null,
      "id": "d61daf21",
      "metadata": {
        "id": "d61daf21",
        "outputId": "e8d46f80-6e06-4599-ba2a-600ba8e0b000",
        "colab": {
          "base_uri": "https://localhost:8080/"
        }
      },
      "outputs": [
        {
          "output_type": "stream",
          "name": "stdout",
          "text": [
            "Original list: [4, 2, 9, 1, 5]\n",
            "Sorted list [1, 2, 4, 5, 9]\n"
          ]
        }
      ],
      "source": [
        "sorted_numbers = sorted(numbers) # Returns a new list that is sorted\n",
        "\n",
        "print(\"Original list:\", numbers)\n",
        "print(\"Sorted list\", sorted_numbers)"
      ]
    },
    {
      "cell_type": "markdown",
      "id": "487e9403",
      "metadata": {
        "id": "487e9403"
      },
      "source": [
        "### sort()"
      ]
    },
    {
      "cell_type": "code",
      "execution_count": null,
      "id": "0cdd73a6",
      "metadata": {
        "id": "0cdd73a6",
        "outputId": "ba118f4f-4d4e-449d-d641-489eb9a4d81d",
        "colab": {
          "base_uri": "https://localhost:8080/"
        }
      },
      "outputs": [
        {
          "output_type": "stream",
          "name": "stdout",
          "text": [
            "List before sort: [4, 2, 9, 1, 5]\n",
            "List after sort: [1, 2, 4, 5, 9]\n"
          ]
        }
      ],
      "source": [
        "numbers = [4, 2, 9, 1, 5]\n",
        "\n",
        "print(\"List before sort:\", numbers)\n",
        "\n",
        "numbers.sort() # In place\n",
        "\n",
        "print(\"List after sort:\", numbers)"
      ]
    },
    {
      "cell_type": "code",
      "execution_count": null,
      "id": "9212c8f3",
      "metadata": {
        "id": "9212c8f3",
        "outputId": "899864a6-35df-4c1d-8781-e2abae414ee1"
      },
      "outputs": [
        {
          "name": "stdout",
          "output_type": "stream",
          "text": [
            "None\n"
          ]
        }
      ],
      "source": [
        "print(numbers.sort())"
      ]
    },
    {
      "cell_type": "markdown",
      "id": "3688eb1c",
      "metadata": {
        "id": "3688eb1c"
      },
      "source": [
        "### key / reverse"
      ]
    },
    {
      "cell_type": "code",
      "execution_count": null,
      "id": "9a93292b",
      "metadata": {
        "id": "9a93292b"
      },
      "outputs": [],
      "source": [
        "words = [\"apple\", \"banana\", \"cherry\", \"date\", \"fig\", \"bananas\"]"
      ]
    },
    {
      "cell_type": "code",
      "source": [
        "sorted(words, reverse=True)"
      ],
      "metadata": {
        "colab": {
          "base_uri": "https://localhost:8080/"
        },
        "id": "k8afyCvqcFW6",
        "outputId": "ee507422-9c29-4a1a-db62-b1888cf4482c"
      },
      "id": "k8afyCvqcFW6",
      "execution_count": null,
      "outputs": [
        {
          "output_type": "execute_result",
          "data": {
            "text/plain": [
              "['fig', 'date', 'cherry', 'bananas', 'banana', 'apple']"
            ]
          },
          "metadata": {},
          "execution_count": 97
        }
      ]
    },
    {
      "cell_type": "code",
      "execution_count": null,
      "id": "e5faa00f",
      "metadata": {
        "id": "e5faa00f",
        "outputId": "e9a5d841-a929-47e6-da87-3802b8546dcb",
        "colab": {
          "base_uri": "https://localhost:8080/"
        }
      },
      "outputs": [
        {
          "output_type": "stream",
          "name": "stdout",
          "text": [
            "['fig', 'date', 'apple', 'banana', 'cherry', 'bananas']\n"
          ]
        }
      ],
      "source": [
        "# sort based on length\n",
        "sorted_words = sorted(words, key=lambda x: len(x))\n",
        "# sorted_words = sorted(words, key=len)\n",
        "print(sorted_words)"
      ]
    },
    {
      "cell_type": "code",
      "execution_count": null,
      "id": "18b32560",
      "metadata": {
        "id": "18b32560",
        "outputId": "ce08df37-0a78-4cef-a9df-dab6e297e867"
      },
      "outputs": [
        {
          "name": "stdout",
          "output_type": "stream",
          "text": [
            "['bananas', 'banana', 'cherry', 'apple', 'date', 'fig']\n"
          ]
        }
      ],
      "source": [
        "# sort based on length in reverse order\n",
        "sorted_words = sorted(words, key=len, reverse=True)\n",
        "print(sorted_words)"
      ]
    },
    {
      "cell_type": "code",
      "execution_count": null,
      "id": "f2b080f7",
      "metadata": {
        "id": "f2b080f7",
        "outputId": "646c2f92-bdf8-48cb-925c-b57a933154ef"
      },
      "outputs": [
        {
          "name": "stdout",
          "output_type": "stream",
          "text": [
            "['banana', 'bananas', 'date', 'cherry', 'fig', 'apple']\n"
          ]
        }
      ],
      "source": [
        "# sort based on the second letter\n",
        "sorted_words2 = sorted(words, key=lambda x: (x[1], x[0]))\n",
        "print(sorted_words2)"
      ]
    },
    {
      "cell_type": "markdown",
      "id": "cd8b5131",
      "metadata": {
        "id": "cd8b5131"
      },
      "source": [
        "#### Exercise"
      ]
    },
    {
      "cell_type": "markdown",
      "id": "3ec623d1",
      "metadata": {
        "id": "3ec623d1"
      },
      "source": [
        "What are the outputs to the following sorts:"
      ]
    },
    {
      "cell_type": "code",
      "execution_count": null,
      "id": "763f70ee",
      "metadata": {
        "id": "763f70ee",
        "outputId": "bedba5dd-e0fb-4cf0-8ff1-f2642009b40d"
      },
      "outputs": [
        {
          "name": "stdout",
          "output_type": "stream",
          "text": [
            "abcd cadb cbda\n"
          ]
        }
      ],
      "source": [
        "points = [['a', 1, 2], ['c', 0, 4], ['b', 6, 3], ['d', 1, 3]]\n",
        "\n",
        "sorted_points1 = sorted(points)\n",
        "sorted_points2 = sorted(points, key=lambda x: (x[1]))\n",
        "sorted_points3 = sorted(points, key=lambda x: (x[2], x[1]), reverse=True)\n",
        "\n",
        "print(''.join([x[0] for x in sorted_points1]), end=' ')\n",
        "print(''.join([x[0] for x in sorted_points2]), end=' ')\n",
        "print(''.join([x[0] for x in sorted_points3]))\n",
        "\n",
        "# abcd cadb cbda (Correct ans)\n",
        "# abcd badc cdab\n",
        "# abcd cadb adbc\n",
        "# acbd cadb cbda"
      ]
    },
    {
      "cell_type": "markdown",
      "id": "f7cc4dee",
      "metadata": {
        "id": "f7cc4dee"
      },
      "source": [
        "#### Exercise"
      ]
    },
    {
      "cell_type": "markdown",
      "id": "51cf8b9f",
      "metadata": {
        "id": "51cf8b9f"
      },
      "source": [
        "Consider the following class:"
      ]
    },
    {
      "cell_type": "code",
      "execution_count": null,
      "id": "da40b864",
      "metadata": {
        "id": "da40b864"
      },
      "outputs": [],
      "source": [
        "class Employee:\n",
        "\n",
        "    def __init__(self, name, dept, age):\n",
        "        self.name = name\n",
        "        self.dept = dept\n",
        "        self.age = age\n",
        "\n",
        "    def __repr__(self):\n",
        "        return f\"({self.name}, {self.age})\""
      ]
    },
    {
      "cell_type": "markdown",
      "id": "f97bf38b",
      "metadata": {
        "id": "f97bf38b"
      },
      "source": [
        "Create the following list of employees and sort the list based on employees names:\n",
        "- Name: John, Department: IT, Age: 28\n",
        "- Name: Sam, Department: Banking, Age: 20\n",
        "- Name: John, Department: Finance, Age: 25\n",
        "\n",
        "In case of a tie, order based on age."
      ]
    },
    {
      "cell_type": "code",
      "execution_count": null,
      "id": "d73b247f",
      "metadata": {
        "id": "d73b247f",
        "outputId": "545f2a23-2241-4961-f7dd-777c03bb5537"
      },
      "outputs": [
        {
          "name": "stdout",
          "output_type": "stream",
          "text": [
            "[(John, 25), (John, 28), (Sam, 20)]\n"
          ]
        }
      ],
      "source": [
        "# Write your code here\n",
        "\n",
        "# create objects\n",
        "employee1 = Employee(\"John\", \"IT\", 28)\n",
        "employee2 = Employee(\"Sam\", \"Banking\", 20)\n",
        "employee3 = Employee(\"John\", \"Finance\", 25)\n",
        "\n",
        "# create list of employees\n",
        "employees = [employee1, employee2, employee3]\n",
        "\n",
        "# sorted the list\n",
        "sorted_list = sorted(employees, key=lambda x: (x.name, x.age))\n",
        "\n",
        "print(sorted_list)"
      ]
    },
    {
      "cell_type": "markdown",
      "id": "688476b1",
      "metadata": {
        "id": "688476b1"
      },
      "source": [
        "## Exception Handling"
      ]
    },
    {
      "cell_type": "markdown",
      "id": "0264ace5",
      "metadata": {
        "id": "0264ace5"
      },
      "source": [
        "### Common Errors"
      ]
    },
    {
      "cell_type": "code",
      "execution_count": null,
      "id": "513db0dd",
      "metadata": {
        "id": "513db0dd",
        "outputId": "fdebbbd6-7eb1-45e0-8b46-de803689f25f"
      },
      "outputs": [
        {
          "ename": "SyntaxError",
          "evalue": "incomplete input (501430583.py, line 2)",
          "output_type": "error",
          "traceback": [
            "\u001b[0;36m  Cell \u001b[0;32mIn[59], line 2\u001b[0;36m\u001b[0m\n\u001b[0;31m    print(\"Hello World\"\u001b[0m\n\u001b[0m                       ^\u001b[0m\n\u001b[0;31mSyntaxError\u001b[0m\u001b[0;31m:\u001b[0m incomplete input\n"
          ]
        }
      ],
      "source": [
        "# SyntaxError - Missing closing parenthesis\n",
        "print(\"Hello World\""
      ]
    },
    {
      "cell_type": "code",
      "execution_count": null,
      "id": "4edca494",
      "metadata": {
        "id": "4edca494",
        "outputId": "cb2c6dc2-dbe7-42ca-bbae-5a67d5447c80"
      },
      "outputs": [
        {
          "ename": "TypeError",
          "evalue": "can only concatenate str (not \"int\") to str",
          "output_type": "error",
          "traceback": [
            "\u001b[0;31m---------------------------------------------------------------------------\u001b[0m",
            "\u001b[0;31mTypeError\u001b[0m                                 Traceback (most recent call last)",
            "Cell \u001b[0;32mIn[60], line 2\u001b[0m\n\u001b[1;32m      1\u001b[0m \u001b[38;5;66;03m# TypeError - Trying to add a string and an integer\u001b[39;00m\n\u001b[0;32m----> 2\u001b[0m result \u001b[38;5;241m=\u001b[39m \u001b[38;5;124;43m\"\u001b[39;49m\u001b[38;5;124;43m5\u001b[39;49m\u001b[38;5;124;43m\"\u001b[39;49m\u001b[43m \u001b[49m\u001b[38;5;241;43m+\u001b[39;49m\u001b[43m \u001b[49m\u001b[38;5;241;43m3\u001b[39;49m\n",
            "\u001b[0;31mTypeError\u001b[0m: can only concatenate str (not \"int\") to str"
          ]
        }
      ],
      "source": [
        "# TypeError - Trying to add a string and an integer\n",
        "result = \"5\" + 3"
      ]
    },
    {
      "cell_type": "code",
      "execution_count": null,
      "id": "0c9ef96d",
      "metadata": {
        "id": "0c9ef96d",
        "outputId": "eeded638-fb1f-4c4c-c8ee-2aef6725e367"
      },
      "outputs": [
        {
          "ename": "ValueError",
          "evalue": "invalid literal for int() with base 10: 'abc'",
          "output_type": "error",
          "traceback": [
            "\u001b[0;31m---------------------------------------------------------------------------\u001b[0m",
            "\u001b[0;31mValueError\u001b[0m                                Traceback (most recent call last)",
            "Cell \u001b[0;32mIn[61], line 3\u001b[0m\n\u001b[1;32m      1\u001b[0m \u001b[38;5;66;03m# ValueError - Converting a non-numeric string to an integer\u001b[39;00m\n\u001b[1;32m      2\u001b[0m number_str \u001b[38;5;241m=\u001b[39m \u001b[38;5;124m\"\u001b[39m\u001b[38;5;124mabc\u001b[39m\u001b[38;5;124m\"\u001b[39m\n\u001b[0;32m----> 3\u001b[0m result \u001b[38;5;241m=\u001b[39m \u001b[38;5;28;43mint\u001b[39;49m\u001b[43m(\u001b[49m\u001b[43mnumber_str\u001b[49m\u001b[43m)\u001b[49m\n",
            "\u001b[0;31mValueError\u001b[0m: invalid literal for int() with base 10: 'abc'"
          ]
        }
      ],
      "source": [
        "# ValueError - Converting a non-numeric string to an integer\n",
        "number_str = \"abc\"\n",
        "result = int(number_str)"
      ]
    },
    {
      "cell_type": "code",
      "execution_count": null,
      "id": "b756d772",
      "metadata": {
        "id": "b756d772",
        "outputId": "d91ca2e1-e408-46e0-98cc-cf239718cc3f"
      },
      "outputs": [
        {
          "ename": "FileNotFoundError",
          "evalue": "[Errno 2] No such file or directory: 'non_existent_file.txt'",
          "output_type": "error",
          "traceback": [
            "\u001b[0;31m---------------------------------------------------------------------------\u001b[0m",
            "\u001b[0;31mFileNotFoundError\u001b[0m                         Traceback (most recent call last)",
            "Cell \u001b[0;32mIn[62], line 3\u001b[0m\n\u001b[1;32m      1\u001b[0m \u001b[38;5;66;03m# FileNotFoundError - Trying to open a non-existent file\u001b[39;00m\n\u001b[1;32m      2\u001b[0m file_path \u001b[38;5;241m=\u001b[39m \u001b[38;5;124m\"\u001b[39m\u001b[38;5;124mnon_existent_file.txt\u001b[39m\u001b[38;5;124m\"\u001b[39m\n\u001b[0;32m----> 3\u001b[0m \u001b[38;5;28;01mwith\u001b[39;00m \u001b[38;5;28;43mopen\u001b[39;49m\u001b[43m(\u001b[49m\u001b[43mfile_path\u001b[49m\u001b[43m,\u001b[49m\u001b[43m \u001b[49m\u001b[38;5;124;43m\"\u001b[39;49m\u001b[38;5;124;43mr\u001b[39;49m\u001b[38;5;124;43m\"\u001b[39;49m\u001b[43m)\u001b[49m \u001b[38;5;28;01mas\u001b[39;00m file:\n\u001b[1;32m      4\u001b[0m     content \u001b[38;5;241m=\u001b[39m file\u001b[38;5;241m.\u001b[39mread()\n",
            "File \u001b[0;32m~/anaconda3/lib/python3.10/site-packages/IPython/core/interactiveshell.py:282\u001b[0m, in \u001b[0;36m_modified_open\u001b[0;34m(file, *args, **kwargs)\u001b[0m\n\u001b[1;32m    275\u001b[0m \u001b[38;5;28;01mif\u001b[39;00m file \u001b[38;5;129;01min\u001b[39;00m {\u001b[38;5;241m0\u001b[39m, \u001b[38;5;241m1\u001b[39m, \u001b[38;5;241m2\u001b[39m}:\n\u001b[1;32m    276\u001b[0m     \u001b[38;5;28;01mraise\u001b[39;00m \u001b[38;5;167;01mValueError\u001b[39;00m(\n\u001b[1;32m    277\u001b[0m         \u001b[38;5;124mf\u001b[39m\u001b[38;5;124m\"\u001b[39m\u001b[38;5;124mIPython won\u001b[39m\u001b[38;5;124m'\u001b[39m\u001b[38;5;124mt let you open fd=\u001b[39m\u001b[38;5;132;01m{\u001b[39;00mfile\u001b[38;5;132;01m}\u001b[39;00m\u001b[38;5;124m by default \u001b[39m\u001b[38;5;124m\"\u001b[39m\n\u001b[1;32m    278\u001b[0m         \u001b[38;5;124m\"\u001b[39m\u001b[38;5;124mas it is likely to crash IPython. If you know what you are doing, \u001b[39m\u001b[38;5;124m\"\u001b[39m\n\u001b[1;32m    279\u001b[0m         \u001b[38;5;124m\"\u001b[39m\u001b[38;5;124myou can use builtins\u001b[39m\u001b[38;5;124m'\u001b[39m\u001b[38;5;124m open.\u001b[39m\u001b[38;5;124m\"\u001b[39m\n\u001b[1;32m    280\u001b[0m     )\n\u001b[0;32m--> 282\u001b[0m \u001b[38;5;28;01mreturn\u001b[39;00m \u001b[43mio_open\u001b[49m\u001b[43m(\u001b[49m\u001b[43mfile\u001b[49m\u001b[43m,\u001b[49m\u001b[43m \u001b[49m\u001b[38;5;241;43m*\u001b[39;49m\u001b[43margs\u001b[49m\u001b[43m,\u001b[49m\u001b[43m \u001b[49m\u001b[38;5;241;43m*\u001b[39;49m\u001b[38;5;241;43m*\u001b[39;49m\u001b[43mkwargs\u001b[49m\u001b[43m)\u001b[49m\n",
            "\u001b[0;31mFileNotFoundError\u001b[0m: [Errno 2] No such file or directory: 'non_existent_file.txt'"
          ]
        }
      ],
      "source": [
        "# FileNotFoundError - Trying to open a non-existent file\n",
        "file_path = \"non_existent_file.txt\"\n",
        "with open(file_path, \"r\") as file:\n",
        "    content = file.read()"
      ]
    },
    {
      "cell_type": "markdown",
      "id": "935eac4e",
      "metadata": {
        "id": "935eac4e"
      },
      "source": [
        "### try / except"
      ]
    },
    {
      "cell_type": "code",
      "source": [
        "a = int(input(\"Enter 1 number\"))\n",
        "b = int(input(\"Enter 2 number\"))\n",
        "while b == 0:\n",
        "    b = int(input(\"Enter 2 number\"))\n",
        "\n",
        "print(a / b)"
      ],
      "metadata": {
        "colab": {
          "base_uri": "https://localhost:8080/"
        },
        "id": "ehYU7bw7gTZc",
        "outputId": "7b7f6bad-c4f6-4673-aa89-854b5acc37cb"
      },
      "id": "ehYU7bw7gTZc",
      "execution_count": null,
      "outputs": [
        {
          "output_type": "stream",
          "name": "stdout",
          "text": [
            "Enter 1 number5\n",
            "Enter 2 number0\n",
            "Enter 2 number0\n",
            "Enter 2 number2\n",
            "2.5\n"
          ]
        }
      ]
    },
    {
      "cell_type": "code",
      "source": [
        "a = 5\n",
        "b = 0\n",
        "\n",
        "print(a / b)"
      ],
      "metadata": {
        "colab": {
          "base_uri": "https://localhost:8080/",
          "height": 207
        },
        "id": "v7zNvDhngMuL",
        "outputId": "afca7bf3-0cc0-4a19-b04d-6da7e275ca27"
      },
      "id": "v7zNvDhngMuL",
      "execution_count": null,
      "outputs": [
        {
          "output_type": "error",
          "ename": "ZeroDivisionError",
          "evalue": "division by zero",
          "traceback": [
            "\u001b[0;31m---------------------------------------------------------------------------\u001b[0m",
            "\u001b[0;31mZeroDivisionError\u001b[0m                         Traceback (most recent call last)",
            "\u001b[0;32m<ipython-input-98-8ccc7045d6b5>\u001b[0m in \u001b[0;36m<cell line: 4>\u001b[0;34m()\u001b[0m\n\u001b[1;32m      2\u001b[0m \u001b[0mb\u001b[0m \u001b[0;34m=\u001b[0m \u001b[0;36m0\u001b[0m\u001b[0;34m\u001b[0m\u001b[0;34m\u001b[0m\u001b[0m\n\u001b[1;32m      3\u001b[0m \u001b[0;34m\u001b[0m\u001b[0m\n\u001b[0;32m----> 4\u001b[0;31m \u001b[0mprint\u001b[0m\u001b[0;34m(\u001b[0m\u001b[0ma\u001b[0m \u001b[0;34m/\u001b[0m \u001b[0mb\u001b[0m\u001b[0;34m)\u001b[0m\u001b[0;34m\u001b[0m\u001b[0;34m\u001b[0m\u001b[0m\n\u001b[0m",
            "\u001b[0;31mZeroDivisionError\u001b[0m: division by zero"
          ]
        }
      ]
    },
    {
      "cell_type": "code",
      "execution_count": null,
      "id": "576eedd4",
      "metadata": {
        "id": "576eedd4",
        "outputId": "7a12901a-c164-4da0-83a8-714316b516ad",
        "colab": {
          "base_uri": "https://localhost:8080/"
        }
      },
      "outputs": [
        {
          "output_type": "stream",
          "name": "stdout",
          "text": [
            "Cannot divide by zero!\n",
            "Completed!\n"
          ]
        }
      ],
      "source": [
        "a = 5\n",
        "b = 0\n",
        "\n",
        "# print(a / b)\n",
        "\n",
        "try:\n",
        "    print(a / b)\n",
        "\n",
        "except:\n",
        "    print(\"Cannot divide by zero!\")\n",
        "\n",
        "print(\"Completed!\")"
      ]
    },
    {
      "cell_type": "code",
      "execution_count": null,
      "id": "01f34937",
      "metadata": {
        "id": "01f34937",
        "outputId": "2067840b-dee5-4502-be46-7679144ecbab",
        "colab": {
          "base_uri": "https://localhost:8080/"
        }
      },
      "outputs": [
        {
          "output_type": "stream",
          "name": "stdout",
          "text": [
            "Oops! something went wrong\n",
            "<class 'TypeError'>\n",
            "unsupported operand type(s) for +=: 'int' and 'str'\n"
          ]
        }
      ],
      "source": [
        "x = 2\n",
        "\n",
        "try:\n",
        "#     y += 3\n",
        "\n",
        "    x += \"abc\"\n",
        "\n",
        "    x += 2\n",
        "    print(x)\n",
        "\n",
        "except Exception as e:\n",
        "\n",
        "    print(\"Oops! something went wrong\")\n",
        "    print(type(e))\n",
        "    print(e)\n",
        "\n",
        "\n"
      ]
    },
    {
      "cell_type": "markdown",
      "id": "06accc56",
      "metadata": {
        "id": "06accc56"
      },
      "source": [
        "### Raise an error"
      ]
    },
    {
      "cell_type": "code",
      "execution_count": null,
      "id": "3dbe46c3",
      "metadata": {
        "id": "3dbe46c3"
      },
      "outputs": [],
      "source": [
        "# Using raise\n",
        "def divide(a, b):\n",
        "    if b == 0:\n",
        "        raise Exception(\"Cannot divide by zero\")\n",
        "    return a / b"
      ]
    },
    {
      "cell_type": "code",
      "execution_count": null,
      "id": "86d65a81",
      "metadata": {
        "id": "86d65a81",
        "outputId": "049fdbee-4e8a-410d-b931-7cb2696ecb14"
      },
      "outputs": [
        {
          "data": {
            "text/plain": [
              "5.0"
            ]
          },
          "execution_count": 70,
          "metadata": {},
          "output_type": "execute_result"
        }
      ],
      "source": [
        "divide(10, 2)"
      ]
    },
    {
      "cell_type": "code",
      "execution_count": null,
      "id": "8185d6ea",
      "metadata": {
        "scrolled": true,
        "id": "8185d6ea",
        "outputId": "86a54524-a643-4d85-c815-4922c384f89e"
      },
      "outputs": [
        {
          "ename": "Exception",
          "evalue": "Cannot divide by zero",
          "output_type": "error",
          "traceback": [
            "\u001b[0;31m---------------------------------------------------------------------------\u001b[0m",
            "\u001b[0;31mException\u001b[0m                                 Traceback (most recent call last)",
            "Cell \u001b[0;32mIn[71], line 1\u001b[0m\n\u001b[0;32m----> 1\u001b[0m \u001b[43mdivide\u001b[49m\u001b[43m(\u001b[49m\u001b[38;5;241;43m10\u001b[39;49m\u001b[43m,\u001b[49m\u001b[43m \u001b[49m\u001b[38;5;241;43m0\u001b[39;49m\u001b[43m)\u001b[49m\n",
            "Cell \u001b[0;32mIn[69], line 4\u001b[0m, in \u001b[0;36mdivide\u001b[0;34m(a, b)\u001b[0m\n\u001b[1;32m      2\u001b[0m \u001b[38;5;28;01mdef\u001b[39;00m \u001b[38;5;21mdivide\u001b[39m(a, b):\n\u001b[1;32m      3\u001b[0m     \u001b[38;5;28;01mif\u001b[39;00m b \u001b[38;5;241m==\u001b[39m \u001b[38;5;241m0\u001b[39m:\n\u001b[0;32m----> 4\u001b[0m         \u001b[38;5;28;01mraise\u001b[39;00m \u001b[38;5;167;01mException\u001b[39;00m(\u001b[38;5;124m\"\u001b[39m\u001b[38;5;124mCannot divide by zero\u001b[39m\u001b[38;5;124m\"\u001b[39m)\n\u001b[1;32m      5\u001b[0m     \u001b[38;5;28;01mreturn\u001b[39;00m a \u001b[38;5;241m/\u001b[39m b\n",
            "\u001b[0;31mException\u001b[0m: Cannot divide by zero"
          ]
        }
      ],
      "source": [
        "divide(10, 0)"
      ]
    },
    {
      "cell_type": "markdown",
      "id": "d766eed0",
      "metadata": {
        "id": "d766eed0"
      },
      "source": [
        "### Multiple Excepts and One Else"
      ]
    },
    {
      "cell_type": "code",
      "execution_count": null,
      "id": "c0f79bc1",
      "metadata": {
        "id": "c0f79bc1",
        "outputId": "0641b000-8af1-49d7-c4c2-b082df40fec9"
      },
      "outputs": [
        {
          "name": "stdout",
          "output_type": "stream",
          "text": [
            "Denominator cannot be 0.\n"
          ]
        }
      ],
      "source": [
        "# Catching Specific Exceptions in Python\n",
        "try:\n",
        "    # Case 1\n",
        "#     even_numbers = [2, 4, 6, 8]\n",
        "#     print(even_numbers[5])\n",
        "\n",
        "    # Case 2\n",
        "    x = 5 / 0\n",
        "\n",
        "except IndexError:\n",
        "    print(\"Index Out of Bound.\")\n",
        "\n",
        "except ZeroDivisionError:\n",
        "    print(\"Denominator cannot be 0.\")"
      ]
    },
    {
      "cell_type": "markdown",
      "id": "898efba8",
      "metadata": {
        "id": "898efba8"
      },
      "source": [
        "An else block can be used after all the except blocks. The code within the else block will be executed only if no exceptions were raised in the try block. You can only have one else block."
      ]
    },
    {
      "cell_type": "code",
      "execution_count": null,
      "id": "58192f44",
      "metadata": {
        "id": "58192f44",
        "outputId": "71df488b-f0af-4fa0-8928-95554e68946a"
      },
      "outputs": [
        {
          "name": "stdout",
          "output_type": "stream",
          "text": [
            "No exceptions occurred, the result is: 2.0\n"
          ]
        }
      ],
      "source": [
        "try:\n",
        "    # Code that may raise an exception\n",
        "#     result = 10 / 0\n",
        "#     result = int('a')\n",
        "#     result = 2 + 'b'\n",
        "    result = 10 / 5\n",
        "\n",
        "except ZeroDivisionError:\n",
        "    print(\"You can't divide by zero!\")\n",
        "\n",
        "except ValueError:\n",
        "    print(\"A ValueError occurred!\")\n",
        "\n",
        "except Exception as e:\n",
        "    print(f\"An unexpected error occurred: {e}\")\n",
        "\n",
        "else:\n",
        "    print(\"No exceptions occurred, the result is:\", result)"
      ]
    },
    {
      "cell_type": "markdown",
      "id": "a0bfe0ac",
      "metadata": {
        "id": "a0bfe0ac"
      },
      "source": [
        "### try / except / else / finally"
      ]
    },
    {
      "cell_type": "code",
      "execution_count": null,
      "id": "8ae684bf",
      "metadata": {
        "id": "8ae684bf",
        "outputId": "0439ca53-fafc-4395-d2f8-661dea9598c1"
      },
      "outputs": [
        {
          "name": "stdout",
          "output_type": "stream",
          "text": [
            "Enter an even number: 5\n",
            "\n",
            "Not an even number!\n",
            "\n",
            "Run Completed!\n"
          ]
        }
      ],
      "source": [
        "# Use else after except\n",
        "\n",
        "try:\n",
        "    num = int(input(\"Enter an even number: \"))\n",
        "    assert num % 2 == 0\n",
        "\n",
        "except:\n",
        "    print(\"\\nNot an even number!\")\n",
        "\n",
        "else: # Only happens when there's no error -> It is not used 99.9% of the time\n",
        "    reciprocal = 1/num\n",
        "    print()\n",
        "    print(reciprocal)\n",
        "\n",
        "finally:\n",
        "    print(\"\\nRun Completed!\")"
      ]
    },
    {
      "cell_type": "markdown",
      "id": "b42a1ebf",
      "metadata": {
        "id": "b42a1ebf"
      },
      "source": [
        "### Custom Exception"
      ]
    },
    {
      "cell_type": "code",
      "execution_count": null,
      "id": "23fb1ede",
      "metadata": {
        "scrolled": true,
        "id": "23fb1ede"
      },
      "outputs": [],
      "source": [
        "# Create Custom Exception\n",
        "class CustomError(Exception):\n",
        "\n",
        "    def __init__(self, message):\n",
        "        self.message = message"
      ]
    },
    {
      "cell_type": "code",
      "execution_count": null,
      "id": "52eb860d",
      "metadata": {
        "id": "52eb860d",
        "outputId": "9674a9da-c3cf-4a25-e69d-4f8350baffb5"
      },
      "outputs": [
        {
          "name": "stdout",
          "output_type": "stream",
          "text": [
            "<class '__main__.CustomError'>\n",
            "This is a custom error!\n"
          ]
        }
      ],
      "source": [
        "try:\n",
        "    raise CustomError(\"This is a custom error!\")\n",
        "\n",
        "except Exception as e:\n",
        "    print(type(e))\n",
        "    print(e.message)"
      ]
    },
    {
      "cell_type": "markdown",
      "id": "74222603",
      "metadata": {
        "id": "74222603"
      },
      "source": [
        "## File Handling"
      ]
    },
    {
      "cell_type": "markdown",
      "id": "f6736eee",
      "metadata": {
        "id": "f6736eee"
      },
      "source": [
        "### Read file - 1"
      ]
    },
    {
      "cell_type": "code",
      "source": [
        "! wget https://gist.githubusercontent.com/cjhveal/3753018/raw/287f964268afbd6dad7b8e6bd7860e4538c1a80a/gistfile1.txt"
      ],
      "metadata": {
        "colab": {
          "base_uri": "https://localhost:8080/"
        },
        "id": "ZFqXIZkKj0SW",
        "outputId": "6b5c705d-f9b7-491c-dc82-97e61abac5cd"
      },
      "id": "ZFqXIZkKj0SW",
      "execution_count": null,
      "outputs": [
        {
          "output_type": "stream",
          "name": "stdout",
          "text": [
            "--2024-10-20 20:12:37--  https://gist.githubusercontent.com/cjhveal/3753018/raw/287f964268afbd6dad7b8e6bd7860e4538c1a80a/gistfile1.txt\n",
            "Resolving gist.githubusercontent.com (gist.githubusercontent.com)... 185.199.111.133, 185.199.110.133, 185.199.108.133, ...\n",
            "Connecting to gist.githubusercontent.com (gist.githubusercontent.com)|185.199.111.133|:443... connected.\n",
            "HTTP request sent, awaiting response... 200 OK\n",
            "Length: 10477 (10K) [text/plain]\n",
            "Saving to: ‘gistfile1.txt’\n",
            "\n",
            "gistfile1.txt       100%[===================>]  10.23K  --.-KB/s    in 0.001s  \n",
            "\n",
            "2024-10-20 20:12:37 (11.8 MB/s) - ‘gistfile1.txt’ saved [10477/10477]\n",
            "\n"
          ]
        }
      ]
    },
    {
      "cell_type": "code",
      "execution_count": null,
      "id": "693f9ea0",
      "metadata": {
        "id": "693f9ea0"
      },
      "outputs": [],
      "source": [
        "file = open(\"gistfile1.txt\", \"r\")"
      ]
    },
    {
      "cell_type": "code",
      "source": [
        "? file.seek"
      ],
      "metadata": {
        "id": "XkDVH6XllwbL"
      },
      "id": "XkDVH6XllwbL",
      "execution_count": null,
      "outputs": []
    },
    {
      "cell_type": "code",
      "source": [
        "? file.tell"
      ],
      "metadata": {
        "id": "A5uqEwn2l48c"
      },
      "id": "A5uqEwn2l48c",
      "execution_count": null,
      "outputs": []
    },
    {
      "cell_type": "code",
      "execution_count": null,
      "id": "4a5a9fc0",
      "metadata": {
        "id": "4a5a9fc0"
      },
      "outputs": [],
      "source": [
        "content = file.read()"
      ]
    },
    {
      "cell_type": "code",
      "execution_count": null,
      "id": "ea7bd1a1",
      "metadata": {
        "scrolled": true,
        "id": "ea7bd1a1"
      },
      "outputs": [],
      "source": [
        "print(type(content))\n",
        "print()\n",
        "print(content)"
      ]
    },
    {
      "cell_type": "code",
      "execution_count": null,
      "id": "87ea6c16",
      "metadata": {
        "id": "87ea6c16"
      },
      "outputs": [],
      "source": [
        "file.close()"
      ]
    },
    {
      "cell_type": "code",
      "execution_count": null,
      "id": "0279850f",
      "metadata": {
        "scrolled": true,
        "id": "0279850f",
        "outputId": "78230367-bb6f-4a2b-baca-e4734050d81d"
      },
      "outputs": [
        {
          "ename": "ValueError",
          "evalue": "I/O operation on closed file.",
          "output_type": "error",
          "traceback": [
            "\u001b[0;31m---------------------------------------------------------------------------\u001b[0m",
            "\u001b[0;31mValueError\u001b[0m                                Traceback (most recent call last)",
            "Cell \u001b[0;32mIn[87], line 1\u001b[0m\n\u001b[0;32m----> 1\u001b[0m content \u001b[38;5;241m=\u001b[39m \u001b[43mfile\u001b[49m\u001b[38;5;241;43m.\u001b[39;49m\u001b[43mread\u001b[49m\u001b[43m(\u001b[49m\u001b[43m)\u001b[49m\n",
            "\u001b[0;31mValueError\u001b[0m: I/O operation on closed file."
          ]
        }
      ],
      "source": [
        "content = file.read()"
      ]
    },
    {
      "cell_type": "markdown",
      "id": "0344afc4",
      "metadata": {
        "id": "0344afc4"
      },
      "source": [
        "### Read file - 2"
      ]
    },
    {
      "cell_type": "code",
      "execution_count": null,
      "id": "82a2903c",
      "metadata": {
        "id": "82a2903c",
        "outputId": "1933867c-49ce-4661-9552-965b008e658d"
      },
      "outputs": [
        {
          "name": "stdout",
          "output_type": "stream",
          "text": [
            "hey, how are you?\n",
            "I am good, what about you?\n",
            "I am also good.\n"
          ]
        }
      ],
      "source": [
        "with open(\"test1.txt\", \"r\") as file:\n",
        "    content = file.read()\n",
        "    print(content)\n"
      ]
    },
    {
      "cell_type": "markdown",
      "id": "90d3d905",
      "metadata": {
        "id": "90d3d905"
      },
      "source": [
        "### readline()"
      ]
    },
    {
      "cell_type": "code",
      "execution_count": null,
      "id": "c413651e",
      "metadata": {
        "id": "c413651e",
        "outputId": "d301ad54-93c3-4510-9217-c9a7ec4e4c4b"
      },
      "outputs": [
        {
          "name": "stdout",
          "output_type": "stream",
          "text": [
            "hey, how are you?\n",
            "\n",
            "I am good, what about you?\n",
            "\n"
          ]
        }
      ],
      "source": [
        "with open(\"test1.txt\", \"r\") as file:\n",
        "\n",
        "    cur_line = file.readline()\n",
        "    print(cur_line)\n",
        "\n",
        "    cur_line = file.readline()\n",
        "    print(cur_line)"
      ]
    },
    {
      "cell_type": "code",
      "execution_count": null,
      "id": "c7177ba3",
      "metadata": {
        "id": "c7177ba3",
        "outputId": "9682ba4d-5d43-4699-9b2c-efc01d67fd71"
      },
      "outputs": [
        {
          "name": "stdout",
          "output_type": "stream",
          "text": [
            "hey, how are you?\n",
            "\n",
            "I am good, what about you?\n",
            "\n",
            "I am also good.\n"
          ]
        }
      ],
      "source": [
        "with open('test1.txt', 'r') as file:\n",
        "    while True:\n",
        "        cur_line = file.readline()\n",
        "        if cur_line:\n",
        "            # Some operations here\n",
        "            print(cur_line)\n",
        "        else:\n",
        "            break"
      ]
    },
    {
      "cell_type": "markdown",
      "id": "2bb5df4c",
      "metadata": {
        "id": "2bb5df4c"
      },
      "source": [
        "### readlines()"
      ]
    },
    {
      "cell_type": "code",
      "execution_count": null,
      "id": "0b073b39",
      "metadata": {
        "id": "0b073b39",
        "outputId": "31af0f56-1ae2-472c-f9e5-e49d75e52239"
      },
      "outputs": [
        {
          "name": "stdout",
          "output_type": "stream",
          "text": [
            "['hey, how are you?\\n', 'I am good, what about you?\\n', 'I am also good.']\n"
          ]
        }
      ],
      "source": [
        "with open('test1.txt', 'r') as file:\n",
        "    lines = file.readlines()\n",
        "    print(lines)"
      ]
    },
    {
      "cell_type": "code",
      "execution_count": null,
      "id": "659c59a5",
      "metadata": {
        "id": "659c59a5",
        "outputId": "ce3d8916-d356-4d50-c5c4-f8d604f78f6f"
      },
      "outputs": [
        {
          "name": "stdout",
          "output_type": "stream",
          "text": [
            "hey, how are you?\n",
            "\n",
            "I am good, what about you?\n",
            "\n",
            "I am also good.\n"
          ]
        }
      ],
      "source": [
        "for line in lines:\n",
        "    print(line)"
      ]
    },
    {
      "cell_type": "markdown",
      "id": "a5e204ae",
      "metadata": {
        "id": "a5e204ae"
      },
      "source": [
        "### Explore the file"
      ]
    },
    {
      "cell_type": "code",
      "execution_count": null,
      "id": "ab5867a4",
      "metadata": {
        "id": "ab5867a4",
        "outputId": "22ed9a47-ffe8-4ae0-ceda-9dbecd38b55a",
        "colab": {
          "base_uri": "https://localhost:8080/",
          "height": 241
        }
      },
      "outputs": [
        {
          "output_type": "error",
          "ename": "FileNotFoundError",
          "evalue": "[Errno 2] No such file or directory: 'test1.txt'",
          "traceback": [
            "\u001b[0;31m---------------------------------------------------------------------------\u001b[0m",
            "\u001b[0;31mFileNotFoundError\u001b[0m                         Traceback (most recent call last)",
            "\u001b[0;32m<ipython-input-112-85e4da047498>\u001b[0m in \u001b[0;36m<cell line: 1>\u001b[0;34m()\u001b[0m\n\u001b[0;32m----> 1\u001b[0;31m \u001b[0;32mwith\u001b[0m \u001b[0mopen\u001b[0m\u001b[0;34m(\u001b[0m\u001b[0;34m'test1.txt'\u001b[0m\u001b[0;34m,\u001b[0m \u001b[0;34m'r'\u001b[0m\u001b[0;34m)\u001b[0m \u001b[0;32mas\u001b[0m \u001b[0mfile\u001b[0m\u001b[0;34m:\u001b[0m\u001b[0;34m\u001b[0m\u001b[0;34m\u001b[0m\u001b[0m\n\u001b[0m\u001b[1;32m      2\u001b[0m     \u001b[0mget_ipython\u001b[0m\u001b[0;34m(\u001b[0m\u001b[0;34m)\u001b[0m\u001b[0;34m.\u001b[0m\u001b[0mrun_line_magic\u001b[0m\u001b[0;34m(\u001b[0m\u001b[0;34m'pinfo'\u001b[0m\u001b[0;34m,\u001b[0m \u001b[0;34m' file.seek'\u001b[0m\u001b[0;34m)\u001b[0m\u001b[0;34m\u001b[0m\u001b[0;34m\u001b[0m\u001b[0m\n\u001b[1;32m      3\u001b[0m     \u001b[0mfile\u001b[0m\u001b[0;34m.\u001b[0m\u001b[0mseek\u001b[0m\u001b[0;34m(\u001b[0m\u001b[0;36m5\u001b[0m\u001b[0;34m)\u001b[0m\u001b[0;34m\u001b[0m\u001b[0;34m\u001b[0m\u001b[0m\n\u001b[1;32m      4\u001b[0m     \u001b[0mprint\u001b[0m\u001b[0;34m(\u001b[0m\u001b[0mfile\u001b[0m\u001b[0;34m.\u001b[0m\u001b[0mread\u001b[0m\u001b[0;34m(\u001b[0m\u001b[0;34m)\u001b[0m\u001b[0;34m)\u001b[0m\u001b[0;34m\u001b[0m\u001b[0;34m\u001b[0m\u001b[0m\n\u001b[1;32m      5\u001b[0m \u001b[0;34m\u001b[0m\u001b[0m\n",
            "\u001b[0;31mFileNotFoundError\u001b[0m: [Errno 2] No such file or directory: 'test1.txt'"
          ]
        }
      ],
      "source": [
        "with open('test1.txt', 'r') as file:\n",
        "    ? file.seek\n",
        "    file.seek(5)\n",
        "    print(file.read())\n",
        "\n",
        "    print()\n",
        "\n",
        "    position = file.tell()\n",
        "    print(position)"
      ]
    },
    {
      "cell_type": "markdown",
      "id": "4b6008cc",
      "metadata": {
        "id": "4b6008cc"
      },
      "source": [
        "### Write"
      ]
    },
    {
      "cell_type": "code",
      "execution_count": null,
      "id": "8fa7fafa",
      "metadata": {
        "id": "8fa7fafa"
      },
      "outputs": [],
      "source": [
        "# How to write a file\n",
        "file = open(\"test2.txt\", \"w\")\n",
        "file.write(\"Hello John!\\nHow are you?\")\n",
        "file.close()"
      ]
    },
    {
      "cell_type": "code",
      "execution_count": null,
      "id": "43b44418",
      "metadata": {
        "id": "43b44418"
      },
      "outputs": [],
      "source": [
        "# Create a new file OR erase and overwrite\n",
        "with open('test2.txt', 'w') as file:\n",
        "\n",
        "    # write contents to the test2.txt file\n",
        "    file.write('Programming is Fun.\\n')\n",
        "    file.write('Python for beginners\\n')"
      ]
    },
    {
      "cell_type": "code",
      "execution_count": null,
      "id": "e05ace92",
      "metadata": {
        "id": "e05ace92",
        "outputId": "bf93ccaa-d747-4615-c46a-8942beb28ba8"
      },
      "outputs": [
        {
          "ename": "FileExistsError",
          "evalue": "[Errno 17] File exists: 'test2.txt'",
          "output_type": "error",
          "traceback": [
            "\u001b[0;31m---------------------------------------------------------------------------\u001b[0m",
            "\u001b[0;31mFileExistsError\u001b[0m                           Traceback (most recent call last)",
            "Cell \u001b[0;32mIn[98], line 1\u001b[0m\n\u001b[0;32m----> 1\u001b[0m \u001b[38;5;28;01mwith\u001b[39;00m \u001b[38;5;28;43mopen\u001b[39;49m\u001b[43m(\u001b[49m\u001b[38;5;124;43m'\u001b[39;49m\u001b[38;5;124;43mtest2.txt\u001b[39;49m\u001b[38;5;124;43m'\u001b[39;49m\u001b[43m,\u001b[49m\u001b[43m \u001b[49m\u001b[38;5;124;43m'\u001b[39;49m\u001b[38;5;124;43mx\u001b[39;49m\u001b[38;5;124;43m'\u001b[39;49m\u001b[43m)\u001b[49m \u001b[38;5;28;01mas\u001b[39;00m file:\n\u001b[1;32m      2\u001b[0m     file\u001b[38;5;241m.\u001b[39mwrite(\u001b[38;5;124m\"\u001b[39m\u001b[38;5;124mThis is the end of the document\u001b[39m\u001b[38;5;124m\"\u001b[39m)\n",
            "File \u001b[0;32m~/anaconda3/lib/python3.10/site-packages/IPython/core/interactiveshell.py:282\u001b[0m, in \u001b[0;36m_modified_open\u001b[0;34m(file, *args, **kwargs)\u001b[0m\n\u001b[1;32m    275\u001b[0m \u001b[38;5;28;01mif\u001b[39;00m file \u001b[38;5;129;01min\u001b[39;00m {\u001b[38;5;241m0\u001b[39m, \u001b[38;5;241m1\u001b[39m, \u001b[38;5;241m2\u001b[39m}:\n\u001b[1;32m    276\u001b[0m     \u001b[38;5;28;01mraise\u001b[39;00m \u001b[38;5;167;01mValueError\u001b[39;00m(\n\u001b[1;32m    277\u001b[0m         \u001b[38;5;124mf\u001b[39m\u001b[38;5;124m\"\u001b[39m\u001b[38;5;124mIPython won\u001b[39m\u001b[38;5;124m'\u001b[39m\u001b[38;5;124mt let you open fd=\u001b[39m\u001b[38;5;132;01m{\u001b[39;00mfile\u001b[38;5;132;01m}\u001b[39;00m\u001b[38;5;124m by default \u001b[39m\u001b[38;5;124m\"\u001b[39m\n\u001b[1;32m    278\u001b[0m         \u001b[38;5;124m\"\u001b[39m\u001b[38;5;124mas it is likely to crash IPython. If you know what you are doing, \u001b[39m\u001b[38;5;124m\"\u001b[39m\n\u001b[1;32m    279\u001b[0m         \u001b[38;5;124m\"\u001b[39m\u001b[38;5;124myou can use builtins\u001b[39m\u001b[38;5;124m'\u001b[39m\u001b[38;5;124m open.\u001b[39m\u001b[38;5;124m\"\u001b[39m\n\u001b[1;32m    280\u001b[0m     )\n\u001b[0;32m--> 282\u001b[0m \u001b[38;5;28;01mreturn\u001b[39;00m \u001b[43mio_open\u001b[49m\u001b[43m(\u001b[49m\u001b[43mfile\u001b[49m\u001b[43m,\u001b[49m\u001b[43m \u001b[49m\u001b[38;5;241;43m*\u001b[39;49m\u001b[43margs\u001b[49m\u001b[43m,\u001b[49m\u001b[43m \u001b[49m\u001b[38;5;241;43m*\u001b[39;49m\u001b[38;5;241;43m*\u001b[39;49m\u001b[43mkwargs\u001b[49m\u001b[43m)\u001b[49m\n",
            "\u001b[0;31mFileExistsError\u001b[0m: [Errno 17] File exists: 'test2.txt'"
          ]
        }
      ],
      "source": [
        "with open('test2.txt', 'x') as file:\n",
        "    file.write(\"This is the end of the document\")"
      ]
    },
    {
      "cell_type": "code",
      "execution_count": null,
      "id": "4e0c95c3",
      "metadata": {
        "id": "4e0c95c3"
      },
      "outputs": [],
      "source": [
        "with open('test2.txt', 'a') as file:\n",
        "    file.write(\"This is the end of the document\")"
      ]
    },
    {
      "cell_type": "markdown",
      "id": "b310f531",
      "metadata": {
        "id": "b310f531"
      },
      "source": [
        "### writelines()"
      ]
    },
    {
      "cell_type": "code",
      "execution_count": null,
      "id": "fbb39cab",
      "metadata": {
        "id": "fbb39cab"
      },
      "outputs": [],
      "source": [
        "with open(\"test3.txt\", \"w\") as file:\n",
        "    L = [\"This is Python\\n\", \"It's an amazing programming language\"]\n",
        "    file.writelines(L)"
      ]
    },
    {
      "cell_type": "markdown",
      "id": "e20fffaa",
      "metadata": {
        "id": "e20fffaa"
      },
      "source": [
        "### Class Activity"
      ]
    },
    {
      "cell_type": "markdown",
      "id": "cb5434b6",
      "metadata": {
        "id": "cb5434b6"
      },
      "source": [
        "1. Create a new text file named 'my_file.txt' and add the lines:\n",
        "[\"I love Python.\", \"Python is my favorite.\"] (in two separate lines)"
      ]
    },
    {
      "cell_type": "code",
      "execution_count": null,
      "id": "f3acd4f1",
      "metadata": {
        "id": "f3acd4f1"
      },
      "outputs": [],
      "source": [
        "lines = [\"I love Python.\", \"Python is my favorite.\"]"
      ]
    },
    {
      "cell_type": "code",
      "execution_count": null,
      "id": "938d5ac8",
      "metadata": {
        "id": "938d5ac8"
      },
      "outputs": [],
      "source": [
        "# Write your code here\n",
        "with open(\"my_file.txt\", \"w\") as file:\n",
        "    for line in lines:\n",
        "        file.write(line + \"\\n\")"
      ]
    },
    {
      "cell_type": "code",
      "execution_count": null,
      "id": "02d319e0",
      "metadata": {
        "id": "02d319e0",
        "outputId": "abcd8994-1a8d-42c9-f999-ada79d9fa5d9"
      },
      "outputs": [
        {
          "name": "stdout",
          "output_type": "stream",
          "text": [
            "I love Python.\n",
            "Python is my favorite.\n",
            "\n"
          ]
        }
      ],
      "source": [
        "# Test the text so far\n",
        "with open('my_file.txt', 'r') as file:\n",
        "    print(file.read())"
      ]
    },
    {
      "cell_type": "markdown",
      "id": "f56cd89e",
      "metadata": {
        "id": "f56cd89e"
      },
      "source": [
        "2. The append a new line: \"Yes! Python is great!\""
      ]
    },
    {
      "cell_type": "code",
      "execution_count": null,
      "id": "3cfc93c8",
      "metadata": {
        "id": "3cfc93c8"
      },
      "outputs": [],
      "source": [
        "# Write your code here\n",
        "with open(\"my_file.txt\", \"a\") as file:\n",
        "    file.write(\"Yes! Python is great!\")"
      ]
    },
    {
      "cell_type": "code",
      "execution_count": null,
      "id": "027babba",
      "metadata": {
        "id": "027babba",
        "outputId": "3ca5ef61-9aca-484e-d2e5-c828e93aa9a9"
      },
      "outputs": [
        {
          "name": "stdout",
          "output_type": "stream",
          "text": [
            "I love Python.\n",
            "Python is my favorite.\n",
            "Yes! Python is great!\n"
          ]
        }
      ],
      "source": [
        "# Test the text so far\n",
        "with open('my_file.txt', 'r') as file:\n",
        "    print(file.read())"
      ]
    },
    {
      "cell_type": "markdown",
      "id": "73f45c0f",
      "metadata": {
        "id": "73f45c0f"
      },
      "source": [
        "3. Iterate through lines and at each iteration find the location of \"Python\"\n",
        "(Hint: use str.index(...))\n"
      ]
    },
    {
      "cell_type": "code",
      "execution_count": null,
      "id": "99b920a3",
      "metadata": {
        "id": "99b920a3",
        "outputId": "abd02a8f-4d1a-480b-83c4-52d2d8f8fefc"
      },
      "outputs": [
        {
          "name": "stdout",
          "output_type": "stream",
          "text": [
            "[7, 0, 5]\n"
          ]
        }
      ],
      "source": [
        "# Write your code here\n",
        "with open(\"my_file.txt\", \"r\") as file:\n",
        "    lines = file.readlines()\n",
        "\n",
        "idx = []\n",
        "for line in lines:\n",
        "    idx_loc = line.index(\"Python\")\n",
        "    idx.append(idx_loc)\n",
        "\n",
        "print(idx)"
      ]
    },
    {
      "cell_type": "code",
      "source": [
        "import os\n",
        "\n",
        "\n",
        "os.path.exists(\"gistfil21.txt\")"
      ],
      "metadata": {
        "colab": {
          "base_uri": "https://localhost:8080/"
        },
        "id": "3ZUV8ZRZmKLZ",
        "outputId": "48848164-b9ce-4206-9a15-dda81c7d2028"
      },
      "id": "3ZUV8ZRZmKLZ",
      "execution_count": null,
      "outputs": [
        {
          "output_type": "execute_result",
          "data": {
            "text/plain": [
              "False"
            ]
          },
          "metadata": {},
          "execution_count": 119
        }
      ]
    },
    {
      "cell_type": "markdown",
      "id": "00c0225a",
      "metadata": {
        "id": "00c0225a"
      },
      "source": [
        "#### Question: What if a file to read is huge??"
      ]
    },
    {
      "cell_type": "markdown",
      "id": "c43b5348",
      "metadata": {
        "id": "c43b5348"
      },
      "source": [
        "Please check out the concept of generators and yield in Python."
      ]
    },
    {
      "cell_type": "markdown",
      "id": "1216c7d7",
      "metadata": {
        "id": "1216c7d7"
      },
      "source": [
        "## JSON Module"
      ]
    },
    {
      "cell_type": "code",
      "execution_count": null,
      "id": "3fe609ff",
      "metadata": {
        "id": "3fe609ff"
      },
      "outputs": [],
      "source": [
        "import json"
      ]
    },
    {
      "cell_type": "markdown",
      "id": "e75bd665",
      "metadata": {
        "id": "e75bd665"
      },
      "source": [
        "### Serialize to JSON string"
      ]
    },
    {
      "cell_type": "code",
      "execution_count": null,
      "id": "a3409be1",
      "metadata": {
        "id": "a3409be1"
      },
      "outputs": [],
      "source": [
        "# Define a Python dictionary\n",
        "person = {\n",
        "    \"name\": \"John\",\n",
        "    \"age\": 30,\n",
        "    \"city\": \"New York\",\n",
        "    \"hasChildren\": False,\n",
        "    \"titles\": [\"engineer\", \"programmer\"]\n",
        "}"
      ]
    },
    {
      "cell_type": "code",
      "source": [
        "person"
      ],
      "metadata": {
        "colab": {
          "base_uri": "https://localhost:8080/"
        },
        "id": "rD5WPf0fne1U",
        "outputId": "c87ccd31-5f54-4d1b-c901-1f13792fc794"
      },
      "id": "rD5WPf0fne1U",
      "execution_count": null,
      "outputs": [
        {
          "output_type": "execute_result",
          "data": {
            "text/plain": [
              "{'name': 'John',\n",
              " 'age': 30,\n",
              " 'city': 'New York',\n",
              " 'hasChildren': False,\n",
              " 'titles': ['engineer', 'programmer']}"
            ]
          },
          "metadata": {},
          "execution_count": 122
        }
      ]
    },
    {
      "cell_type": "code",
      "execution_count": null,
      "id": "b83c8bac",
      "metadata": {
        "id": "b83c8bac"
      },
      "outputs": [],
      "source": [
        "person_json = json.dumps(person)"
      ]
    },
    {
      "cell_type": "code",
      "source": [
        "person_json"
      ],
      "metadata": {
        "colab": {
          "base_uri": "https://localhost:8080/",
          "height": 52
        },
        "id": "de-FaDdknlhL",
        "outputId": "05a32935-afdd-4a1a-a215-8ca80ad42124"
      },
      "id": "de-FaDdknlhL",
      "execution_count": null,
      "outputs": [
        {
          "output_type": "execute_result",
          "data": {
            "text/plain": [
              "'{\"name\": \"John\", \"age\": 30, \"city\": \"New York\", \"hasChildren\": false, \"titles\": [\"engineer\", \"programmer\"]}'"
            ],
            "application/vnd.google.colaboratory.intrinsic+json": {
              "type": "string"
            }
          },
          "metadata": {},
          "execution_count": 124
        }
      ]
    },
    {
      "cell_type": "code",
      "execution_count": null,
      "id": "44966760",
      "metadata": {
        "scrolled": true,
        "id": "44966760",
        "outputId": "6ec375e2-470b-4e90-b639-a1f42175f154",
        "colab": {
          "base_uri": "https://localhost:8080/"
        }
      },
      "outputs": [
        {
          "output_type": "stream",
          "name": "stdout",
          "text": [
            "<class 'str'>\n",
            "{\"name\": \"John\", \"age\": 30, \"city\": \"New York\", \"hasChildren\": false, \"titles\": [\"engineer\", \"programmer\"]}\n"
          ]
        }
      ],
      "source": [
        "print(type(person_json))\n",
        "print(person_json)"
      ]
    },
    {
      "cell_type": "code",
      "execution_count": null,
      "id": "580cd430",
      "metadata": {
        "id": "580cd430",
        "outputId": "70f2ee04-453b-4b15-9014-7289a336548b"
      },
      "outputs": [
        {
          "name": "stdout",
          "output_type": "stream",
          "text": [
            "{\n",
            "    \"age\"= 30; \n",
            "    \"city\"= \"New York\"; \n",
            "    \"hasChildren\"= false; \n",
            "    \"name\"= \"John\"; \n",
            "    \"titles\"= [\n",
            "        \"engineer\"; \n",
            "        \"programmer\"\n",
            "    ]\n",
            "}\n"
          ]
        }
      ],
      "source": [
        "person_json = json.dumps(person, indent=4, separators=(\"; \", \"= \"), sort_keys=True)\n",
        "\n",
        "print(person_json)"
      ]
    },
    {
      "cell_type": "markdown",
      "id": "10a0ff67",
      "metadata": {
        "id": "10a0ff67"
      },
      "source": [
        "### Serialize to a JSON file"
      ]
    },
    {
      "cell_type": "code",
      "execution_count": null,
      "id": "435c4b56",
      "metadata": {
        "id": "435c4b56"
      },
      "outputs": [],
      "source": [
        "# Define a Python dictionary\n",
        "person = {\n",
        "    \"name\": \"John\",\n",
        "    \"age\": 30,\n",
        "    \"city\": \"New York\",\n",
        "    \"hasChildren\": False,\n",
        "    \"titles\": [\"engineer\", \"programmer\"]\n",
        "}"
      ]
    },
    {
      "cell_type": "code",
      "execution_count": null,
      "id": "3a815774",
      "metadata": {
        "id": "3a815774"
      },
      "outputs": [],
      "source": [
        "with open(\"person1.json\", \"w\") as file:\n",
        "    json.dump(person, file)"
      ]
    },
    {
      "cell_type": "markdown",
      "id": "860f2d50",
      "metadata": {
        "id": "860f2d50"
      },
      "source": [
        "### Deserialize JSON File"
      ]
    },
    {
      "cell_type": "code",
      "execution_count": null,
      "id": "c0352bf8",
      "metadata": {
        "id": "c0352bf8"
      },
      "outputs": [],
      "source": [
        "with open(\"person1.json\", \"r\") as file:\n",
        "    loaded_person = json.load(file)"
      ]
    },
    {
      "cell_type": "code",
      "execution_count": null,
      "id": "7f5e4c95",
      "metadata": {
        "id": "7f5e4c95",
        "outputId": "ddc1347a-d933-41dc-bbeb-173a9e9b3510",
        "colab": {
          "base_uri": "https://localhost:8080/"
        }
      },
      "outputs": [
        {
          "output_type": "stream",
          "name": "stdout",
          "text": [
            "<class 'dict'>\n"
          ]
        }
      ],
      "source": [
        "print(type(loaded_person))"
      ]
    },
    {
      "cell_type": "code",
      "execution_count": null,
      "id": "c98a5d1e",
      "metadata": {
        "scrolled": true,
        "id": "c98a5d1e",
        "outputId": "15243ac7-ea13-419b-c91c-15509af9e694",
        "colab": {
          "base_uri": "https://localhost:8080/"
        }
      },
      "outputs": [
        {
          "output_type": "stream",
          "name": "stdout",
          "text": [
            "{'name': 'John', 'age': 30, 'city': 'New York', 'hasChildren': False, 'titles': ['engineer', 'programmer']}\n"
          ]
        }
      ],
      "source": [
        "print(loaded_person)"
      ]
    },
    {
      "cell_type": "code",
      "execution_count": null,
      "id": "bfe4576a",
      "metadata": {
        "id": "bfe4576a",
        "outputId": "266c7fa3-2e2e-4773-ea10-98ffc1c8423e"
      },
      "outputs": [
        {
          "data": {
            "text/plain": [
              "30"
            ]
          },
          "execution_count": 123,
          "metadata": {},
          "output_type": "execute_result"
        }
      ],
      "source": [
        "loaded_person['age']"
      ]
    },
    {
      "cell_type": "markdown",
      "id": "5fd2f62b",
      "metadata": {
        "id": "5fd2f62b"
      },
      "source": [
        "### Deserialized JSON"
      ]
    },
    {
      "cell_type": "code",
      "execution_count": null,
      "id": "f349d1d5",
      "metadata": {
        "id": "f349d1d5"
      },
      "outputs": [],
      "source": [
        "person_json = \"\"\"\n",
        "    {\n",
        "        \"age\": 30,\n",
        "        \"city\": \"New York\",\n",
        "        \"hasChildren\": false,\n",
        "        \"name\": \"John\",\n",
        "        \"hobbies\":{\n",
        "          \"coffee\": \"espresso\",\n",
        "          \"food\": \"pizza\"\n",
        "        },\n",
        "        \"education\": [{\"University\": \"MIT\", \"Phd\": \"Harvard\"}]\n",
        "        ,\n",
        "        \"titles\": [\n",
        "            \"engineer\",\n",
        "            \"programmer\"\n",
        "        ]\n",
        "    }\n",
        "\"\"\""
      ]
    },
    {
      "cell_type": "markdown",
      "source": [],
      "metadata": {
        "id": "sm4raI0cpd4O"
      },
      "id": "sm4raI0cpd4O"
    },
    {
      "cell_type": "code",
      "execution_count": null,
      "id": "af1f84f4",
      "metadata": {
        "id": "af1f84f4"
      },
      "outputs": [],
      "source": [
        "person = json.loads(person_json)"
      ]
    },
    {
      "cell_type": "code",
      "source": [
        "person['education'][0]['University']"
      ],
      "metadata": {
        "colab": {
          "base_uri": "https://localhost:8080/",
          "height": 35
        },
        "id": "wxtKB5e7qAc4",
        "outputId": "07573fd0-5801-4fb7-e0da-c67b9d2adff9"
      },
      "id": "wxtKB5e7qAc4",
      "execution_count": null,
      "outputs": [
        {
          "output_type": "execute_result",
          "data": {
            "text/plain": [
              "'MIT'"
            ],
            "application/vnd.google.colaboratory.intrinsic+json": {
              "type": "string"
            }
          },
          "metadata": {},
          "execution_count": 148
        }
      ]
    },
    {
      "cell_type": "code",
      "execution_count": null,
      "id": "aa19357e",
      "metadata": {
        "id": "aa19357e",
        "outputId": "20d700fe-4610-4ce2-8a43-95d5b74abb59",
        "colab": {
          "base_uri": "https://localhost:8080/"
        }
      },
      "outputs": [
        {
          "output_type": "stream",
          "name": "stdout",
          "text": [
            "<class 'dict'>\n"
          ]
        }
      ],
      "source": [
        "print(type(person))"
      ]
    },
    {
      "cell_type": "code",
      "execution_count": null,
      "id": "b42bc97e",
      "metadata": {
        "id": "b42bc97e",
        "outputId": "3fe56933-a8ac-401a-94b3-9658188c4004",
        "colab": {
          "base_uri": "https://localhost:8080/"
        }
      },
      "outputs": [
        {
          "output_type": "stream",
          "name": "stdout",
          "text": [
            "{'age': 30, 'city': 'New York', 'hasChildren': False, 'name': 'John', 'titles': ['engineer', 'programmer']}\n"
          ]
        }
      ],
      "source": [
        "print(person)"
      ]
    },
    {
      "cell_type": "code",
      "execution_count": null,
      "id": "301fc06e",
      "metadata": {
        "id": "301fc06e",
        "outputId": "44462a8a-bf2e-43f4-8aee-586fef2804f9"
      },
      "outputs": [
        {
          "data": {
            "text/plain": [
              "False"
            ]
          },
          "execution_count": 135,
          "metadata": {},
          "output_type": "execute_result"
        }
      ],
      "source": [
        "person['hasChildren']"
      ]
    }
  ],
  "metadata": {
    "kernelspec": {
      "display_name": "Python 3 (ipykernel)",
      "language": "python",
      "name": "python3"
    },
    "language_info": {
      "codemirror_mode": {
        "name": "ipython",
        "version": 3
      },
      "file_extension": ".py",
      "mimetype": "text/x-python",
      "name": "python",
      "nbconvert_exporter": "python",
      "pygments_lexer": "ipython3",
      "version": "3.10.9"
    },
    "colab": {
      "provenance": [],
      "include_colab_link": true
    }
  },
  "nbformat": 4,
  "nbformat_minor": 5
}