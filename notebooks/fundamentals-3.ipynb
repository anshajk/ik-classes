{
  "cells": [
    {
      "cell_type": "markdown",
      "metadata": {
        "id": "view-in-github",
        "colab_type": "text"
      },
      "source": [
        "<a href=\"https://colab.research.google.com/github/anshajk/ik-classes/blob/main/notebooks/fundamentals-3.ipynb\" target=\"_parent\"><img src=\"https://colab.research.google.com/assets/colab-badge.svg\" alt=\"Open In Colab\"/></a>"
      ]
    },
    {
      "cell_type": "markdown",
      "id": "93bf79a9",
      "metadata": {
        "id": "93bf79a9"
      },
      "source": [
        "# Python Fundamentals - Week 3"
      ]
    },
    {
      "cell_type": "markdown",
      "id": "2d65ff74",
      "metadata": {
        "id": "2d65ff74"
      },
      "source": [
        "## OOP Concepts - Part I"
      ]
    },
    {
      "cell_type": "markdown",
      "id": "d912cb53",
      "metadata": {
        "id": "d912cb53"
      },
      "source": [
        "### How to Define a Class"
      ]
    },
    {
      "cell_type": "code",
      "execution_count": null,
      "id": "da75ff36",
      "metadata": {
        "id": "da75ff36"
      },
      "outputs": [],
      "source": [
        "# Create a new class\n",
        "\n",
        "class Student:\n",
        "\n",
        "    # Define a constructor\n",
        "    def __init__(self, name):\n",
        "        self.name = name # Attribute\n",
        "        print(\"New student added:\", name)\n",
        "        self.grades = [] # Attribute\n",
        "\n",
        "    # Define an instance method\n",
        "    def add_grade(self, course, grade):\n",
        "        self.grades.append((course, grade))\n",
        "        print(f\"Grade {grade} added for the course {course}\")"
      ]
    },
    {
      "cell_type": "code",
      "execution_count": null,
      "id": "1db1dba1",
      "metadata": {
        "id": "1db1dba1",
        "outputId": "bf08f8ad-7c44-4e74-dacb-6f3250f80b66",
        "colab": {
          "base_uri": "https://localhost:8080/"
        }
      },
      "outputs": [
        {
          "output_type": "stream",
          "name": "stdout",
          "text": [
            "New student added: John\n"
          ]
        }
      ],
      "source": [
        "# create an object from the class\n",
        "student1 = Student(\"John\")"
      ]
    },
    {
      "cell_type": "code",
      "execution_count": null,
      "id": "e01d4910",
      "metadata": {
        "id": "e01d4910",
        "outputId": "62a0b983-754e-464f-a8a2-45202fba2f1d",
        "colab": {
          "base_uri": "https://localhost:8080/"
        }
      },
      "outputs": [
        {
          "output_type": "execute_result",
          "data": {
            "text/plain": [
              "[]"
            ]
          },
          "metadata": {},
          "execution_count": 3
        }
      ],
      "source": [
        "student1.grades"
      ]
    },
    {
      "cell_type": "code",
      "execution_count": null,
      "id": "ab2504c0",
      "metadata": {
        "id": "ab2504c0",
        "outputId": "e884a76d-1140-4f7c-f828-25c16232c8d3",
        "colab": {
          "base_uri": "https://localhost:8080/"
        }
      },
      "outputs": [
        {
          "output_type": "stream",
          "name": "stdout",
          "text": [
            "<class '__main__.Student'>\n"
          ]
        }
      ],
      "source": [
        "print(type(student1))"
      ]
    },
    {
      "cell_type": "code",
      "execution_count": null,
      "id": "850b5486",
      "metadata": {
        "id": "850b5486",
        "outputId": "c6010237-3669-45e6-a5a7-bbbfee17f5a7",
        "colab": {
          "base_uri": "https://localhost:8080/",
          "height": 35
        }
      },
      "outputs": [
        {
          "output_type": "execute_result",
          "data": {
            "text/plain": [
              "'John'"
            ],
            "application/vnd.google.colaboratory.intrinsic+json": {
              "type": "string"
            }
          },
          "metadata": {},
          "execution_count": 5
        }
      ],
      "source": [
        "student1.name"
      ]
    },
    {
      "cell_type": "code",
      "execution_count": null,
      "id": "6db50152",
      "metadata": {
        "id": "6db50152",
        "outputId": "5b527692-6ea4-48b6-9ff7-672b6b2879d4",
        "colab": {
          "base_uri": "https://localhost:8080/"
        }
      },
      "outputs": [
        {
          "output_type": "stream",
          "name": "stdout",
          "text": [
            "Grade 87 added for the course Algebra\n"
          ]
        }
      ],
      "source": [
        "student1.add_grade(\"Algebra\", 87)"
      ]
    },
    {
      "cell_type": "code",
      "execution_count": null,
      "id": "c4b2bc8b",
      "metadata": {
        "id": "c4b2bc8b",
        "outputId": "f9956ce6-1608-457c-88ab-8cc57066f8f2",
        "colab": {
          "base_uri": "https://localhost:8080/"
        }
      },
      "outputs": [
        {
          "output_type": "execute_result",
          "data": {
            "text/plain": [
              "[('Algebra', 87)]"
            ]
          },
          "metadata": {},
          "execution_count": 7
        }
      ],
      "source": [
        "student1.grades"
      ]
    },
    {
      "cell_type": "code",
      "execution_count": null,
      "id": "ce277657",
      "metadata": {
        "id": "ce277657",
        "outputId": "9bbaf845-6b24-40b1-8406-f6d3a02de8d3",
        "colab": {
          "base_uri": "https://localhost:8080/"
        }
      },
      "outputs": [
        {
          "output_type": "stream",
          "name": "stdout",
          "text": [
            "Grade 65 added for the course Physics\n"
          ]
        },
        {
          "output_type": "execute_result",
          "data": {
            "text/plain": [
              "[('Algebra', 87), ('Physics', 65)]"
            ]
          },
          "metadata": {},
          "execution_count": 8
        }
      ],
      "source": [
        "student1.add_grade(\"Physics\", 65)\n",
        "student1.grades"
      ]
    },
    {
      "cell_type": "code",
      "execution_count": null,
      "id": "d42c5900",
      "metadata": {
        "id": "d42c5900",
        "outputId": "9eaacc3c-c80f-4bc4-b365-42cab8517607",
        "colab": {
          "base_uri": "https://localhost:8080/"
        }
      },
      "outputs": [
        {
          "output_type": "stream",
          "name": "stdout",
          "text": [
            "New student added: Mary\n"
          ]
        }
      ],
      "source": [
        "# create a second object\n",
        "student2 = Student(\"Mary\")"
      ]
    },
    {
      "cell_type": "code",
      "execution_count": null,
      "id": "cf0dc80a",
      "metadata": {
        "id": "cf0dc80a",
        "outputId": "aedfc763-edad-4e9a-a6c1-54f37a5c7d41",
        "colab": {
          "base_uri": "https://localhost:8080/",
          "height": 35
        }
      },
      "outputs": [
        {
          "output_type": "execute_result",
          "data": {
            "text/plain": [
              "'Mary'"
            ],
            "application/vnd.google.colaboratory.intrinsic+json": {
              "type": "string"
            }
          },
          "metadata": {},
          "execution_count": 10
        }
      ],
      "source": [
        "student2.name"
      ]
    },
    {
      "cell_type": "code",
      "execution_count": null,
      "id": "cef226c2",
      "metadata": {
        "id": "cef226c2",
        "outputId": "88d502c9-a3e7-4d40-ad6c-9ea9f2c3fb40",
        "colab": {
          "base_uri": "https://localhost:8080/"
        }
      },
      "outputs": [
        {
          "output_type": "execute_result",
          "data": {
            "text/plain": [
              "[]"
            ]
          },
          "metadata": {},
          "execution_count": 11
        }
      ],
      "source": [
        "student2.grades"
      ]
    },
    {
      "cell_type": "code",
      "source": [
        "student1.grades"
      ],
      "metadata": {
        "id": "MON1NJIW1H3b",
        "outputId": "5aed1ea1-3529-442f-8b98-2df20b805748",
        "colab": {
          "base_uri": "https://localhost:8080/"
        }
      },
      "id": "MON1NJIW1H3b",
      "execution_count": null,
      "outputs": [
        {
          "output_type": "execute_result",
          "data": {
            "text/plain": [
              "[('Algebra', 87), ('Physics', 65)]"
            ]
          },
          "metadata": {},
          "execution_count": 12
        }
      ]
    },
    {
      "cell_type": "code",
      "execution_count": null,
      "id": "c58760df",
      "metadata": {
        "id": "c58760df",
        "outputId": "7541d5cb-7b12-4354-e6bc-31e7beaabb4e",
        "colab": {
          "base_uri": "https://localhost:8080/"
        }
      },
      "outputs": [
        {
          "output_type": "stream",
          "name": "stdout",
          "text": [
            "Grade 59 added for the course Sciences\n",
            "Grade 91 added for the course English\n"
          ]
        },
        {
          "output_type": "execute_result",
          "data": {
            "text/plain": [
              "[('Sciences', 59), ('English', 91)]"
            ]
          },
          "metadata": {},
          "execution_count": 13
        }
      ],
      "source": [
        "student2.add_grade(\"Sciences\", 59)\n",
        "student2.add_grade(\"English\", 91)\n",
        "student2.grades"
      ]
    },
    {
      "cell_type": "code",
      "execution_count": null,
      "id": "fa4ca24c",
      "metadata": {
        "id": "fa4ca24c"
      },
      "outputs": [],
      "source": [
        "student2.name = 'Mary Jane'"
      ]
    },
    {
      "cell_type": "code",
      "execution_count": null,
      "id": "63eb5818",
      "metadata": {
        "id": "63eb5818",
        "outputId": "e24882ef-4c51-416a-8395-683293a2a3c5",
        "colab": {
          "base_uri": "https://localhost:8080/",
          "height": 35
        }
      },
      "outputs": [
        {
          "output_type": "execute_result",
          "data": {
            "text/plain": [
              "'Mary Jane'"
            ],
            "application/vnd.google.colaboratory.intrinsic+json": {
              "type": "string"
            }
          },
          "metadata": {},
          "execution_count": 15
        }
      ],
      "source": [
        "student2.name"
      ]
    },
    {
      "cell_type": "markdown",
      "id": "b4b580cf",
      "metadata": {
        "id": "b4b580cf"
      },
      "source": [
        "### Instance vs Class Methods and Attributes"
      ]
    },
    {
      "cell_type": "code",
      "execution_count": null,
      "id": "72aafcf3",
      "metadata": {
        "id": "72aafcf3"
      },
      "outputs": [],
      "source": [
        "class Student:\n",
        "\n",
        "    num_of_students = 0 # Class attribute\n",
        "\n",
        "    # Define a constructor\n",
        "    def __init__(self, name):\n",
        "        self.name = name # Instance attribute\n",
        "        print(\"New student added:\", name)\n",
        "        Student.num_of_students += 1\n",
        "        self.grades = [] # Instance attribute\n",
        "\n",
        "    # Instance method\n",
        "    def add_grade(self, course, grade):\n",
        "        self.grades.append((course, grade))\n",
        "        print(f\"Grade {grade} added for the course {course}\")\n",
        "\n",
        "    @classmethod\n",
        "    def class_count(cls):\n",
        "        return cls.num_of_students"
      ]
    },
    {
      "cell_type": "code",
      "execution_count": null,
      "id": "884fd9ca",
      "metadata": {
        "id": "884fd9ca",
        "outputId": "b0e64665-2018-4b18-fa5e-0997e41be9ba",
        "colab": {
          "base_uri": "https://localhost:8080/"
        }
      },
      "outputs": [
        {
          "output_type": "stream",
          "name": "stdout",
          "text": [
            "New student added: John\n"
          ]
        }
      ],
      "source": [
        "student1 = Student(\"John\")"
      ]
    },
    {
      "cell_type": "code",
      "execution_count": null,
      "id": "0ecbd8b7",
      "metadata": {
        "id": "0ecbd8b7",
        "outputId": "94633540-0a45-4fe6-ecf1-b2298139aacc",
        "colab": {
          "base_uri": "https://localhost:8080/"
        }
      },
      "outputs": [
        {
          "output_type": "execute_result",
          "data": {
            "text/plain": [
              "1"
            ]
          },
          "metadata": {},
          "execution_count": 20
        }
      ],
      "source": [
        "Student.class_count()"
      ]
    },
    {
      "cell_type": "code",
      "execution_count": null,
      "id": "bab06154",
      "metadata": {
        "id": "bab06154",
        "outputId": "a229d79f-9402-4f69-df46-0ab4b4bf3fd8",
        "colab": {
          "base_uri": "https://localhost:8080/"
        }
      },
      "outputs": [
        {
          "output_type": "stream",
          "name": "stdout",
          "text": [
            "New student added: Mary\n"
          ]
        }
      ],
      "source": [
        "student2 = Student(\"Mary\")"
      ]
    },
    {
      "cell_type": "code",
      "execution_count": null,
      "id": "31e85ca5",
      "metadata": {
        "id": "31e85ca5",
        "outputId": "deb5191d-a6e0-4924-b267-f2d0fe852561",
        "colab": {
          "base_uri": "https://localhost:8080/"
        }
      },
      "outputs": [
        {
          "output_type": "execute_result",
          "data": {
            "text/plain": [
              "2"
            ]
          },
          "metadata": {},
          "execution_count": 22
        }
      ],
      "source": [
        "Student.class_count()"
      ]
    },
    {
      "cell_type": "code",
      "execution_count": null,
      "id": "fa03cafc",
      "metadata": {
        "id": "fa03cafc",
        "outputId": "08584d3d-4ab4-49e4-8f15-a20d9bbc839d",
        "colab": {
          "base_uri": "https://localhost:8080/"
        }
      },
      "outputs": [
        {
          "output_type": "execute_result",
          "data": {
            "text/plain": [
              "2"
            ]
          },
          "metadata": {},
          "execution_count": 23
        }
      ],
      "source": [
        "student1.class_count()"
      ]
    },
    {
      "cell_type": "code",
      "execution_count": null,
      "id": "04503e48",
      "metadata": {
        "id": "04503e48",
        "outputId": "1c7e5a86-f249-47ce-c5a8-9363af18c52d",
        "colab": {
          "base_uri": "https://localhost:8080/"
        }
      },
      "outputs": [
        {
          "output_type": "execute_result",
          "data": {
            "text/plain": [
              "2"
            ]
          },
          "metadata": {},
          "execution_count": 24
        }
      ],
      "source": [
        "student2.class_count()"
      ]
    },
    {
      "cell_type": "markdown",
      "id": "2e560308",
      "metadata": {
        "id": "2e560308"
      },
      "source": [
        "### Static Methods"
      ]
    },
    {
      "cell_type": "code",
      "execution_count": null,
      "id": "ab086b66",
      "metadata": {
        "id": "ab086b66"
      },
      "outputs": [],
      "source": [
        "class Student:\n",
        "\n",
        "    num_of_students = 0 # Class attribute\n",
        "\n",
        "    # Define a constructor\n",
        "    def __init__(self, name):\n",
        "        self.name = name # Instance attribute\n",
        "        print(\"New student added:\", name)\n",
        "        Student.num_of_students += 1\n",
        "        self.grades = [] # Instance attribute\n",
        "\n",
        "    # Instance method\n",
        "    def add_grade(self, course, num_grade):\n",
        "        grade = Student.grade_mapper(num_grade)\n",
        "        self.grades.append((course, grade))\n",
        "        print(f\"Grade {grade} added for the course {course}\")\n",
        "\n",
        "    @classmethod\n",
        "    def class_count(cls):\n",
        "        return cls.num_of_students\n",
        "\n",
        "    @staticmethod\n",
        "    def grade_mapper(score):\n",
        "        if 85 <= score <= 100:\n",
        "            return 'A'\n",
        "        elif 70 <= score < 85:\n",
        "            return 'B'\n",
        "        elif 55 <= score < 70:\n",
        "            return 'C'\n",
        "        elif 40 <= score < 55:\n",
        "            return 'D'\n",
        "        else:\n",
        "            return 'F'"
      ]
    },
    {
      "cell_type": "code",
      "execution_count": null,
      "id": "b121dcd2",
      "metadata": {
        "id": "b121dcd2",
        "outputId": "e8eb9127-8967-4a02-a30d-fd6e61106981",
        "colab": {
          "base_uri": "https://localhost:8080/"
        }
      },
      "outputs": [
        {
          "output_type": "stream",
          "name": "stdout",
          "text": [
            "New student added: John\n"
          ]
        }
      ],
      "source": [
        "student = Student(\"John\")"
      ]
    },
    {
      "cell_type": "code",
      "execution_count": null,
      "id": "afa9d194",
      "metadata": {
        "id": "afa9d194",
        "outputId": "aa7dc64f-6ce7-47ed-db1a-82516f388f7e",
        "colab": {
          "base_uri": "https://localhost:8080/"
        }
      },
      "outputs": [
        {
          "output_type": "stream",
          "name": "stdout",
          "text": [
            "Grade A added for the course Algebra\n"
          ]
        },
        {
          "output_type": "execute_result",
          "data": {
            "text/plain": [
              "[('Algebra', 'A')]"
            ]
          },
          "metadata": {},
          "execution_count": 27
        }
      ],
      "source": [
        "student.add_grade(\"Algebra\", 87)\n",
        "student.grades"
      ]
    },
    {
      "cell_type": "code",
      "execution_count": null,
      "id": "857467c0",
      "metadata": {
        "scrolled": true,
        "id": "857467c0",
        "outputId": "2eb7b4f9-e23b-45b2-e65e-45d7c77f9274",
        "colab": {
          "base_uri": "https://localhost:8080/"
        }
      },
      "outputs": [
        {
          "output_type": "stream",
          "name": "stdout",
          "text": [
            "Grade C added for the course Physics\n"
          ]
        },
        {
          "output_type": "execute_result",
          "data": {
            "text/plain": [
              "[('Algebra', 'A'), ('Physics', 'C')]"
            ]
          },
          "metadata": {},
          "execution_count": 28
        }
      ],
      "source": [
        "student.add_grade(\"Physics\", 65)\n",
        "student.grades"
      ]
    },
    {
      "cell_type": "code",
      "source": [
        "print(student)"
      ],
      "metadata": {
        "id": "_QTwfpwq4ZMf",
        "outputId": "8e226f05-8625-4db2-baae-c2bd8fd6407b",
        "colab": {
          "base_uri": "https://localhost:8080/"
        }
      },
      "id": "_QTwfpwq4ZMf",
      "execution_count": null,
      "outputs": [
        {
          "output_type": "stream",
          "name": "stdout",
          "text": [
            "<__main__.Student object at 0x7aafd6062990>\n"
          ]
        }
      ]
    },
    {
      "cell_type": "markdown",
      "id": "1f72fda6",
      "metadata": {
        "id": "1f72fda6"
      },
      "source": [
        "### Magic Methods"
      ]
    },
    {
      "cell_type": "code",
      "execution_count": null,
      "id": "c4cbb837",
      "metadata": {
        "id": "c4cbb837"
      },
      "outputs": [],
      "source": [
        "class Student:\n",
        "\n",
        "    num_of_students = 0 # Class attribute\n",
        "\n",
        "    # Define a constructor\n",
        "    def __init__(self, name):\n",
        "        self.name = name # Instance attribute\n",
        "        print(\"New student added:\", name)\n",
        "        Student.num_of_students += 1\n",
        "        self.grades = [] # Instance attribute\n",
        "\n",
        "    # Instance method\n",
        "    def add_grade(self, course, num_grade):\n",
        "        grade = Student.grade_mapper(num_grade)\n",
        "        self.grades.append((course, grade))\n",
        "        print(f\"Grade {grade} added for the course {course}\")\n",
        "\n",
        "    @classmethod\n",
        "    def class_count(cls):\n",
        "        return cls.num_of_students\n",
        "\n",
        "    @staticmethod\n",
        "    def grade_mapper(score):\n",
        "        if 85 <= score <= 100:\n",
        "            return 'A'\n",
        "        elif 70 <= score < 85:\n",
        "            return 'B'\n",
        "        elif 55 <= score < 70:\n",
        "            return 'C'\n",
        "        elif 40 <= score < 55:\n",
        "            return 'D'\n",
        "        else:\n",
        "            return 'F'\n",
        "\n",
        "    def __repr__(self):\n",
        "        return f\"Grades of student {self.name}: {self.grades}\"\n",
        "\n",
        "    def __add__(self, other):\n",
        "        return f\"Student {self.name} & Student {other.name}\""
      ]
    },
    {
      "cell_type": "code",
      "execution_count": null,
      "id": "0c150952",
      "metadata": {
        "id": "0c150952",
        "outputId": "29badffc-f8ab-467e-c3c5-ba12f87cb05b",
        "colab": {
          "base_uri": "https://localhost:8080/"
        }
      },
      "outputs": [
        {
          "output_type": "stream",
          "name": "stdout",
          "text": [
            "New student added: John\n"
          ]
        }
      ],
      "source": [
        "student1 = Student(\"John\")"
      ]
    },
    {
      "cell_type": "code",
      "execution_count": null,
      "id": "d4821f6e",
      "metadata": {
        "id": "d4821f6e",
        "outputId": "92506095-ee17-4da9-d358-745a1bedb8b2",
        "colab": {
          "base_uri": "https://localhost:8080/"
        }
      },
      "outputs": [
        {
          "output_type": "stream",
          "name": "stdout",
          "text": [
            "Grade A added for the course Algebra\n"
          ]
        },
        {
          "output_type": "execute_result",
          "data": {
            "text/plain": [
              "[('Algebra', 'A')]"
            ]
          },
          "metadata": {},
          "execution_count": 33
        }
      ],
      "source": [
        "student1.add_grade(\"Algebra\", 87)\n",
        "student1.grades"
      ]
    },
    {
      "cell_type": "code",
      "execution_count": null,
      "id": "eedcaee7",
      "metadata": {
        "id": "eedcaee7",
        "outputId": "e0e78f3c-66c8-4497-f95f-2580dd40830e",
        "colab": {
          "base_uri": "https://localhost:8080/"
        }
      },
      "outputs": [
        {
          "output_type": "stream",
          "name": "stdout",
          "text": [
            "Grade C added for the course Physics\n"
          ]
        },
        {
          "output_type": "execute_result",
          "data": {
            "text/plain": [
              "[('Algebra', 'A'), ('Physics', 'C')]"
            ]
          },
          "metadata": {},
          "execution_count": 34
        }
      ],
      "source": [
        "student1.add_grade(\"Physics\", 65)\n",
        "student1.grades"
      ]
    },
    {
      "cell_type": "code",
      "execution_count": null,
      "id": "ac9d5799",
      "metadata": {
        "id": "ac9d5799",
        "outputId": "e7c021e9-4b0a-48dc-838a-9c943758fc09",
        "colab": {
          "base_uri": "https://localhost:8080/"
        }
      },
      "outputs": [
        {
          "output_type": "stream",
          "name": "stdout",
          "text": [
            "Grades of student John: [('Algebra', 'A'), ('Physics', 'C')]\n"
          ]
        }
      ],
      "source": [
        "print(student1)"
      ]
    },
    {
      "cell_type": "code",
      "execution_count": null,
      "id": "5d885828",
      "metadata": {
        "id": "5d885828",
        "outputId": "11914fde-782a-4591-b57e-45aa633c4369"
      },
      "outputs": [
        {
          "name": "stdout",
          "output_type": "stream",
          "text": [
            "Grades of student John: [('Algebra', 'A'), ('Physics', 'C')]\n"
          ]
        }
      ],
      "source": [
        "print(repr(student1))"
      ]
    },
    {
      "cell_type": "code",
      "execution_count": null,
      "id": "8fed5a44",
      "metadata": {
        "id": "8fed5a44",
        "outputId": "5efa9086-5c06-4114-90c2-3caf1a52566a"
      },
      "outputs": [
        {
          "name": "stdout",
          "output_type": "stream",
          "text": [
            "New student added: Mary\n"
          ]
        }
      ],
      "source": [
        "student2 = Student(\"Mary\")"
      ]
    },
    {
      "cell_type": "code",
      "execution_count": null,
      "id": "11ccfe33",
      "metadata": {
        "id": "11ccfe33",
        "outputId": "78bf79ed-c8d6-43bc-c26c-d376d76125df"
      },
      "outputs": [
        {
          "name": "stdout",
          "output_type": "stream",
          "text": [
            "Student John & Student Mary\n"
          ]
        }
      ],
      "source": [
        "print(student1 + student2)"
      ]
    },
    {
      "cell_type": "markdown",
      "id": "f9c11971",
      "metadata": {
        "id": "f9c11971"
      },
      "source": [
        "#### Question: What if we remove 'self' from an instance method by mistake?"
      ]
    },
    {
      "cell_type": "markdown",
      "id": "a5f60fa8",
      "metadata": {
        "id": "a5f60fa8"
      },
      "source": [
        "If you define a method in a Python class without including self or cls as the first parameter, and without using the @staticmethod decorator, it is technically treated as an unbound instance method and Python treats it as a regular function within the class's namespace. It is still considered an instance method, but because it lacks self, it doesn't behave like a proper instance method. When you call this method on a class (ClassName.method()), it behaves like a regular function. When you call this method on an instance (instance.method()), Python tries to pass the instance as the first argument, which leads to a TypeError if the method is not designed to accept it."
      ]
    },
    {
      "cell_type": "code",
      "execution_count": null,
      "id": "8ab79a21",
      "metadata": {
        "id": "8ab79a21"
      },
      "outputs": [],
      "source": [
        "class Student:\n",
        "    def hello():\n",
        "        print(\"Hi\")"
      ]
    },
    {
      "cell_type": "code",
      "execution_count": null,
      "id": "e0ac216f",
      "metadata": {
        "id": "e0ac216f",
        "outputId": "9e8e8cf5-7bad-4709-8ec0-bb5631fafa22"
      },
      "outputs": [
        {
          "name": "stdout",
          "output_type": "stream",
          "text": [
            "Hi\n"
          ]
        }
      ],
      "source": [
        "Student.hello()"
      ]
    },
    {
      "cell_type": "code",
      "execution_count": null,
      "id": "6a56ae9c",
      "metadata": {
        "id": "6a56ae9c"
      },
      "outputs": [],
      "source": [
        "student = Student()"
      ]
    },
    {
      "cell_type": "code",
      "execution_count": null,
      "id": "5f302031",
      "metadata": {
        "id": "5f302031",
        "outputId": "4869be37-7dc5-4d11-8d3a-2b0a68eb7603"
      },
      "outputs": [
        {
          "ename": "NameError",
          "evalue": "name 'student_instance' is not defined",
          "output_type": "error",
          "traceback": [
            "\u001b[0;31m---------------------------------------------------------------------------\u001b[0m",
            "\u001b[0;31mNameError\u001b[0m                                 Traceback (most recent call last)",
            "Cell \u001b[0;32mIn[142], line 1\u001b[0m\n\u001b[0;32m----> 1\u001b[0m \u001b[43mstudent_instance\u001b[49m\u001b[38;5;241m.\u001b[39mhello()\n",
            "\u001b[0;31mNameError\u001b[0m: name 'student_instance' is not defined"
          ]
        }
      ],
      "source": [
        "student_instance.hello()"
      ]
    },
    {
      "cell_type": "markdown",
      "id": "c47b4a22",
      "metadata": {
        "id": "c47b4a22"
      },
      "source": [
        "### Class Activity (Leetcode Problem)"
      ]
    },
    {
      "cell_type": "code",
      "execution_count": null,
      "id": "1312991d",
      "metadata": {
        "id": "1312991d"
      },
      "outputs": [],
      "source": [
        "class MyHashMap:\n",
        "\n",
        "#     count = 0\n",
        "\n",
        "    # constructor\n",
        "    def __init__(self):\n",
        "        self.data = []\n",
        "\n",
        "    # put\n",
        "    def put(self, key, value):\n",
        "\n",
        "        for item in self.data:\n",
        "            if item[0] == key:\n",
        "                item[1] = value\n",
        "                return\n",
        "        pair = [key, value]\n",
        "        self.data.append(pair)\n",
        "#         MyHashMap.count += 1\n",
        "\n",
        "    # get\n",
        "    def get(self, key):\n",
        "\n",
        "        for item in self.data:\n",
        "            if item[0] == key:\n",
        "                return item[1]\n",
        "        return -1\n",
        "\n",
        "    # remove\n",
        "    def remove(self, key):\n",
        "\n",
        "        for item in self.data:\n",
        "            if item[0] == key:\n",
        "                self.data.remove(item)\n",
        "                return\n",
        "        return None"
      ]
    },
    {
      "cell_type": "code",
      "source": [
        "myHashMap = MyHashMap()\n",
        "\n",
        "print(myHashMap.data)"
      ],
      "metadata": {
        "id": "1cYQcI-u-Cse",
        "outputId": "27b252eb-6919-44fc-fd2c-ae2fb9ed58c4",
        "colab": {
          "base_uri": "https://localhost:8080/"
        }
      },
      "id": "1cYQcI-u-Cse",
      "execution_count": null,
      "outputs": [
        {
          "output_type": "stream",
          "name": "stdout",
          "text": [
            "[]\n"
          ]
        }
      ]
    },
    {
      "cell_type": "code",
      "execution_count": null,
      "id": "f74b14a1",
      "metadata": {
        "id": "f74b14a1",
        "outputId": "a224e3fc-af11-4a28-d6e2-46cf62391988",
        "colab": {
          "base_uri": "https://localhost:8080/"
        }
      },
      "outputs": [
        {
          "output_type": "stream",
          "name": "stdout",
          "text": [
            "[[1, 1]]\n"
          ]
        }
      ],
      "source": [
        "myHashMap.put(1, 1)\n",
        "print(myHashMap.data)"
      ]
    },
    {
      "cell_type": "code",
      "execution_count": null,
      "id": "40e88901",
      "metadata": {
        "id": "40e88901",
        "outputId": "e89375fc-2a96-4573-cd93-1ca0b88acbcd",
        "colab": {
          "base_uri": "https://localhost:8080/"
        }
      },
      "outputs": [
        {
          "output_type": "stream",
          "name": "stdout",
          "text": [
            "[[1, 1], [2, 20]]\n"
          ]
        }
      ],
      "source": [
        "myHashMap.put(2, 20)\n",
        "print(myHashMap.data)"
      ]
    },
    {
      "cell_type": "code",
      "execution_count": null,
      "id": "df9cb043",
      "metadata": {
        "id": "df9cb043",
        "outputId": "dcd4a27d-19d9-4c03-a610-2e371321cb17",
        "colab": {
          "base_uri": "https://localhost:8080/"
        }
      },
      "outputs": [
        {
          "output_type": "stream",
          "name": "stdout",
          "text": [
            "1\n",
            "20\n",
            "-1\n"
          ]
        }
      ],
      "source": [
        "print(myHashMap.get(1))\n",
        "print(myHashMap.get(2))\n",
        "print(myHashMap.get(3))"
      ]
    },
    {
      "cell_type": "code",
      "execution_count": null,
      "id": "42de6032",
      "metadata": {
        "id": "42de6032",
        "outputId": "b1388a74-2494-4e85-8076-840c4c115390"
      },
      "outputs": [
        {
          "name": "stdout",
          "output_type": "stream",
          "text": [
            "[[1, 1], [2, 1]]\n"
          ]
        }
      ],
      "source": [
        "myHashMap.put(2, 1)\n",
        "print(myHashMap.data)"
      ]
    },
    {
      "cell_type": "code",
      "execution_count": null,
      "id": "8ea1e5f3",
      "metadata": {
        "id": "8ea1e5f3",
        "outputId": "21e6acc3-4c48-41ef-85d9-182d04308c96"
      },
      "outputs": [
        {
          "name": "stdout",
          "output_type": "stream",
          "text": [
            "1\n"
          ]
        }
      ],
      "source": [
        "print(myHashMap.get(2))"
      ]
    },
    {
      "cell_type": "code",
      "execution_count": null,
      "id": "840f914d",
      "metadata": {
        "id": "840f914d",
        "outputId": "5c98e572-ab7a-4186-9afb-fdf4c0e6a589",
        "colab": {
          "base_uri": "https://localhost:8080/"
        }
      },
      "outputs": [
        {
          "output_type": "stream",
          "name": "stdout",
          "text": [
            "[[1, 1]]\n"
          ]
        }
      ],
      "source": [
        "myHashMap.remove(2)\n",
        "print(myHashMap.data)"
      ]
    },
    {
      "cell_type": "code",
      "execution_count": null,
      "id": "e348a1b2",
      "metadata": {
        "scrolled": true,
        "id": "e348a1b2",
        "outputId": "1196cc95-29a5-45d1-ad2d-48621d5d6677"
      },
      "outputs": [
        {
          "name": "stdout",
          "output_type": "stream",
          "text": [
            "-1\n"
          ]
        }
      ],
      "source": [
        "print(myHashMap.get(2))"
      ]
    },
    {
      "cell_type": "markdown",
      "id": "f9d08394",
      "metadata": {
        "id": "f9d08394"
      },
      "source": [
        "## OOP Concepts - Part II"
      ]
    },
    {
      "cell_type": "markdown",
      "id": "ada50c02",
      "metadata": {
        "id": "ada50c02"
      },
      "source": [
        "### Inheritance"
      ]
    },
    {
      "cell_type": "code",
      "execution_count": null,
      "id": "e208d161",
      "metadata": {
        "id": "e208d161"
      },
      "outputs": [],
      "source": [
        "class Student:\n",
        "\n",
        "    num_of_students = 0 # Class attribute\n",
        "\n",
        "    # Define a constructor\n",
        "    def __init__(self, name):\n",
        "        self.name = name # Instance attribute\n",
        "        print(\"New student added:\", name)\n",
        "        Student.num_of_students += 1\n",
        "        self.grades = [] # Instance attribute\n",
        "\n",
        "    # Instance method\n",
        "    def add_grade(self, course, num_grade):\n",
        "        grade = Student.grade_mapper(num_grade)\n",
        "        self.grades.append((course, grade))\n",
        "        print(f\"Grade {grade} added for the course {course}\")\n",
        "\n",
        "    @classmethod\n",
        "    def class_count(cls):\n",
        "        return cls.num_of_students\n",
        "\n",
        "    @staticmethod\n",
        "    def grade_mapper(score):\n",
        "        if 85 <= score <= 100:\n",
        "            return 'A'\n",
        "        elif 70 <= score < 85:\n",
        "            return 'B'\n",
        "        elif 55 <= score < 70:\n",
        "            return 'C'\n",
        "        elif 40 <= score < 55:\n",
        "            return 'D'\n",
        "        else:\n",
        "            return 'F'"
      ]
    },
    {
      "cell_type": "code",
      "execution_count": null,
      "id": "c8a6ad88",
      "metadata": {
        "id": "c8a6ad88"
      },
      "outputs": [],
      "source": [
        "class NewGrad(Student):\n",
        "\n",
        "    def __init__(self, name, school):\n",
        "        super().__init__(name)\n",
        "        self.school = school\n",
        "\n",
        "    def isPassed(self):\n",
        "        for grade in self.grades:\n",
        "            if grade[1] >= 'C':\n",
        "                print(f\"{self.name} from {self.school} has failed the course {grade[0]} with grade {grade[1]}.\")\n",
        "                return False\n",
        "        print(f\"{self.name} from {self.school} has passed all tests.\")\n",
        "        return True"
      ]
    },
    {
      "cell_type": "code",
      "execution_count": null,
      "id": "82be8409",
      "metadata": {
        "id": "82be8409",
        "outputId": "cd3130e6-d95e-4e64-cf10-bbb3d7982aa8",
        "colab": {
          "base_uri": "https://localhost:8080/"
        }
      },
      "outputs": [
        {
          "output_type": "stream",
          "name": "stdout",
          "text": [
            "New student added: John\n",
            "Grade B added for the course Linear Algebra\n",
            "Grade C added for the course Optimal Control\n",
            "John from UCLA has failed the course Optimal Control with grade C.\n"
          ]
        },
        {
          "output_type": "execute_result",
          "data": {
            "text/plain": [
              "False"
            ]
          },
          "metadata": {},
          "execution_count": 46
        }
      ],
      "source": [
        "new_graduate1 = NewGrad(\"John\", \"UCLA\")\n",
        "\n",
        "new_graduate1.add_grade(\"Linear Algebra\", 78)\n",
        "new_graduate1.add_grade(\"Optimal Control\", 65)\n",
        "\n",
        "new_graduate1.isPassed()"
      ]
    },
    {
      "cell_type": "code",
      "execution_count": null,
      "id": "b2fb26e5",
      "metadata": {
        "scrolled": true,
        "id": "b2fb26e5",
        "outputId": "d6da6405-c08c-4202-8951-edd587b5fbda",
        "colab": {
          "base_uri": "https://localhost:8080/"
        }
      },
      "outputs": [
        {
          "output_type": "stream",
          "name": "stdout",
          "text": [
            "New student added: Mary\n",
            "Grade A added for the course Statistics\n",
            "Grade B added for the course Computer Vision\n",
            "Mary from Harvard has passed all tests.\n"
          ]
        },
        {
          "output_type": "execute_result",
          "data": {
            "text/plain": [
              "True"
            ]
          },
          "metadata": {},
          "execution_count": 47
        }
      ],
      "source": [
        "new_graduate2 = NewGrad(\"Mary\", \"Harvard\")\n",
        "\n",
        "new_graduate2.add_grade(\"Statistics\", 92)\n",
        "new_graduate2.add_grade(\"Computer Vision\", 83)\n",
        "\n",
        "new_graduate2.isPassed()"
      ]
    },
    {
      "cell_type": "markdown",
      "id": "84a86a9b",
      "metadata": {
        "id": "84a86a9b"
      },
      "source": [
        "#### Question: How does multiple inheritance work?"
      ]
    },
    {
      "cell_type": "code",
      "execution_count": null,
      "id": "6b013aad",
      "metadata": {
        "id": "6b013aad",
        "outputId": "6d485c78-cedd-4444-f327-040019eb8f41"
      },
      "outputs": [
        {
          "name": "stdout",
          "output_type": "stream",
          "text": [
            "Method A from class A\n",
            "Method B from class B\n",
            "Method C from class C\n",
            "Shared method A\n"
          ]
        }
      ],
      "source": [
        "class A:\n",
        "    def method_a(self):\n",
        "        print(\"Method A from class A\")\n",
        "\n",
        "    def shared_method(self):\n",
        "        print(\"Shared method A\")\n",
        "\n",
        "class B:\n",
        "    def method_b(self):\n",
        "        print(\"Method B from class B\")\n",
        "\n",
        "    def shared_method(self):\n",
        "        print(\"Shared method B\")\n",
        "\n",
        "class C(A, B):\n",
        "    def method_c(self):\n",
        "        print(\"Method C from class C\")\n",
        "\n",
        "# Creating an object of class C\n",
        "obj = C()\n",
        "\n",
        "# Calling methods inherited from class A\n",
        "obj.method_a()\n",
        "\n",
        "# Calling methods inherited from class B\n",
        "obj.method_b()\n",
        "\n",
        "# Calling method defined in class C\n",
        "obj.method_c()\n",
        "\n",
        "# Calling the shared method\n",
        "obj.shared_method()"
      ]
    },
    {
      "cell_type": "markdown",
      "id": "ab85f53f",
      "metadata": {
        "id": "ab85f53f"
      },
      "source": [
        "### Encapsulation"
      ]
    },
    {
      "cell_type": "code",
      "execution_count": null,
      "id": "9fbd12fd",
      "metadata": {
        "id": "9fbd12fd"
      },
      "outputs": [],
      "source": [
        "class Student:\n",
        "\n",
        "    _num_of_students = 0 # Protected class attribute\n",
        "\n",
        "    # Define a constructor\n",
        "    def __init__(self, name):\n",
        "        self._name = name # Protected instance attribute\n",
        "        print(\"New student added:\", name)\n",
        "        Student._num_of_students += 1\n",
        "        self.__grades = [] # Private instance attribute\n",
        "\n",
        "    # Instance method\n",
        "    def add_grade(self, course, num_grade):\n",
        "        grade = Student.__grade_mapper(num_grade)\n",
        "        self.__grades.append((course, grade))\n",
        "        print(f\"Grade {grade} added for the course {course}\")\n",
        "\n",
        "    @classmethod\n",
        "    def _class_count(cls):\n",
        "        return cls._num_of_students\n",
        "\n",
        "    @staticmethod\n",
        "    def __grade_mapper(score):\n",
        "        if 85 <= score <= 100:\n",
        "            return 'A'\n",
        "        elif 70 <= score < 85:\n",
        "            return 'B'\n",
        "        elif 55 <= score < 70:\n",
        "            return 'C'\n",
        "        elif 40 <= score < 55:\n",
        "            return 'D'\n",
        "        else:\n",
        "            return 'F'"
      ]
    },
    {
      "cell_type": "code",
      "execution_count": null,
      "id": "746ac390",
      "metadata": {
        "id": "746ac390",
        "outputId": "1db70943-e8e2-422b-f090-e6055e0000fe",
        "colab": {
          "base_uri": "https://localhost:8080/"
        }
      },
      "outputs": [
        {
          "output_type": "stream",
          "name": "stdout",
          "text": [
            "New student added: John\n"
          ]
        }
      ],
      "source": [
        "student1 = Student(\"John\")"
      ]
    },
    {
      "cell_type": "code",
      "execution_count": null,
      "id": "49e8aae4",
      "metadata": {
        "id": "49e8aae4",
        "outputId": "0932ec02-cbec-4063-f6ac-94927772c9b8",
        "colab": {
          "base_uri": "https://localhost:8080/",
          "height": 35
        }
      },
      "outputs": [
        {
          "output_type": "execute_result",
          "data": {
            "text/plain": [
              "'John'"
            ],
            "application/vnd.google.colaboratory.intrinsic+json": {
              "type": "string"
            }
          },
          "metadata": {},
          "execution_count": 50
        }
      ],
      "source": [
        "student1._name"
      ]
    },
    {
      "cell_type": "code",
      "execution_count": null,
      "id": "9842a9e3",
      "metadata": {
        "id": "9842a9e3",
        "outputId": "f8703759-c8d3-44ff-e87f-4af90eae016d",
        "colab": {
          "base_uri": "https://localhost:8080/"
        }
      },
      "outputs": [
        {
          "output_type": "execute_result",
          "data": {
            "text/plain": [
              "1"
            ]
          },
          "metadata": {},
          "execution_count": 51
        }
      ],
      "source": [
        "student1._num_of_students"
      ]
    },
    {
      "cell_type": "code",
      "execution_count": null,
      "id": "a2b6c4e4",
      "metadata": {
        "id": "a2b6c4e4",
        "outputId": "1bb7dff1-97dd-4486-8a7e-de84d0cedee6",
        "colab": {
          "base_uri": "https://localhost:8080/"
        }
      },
      "outputs": [
        {
          "output_type": "execute_result",
          "data": {
            "text/plain": [
              "1"
            ]
          },
          "metadata": {},
          "execution_count": 52
        }
      ],
      "source": [
        "student1._class_count()"
      ]
    },
    {
      "cell_type": "code",
      "execution_count": null,
      "id": "b8cfcd03",
      "metadata": {
        "scrolled": false,
        "id": "b8cfcd03",
        "outputId": "9c61348e-c2ff-4c60-f41c-7b1db4f211de",
        "colab": {
          "base_uri": "https://localhost:8080/",
          "height": 173
        }
      },
      "outputs": [
        {
          "output_type": "error",
          "ename": "AttributeError",
          "evalue": "'Student' object has no attribute '__grades'",
          "traceback": [
            "\u001b[0;31m---------------------------------------------------------------------------\u001b[0m",
            "\u001b[0;31mAttributeError\u001b[0m                            Traceback (most recent call last)",
            "\u001b[0;32m<ipython-input-53-66d8dcb41680>\u001b[0m in \u001b[0;36m<cell line: 0>\u001b[0;34m()\u001b[0m\n\u001b[0;32m----> 1\u001b[0;31m \u001b[0mstudent1\u001b[0m\u001b[0;34m.\u001b[0m\u001b[0m__grades\u001b[0m\u001b[0;34m\u001b[0m\u001b[0;34m\u001b[0m\u001b[0m\n\u001b[0m",
            "\u001b[0;31mAttributeError\u001b[0m: 'Student' object has no attribute '__grades'"
          ]
        }
      ],
      "source": [
        "student1.__grades"
      ]
    },
    {
      "cell_type": "code",
      "execution_count": null,
      "id": "02a4df79",
      "metadata": {
        "id": "02a4df79",
        "outputId": "1ed7747b-de2d-4017-ce5b-018a90865db6"
      },
      "outputs": [
        {
          "ename": "AttributeError",
          "evalue": "'Student' object has no attribute '__grade_mapper'",
          "output_type": "error",
          "traceback": [
            "\u001b[0;31m---------------------------------------------------------------------------\u001b[0m",
            "\u001b[0;31mAttributeError\u001b[0m                            Traceback (most recent call last)",
            "Cell \u001b[0;32mIn[39], line 1\u001b[0m\n\u001b[0;32m----> 1\u001b[0m \u001b[43mstudent1\u001b[49m\u001b[38;5;241;43m.\u001b[39;49m\u001b[43m__grade_mapper\u001b[49m(\u001b[38;5;241m92\u001b[39m)\n",
            "\u001b[0;31mAttributeError\u001b[0m: 'Student' object has no attribute '__grade_mapper'"
          ]
        }
      ],
      "source": [
        "student1.__grade_mapper(92)"
      ]
    },
    {
      "cell_type": "markdown",
      "id": "251dca53",
      "metadata": {
        "id": "251dca53"
      },
      "source": [
        "### Polymorphism"
      ]
    },
    {
      "cell_type": "code",
      "execution_count": null,
      "id": "50229ff5",
      "metadata": {
        "id": "50229ff5"
      },
      "outputs": [],
      "source": [
        "class Student:\n",
        "\n",
        "    num_of_students = 0\n",
        "\n",
        "    # Define a constructor\n",
        "    def __init__(self, name):\n",
        "        self.name = name\n",
        "        print(\"New student added:\", name)\n",
        "        Student.num_of_students += 1\n",
        "        self.grades = []\n",
        "\n",
        "    # Instance method\n",
        "    def add_grade(self, course, num_grade):\n",
        "        grade = Student.grade_mapper(num_grade)\n",
        "        self.grades.append((course, grade))\n",
        "        print(f\"Grade {grade} added for the course {course}\")\n",
        "\n",
        "    @classmethod\n",
        "    def class_count(cls):\n",
        "        return cls.num_of_students\n",
        "\n",
        "    @staticmethod\n",
        "    def grade_mapper(score):\n",
        "        if 85 <= score <= 100:\n",
        "            return 'A'\n",
        "        elif 70 <= score < 85:\n",
        "            return 'B'\n",
        "        elif 55 <= score < 70:\n",
        "            return 'C'\n",
        "        elif 40 <= score < 55:\n",
        "            return 'D'\n",
        "        else:\n",
        "            return 'F'\n",
        "\n",
        "    def isPassed(self):\n",
        "        pass"
      ]
    },
    {
      "cell_type": "code",
      "execution_count": null,
      "id": "ba863edb",
      "metadata": {
        "id": "ba863edb"
      },
      "outputs": [],
      "source": [
        "class NewGrad(Student):\n",
        "\n",
        "    def __init__(self, name, school):\n",
        "        super().__init__(name)\n",
        "        self.school = school\n",
        "\n",
        "    def isPassed(self):\n",
        "        for grade in self.grades:\n",
        "            if grade[1] >= 'C':\n",
        "                print(f\"{self.name} from {self.school} has failed the course {grade[0]} with grade {grade[1]}.\")\n",
        "                return False\n",
        "        print(f\"{self.name} from {self.school} has passed all tests.\")\n",
        "        return True"
      ]
    },
    {
      "cell_type": "code",
      "execution_count": null,
      "id": "53719582",
      "metadata": {
        "id": "53719582",
        "outputId": "39b76262-5b30-42eb-bc26-f926439c624e",
        "colab": {
          "base_uri": "https://localhost:8080/"
        }
      },
      "outputs": [
        {
          "output_type": "stream",
          "name": "stdout",
          "text": [
            "New student added: John\n",
            "Grade B added for the course Linear Algebra\n",
            "Grade B added for the course Optimal Control\n",
            "John from UCLA has passed all tests.\n"
          ]
        },
        {
          "output_type": "execute_result",
          "data": {
            "text/plain": [
              "True"
            ]
          },
          "metadata": {},
          "execution_count": 71
        }
      ],
      "source": [
        "new_student = NewGrad(\"John\", 'UCLA')\n",
        "\n",
        "new_student.add_grade(\"Linear Algebra\", 78)\n",
        "new_student.add_grade(\"Optimal Control\", 80)\n",
        "\n",
        "new_student.isPassed()"
      ]
    },
    {
      "cell_type": "markdown",
      "id": "696b415d",
      "metadata": {
        "id": "696b415d"
      },
      "source": [
        "#### Question: Method overloading in Python"
      ]
    },
    {
      "cell_type": "markdown",
      "id": "740bd867",
      "metadata": {
        "id": "740bd867"
      },
      "source": [
        "In Python, method overloading as it is known in languages like Java or C++ (where multiple methods can have the same name but different parameter lists) doesn't exist in the same way. Python does not support method overloading natively. Instead, Python allows you to define a method with the same name only once in a class. If you define the same method multiple times, the last definition will override the previous ones."
      ]
    },
    {
      "cell_type": "markdown",
      "id": "6c9efb0e",
      "metadata": {
        "id": "6c9efb0e"
      },
      "source": [
        "#### Using Default Arguments"
      ]
    },
    {
      "cell_type": "code",
      "execution_count": null,
      "id": "f378a906",
      "metadata": {
        "id": "f378a906",
        "outputId": "9d698bd7-1a2b-4071-abd6-17359ac0e4bf"
      },
      "outputs": [
        {
          "name": "stdout",
          "output_type": "stream",
          "text": [
            "Hello, World!\n",
            "Hello, Alice!\n"
          ]
        }
      ],
      "source": [
        "class Example:\n",
        "    def greet(self, name=\"World\"):\n",
        "        print(f\"Hello, {name}!\")\n",
        "\n",
        "obj = Example()\n",
        "obj.greet()           # Output: Hello, World!\n",
        "obj.greet(\"Alice\")    # Output: Hello, Alice!"
      ]
    },
    {
      "cell_type": "markdown",
      "id": "78dc43e4",
      "metadata": {
        "id": "78dc43e4"
      },
      "source": [
        "#### Using Variable-Length Arguments ('*args')"
      ]
    },
    {
      "cell_type": "code",
      "source": [
        "def add_numbers(a, b):\n",
        "  return a + b"
      ],
      "metadata": {
        "id": "21N6uye7I274"
      },
      "id": "21N6uye7I274",
      "execution_count": null,
      "outputs": []
    },
    {
      "cell_type": "code",
      "source": [
        "add_numbers(10,20)"
      ],
      "metadata": {
        "id": "Pl2ZzWNrI7w1",
        "outputId": "7ff3f7a8-ba32-4d62-faa1-1e64f69a9eb4",
        "colab": {
          "base_uri": "https://localhost:8080/"
        }
      },
      "id": "Pl2ZzWNrI7w1",
      "execution_count": null,
      "outputs": [
        {
          "output_type": "execute_result",
          "data": {
            "text/plain": [
              "30"
            ]
          },
          "metadata": {},
          "execution_count": 74
        }
      ]
    },
    {
      "cell_type": "code",
      "source": [
        "def add_numbers(a, b, c=0):\n",
        "  return a + b + c"
      ],
      "metadata": {
        "id": "OsQ4iHUeJAUl"
      },
      "id": "OsQ4iHUeJAUl",
      "execution_count": null,
      "outputs": []
    },
    {
      "cell_type": "code",
      "source": [
        "add_numbers(10, 20)"
      ],
      "metadata": {
        "id": "8NWHgzUDJKOR",
        "outputId": "77ff6974-be1e-429a-f079-df24f0426624",
        "colab": {
          "base_uri": "https://localhost:8080/"
        }
      },
      "id": "8NWHgzUDJKOR",
      "execution_count": null,
      "outputs": [
        {
          "output_type": "execute_result",
          "data": {
            "text/plain": [
              "30"
            ]
          },
          "metadata": {},
          "execution_count": 77
        }
      ]
    },
    {
      "cell_type": "code",
      "source": [
        "add_numbers(10, 20, 30)"
      ],
      "metadata": {
        "id": "WnarurDnJNJa",
        "outputId": "ff6cd595-d433-4556-a0e0-04a64719bf6a",
        "colab": {
          "base_uri": "https://localhost:8080/"
        }
      },
      "id": "WnarurDnJNJa",
      "execution_count": null,
      "outputs": [
        {
          "output_type": "execute_result",
          "data": {
            "text/plain": [
              "60"
            ]
          },
          "metadata": {},
          "execution_count": 78
        }
      ]
    },
    {
      "cell_type": "code",
      "source": [
        "def add_numbers_smartly(*args):\n",
        "  result = 0\n",
        "  for num in args:\n",
        "    result += num # result = result + num\n",
        "  return result"
      ],
      "metadata": {
        "id": "GZvX5LXvJI8t"
      },
      "id": "GZvX5LXvJI8t",
      "execution_count": null,
      "outputs": []
    },
    {
      "cell_type": "code",
      "source": [
        "add_numbers_smartly(1, 2, 3)"
      ],
      "metadata": {
        "id": "C188G0KpJh9s",
        "outputId": "ae62a1f8-45de-4c60-a8b6-a3d0308f533e",
        "colab": {
          "base_uri": "https://localhost:8080/"
        }
      },
      "id": "C188G0KpJh9s",
      "execution_count": null,
      "outputs": [
        {
          "output_type": "execute_result",
          "data": {
            "text/plain": [
              "6"
            ]
          },
          "metadata": {},
          "execution_count": 81
        }
      ]
    },
    {
      "cell_type": "code",
      "source": [
        "add_numbers_smartly(10, 20, 30, 40)"
      ],
      "metadata": {
        "id": "faeaO8OmJkNY",
        "outputId": "06a7ccf4-6ec1-482d-a1b0-93671881faef",
        "colab": {
          "base_uri": "https://localhost:8080/"
        }
      },
      "id": "faeaO8OmJkNY",
      "execution_count": null,
      "outputs": [
        {
          "output_type": "execute_result",
          "data": {
            "text/plain": [
              "100"
            ]
          },
          "metadata": {},
          "execution_count": 82
        }
      ]
    },
    {
      "cell_type": "code",
      "source": [
        "# **kwargs example\n",
        "\n",
        "def print_info(**kwargs):\n",
        "    for key, value in kwargs.items():\n",
        "        print(f\"{key}: {value}\")\n",
        "\n",
        "print_info(name=\"John\", age=25, city=\"New York\")"
      ],
      "metadata": {
        "id": "dWm0nSwUJuYa",
        "outputId": "669e988a-1ffd-4dba-858d-d6743bf87032",
        "colab": {
          "base_uri": "https://localhost:8080/"
        }
      },
      "id": "dWm0nSwUJuYa",
      "execution_count": null,
      "outputs": [
        {
          "output_type": "stream",
          "name": "stdout",
          "text": [
            "name: John\n",
            "age: 25\n",
            "city: New York\n"
          ]
        }
      ]
    },
    {
      "cell_type": "code",
      "source": [
        "print_info(today='2nd Feb', thisclass='Fundaments 3', whatwearelearning='OOP')"
      ],
      "metadata": {
        "id": "FKvqAIo9KOYe",
        "outputId": "349da9c1-638d-4cd6-acdc-2a97d14d48be",
        "colab": {
          "base_uri": "https://localhost:8080/"
        }
      },
      "id": "FKvqAIo9KOYe",
      "execution_count": null,
      "outputs": [
        {
          "output_type": "stream",
          "name": "stdout",
          "text": [
            "today: 2nd Feb\n",
            "thisclass: Fundaments 3\n",
            "whatwearelearning: OOP\n"
          ]
        }
      ]
    },
    {
      "cell_type": "code",
      "source": [
        "def print_employee_details(**kwargs):\n",
        "  pass"
      ],
      "metadata": {
        "id": "aGzAPK5XKgVO"
      },
      "id": "aGzAPK5XKgVO",
      "execution_count": null,
      "outputs": []
    },
    {
      "cell_type": "code",
      "execution_count": null,
      "id": "01aea848",
      "metadata": {
        "id": "01aea848",
        "outputId": "f1459264-4117-47ae-8335-58d5aaadd82f"
      },
      "outputs": [
        {
          "name": "stdout",
          "output_type": "stream",
          "text": [
            "5\n",
            "14\n"
          ]
        }
      ],
      "source": [
        "class Example:\n",
        "    def add(self, *args):\n",
        "        return sum(args)\n",
        "\n",
        "obj = Example()\n",
        "print(obj.add(2, 3))          # Output: 5\n",
        "print(obj.add(2, 3, 4, 5))    # Output: 14"
      ]
    },
    {
      "cell_type": "markdown",
      "id": "9e0f9520",
      "metadata": {
        "id": "9e0f9520"
      },
      "source": [
        "#### Using Type Checking in Methods"
      ]
    },
    {
      "cell_type": "code",
      "execution_count": null,
      "id": "86760de5",
      "metadata": {
        "id": "86760de5",
        "outputId": "5e6e380c-2087-452f-8a23-021e85ffb4ae"
      },
      "outputs": [
        {
          "name": "stdout",
          "output_type": "stream",
          "text": [
            "16\n",
            "9\n",
            "Hello, World!\n"
          ]
        }
      ],
      "source": [
        "class Example:\n",
        "    def operate(self, a, b=None):\n",
        "        if b is None:\n",
        "            return a * a  # Assume a is a number\n",
        "        elif isinstance(a, str) and isinstance(b, str):\n",
        "            return a + b  # Concatenate if both are strings\n",
        "        else:\n",
        "            return a + b  # Assume a and b are numbers and add them\n",
        "\n",
        "obj = Example()\n",
        "print(obj.operate(4))          # Output: 16 (square of 4)\n",
        "print(obj.operate(4, 5))       # Output: 9 (sum of 4 and 5)\n",
        "print(obj.operate(\"Hello, \", \"World!\"))  # Output: Hello, World!"
      ]
    },
    {
      "cell_type": "markdown",
      "id": "e6d7b3d4",
      "metadata": {
        "id": "e6d7b3d4"
      },
      "source": [
        "See the following for more information: https://www.geeksforgeeks.org/method-overriding-in-python/"
      ]
    },
    {
      "cell_type": "markdown",
      "id": "499f7b71",
      "metadata": {
        "id": "499f7b71"
      },
      "source": [
        "### Class Activity"
      ]
    },
    {
      "cell_type": "code",
      "execution_count": null,
      "id": "0fe7e397",
      "metadata": {
        "id": "0fe7e397"
      },
      "outputs": [],
      "source": [
        "# Base Class\n",
        "class Animal:\n",
        "    def __init__(self, name, species, age):\n",
        "        # Initialize the name, species, and age as private attributes\n",
        "        self.__name = name\n",
        "        self.__species = species\n",
        "        self.__age = age\n",
        "\n",
        "    def get_info(self):\n",
        "        # Return a string with the animal's name, species, and age\n",
        "        return f\"Animal name is {self.__name}, species is {self.__species}, age is {self.__age}\"\n",
        "\n",
        "    def make_sound(self):\n",
        "        return \"Some generic animal sound\"\n",
        "\n",
        "# Derived Class: Mammal\n",
        "class Mammal(Animal):\n",
        "    def __init__(self, name, species, age, fur_color):\n",
        "        # Initialize the mammal with its specific private attributes\n",
        "        super().__init__(name, species, age)\n",
        "        self.__fur_color = fur_color\n",
        "\n",
        "    def make_sound(self):\n",
        "        return \"Generic Mammal Sound\"\n",
        "\n",
        "# Derived Class: Bird\n",
        "class Bird(Animal):\n",
        "    def __init__(self, name, species, age, wing_span):\n",
        "        # Initialize the bird with its private specific attributes\n",
        "        super().__init__(name, species, age)\n",
        "        self.__wing_span = wing_span\n",
        "\n",
        "    def make_sound(self):\n",
        "        return \"Tweet Tweet\"\n",
        "\n",
        "# Specific Animal: Lion\n",
        "class Lion(Mammal):\n",
        "    def __init__(self, name, age, fur_color):\n",
        "        # Initialize the lion with its private specific attributes\n",
        "        super().__init__(name, \"Lion\", age, fur_color)\n",
        "\n",
        "    def make_sound(self):\n",
        "        return \"Roar\"\n",
        "\n",
        "# Specific Animal: Parrot\n",
        "class Parrot(Bird):\n",
        "    def __init__(self, name, age, wing_span):\n",
        "        # Initialize the parrot with its specific attributes\n",
        "        super().__init__(name, \"Parrot\", age, wing_span)\n",
        "\n",
        "    def make_sound(self):\n",
        "        return \"Squawk\""
      ]
    },
    {
      "cell_type": "code",
      "execution_count": null,
      "id": "67125264",
      "metadata": {
        "scrolled": false,
        "id": "67125264",
        "outputId": "78e7677a-2abe-41e4-ee7f-b275db736b02"
      },
      "outputs": [
        {
          "name": "stdout",
          "output_type": "stream",
          "text": [
            "Animal name is Leo, species is Lion, age is 5\n",
            "Animal name is Polly, species is Parrot, age is 2\n",
            "Roar\n",
            "Squawk\n"
          ]
        }
      ],
      "source": [
        "lion = Lion(name=\"Leo\", age=5, fur_color=\"Golden\")\n",
        "parrot = Parrot(name=\"Polly\", age=2, wing_span=0.25)\n",
        "\n",
        "print(lion.get_info())\n",
        "print(parrot.get_info())\n",
        "\n",
        "animals = [lion, parrot]\n",
        "\n",
        "for animal in animals:\n",
        "    print(animal.make_sound())"
      ]
    },
    {
      "cell_type": "markdown",
      "id": "0f4e5774",
      "metadata": {
        "id": "0f4e5774"
      },
      "source": [
        "## Custom Sort Functions"
      ]
    },
    {
      "cell_type": "markdown",
      "id": "9a0a09e9",
      "metadata": {
        "id": "9a0a09e9"
      },
      "source": [
        "### sorted()"
      ]
    },
    {
      "cell_type": "code",
      "execution_count": null,
      "id": "bdde5e84",
      "metadata": {
        "scrolled": true,
        "id": "bdde5e84",
        "outputId": "ac8615dd-16d7-4a41-83f8-f1ccd7a1c198",
        "colab": {
          "base_uri": "https://localhost:8080/"
        }
      },
      "outputs": [
        {
          "output_type": "stream",
          "name": "stdout",
          "text": [
            "Original list: [4, 2, 9, 1, 5]\n",
            "Sorted list: [1, 2, 4, 5, 9]\n"
          ]
        }
      ],
      "source": [
        "numbers = [4, 2, 9, 1, 5]\n",
        "\n",
        "sorted_list = sorted(numbers)\n",
        "\n",
        "print(\"Original list:\", numbers)\n",
        "print(\"Sorted list:\", sorted_list)"
      ]
    },
    {
      "cell_type": "code",
      "execution_count": null,
      "id": "d61daf21",
      "metadata": {
        "id": "d61daf21",
        "outputId": "d0da94e6-74b4-455d-b47b-e7a3a54e2073"
      },
      "outputs": [
        {
          "name": "stdout",
          "output_type": "stream",
          "text": [
            "Original list: [4, 2, 9, 1, 5]\n",
            "Sorted list [1, 2, 4, 5, 9]\n"
          ]
        }
      ],
      "source": [
        "sorted_numbers = sorted(numbers)\n",
        "\n",
        "print(\"Original list:\", numbers)\n",
        "print(\"Sorted list\", sorted_numbers)"
      ]
    },
    {
      "cell_type": "markdown",
      "id": "487e9403",
      "metadata": {
        "id": "487e9403"
      },
      "source": [
        "### sort()"
      ]
    },
    {
      "cell_type": "code",
      "execution_count": null,
      "id": "0cdd73a6",
      "metadata": {
        "id": "0cdd73a6",
        "outputId": "f462eaeb-45d9-49ac-e172-6a174a40cf3a",
        "colab": {
          "base_uri": "https://localhost:8080/"
        }
      },
      "outputs": [
        {
          "output_type": "stream",
          "name": "stdout",
          "text": [
            "List before sort: [4, 2, 9, 1, 5]\n",
            "List after sort: [1, 2, 4, 5, 9]\n"
          ]
        }
      ],
      "source": [
        "numbers = [4, 2, 9, 1, 5]\n",
        "\n",
        "print(\"List before sort:\", numbers)\n",
        "\n",
        "numbers.sort()\n",
        "\n",
        "print(\"List after sort:\", numbers)"
      ]
    },
    {
      "cell_type": "code",
      "execution_count": null,
      "id": "9212c8f3",
      "metadata": {
        "id": "9212c8f3",
        "outputId": "df6e7472-f8fb-4e30-f67e-86c01bd8f2aa"
      },
      "outputs": [
        {
          "name": "stdout",
          "output_type": "stream",
          "text": [
            "None\n"
          ]
        }
      ],
      "source": [
        "print(numbers.sort())"
      ]
    },
    {
      "cell_type": "markdown",
      "id": "3688eb1c",
      "metadata": {
        "id": "3688eb1c"
      },
      "source": [
        "### key / reverse"
      ]
    },
    {
      "cell_type": "code",
      "execution_count": null,
      "id": "9a93292b",
      "metadata": {
        "id": "9a93292b"
      },
      "outputs": [],
      "source": [
        "words = [\"apple\", \"banana\", \"cherry\", \"date\", \"fig\", \"bananas\"]"
      ]
    },
    {
      "cell_type": "code",
      "source": [
        "sorted(words)"
      ],
      "metadata": {
        "id": "S0hTu14ORdut",
        "outputId": "8febd37c-70a9-4b6f-a2b6-9923d691420f",
        "colab": {
          "base_uri": "https://localhost:8080/"
        }
      },
      "id": "S0hTu14ORdut",
      "execution_count": null,
      "outputs": [
        {
          "output_type": "execute_result",
          "data": {
            "text/plain": [
              "['apple', 'banana', 'bananas', 'cherry', 'date', 'fig']"
            ]
          },
          "metadata": {},
          "execution_count": 88
        }
      ]
    },
    {
      "cell_type": "code",
      "execution_count": null,
      "id": "e5faa00f",
      "metadata": {
        "id": "e5faa00f",
        "outputId": "e09cb541-5a13-45a6-99b2-5ab3dceacf8d",
        "colab": {
          "base_uri": "https://localhost:8080/"
        }
      },
      "outputs": [
        {
          "output_type": "stream",
          "name": "stdout",
          "text": [
            "['fig', 'date', 'apple', 'banana', 'cherry', 'bananas']\n"
          ]
        }
      ],
      "source": [
        "# sort based on length\n",
        "sorted_words = sorted(words, key=lambda x: len(x))\n",
        "# sorted_words = sorted(words, key=len)\n",
        "print(sorted_words)"
      ]
    },
    {
      "cell_type": "code",
      "execution_count": null,
      "id": "18b32560",
      "metadata": {
        "id": "18b32560",
        "outputId": "b22e61ce-f9ad-46b5-ebff-40a3fb19e5b9",
        "colab": {
          "base_uri": "https://localhost:8080/"
        }
      },
      "outputs": [
        {
          "output_type": "stream",
          "name": "stdout",
          "text": [
            "['bananas', 'banana', 'cherry', 'apple', 'date', 'fig']\n"
          ]
        }
      ],
      "source": [
        "# sort based on length in reverse order\n",
        "sorted_words = sorted(words, key=len, reverse=True)\n",
        "print(sorted_words)"
      ]
    },
    {
      "cell_type": "code",
      "execution_count": null,
      "id": "f2b080f7",
      "metadata": {
        "id": "f2b080f7",
        "outputId": "a832270b-9b2e-45ab-d155-a7e4b4e6f3e5"
      },
      "outputs": [
        {
          "name": "stdout",
          "output_type": "stream",
          "text": [
            "['banana', 'bananas', 'date', 'cherry', 'fig', 'apple']\n"
          ]
        }
      ],
      "source": [
        "# sort based on the second letter\n",
        "sorted_words2 = sorted(words, key=lambda x: (x[1], x[0]))\n",
        "print(sorted_words2)"
      ]
    },
    {
      "cell_type": "markdown",
      "id": "cd8b5131",
      "metadata": {
        "id": "cd8b5131"
      },
      "source": [
        "#### Exercise"
      ]
    },
    {
      "cell_type": "markdown",
      "id": "3ec623d1",
      "metadata": {
        "id": "3ec623d1"
      },
      "source": [
        "What are the outputs to the following sorts:"
      ]
    },
    {
      "cell_type": "code",
      "execution_count": null,
      "id": "763f70ee",
      "metadata": {
        "id": "763f70ee",
        "outputId": "4cd40576-7bbc-47d8-f72a-8aeb1934849c"
      },
      "outputs": [
        {
          "name": "stdout",
          "output_type": "stream",
          "text": [
            "abcd cadb cbda\n"
          ]
        }
      ],
      "source": [
        "points = [['a', 1, 2], ['c', 0, 4], ['b', 6, 3], ['d', 1, 3]]\n",
        "\n",
        "sorted_points1 = sorted(points)\n",
        "sorted_points2 = sorted(points, key=lambda x: (x[1]))\n",
        "sorted_points3 = sorted(points, key=lambda x: (x[2], x[1]), reverse=True)\n",
        "\n",
        "print(''.join([x[0] for x in sorted_points1]), end=' ')\n",
        "print(''.join([x[0] for x in sorted_points2]), end=' ')\n",
        "print(''.join([x[0] for x in sorted_points3]))\n",
        "\n",
        "# abcd cadb cbda (Correct ans)\n",
        "# abcd badc cdab\n",
        "# abcd cadb adbc\n",
        "# acbd cadb cbda"
      ]
    },
    {
      "cell_type": "markdown",
      "id": "f7cc4dee",
      "metadata": {
        "id": "f7cc4dee"
      },
      "source": [
        "#### Exercise"
      ]
    },
    {
      "cell_type": "markdown",
      "id": "51cf8b9f",
      "metadata": {
        "id": "51cf8b9f"
      },
      "source": [
        "Consider the following class:"
      ]
    },
    {
      "cell_type": "code",
      "execution_count": null,
      "id": "da40b864",
      "metadata": {
        "id": "da40b864"
      },
      "outputs": [],
      "source": [
        "class Employee:\n",
        "\n",
        "    def __init__(self, name, dept, age):\n",
        "        self.name = name\n",
        "        self.dept = dept\n",
        "        self.age = age\n",
        "\n",
        "    def __repr__(self):\n",
        "        return f\"({self.name}, {self.age})\""
      ]
    },
    {
      "cell_type": "markdown",
      "id": "f97bf38b",
      "metadata": {
        "id": "f97bf38b"
      },
      "source": [
        "Create the following list of employees and sort the list based on employees names:\n",
        "- Name: John, Department: IT, Age: 28\n",
        "- Name: Sam, Department: Banking, Age: 20\n",
        "- Name: John, Department: Finance, Age: 25\n",
        "\n",
        "In case of a tie, order based on age."
      ]
    },
    {
      "cell_type": "code",
      "execution_count": null,
      "id": "d73b247f",
      "metadata": {
        "id": "d73b247f",
        "outputId": "e800c508-6975-4ccc-90d6-c446bc87eb73"
      },
      "outputs": [
        {
          "name": "stdout",
          "output_type": "stream",
          "text": [
            "[(John, 25), (John, 28), (Sam, 20)]\n"
          ]
        }
      ],
      "source": [
        "# Write your code here\n",
        "\n",
        "# create objects\n",
        "employee1 = Employee(\"John\", \"IT\", 28)\n",
        "employee2 = Employee(\"Sam\", \"Banking\", 20)\n",
        "employee3 = Employee(\"John\", \"Finance\", 25)\n",
        "\n",
        "# create list of employees\n",
        "employees = [employee1, employee2, employee3]\n",
        "\n",
        "# sorted the list\n",
        "sorted_list = sorted(employees, key=lambda x: (x.name, x.age))\n",
        "\n",
        "print(sorted_list)"
      ]
    },
    {
      "cell_type": "markdown",
      "id": "688476b1",
      "metadata": {
        "id": "688476b1"
      },
      "source": [
        "## Exception Handling"
      ]
    },
    {
      "cell_type": "markdown",
      "id": "0264ace5",
      "metadata": {
        "id": "0264ace5"
      },
      "source": [
        "### Common Errors"
      ]
    },
    {
      "cell_type": "code",
      "execution_count": null,
      "id": "513db0dd",
      "metadata": {
        "id": "513db0dd",
        "outputId": "7100eb31-de7f-4bbd-eefa-94e5581d41fb",
        "colab": {
          "base_uri": "https://localhost:8080/",
          "height": 105
        }
      },
      "outputs": [
        {
          "output_type": "error",
          "ename": "SyntaxError",
          "evalue": "incomplete input (<ipython-input-91-868da01a8ef6>, line 2)",
          "traceback": [
            "\u001b[0;36m  File \u001b[0;32m\"<ipython-input-91-868da01a8ef6>\"\u001b[0;36m, line \u001b[0;32m2\u001b[0m\n\u001b[0;31m    print(\"Hello World\"\u001b[0m\n\u001b[0m                       ^\u001b[0m\n\u001b[0;31mSyntaxError\u001b[0m\u001b[0;31m:\u001b[0m incomplete input\n"
          ]
        }
      ],
      "source": [
        "# SyntaxError - Missing closing parenthesis\n",
        "print(\"Hello World\""
      ]
    },
    {
      "cell_type": "code",
      "execution_count": null,
      "id": "4edca494",
      "metadata": {
        "id": "4edca494",
        "outputId": "c8af39a4-7b77-47b0-c6b3-250140f6fd9b"
      },
      "outputs": [
        {
          "ename": "TypeError",
          "evalue": "can only concatenate str (not \"int\") to str",
          "output_type": "error",
          "traceback": [
            "\u001b[0;31m---------------------------------------------------------------------------\u001b[0m",
            "\u001b[0;31mTypeError\u001b[0m                                 Traceback (most recent call last)",
            "Cell \u001b[0;32mIn[60], line 2\u001b[0m\n\u001b[1;32m      1\u001b[0m \u001b[38;5;66;03m# TypeError - Trying to add a string and an integer\u001b[39;00m\n\u001b[0;32m----> 2\u001b[0m result \u001b[38;5;241m=\u001b[39m \u001b[38;5;124;43m\"\u001b[39;49m\u001b[38;5;124;43m5\u001b[39;49m\u001b[38;5;124;43m\"\u001b[39;49m\u001b[43m \u001b[49m\u001b[38;5;241;43m+\u001b[39;49m\u001b[43m \u001b[49m\u001b[38;5;241;43m3\u001b[39;49m\n",
            "\u001b[0;31mTypeError\u001b[0m: can only concatenate str (not \"int\") to str"
          ]
        }
      ],
      "source": [
        "# TypeError - Trying to add a string and an integer\n",
        "result = \"5\" + 3"
      ]
    },
    {
      "cell_type": "code",
      "execution_count": null,
      "id": "0c9ef96d",
      "metadata": {
        "id": "0c9ef96d",
        "outputId": "e527b7d7-865e-4fba-dcab-04380c7da0b9"
      },
      "outputs": [
        {
          "ename": "ValueError",
          "evalue": "invalid literal for int() with base 10: 'abc'",
          "output_type": "error",
          "traceback": [
            "\u001b[0;31m---------------------------------------------------------------------------\u001b[0m",
            "\u001b[0;31mValueError\u001b[0m                                Traceback (most recent call last)",
            "Cell \u001b[0;32mIn[61], line 3\u001b[0m\n\u001b[1;32m      1\u001b[0m \u001b[38;5;66;03m# ValueError - Converting a non-numeric string to an integer\u001b[39;00m\n\u001b[1;32m      2\u001b[0m number_str \u001b[38;5;241m=\u001b[39m \u001b[38;5;124m\"\u001b[39m\u001b[38;5;124mabc\u001b[39m\u001b[38;5;124m\"\u001b[39m\n\u001b[0;32m----> 3\u001b[0m result \u001b[38;5;241m=\u001b[39m \u001b[38;5;28;43mint\u001b[39;49m\u001b[43m(\u001b[49m\u001b[43mnumber_str\u001b[49m\u001b[43m)\u001b[49m\n",
            "\u001b[0;31mValueError\u001b[0m: invalid literal for int() with base 10: 'abc'"
          ]
        }
      ],
      "source": [
        "# ValueError - Converting a non-numeric string to an integer\n",
        "number_str = \"abc\"\n",
        "result = int(number_str)"
      ]
    },
    {
      "cell_type": "code",
      "execution_count": null,
      "id": "b756d772",
      "metadata": {
        "id": "b756d772",
        "outputId": "b55f86e8-05bb-4c2b-a8a0-f2210a5c9491"
      },
      "outputs": [
        {
          "ename": "FileNotFoundError",
          "evalue": "[Errno 2] No such file or directory: 'non_existent_file.txt'",
          "output_type": "error",
          "traceback": [
            "\u001b[0;31m---------------------------------------------------------------------------\u001b[0m",
            "\u001b[0;31mFileNotFoundError\u001b[0m                         Traceback (most recent call last)",
            "Cell \u001b[0;32mIn[62], line 3\u001b[0m\n\u001b[1;32m      1\u001b[0m \u001b[38;5;66;03m# FileNotFoundError - Trying to open a non-existent file\u001b[39;00m\n\u001b[1;32m      2\u001b[0m file_path \u001b[38;5;241m=\u001b[39m \u001b[38;5;124m\"\u001b[39m\u001b[38;5;124mnon_existent_file.txt\u001b[39m\u001b[38;5;124m\"\u001b[39m\n\u001b[0;32m----> 3\u001b[0m \u001b[38;5;28;01mwith\u001b[39;00m \u001b[38;5;28;43mopen\u001b[39;49m\u001b[43m(\u001b[49m\u001b[43mfile_path\u001b[49m\u001b[43m,\u001b[49m\u001b[43m \u001b[49m\u001b[38;5;124;43m\"\u001b[39;49m\u001b[38;5;124;43mr\u001b[39;49m\u001b[38;5;124;43m\"\u001b[39;49m\u001b[43m)\u001b[49m \u001b[38;5;28;01mas\u001b[39;00m file:\n\u001b[1;32m      4\u001b[0m     content \u001b[38;5;241m=\u001b[39m file\u001b[38;5;241m.\u001b[39mread()\n",
            "File \u001b[0;32m~/anaconda3/lib/python3.10/site-packages/IPython/core/interactiveshell.py:282\u001b[0m, in \u001b[0;36m_modified_open\u001b[0;34m(file, *args, **kwargs)\u001b[0m\n\u001b[1;32m    275\u001b[0m \u001b[38;5;28;01mif\u001b[39;00m file \u001b[38;5;129;01min\u001b[39;00m {\u001b[38;5;241m0\u001b[39m, \u001b[38;5;241m1\u001b[39m, \u001b[38;5;241m2\u001b[39m}:\n\u001b[1;32m    276\u001b[0m     \u001b[38;5;28;01mraise\u001b[39;00m \u001b[38;5;167;01mValueError\u001b[39;00m(\n\u001b[1;32m    277\u001b[0m         \u001b[38;5;124mf\u001b[39m\u001b[38;5;124m\"\u001b[39m\u001b[38;5;124mIPython won\u001b[39m\u001b[38;5;124m'\u001b[39m\u001b[38;5;124mt let you open fd=\u001b[39m\u001b[38;5;132;01m{\u001b[39;00mfile\u001b[38;5;132;01m}\u001b[39;00m\u001b[38;5;124m by default \u001b[39m\u001b[38;5;124m\"\u001b[39m\n\u001b[1;32m    278\u001b[0m         \u001b[38;5;124m\"\u001b[39m\u001b[38;5;124mas it is likely to crash IPython. If you know what you are doing, \u001b[39m\u001b[38;5;124m\"\u001b[39m\n\u001b[1;32m    279\u001b[0m         \u001b[38;5;124m\"\u001b[39m\u001b[38;5;124myou can use builtins\u001b[39m\u001b[38;5;124m'\u001b[39m\u001b[38;5;124m open.\u001b[39m\u001b[38;5;124m\"\u001b[39m\n\u001b[1;32m    280\u001b[0m     )\n\u001b[0;32m--> 282\u001b[0m \u001b[38;5;28;01mreturn\u001b[39;00m \u001b[43mio_open\u001b[49m\u001b[43m(\u001b[49m\u001b[43mfile\u001b[49m\u001b[43m,\u001b[49m\u001b[43m \u001b[49m\u001b[38;5;241;43m*\u001b[39;49m\u001b[43margs\u001b[49m\u001b[43m,\u001b[49m\u001b[43m \u001b[49m\u001b[38;5;241;43m*\u001b[39;49m\u001b[38;5;241;43m*\u001b[39;49m\u001b[43mkwargs\u001b[49m\u001b[43m)\u001b[49m\n",
            "\u001b[0;31mFileNotFoundError\u001b[0m: [Errno 2] No such file or directory: 'non_existent_file.txt'"
          ]
        }
      ],
      "source": [
        "# FileNotFoundError - Trying to open a non-existent file\n",
        "file_path = \"non_existent_file.txt\"\n",
        "with open(file_path, \"r\") as file:\n",
        "    content = file.read()"
      ]
    },
    {
      "cell_type": "markdown",
      "id": "935eac4e",
      "metadata": {
        "id": "935eac4e"
      },
      "source": [
        "### try / except"
      ]
    },
    {
      "cell_type": "code",
      "source": [
        "a = input(\"Enter the element a:\")\n",
        "b = input(\"Enter the element b:\")"
      ],
      "metadata": {
        "id": "xwgpDSVtSstM",
        "outputId": "63e0cc31-3866-4aa9-a595-8014dde3ca29",
        "colab": {
          "base_uri": "https://localhost:8080/"
        }
      },
      "id": "xwgpDSVtSstM",
      "execution_count": null,
      "outputs": [
        {
          "name": "stdout",
          "output_type": "stream",
          "text": [
            "Enter the element a:10\n",
            "Enter the element b:0\n"
          ]
        }
      ]
    },
    {
      "cell_type": "code",
      "source": [
        "type(a)"
      ],
      "metadata": {
        "id": "ASPL1If1S86s",
        "outputId": "baf5c551-435b-42cf-c53d-a29e81cb84e9",
        "colab": {
          "base_uri": "https://localhost:8080/"
        }
      },
      "id": "ASPL1If1S86s",
      "execution_count": null,
      "outputs": [
        {
          "output_type": "execute_result",
          "data": {
            "text/plain": [
              "str"
            ]
          },
          "metadata": {},
          "execution_count": 94
        }
      ]
    },
    {
      "cell_type": "code",
      "source": [
        "a = int(a)\n",
        "b = int(b)"
      ],
      "metadata": {
        "id": "uR8QAwzrTABt"
      },
      "id": "uR8QAwzrTABt",
      "execution_count": null,
      "outputs": []
    },
    {
      "cell_type": "code",
      "execution_count": null,
      "id": "576eedd4",
      "metadata": {
        "id": "576eedd4",
        "outputId": "9b8e8e69-3e51-4785-f9ea-1ad5ecb7386e",
        "colab": {
          "base_uri": "https://localhost:8080/"
        }
      },
      "outputs": [
        {
          "output_type": "stream",
          "name": "stdout",
          "text": [
            "Cannot divide by zero!\n",
            "Completed!\n"
          ]
        }
      ],
      "source": [
        "try:\n",
        "    print(a / b)\n",
        "\n",
        "except:\n",
        "    print(\"Cannot divide by zero!\")\n",
        "\n",
        "print(\"Completed!\")"
      ]
    },
    {
      "cell_type": "code",
      "execution_count": null,
      "id": "01f34937",
      "metadata": {
        "id": "01f34937",
        "outputId": "2404f678-5ee8-4ae0-a42e-e1b9890a6288",
        "colab": {
          "base_uri": "https://localhost:8080/"
        }
      },
      "outputs": [
        {
          "output_type": "stream",
          "name": "stdout",
          "text": [
            "Enter the element a:10\n",
            "Enter the element b:0\n",
            "Enter the element b, which isnt zero:abc\n",
            "Enter the element b, which is an integer:abc\n",
            "Enter the element b, which is an integer:abc\n",
            "Enter the element b, which is an integer:abc\n",
            "Enter the element b, which is an integer:5\n",
            "2.0\n",
            "\n",
            "This line is printed anyways\n"
          ]
        }
      ],
      "source": [
        "a = input(\"Enter the element a:\")\n",
        "b = input(\"Enter the element b:\")\n",
        "\n",
        "a = int(a)\n",
        "b = int(b)\n",
        "\n",
        "\n",
        "try:\n",
        "  print(a/b)\n",
        "except ZeroDivisionError:\n",
        "  try:\n",
        "    while b == 0:\n",
        "      b = int(input(\"Enter the element b, which isnt zero:\"))\n",
        "\n",
        "    print(\"Thank you for entering the right b value\")\n",
        "    print(a/b)\n",
        "  except ValueError:\n",
        "    while True:\n",
        "      try:\n",
        "        b = input(\"Enter the element b, which is an integer:\")\n",
        "        b = int(b)\n",
        "        print(a/b)\n",
        "        break\n",
        "      except:\n",
        "        pass\n",
        "except Exception as e:\n",
        "\n",
        "    print(\"Oops! something went wrong\")\n",
        "    print(type(e))\n",
        "    print(e)\n",
        "finally:\n",
        "  print(\"\\nThis line is printed anyways\")"
      ]
    },
    {
      "cell_type": "markdown",
      "id": "06accc56",
      "metadata": {
        "id": "06accc56"
      },
      "source": [
        "### Raise an error"
      ]
    },
    {
      "cell_type": "code",
      "execution_count": null,
      "id": "3dbe46c3",
      "metadata": {
        "id": "3dbe46c3"
      },
      "outputs": [],
      "source": [
        "# Using raise\n",
        "def divide(a, b):\n",
        "    if b == 0:\n",
        "        raise Exception(\"Cannot divide by zero\")\n",
        "    return a / b"
      ]
    },
    {
      "cell_type": "code",
      "execution_count": null,
      "id": "86d65a81",
      "metadata": {
        "id": "86d65a81",
        "outputId": "4abf93d2-a87b-4a70-e20d-38fa7a7ac838"
      },
      "outputs": [
        {
          "data": {
            "text/plain": [
              "5.0"
            ]
          },
          "execution_count": 70,
          "metadata": {},
          "output_type": "execute_result"
        }
      ],
      "source": [
        "divide(10, 2)"
      ]
    },
    {
      "cell_type": "code",
      "execution_count": null,
      "id": "8185d6ea",
      "metadata": {
        "scrolled": true,
        "id": "8185d6ea",
        "outputId": "b9291bc8-ee48-4865-9ca9-c44f11a856da"
      },
      "outputs": [
        {
          "ename": "Exception",
          "evalue": "Cannot divide by zero",
          "output_type": "error",
          "traceback": [
            "\u001b[0;31m---------------------------------------------------------------------------\u001b[0m",
            "\u001b[0;31mException\u001b[0m                                 Traceback (most recent call last)",
            "Cell \u001b[0;32mIn[71], line 1\u001b[0m\n\u001b[0;32m----> 1\u001b[0m \u001b[43mdivide\u001b[49m\u001b[43m(\u001b[49m\u001b[38;5;241;43m10\u001b[39;49m\u001b[43m,\u001b[49m\u001b[43m \u001b[49m\u001b[38;5;241;43m0\u001b[39;49m\u001b[43m)\u001b[49m\n",
            "Cell \u001b[0;32mIn[69], line 4\u001b[0m, in \u001b[0;36mdivide\u001b[0;34m(a, b)\u001b[0m\n\u001b[1;32m      2\u001b[0m \u001b[38;5;28;01mdef\u001b[39;00m \u001b[38;5;21mdivide\u001b[39m(a, b):\n\u001b[1;32m      3\u001b[0m     \u001b[38;5;28;01mif\u001b[39;00m b \u001b[38;5;241m==\u001b[39m \u001b[38;5;241m0\u001b[39m:\n\u001b[0;32m----> 4\u001b[0m         \u001b[38;5;28;01mraise\u001b[39;00m \u001b[38;5;167;01mException\u001b[39;00m(\u001b[38;5;124m\"\u001b[39m\u001b[38;5;124mCannot divide by zero\u001b[39m\u001b[38;5;124m\"\u001b[39m)\n\u001b[1;32m      5\u001b[0m     \u001b[38;5;28;01mreturn\u001b[39;00m a \u001b[38;5;241m/\u001b[39m b\n",
            "\u001b[0;31mException\u001b[0m: Cannot divide by zero"
          ]
        }
      ],
      "source": [
        "divide(10, 0)"
      ]
    },
    {
      "cell_type": "markdown",
      "id": "d766eed0",
      "metadata": {
        "id": "d766eed0"
      },
      "source": [
        "### Multiple Excepts and One Else"
      ]
    },
    {
      "cell_type": "code",
      "execution_count": null,
      "id": "c0f79bc1",
      "metadata": {
        "id": "c0f79bc1",
        "outputId": "6e3faad6-83e1-413b-8ad6-a3afe7f9e268"
      },
      "outputs": [
        {
          "name": "stdout",
          "output_type": "stream",
          "text": [
            "Denominator cannot be 0.\n"
          ]
        }
      ],
      "source": [
        "# Catching Specific Exceptions in Python\n",
        "try:\n",
        "    # Case 1\n",
        "#     even_numbers = [2, 4, 6, 8]\n",
        "#     print(even_numbers[5])\n",
        "\n",
        "    # Case 2\n",
        "    x = 5 / 0\n",
        "\n",
        "except IndexError:\n",
        "    print(\"Index Out of Bound.\")\n",
        "\n",
        "except ZeroDivisionError:\n",
        "    print(\"Denominator cannot be 0.\")"
      ]
    },
    {
      "cell_type": "markdown",
      "id": "898efba8",
      "metadata": {
        "id": "898efba8"
      },
      "source": [
        "An else block can be used after all the except blocks. The code within the else block will be executed only if no exceptions were raised in the try block. You can only have one else block."
      ]
    },
    {
      "cell_type": "code",
      "execution_count": null,
      "id": "58192f44",
      "metadata": {
        "id": "58192f44",
        "outputId": "5be3173f-1cfc-4746-cc1d-ec0d1c8e9adb"
      },
      "outputs": [
        {
          "name": "stdout",
          "output_type": "stream",
          "text": [
            "No exceptions occurred, the result is: 2.0\n"
          ]
        }
      ],
      "source": [
        "try:\n",
        "    # Code that may raise an exception\n",
        "#     result = 10 / 0\n",
        "#     result = int('a')\n",
        "#     result = 2 + 'b'\n",
        "    result = 10 / 5\n",
        "\n",
        "except ZeroDivisionError:\n",
        "    print(\"You can't divide by zero!\")\n",
        "\n",
        "except ValueError:\n",
        "    print(\"A ValueError occurred!\")\n",
        "\n",
        "except Exception as e:\n",
        "    print(f\"An unexpected error occurred: {e}\")\n",
        "\n",
        "else:\n",
        "    print(\"No exceptions occurred, the result is:\", result)"
      ]
    },
    {
      "cell_type": "markdown",
      "id": "a0bfe0ac",
      "metadata": {
        "id": "a0bfe0ac"
      },
      "source": [
        "### try / except / else / finally"
      ]
    },
    {
      "cell_type": "code",
      "execution_count": null,
      "id": "8ae684bf",
      "metadata": {
        "id": "8ae684bf",
        "outputId": "9204a4e8-85c3-4f48-d00e-bf3de561e1a5"
      },
      "outputs": [
        {
          "name": "stdout",
          "output_type": "stream",
          "text": [
            "Enter an even number: 5\n",
            "\n",
            "Not an even number!\n",
            "\n",
            "Run Completed!\n"
          ]
        }
      ],
      "source": [
        "# Use else after except\n",
        "\n",
        "try:\n",
        "    num = int(input(\"Enter an even number: \"))\n",
        "    assert num % 2 == 0\n",
        "\n",
        "except:\n",
        "    print(\"\\nNot an even number!\")\n",
        "\n",
        "else:\n",
        "    reciprocal = 1/num\n",
        "    print()\n",
        "    print(reciprocal)\n",
        "\n",
        "finally:\n",
        "    print(\"\\nRun Completed!\")"
      ]
    },
    {
      "cell_type": "markdown",
      "id": "b42a1ebf",
      "metadata": {
        "id": "b42a1ebf"
      },
      "source": [
        "### Custom Exception"
      ]
    },
    {
      "cell_type": "code",
      "execution_count": null,
      "id": "23fb1ede",
      "metadata": {
        "scrolled": true,
        "id": "23fb1ede"
      },
      "outputs": [],
      "source": [
        "# Create Custom Exception\n",
        "class CustomError(Exception):\n",
        "\n",
        "    def __init__(self, message):\n",
        "        self.message = message"
      ]
    },
    {
      "cell_type": "code",
      "execution_count": null,
      "id": "52eb860d",
      "metadata": {
        "id": "52eb860d",
        "outputId": "8d528d11-65a9-4284-f0b2-508e019f2bd4"
      },
      "outputs": [
        {
          "name": "stdout",
          "output_type": "stream",
          "text": [
            "<class '__main__.CustomError'>\n",
            "This is a custom error!\n"
          ]
        }
      ],
      "source": [
        "try:\n",
        "    raise CustomError(\"This is a custom error!\")\n",
        "\n",
        "except Exception as e:\n",
        "    print(type(e))\n",
        "    print(e.message)"
      ]
    },
    {
      "cell_type": "markdown",
      "id": "74222603",
      "metadata": {
        "id": "74222603"
      },
      "source": [
        "## File Handling"
      ]
    },
    {
      "cell_type": "markdown",
      "id": "f6736eee",
      "metadata": {
        "id": "f6736eee"
      },
      "source": [
        "### Read file - 1"
      ]
    },
    {
      "cell_type": "code",
      "execution_count": null,
      "id": "693f9ea0",
      "metadata": {
        "id": "693f9ea0"
      },
      "outputs": [],
      "source": [
        "file = open(\"sample_data/README.md\", \"r\")"
      ]
    },
    {
      "cell_type": "code",
      "execution_count": null,
      "id": "4a5a9fc0",
      "metadata": {
        "id": "4a5a9fc0"
      },
      "outputs": [],
      "source": [
        "content = file.read()"
      ]
    },
    {
      "cell_type": "code",
      "execution_count": null,
      "id": "ea7bd1a1",
      "metadata": {
        "scrolled": true,
        "id": "ea7bd1a1",
        "outputId": "5d7d7dac-2599-4047-db77-32e5394a04e8",
        "colab": {
          "base_uri": "https://localhost:8080/"
        }
      },
      "outputs": [
        {
          "output_type": "stream",
          "name": "stdout",
          "text": [
            "<class 'str'>\n",
            "\n",
            "This directory includes a few sample datasets to get you started.\n",
            "\n",
            "*   `california_housing_data*.csv` is California housing data from the 1990 US\n",
            "    Census; more information is available at:\n",
            "    https://docs.google.com/document/d/e/2PACX-1vRhYtsvc5eOR2FWNCwaBiKL6suIOrxJig8LcSBbmCbyYsayia_DvPOOBlXZ4CAlQ5nlDD8kTaIDRwrN/pub\n",
            "\n",
            "*   `mnist_*.csv` is a small sample of the\n",
            "    [MNIST database](https://en.wikipedia.org/wiki/MNIST_database), which is\n",
            "    described at: http://yann.lecun.com/exdb/mnist/\n",
            "\n",
            "*   `anscombe.json` contains a copy of\n",
            "    [Anscombe's quartet](https://en.wikipedia.org/wiki/Anscombe%27s_quartet); it\n",
            "    was originally described in\n",
            "\n",
            "    Anscombe, F. J. (1973). 'Graphs in Statistical Analysis'. American\n",
            "    Statistician. 27 (1): 17-21. JSTOR 2682899.\n",
            "\n",
            "    and our copy was prepared by the\n",
            "    [vega_datasets library](https://github.com/altair-viz/vega_datasets/blob/4f67bdaad10f45e3549984e17e1b3088c731503d/vega_datasets/_data/anscombe.json).\n",
            "\n"
          ]
        }
      ],
      "source": [
        "print(type(content))\n",
        "print()\n",
        "print(content)"
      ]
    },
    {
      "cell_type": "code",
      "execution_count": null,
      "id": "87ea6c16",
      "metadata": {
        "id": "87ea6c16"
      },
      "outputs": [],
      "source": [
        "file.close()"
      ]
    },
    {
      "cell_type": "code",
      "execution_count": null,
      "id": "0279850f",
      "metadata": {
        "scrolled": true,
        "id": "0279850f",
        "outputId": "291929e5-7561-4a1d-e332-de776a73841a",
        "colab": {
          "base_uri": "https://localhost:8080/",
          "height": 173
        }
      },
      "outputs": [
        {
          "output_type": "error",
          "ename": "ValueError",
          "evalue": "I/O operation on closed file.",
          "traceback": [
            "\u001b[0;31m---------------------------------------------------------------------------\u001b[0m",
            "\u001b[0;31mValueError\u001b[0m                                Traceback (most recent call last)",
            "\u001b[0;32m<ipython-input-111-94a652c86bec>\u001b[0m in \u001b[0;36m<cell line: 0>\u001b[0;34m()\u001b[0m\n\u001b[0;32m----> 1\u001b[0;31m \u001b[0mcontent\u001b[0m \u001b[0;34m=\u001b[0m \u001b[0mfile\u001b[0m\u001b[0;34m.\u001b[0m\u001b[0mread\u001b[0m\u001b[0;34m(\u001b[0m\u001b[0;34m)\u001b[0m\u001b[0;34m\u001b[0m\u001b[0;34m\u001b[0m\u001b[0m\n\u001b[0m",
            "\u001b[0;31mValueError\u001b[0m: I/O operation on closed file."
          ]
        }
      ],
      "source": [
        "content = file.read()"
      ]
    },
    {
      "cell_type": "markdown",
      "id": "0344afc4",
      "metadata": {
        "id": "0344afc4"
      },
      "source": [
        "### Read file - 2"
      ]
    },
    {
      "cell_type": "code",
      "execution_count": null,
      "id": "82a2903c",
      "metadata": {
        "id": "82a2903c",
        "outputId": "65a5959b-97a3-4f77-eeb7-2048a7cba04b",
        "colab": {
          "base_uri": "https://localhost:8080/"
        }
      },
      "outputs": [
        {
          "output_type": "stream",
          "name": "stdout",
          "text": [
            "This directory includes a few sample datasets to get you started.\n",
            "\n",
            "*   `california_housing_data*.csv` is California housing data from the 1990 US\n",
            "    Census; more information is available at:\n",
            "    https://docs.google.com/document/d/e/2PACX-1vRhYtsvc5eOR2FWNCwaBiKL6suIOrxJig8LcSBbmCbyYsayia_DvPOOBlXZ4CAlQ5nlDD8kTaIDRwrN/pub\n",
            "\n",
            "*   `mnist_*.csv` is a small sample of the\n",
            "    [MNIST database](https://en.wikipedia.org/wiki/MNIST_database), which is\n",
            "    described at: http://yann.lecun.com/exdb/mnist/\n",
            "\n",
            "*   `anscombe.json` contains a copy of\n",
            "    [Anscombe's quartet](https://en.wikipedia.org/wiki/Anscombe%27s_quartet); it\n",
            "    was originally described in\n",
            "\n",
            "    Anscombe, F. J. (1973). 'Graphs in Statistical Analysis'. American\n",
            "    Statistician. 27 (1): 17-21. JSTOR 2682899.\n",
            "\n",
            "    and our copy was prepared by the\n",
            "    [vega_datasets library](https://github.com/altair-viz/vega_datasets/blob/4f67bdaad10f45e3549984e17e1b3088c731503d/vega_datasets/_data/anscombe.json).\n",
            "\n"
          ]
        }
      ],
      "source": [
        "with open(\"sample_data/README.md\", \"r\") as file:\n",
        "    content = file.read()\n",
        "    print(content)"
      ]
    },
    {
      "cell_type": "markdown",
      "id": "90d3d905",
      "metadata": {
        "id": "90d3d905"
      },
      "source": [
        "### readline()"
      ]
    },
    {
      "cell_type": "code",
      "execution_count": null,
      "id": "c413651e",
      "metadata": {
        "id": "c413651e",
        "outputId": "c272f8dd-5403-4c7a-fbf0-7d484246df55",
        "colab": {
          "base_uri": "https://localhost:8080/"
        }
      },
      "outputs": [
        {
          "output_type": "stream",
          "name": "stdout",
          "text": [
            "This directory includes a few sample datasets to get you started.\n",
            "\n",
            "\n",
            "\n"
          ]
        }
      ],
      "source": [
        "with open(\"sample_data/README.md\", \"r\") as file:\n",
        "\n",
        "    cur_line = file.readline()\n",
        "    print(cur_line)\n",
        "\n",
        "    cur_line = file.readline()\n",
        "    print(cur_line)"
      ]
    },
    {
      "cell_type": "code",
      "execution_count": null,
      "id": "c7177ba3",
      "metadata": {
        "id": "c7177ba3",
        "outputId": "17d618fa-0286-43bf-b3f3-6adebf20ee00"
      },
      "outputs": [
        {
          "name": "stdout",
          "output_type": "stream",
          "text": [
            "hey, how are you?\n",
            "\n",
            "I am good, what about you?\n",
            "\n",
            "I am also good.\n"
          ]
        }
      ],
      "source": [
        "with open('test1.txt', 'r') as file:\n",
        "    while True:\n",
        "        cur_line = file.readline()\n",
        "        if cur_line:\n",
        "            # Some operations here\n",
        "            print(cur_line)\n",
        "        else:\n",
        "            break"
      ]
    },
    {
      "cell_type": "markdown",
      "id": "2bb5df4c",
      "metadata": {
        "id": "2bb5df4c"
      },
      "source": [
        "### readlines()"
      ]
    },
    {
      "cell_type": "code",
      "execution_count": null,
      "id": "0b073b39",
      "metadata": {
        "id": "0b073b39",
        "outputId": "62105053-2fe9-4615-933d-03ffa3d293da",
        "colab": {
          "base_uri": "https://localhost:8080/"
        }
      },
      "outputs": [
        {
          "output_type": "stream",
          "name": "stdout",
          "text": [
            "['This directory includes a few sample datasets to get you started.\\n', '\\n', '*   `california_housing_data*.csv` is California housing data from the 1990 US\\n', '    Census; more information is available at:\\n', '    https://docs.google.com/document/d/e/2PACX-1vRhYtsvc5eOR2FWNCwaBiKL6suIOrxJig8LcSBbmCbyYsayia_DvPOOBlXZ4CAlQ5nlDD8kTaIDRwrN/pub\\n', '\\n', '*   `mnist_*.csv` is a small sample of the\\n', '    [MNIST database](https://en.wikipedia.org/wiki/MNIST_database), which is\\n', '    described at: http://yann.lecun.com/exdb/mnist/\\n', '\\n', '*   `anscombe.json` contains a copy of\\n', \"    [Anscombe's quartet](https://en.wikipedia.org/wiki/Anscombe%27s_quartet); it\\n\", '    was originally described in\\n', '\\n', \"    Anscombe, F. J. (1973). 'Graphs in Statistical Analysis'. American\\n\", '    Statistician. 27 (1): 17-21. JSTOR 2682899.\\n', '\\n', '    and our copy was prepared by the\\n', '    [vega_datasets library](https://github.com/altair-viz/vega_datasets/blob/4f67bdaad10f45e3549984e17e1b3088c731503d/vega_datasets/_data/anscombe.json).\\n']\n"
          ]
        }
      ],
      "source": [
        "with open('sample_data/README.md', 'r') as file:\n",
        "    lines = file.readlines()\n",
        "    print(lines)"
      ]
    },
    {
      "cell_type": "code",
      "source": [
        "lines[0]"
      ],
      "metadata": {
        "id": "jzuCrKkkcjQ3",
        "outputId": "53364d18-af0c-41ad-a91e-221eb632c905",
        "colab": {
          "base_uri": "https://localhost:8080/",
          "height": 35
        }
      },
      "id": "jzuCrKkkcjQ3",
      "execution_count": null,
      "outputs": [
        {
          "output_type": "execute_result",
          "data": {
            "text/plain": [
              "'This directory includes a few sample datasets to get you started.\\n'"
            ],
            "application/vnd.google.colaboratory.intrinsic+json": {
              "type": "string"
            }
          },
          "metadata": {},
          "execution_count": 116
        }
      ]
    },
    {
      "cell_type": "code",
      "source": [
        "lines[2]"
      ],
      "metadata": {
        "id": "SvQtP5zuclbb",
        "outputId": "b43a45f2-6c8c-4a43-cbb8-2a4b1b57842b",
        "colab": {
          "base_uri": "https://localhost:8080/",
          "height": 52
        }
      },
      "id": "SvQtP5zuclbb",
      "execution_count": null,
      "outputs": [
        {
          "output_type": "execute_result",
          "data": {
            "text/plain": [
              "'*   `california_housing_data*.csv` is California housing data from the 1990 US\\n'"
            ],
            "application/vnd.google.colaboratory.intrinsic+json": {
              "type": "string"
            }
          },
          "metadata": {},
          "execution_count": 117
        }
      ]
    },
    {
      "cell_type": "code",
      "execution_count": null,
      "id": "659c59a5",
      "metadata": {
        "id": "659c59a5",
        "outputId": "760449a8-af07-4ee3-8718-c8b3fafe2395"
      },
      "outputs": [
        {
          "name": "stdout",
          "output_type": "stream",
          "text": [
            "hey, how are you?\n",
            "\n",
            "I am good, what about you?\n",
            "\n",
            "I am also good.\n"
          ]
        }
      ],
      "source": [
        "for line in lines:\n",
        "    print(line)"
      ]
    },
    {
      "cell_type": "markdown",
      "id": "a5e204ae",
      "metadata": {
        "id": "a5e204ae"
      },
      "source": [
        "### Explore the file"
      ]
    },
    {
      "cell_type": "code",
      "execution_count": null,
      "id": "ab5867a4",
      "metadata": {
        "id": "ab5867a4",
        "outputId": "5517925e-09e5-48c8-a77b-27af40c06630"
      },
      "outputs": [
        {
          "name": "stdout",
          "output_type": "stream",
          "text": [
            "how are you?\n",
            "I am good, what about you?\n",
            "I am also good.\n",
            "\n",
            "60\n"
          ]
        }
      ],
      "source": [
        "with open('test1.txt', 'r') as file:\n",
        "\n",
        "    file.seek(5)\n",
        "    print(file.read())\n",
        "\n",
        "    print()\n",
        "\n",
        "    position = file.tell()\n",
        "    print(position)"
      ]
    },
    {
      "cell_type": "markdown",
      "id": "4b6008cc",
      "metadata": {
        "id": "4b6008cc"
      },
      "source": [
        "### Write"
      ]
    },
    {
      "cell_type": "code",
      "execution_count": null,
      "id": "8fa7fafa",
      "metadata": {
        "id": "8fa7fafa"
      },
      "outputs": [],
      "source": [
        "# How to write a file\n",
        "file = open(\"test2.txt\", \"w\")\n",
        "file.write(\"Hello John!\\nHow are you?\")\n",
        "file.close()"
      ]
    },
    {
      "cell_type": "code",
      "execution_count": null,
      "id": "43b44418",
      "metadata": {
        "id": "43b44418"
      },
      "outputs": [],
      "source": [
        "# Create a new file OR erase and overwrite\n",
        "with open('test3.txt', 'w') as file:\n",
        "\n",
        "    # write contents to the test2.txt file\n",
        "    file.write('Programming is Fun.\\n')\n",
        "    file.write('Python for beginners\\n')"
      ]
    },
    {
      "cell_type": "code",
      "execution_count": null,
      "id": "e05ace92",
      "metadata": {
        "id": "e05ace92",
        "outputId": "00c48ee1-4627-4ad1-80c3-c4d39d0ef76d"
      },
      "outputs": [
        {
          "ename": "FileExistsError",
          "evalue": "[Errno 17] File exists: 'test2.txt'",
          "output_type": "error",
          "traceback": [
            "\u001b[0;31m---------------------------------------------------------------------------\u001b[0m",
            "\u001b[0;31mFileExistsError\u001b[0m                           Traceback (most recent call last)",
            "Cell \u001b[0;32mIn[98], line 1\u001b[0m\n\u001b[0;32m----> 1\u001b[0m \u001b[38;5;28;01mwith\u001b[39;00m \u001b[38;5;28;43mopen\u001b[39;49m\u001b[43m(\u001b[49m\u001b[38;5;124;43m'\u001b[39;49m\u001b[38;5;124;43mtest2.txt\u001b[39;49m\u001b[38;5;124;43m'\u001b[39;49m\u001b[43m,\u001b[49m\u001b[43m \u001b[49m\u001b[38;5;124;43m'\u001b[39;49m\u001b[38;5;124;43mx\u001b[39;49m\u001b[38;5;124;43m'\u001b[39;49m\u001b[43m)\u001b[49m \u001b[38;5;28;01mas\u001b[39;00m file:\n\u001b[1;32m      2\u001b[0m     file\u001b[38;5;241m.\u001b[39mwrite(\u001b[38;5;124m\"\u001b[39m\u001b[38;5;124mThis is the end of the document\u001b[39m\u001b[38;5;124m\"\u001b[39m)\n",
            "File \u001b[0;32m~/anaconda3/lib/python3.10/site-packages/IPython/core/interactiveshell.py:282\u001b[0m, in \u001b[0;36m_modified_open\u001b[0;34m(file, *args, **kwargs)\u001b[0m\n\u001b[1;32m    275\u001b[0m \u001b[38;5;28;01mif\u001b[39;00m file \u001b[38;5;129;01min\u001b[39;00m {\u001b[38;5;241m0\u001b[39m, \u001b[38;5;241m1\u001b[39m, \u001b[38;5;241m2\u001b[39m}:\n\u001b[1;32m    276\u001b[0m     \u001b[38;5;28;01mraise\u001b[39;00m \u001b[38;5;167;01mValueError\u001b[39;00m(\n\u001b[1;32m    277\u001b[0m         \u001b[38;5;124mf\u001b[39m\u001b[38;5;124m\"\u001b[39m\u001b[38;5;124mIPython won\u001b[39m\u001b[38;5;124m'\u001b[39m\u001b[38;5;124mt let you open fd=\u001b[39m\u001b[38;5;132;01m{\u001b[39;00mfile\u001b[38;5;132;01m}\u001b[39;00m\u001b[38;5;124m by default \u001b[39m\u001b[38;5;124m\"\u001b[39m\n\u001b[1;32m    278\u001b[0m         \u001b[38;5;124m\"\u001b[39m\u001b[38;5;124mas it is likely to crash IPython. If you know what you are doing, \u001b[39m\u001b[38;5;124m\"\u001b[39m\n\u001b[1;32m    279\u001b[0m         \u001b[38;5;124m\"\u001b[39m\u001b[38;5;124myou can use builtins\u001b[39m\u001b[38;5;124m'\u001b[39m\u001b[38;5;124m open.\u001b[39m\u001b[38;5;124m\"\u001b[39m\n\u001b[1;32m    280\u001b[0m     )\n\u001b[0;32m--> 282\u001b[0m \u001b[38;5;28;01mreturn\u001b[39;00m \u001b[43mio_open\u001b[49m\u001b[43m(\u001b[49m\u001b[43mfile\u001b[49m\u001b[43m,\u001b[49m\u001b[43m \u001b[49m\u001b[38;5;241;43m*\u001b[39;49m\u001b[43margs\u001b[49m\u001b[43m,\u001b[49m\u001b[43m \u001b[49m\u001b[38;5;241;43m*\u001b[39;49m\u001b[38;5;241;43m*\u001b[39;49m\u001b[43mkwargs\u001b[49m\u001b[43m)\u001b[49m\n",
            "\u001b[0;31mFileExistsError\u001b[0m: [Errno 17] File exists: 'test2.txt'"
          ]
        }
      ],
      "source": [
        "with open('test2.txt', 'x') as file:\n",
        "    file.write(\"This is the end of the document\")"
      ]
    },
    {
      "cell_type": "code",
      "execution_count": null,
      "id": "4e0c95c3",
      "metadata": {
        "id": "4e0c95c3"
      },
      "outputs": [],
      "source": [
        "with open('test2.txt', 'a') as file:\n",
        "    file.write(\"This is the end of the document\")"
      ]
    },
    {
      "cell_type": "markdown",
      "id": "b310f531",
      "metadata": {
        "id": "b310f531"
      },
      "source": [
        "### writelines()"
      ]
    },
    {
      "cell_type": "code",
      "execution_count": null,
      "id": "fbb39cab",
      "metadata": {
        "id": "fbb39cab"
      },
      "outputs": [],
      "source": [
        "with open(\"test3.txt\", \"w\") as file:\n",
        "    L = [\"This is Python\\n\", \"It's an amazing programming language\"]\n",
        "    file.writelines(L)"
      ]
    },
    {
      "cell_type": "markdown",
      "id": "e20fffaa",
      "metadata": {
        "id": "e20fffaa"
      },
      "source": [
        "### Class Activity"
      ]
    },
    {
      "cell_type": "markdown",
      "id": "cb5434b6",
      "metadata": {
        "id": "cb5434b6"
      },
      "source": [
        "1. Create a new text file named 'my_file.txt' and add the lines:\n",
        "[\"I love Python.\", \"Python is my favorite.\"] (in two separate lines)"
      ]
    },
    {
      "cell_type": "code",
      "execution_count": null,
      "id": "f3acd4f1",
      "metadata": {
        "id": "f3acd4f1"
      },
      "outputs": [],
      "source": [
        "lines = [\"I love Python.\", \"Python is my favorite.\"]"
      ]
    },
    {
      "cell_type": "code",
      "execution_count": null,
      "id": "938d5ac8",
      "metadata": {
        "id": "938d5ac8"
      },
      "outputs": [],
      "source": [
        "# Write your code here\n",
        "with open(\"my_file.txt\", \"w\") as file:\n",
        "    for line in lines:\n",
        "        file.write(line + \"\\n\")"
      ]
    },
    {
      "cell_type": "code",
      "execution_count": null,
      "id": "02d319e0",
      "metadata": {
        "id": "02d319e0",
        "outputId": "1433c083-9517-46f6-a3ad-2944d8dcd0d8"
      },
      "outputs": [
        {
          "name": "stdout",
          "output_type": "stream",
          "text": [
            "I love Python.\n",
            "Python is my favorite.\n",
            "\n"
          ]
        }
      ],
      "source": [
        "# Test the text so far\n",
        "with open('my_file.txt', 'r') as file:\n",
        "    print(file.read())"
      ]
    },
    {
      "cell_type": "markdown",
      "id": "f56cd89e",
      "metadata": {
        "id": "f56cd89e"
      },
      "source": [
        "2. The append a new line: \"Yes! Python is great!\""
      ]
    },
    {
      "cell_type": "code",
      "execution_count": null,
      "id": "3cfc93c8",
      "metadata": {
        "id": "3cfc93c8"
      },
      "outputs": [],
      "source": [
        "# Write your code here\n",
        "with open(\"my_file.txt\", \"a\") as file:\n",
        "    file.write(\"Yes! Python is great!\")"
      ]
    },
    {
      "cell_type": "code",
      "execution_count": null,
      "id": "027babba",
      "metadata": {
        "id": "027babba",
        "outputId": "8735385d-298c-4fcb-e53b-4a5192564041"
      },
      "outputs": [
        {
          "name": "stdout",
          "output_type": "stream",
          "text": [
            "I love Python.\n",
            "Python is my favorite.\n",
            "Yes! Python is great!\n"
          ]
        }
      ],
      "source": [
        "# Test the text so far\n",
        "with open('my_file.txt', 'r') as file:\n",
        "    print(file.read())"
      ]
    },
    {
      "cell_type": "markdown",
      "id": "73f45c0f",
      "metadata": {
        "id": "73f45c0f"
      },
      "source": [
        "3. Iterate through lines and at each iteration find the location of \"Python\"\n",
        "(Hint: use str.index(...))\n"
      ]
    },
    {
      "cell_type": "code",
      "execution_count": null,
      "id": "99b920a3",
      "metadata": {
        "id": "99b920a3",
        "outputId": "783b6168-8457-4a96-cdd1-df7c1d4e1bc8"
      },
      "outputs": [
        {
          "name": "stdout",
          "output_type": "stream",
          "text": [
            "[7, 0, 5]\n"
          ]
        }
      ],
      "source": [
        "# Write your code here\n",
        "with open(\"my_file.txt\", \"r\") as file:\n",
        "    lines = file.readlines()\n",
        "\n",
        "idx = []\n",
        "for line in lines:\n",
        "    idx_loc = line.index(\"Python\")\n",
        "    idx.append(idx_loc)\n",
        "\n",
        "print(idx)"
      ]
    },
    {
      "cell_type": "markdown",
      "id": "00c0225a",
      "metadata": {
        "id": "00c0225a"
      },
      "source": [
        "#### Question: What if a file to read is huge??"
      ]
    },
    {
      "cell_type": "markdown",
      "id": "c43b5348",
      "metadata": {
        "id": "c43b5348"
      },
      "source": [
        "Please check out the concept of generators and yield in Python."
      ]
    },
    {
      "cell_type": "markdown",
      "id": "1216c7d7",
      "metadata": {
        "id": "1216c7d7"
      },
      "source": [
        "## JSON Module"
      ]
    },
    {
      "cell_type": "code",
      "execution_count": null,
      "id": "3fe609ff",
      "metadata": {
        "id": "3fe609ff"
      },
      "outputs": [],
      "source": [
        "import json"
      ]
    },
    {
      "cell_type": "markdown",
      "id": "e75bd665",
      "metadata": {
        "id": "e75bd665"
      },
      "source": [
        "### Serialize to JSON string"
      ]
    },
    {
      "cell_type": "code",
      "execution_count": null,
      "id": "a3409be1",
      "metadata": {
        "id": "a3409be1"
      },
      "outputs": [],
      "source": [
        "# Define a Python dictionary\n",
        "person = {\n",
        "    \"name\": \"John\",\n",
        "    \"age\": 30,\n",
        "    \"city\": \"New York\",\n",
        "    \"hasChildren\": False,\n",
        "    \"titles\": [\"engineer\", \"programmer\"]\n",
        "}"
      ]
    },
    {
      "cell_type": "code",
      "execution_count": null,
      "id": "b83c8bac",
      "metadata": {
        "id": "b83c8bac"
      },
      "outputs": [],
      "source": [
        "person_json = json.dumps(person)"
      ]
    },
    {
      "cell_type": "code",
      "source": [
        "print(type(person_json))"
      ],
      "metadata": {
        "id": "-h-Y0kXydTX7",
        "outputId": "c61f3dd7-d365-4cd4-d9ef-13a449e575c8",
        "colab": {
          "base_uri": "https://localhost:8080/"
        }
      },
      "id": "-h-Y0kXydTX7",
      "execution_count": null,
      "outputs": [
        {
          "metadata": {
            "tags": null
          },
          "name": "stdout",
          "output_type": "stream",
          "text": [
            "<class 'str'>\n"
          ]
        }
      ]
    },
    {
      "cell_type": "code",
      "source": [
        "print(type(person_json))\n",
        "print(person_json)"
      ],
      "metadata": {
        "id": "t1z3ILekeHUE",
        "outputId": "c01adaee-f9f0-4e6c-f875-4546e038372d",
        "colab": {
          "base_uri": "https://localhost:8080/"
        }
      },
      "id": "t1z3ILekeHUE",
      "execution_count": null,
      "outputs": [
        {
          "output_type": "stream",
          "name": "stdout",
          "text": [
            "<class 'str'>\n",
            "{\"name\": \"John\", \"age\": 30, \"city\": \"New York\", \"hasChildren\": false, \"titles\": [\"engineer\", \"programmer\"]}\n"
          ]
        }
      ]
    },
    {
      "cell_type": "code",
      "execution_count": null,
      "id": "580cd430",
      "metadata": {
        "id": "580cd430",
        "outputId": "3e322285-9984-4c5c-ec7d-e2b55fd15363"
      },
      "outputs": [
        {
          "name": "stdout",
          "output_type": "stream",
          "text": [
            "{\n",
            "    \"age\"= 30; \n",
            "    \"city\"= \"New York\"; \n",
            "    \"hasChildren\"= false; \n",
            "    \"name\"= \"John\"; \n",
            "    \"titles\"= [\n",
            "        \"engineer\"; \n",
            "        \"programmer\"\n",
            "    ]\n",
            "}\n"
          ]
        }
      ],
      "source": [
        "person_json = json.dumps(person, indent=4, separators=(\"; \", \"= \"), sort_keys=True)\n",
        "\n",
        "print(person_json)"
      ]
    },
    {
      "cell_type": "code",
      "source": [
        "? json.dumps"
      ],
      "metadata": {
        "id": "H_oBfsV3ggjn"
      },
      "id": "H_oBfsV3ggjn",
      "execution_count": null,
      "outputs": []
    },
    {
      "cell_type": "code",
      "source": [
        "help(json.dumps)"
      ],
      "metadata": {
        "id": "6zSzl2tZgsjY",
        "outputId": "09d6960b-d255-4455-9cc2-301870175fc4",
        "colab": {
          "base_uri": "https://localhost:8080/"
        }
      },
      "id": "6zSzl2tZgsjY",
      "execution_count": null,
      "outputs": [
        {
          "output_type": "stream",
          "name": "stdout",
          "text": [
            "Help on function dumps in module json:\n",
            "\n",
            "dumps(obj, *, skipkeys=False, ensure_ascii=True, check_circular=True, allow_nan=True, cls=None, indent=None, separators=None, default=None, sort_keys=False, **kw)\n",
            "    Serialize ``obj`` to a JSON formatted ``str``.\n",
            "    \n",
            "    If ``skipkeys`` is true then ``dict`` keys that are not basic types\n",
            "    (``str``, ``int``, ``float``, ``bool``, ``None``) will be skipped\n",
            "    instead of raising a ``TypeError``.\n",
            "    \n",
            "    If ``ensure_ascii`` is false, then the return value can contain non-ASCII\n",
            "    characters if they appear in strings contained in ``obj``. Otherwise, all\n",
            "    such characters are escaped in JSON strings.\n",
            "    \n",
            "    If ``check_circular`` is false, then the circular reference check\n",
            "    for container types will be skipped and a circular reference will\n",
            "    result in an ``RecursionError`` (or worse).\n",
            "    \n",
            "    If ``allow_nan`` is false, then it will be a ``ValueError`` to\n",
            "    serialize out of range ``float`` values (``nan``, ``inf``, ``-inf``) in\n",
            "    strict compliance of the JSON specification, instead of using the\n",
            "    JavaScript equivalents (``NaN``, ``Infinity``, ``-Infinity``).\n",
            "    \n",
            "    If ``indent`` is a non-negative integer, then JSON array elements and\n",
            "    object members will be pretty-printed with that indent level. An indent\n",
            "    level of 0 will only insert newlines. ``None`` is the most compact\n",
            "    representation.\n",
            "    \n",
            "    If specified, ``separators`` should be an ``(item_separator, key_separator)``\n",
            "    tuple.  The default is ``(', ', ': ')`` if *indent* is ``None`` and\n",
            "    ``(',', ': ')`` otherwise.  To get the most compact JSON representation,\n",
            "    you should specify ``(',', ':')`` to eliminate whitespace.\n",
            "    \n",
            "    ``default(obj)`` is a function that should return a serializable version\n",
            "    of obj or raise TypeError. The default simply raises TypeError.\n",
            "    \n",
            "    If *sort_keys* is true (default: ``False``), then the output of\n",
            "    dictionaries will be sorted by key.\n",
            "    \n",
            "    To use a custom ``JSONEncoder`` subclass (e.g. one that overrides the\n",
            "    ``.default()`` method to serialize additional types), specify it with\n",
            "    the ``cls`` kwarg; otherwise ``JSONEncoder`` is used.\n",
            "\n"
          ]
        }
      ]
    },
    {
      "cell_type": "markdown",
      "id": "10a0ff67",
      "metadata": {
        "id": "10a0ff67"
      },
      "source": [
        "### Serialize to a JSON file"
      ]
    },
    {
      "cell_type": "code",
      "execution_count": null,
      "id": "435c4b56",
      "metadata": {
        "id": "435c4b56"
      },
      "outputs": [],
      "source": [
        "# Define a Python dictionary\n",
        "person = {\n",
        "    \"name\": \"John\",\n",
        "    \"age\": 30,\n",
        "    \"city\": \"New York\",\n",
        "    \"hasChildren\": False,\n",
        "    \"titles\": [\"engineer\", \"programmer\"]\n",
        "}"
      ]
    },
    {
      "cell_type": "code",
      "execution_count": null,
      "id": "3a815774",
      "metadata": {
        "id": "3a815774"
      },
      "outputs": [],
      "source": [
        "with open(\"person1.json\", \"w\") as file:\n",
        "    json.dump(person, file)"
      ]
    },
    {
      "cell_type": "markdown",
      "id": "860f2d50",
      "metadata": {
        "id": "860f2d50"
      },
      "source": [
        "### Deserialize JSON File"
      ]
    },
    {
      "cell_type": "code",
      "execution_count": null,
      "id": "c0352bf8",
      "metadata": {
        "id": "c0352bf8"
      },
      "outputs": [],
      "source": [
        "with open(\"person1.json\", \"r\") as file:\n",
        "    loaded_person = json.load(file)"
      ]
    },
    {
      "cell_type": "code",
      "execution_count": null,
      "id": "7f5e4c95",
      "metadata": {
        "id": "7f5e4c95",
        "outputId": "897b1b2c-7127-44a2-ae2c-a3437fb2bfbb",
        "colab": {
          "base_uri": "https://localhost:8080/"
        }
      },
      "outputs": [
        {
          "output_type": "stream",
          "name": "stdout",
          "text": [
            "<class 'dict'>\n"
          ]
        }
      ],
      "source": [
        "print(type(loaded_person))"
      ]
    },
    {
      "cell_type": "code",
      "execution_count": null,
      "id": "c98a5d1e",
      "metadata": {
        "scrolled": true,
        "id": "c98a5d1e",
        "outputId": "f6ddff95-1b5c-4cfb-bb9a-a41598dd2a7c",
        "colab": {
          "base_uri": "https://localhost:8080/"
        }
      },
      "outputs": [
        {
          "output_type": "stream",
          "name": "stdout",
          "text": [
            "{'name': 'John', 'age': 30, 'city': 'New York', 'hasChildren': False, 'titles': ['engineer', 'programmer']}\n"
          ]
        }
      ],
      "source": [
        "print(loaded_person)"
      ]
    },
    {
      "cell_type": "code",
      "execution_count": null,
      "id": "bfe4576a",
      "metadata": {
        "id": "bfe4576a",
        "outputId": "1e22c6f6-10f2-4a7e-97e5-f45b457716ab",
        "colab": {
          "base_uri": "https://localhost:8080/"
        }
      },
      "outputs": [
        {
          "output_type": "execute_result",
          "data": {
            "text/plain": [
              "30"
            ]
          },
          "metadata": {},
          "execution_count": 134
        }
      ],
      "source": [
        "loaded_person['age']"
      ]
    },
    {
      "cell_type": "code",
      "source": [
        "loaded_person['titles']"
      ],
      "metadata": {
        "id": "YrW2fAAve-Mc",
        "outputId": "72f852be-047b-40a8-85eb-642a916f8950",
        "colab": {
          "base_uri": "https://localhost:8080/"
        }
      },
      "id": "YrW2fAAve-Mc",
      "execution_count": null,
      "outputs": [
        {
          "output_type": "execute_result",
          "data": {
            "text/plain": [
              "['engineer', 'programmer']"
            ]
          },
          "metadata": {},
          "execution_count": 135
        }
      ]
    },
    {
      "cell_type": "markdown",
      "id": "5fd2f62b",
      "metadata": {
        "id": "5fd2f62b"
      },
      "source": [
        "### Deserialized JSON"
      ]
    },
    {
      "cell_type": "code",
      "execution_count": null,
      "id": "f349d1d5",
      "metadata": {
        "id": "f349d1d5"
      },
      "outputs": [],
      "source": [
        "person_json = \"\"\"\n",
        "    {\n",
        "        \"age\": 30,\n",
        "        \"city\": \"New York\",\n",
        "        \"hasChildren\": false,\n",
        "        \"name\": \"John\",\n",
        "        \"titles\": [\n",
        "            \"engineer\",\n",
        "            \"programmer\"\n",
        "        ]\n",
        "    }\n",
        "\"\"\""
      ]
    },
    {
      "cell_type": "code",
      "execution_count": null,
      "id": "af1f84f4",
      "metadata": {
        "id": "af1f84f4"
      },
      "outputs": [],
      "source": [
        "person = json.loads(person_json)"
      ]
    },
    {
      "cell_type": "code",
      "source": [
        "? json.loads"
      ],
      "metadata": {
        "id": "9vLLvAgSgOgU"
      },
      "id": "9vLLvAgSgOgU",
      "execution_count": null,
      "outputs": []
    },
    {
      "cell_type": "code",
      "execution_count": null,
      "id": "aa19357e",
      "metadata": {
        "id": "aa19357e",
        "outputId": "3670fbb5-edc1-4278-f6c2-2da0346781d5",
        "colab": {
          "base_uri": "https://localhost:8080/"
        }
      },
      "outputs": [
        {
          "output_type": "stream",
          "name": "stdout",
          "text": [
            "<class 'dict'>\n"
          ]
        }
      ],
      "source": [
        "print(type(person))"
      ]
    },
    {
      "cell_type": "code",
      "execution_count": null,
      "id": "b42bc97e",
      "metadata": {
        "id": "b42bc97e",
        "outputId": "13282a98-b513-4490-9e76-143706978a42",
        "colab": {
          "base_uri": "https://localhost:8080/"
        }
      },
      "outputs": [
        {
          "output_type": "stream",
          "name": "stdout",
          "text": [
            "{'age': 30, 'city': 'New York', 'hasChildren': False, 'name': 'John', 'titles': ['engineer', 'programmer']}\n"
          ]
        }
      ],
      "source": [
        "print(person)"
      ]
    },
    {
      "cell_type": "code",
      "execution_count": null,
      "id": "301fc06e",
      "metadata": {
        "id": "301fc06e",
        "outputId": "fe17c292-e443-44c0-ddd4-88403ed6ab0d",
        "colab": {
          "base_uri": "https://localhost:8080/"
        }
      },
      "outputs": [
        {
          "output_type": "execute_result",
          "data": {
            "text/plain": [
              "False"
            ]
          },
          "metadata": {},
          "execution_count": 141
        }
      ],
      "source": [
        "person['hasChildren']"
      ]
    }
  ],
  "metadata": {
    "kernelspec": {
      "display_name": "Python 3 (ipykernel)",
      "language": "python",
      "name": "python3"
    },
    "language_info": {
      "codemirror_mode": {
        "name": "ipython",
        "version": 3
      },
      "file_extension": ".py",
      "mimetype": "text/x-python",
      "name": "python",
      "nbconvert_exporter": "python",
      "pygments_lexer": "ipython3",
      "version": "3.10.9"
    },
    "colab": {
      "provenance": [],
      "include_colab_link": true
    }
  },
  "nbformat": 4,
  "nbformat_minor": 5
}