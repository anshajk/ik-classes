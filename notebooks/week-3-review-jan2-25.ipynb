{
  "cells": [
    {
      "cell_type": "markdown",
      "metadata": {
        "id": "view-in-github",
        "colab_type": "text"
      },
      "source": [
        "<a href=\"https://colab.research.google.com/github/anshajk/ik-classes/blob/main/notebooks/week-3-review-jan2-25.ipynb\" target=\"_parent\"><img src=\"https://colab.research.google.com/assets/colab-badge.svg\" alt=\"Open In Colab\"/></a>"
      ]
    },
    {
      "cell_type": "markdown",
      "id": "341287ec",
      "metadata": {
        "id": "341287ec"
      },
      "source": [
        "## Python Week 3 - Assignment Review"
      ]
    },
    {
      "cell_type": "markdown",
      "id": "bddf94c3",
      "metadata": {
        "id": "bddf94c3"
      },
      "source": [
        "### MCQ1"
      ]
    },
    {
      "cell_type": "markdown",
      "id": "cd3ce07b",
      "metadata": {
        "id": "cd3ce07b"
      },
      "source": [
        "In Python, the self keyword is used within class methods to refer to the instance of the class itself. When you call a method on an instance of a class, Python automatically passes the instance as the first argument to the method. By convention, this first argument is named self, but you can actually name it whatever you like (though self is strongly recommended for readability and convention adherence)."
      ]
    },
    {
      "cell_type": "markdown",
      "id": "65a8d2b2",
      "metadata": {
        "id": "65a8d2b2"
      },
      "source": [
        "#### Example"
      ]
    },
    {
      "cell_type": "code",
      "execution_count": null,
      "id": "40badf11",
      "metadata": {
        "id": "40badf11",
        "outputId": "31034094-4125-4d02-96bd-6b3e72de60ee",
        "colab": {
          "base_uri": "https://localhost:8080/"
        }
      },
      "outputs": [
        {
          "output_type": "stream",
          "name": "stdout",
          "text": [
            "My dog's name is Coco and it is a Golden Retriever.\n",
            "\n",
            "Coco is barking!\n"
          ]
        }
      ],
      "source": [
        "class Dog:\n",
        "\n",
        "    def __init__(self, name, breed):\n",
        "        self.name = name\n",
        "        self.breed = breed\n",
        "\n",
        "    def bark(self):\n",
        "        print(f\"{self.name} is barking!\")\n",
        "\n",
        "\n",
        "# Creating an instance of the Dog class\n",
        "my_dog = Dog(\"Coco\", \"Golden Retriever\")\n",
        "\n",
        "# Accessing attributes and calling a method\n",
        "print(f\"My dog's name is {my_dog.name} and it is a {my_dog.breed}.\\n\")\n",
        "my_dog.bark()"
      ]
    },
    {
      "cell_type": "markdown",
      "id": "6e501630",
      "metadata": {
        "id": "6e501630"
      },
      "source": [
        "### MCQ2"
      ]
    },
    {
      "cell_type": "markdown",
      "id": "0faf8837",
      "metadata": {
        "id": "0faf8837"
      },
      "source": [
        "#### A class in Python does NOT need to have a user-defined constructor"
      ]
    },
    {
      "cell_type": "code",
      "execution_count": null,
      "id": "94d37443",
      "metadata": {
        "id": "94d37443",
        "outputId": "130268f7-d620-4726-b98f-0113f62f74b1",
        "colab": {
          "base_uri": "https://localhost:8080/"
        }
      },
      "outputs": [
        {
          "output_type": "stream",
          "name": "stdout",
          "text": [
            "Details are not provided for this method\n"
          ]
        }
      ],
      "source": [
        "class Employee:\n",
        "\n",
        "    def printDetails(self):\n",
        "        print(\"Details are not provided for this method\")\n",
        "\n",
        "\n",
        "emp1 = Employee()\n",
        "emp1.printDetails()"
      ]
    },
    {
      "cell_type": "markdown",
      "id": "e9e8b6c9",
      "metadata": {
        "id": "e9e8b6c9"
      },
      "source": [
        "#### The provided code throws no error"
      ]
    },
    {
      "cell_type": "code",
      "execution_count": null,
      "id": "89f61173",
      "metadata": {
        "id": "89f61173",
        "outputId": "b216b09e-b3d2-4849-8470-92f950cf9b9f"
      },
      "outputs": [
        {
          "name": "stdout",
          "output_type": "stream",
          "text": [
            "E001\n",
            "25\n"
          ]
        }
      ],
      "source": [
        "class Employee:\n",
        "\n",
        "    def __init__(self, id, age):\n",
        "        self.id = id\n",
        "        self.age = age\n",
        "\n",
        "    def printDetails(self):\n",
        "        print(self.id)\n",
        "        print(self.age)\n",
        "\n",
        "\n",
        "emp1 = Employee('E001', 25)\n",
        "emp1.printDetails()"
      ]
    },
    {
      "cell_type": "markdown",
      "id": "c4ff7dfc",
      "metadata": {
        "id": "c4ff7dfc"
      },
      "source": [
        "### MCQ3"
      ]
    },
    {
      "cell_type": "markdown",
      "id": "c0eab0dc",
      "metadata": {
        "id": "c0eab0dc"
      },
      "source": [
        "In Python, you can indeed modify attributes of an object from outside the class. This may seem unconventional if you're coming from languages with stricter encapsulation, but it's a deliberate design choice in Python, known as \"attribute access control.\""
      ]
    },
    {
      "cell_type": "markdown",
      "id": "34eee0ae",
      "metadata": {
        "id": "34eee0ae"
      },
      "source": [
        "Python emphasizes readability and simplicity, and it trusts the programmer to use objects responsibly. This flexibility allows for dynamic behavior and makes Python highly expressive. However, it also means that developers need to be mindful of maintaining data integrity and encapsulation in their code."
      ]
    },
    {
      "cell_type": "markdown",
      "id": "f2e49ac0",
      "metadata": {
        "id": "f2e49ac0"
      },
      "source": [
        "While it's possible to modify attributes directly from outside the class, it's generally considered good practice to encapsulate the attributes and provide methods (often called \"setter\" methods) for modifying them. This way, you can enforce validation logic, perform additional operations when setting values, and maintain control over how the attributes are modified."
      ]
    },
    {
      "cell_type": "code",
      "execution_count": null,
      "id": "75bde7db",
      "metadata": {
        "id": "75bde7db",
        "outputId": "71e462b1-32d4-458f-f351-37781119fe5c",
        "colab": {
          "base_uri": "https://localhost:8080/"
        }
      },
      "outputs": [
        {
          "output_type": "stream",
          "name": "stdout",
          "text": [
            "E001\n",
            "25\n",
            "E001\n",
            "30\n"
          ]
        }
      ],
      "source": [
        "class Employee:\n",
        "\n",
        "    def __init__(self, id, age):\n",
        "        self.id = id\n",
        "        self.age = age\n",
        "\n",
        "    def printDetails(self):\n",
        "        print(self.id)\n",
        "        print(self.age)\n",
        "\n",
        "\n",
        "emp1 = Employee('E001', 25)\n",
        "emp1.printDetails()\n",
        "emp1.age = 30 #r\n",
        "\n",
        "\n",
        "emp1.printDetails()"
      ]
    },
    {
      "cell_type": "markdown",
      "id": "0c7987b2",
      "metadata": {
        "id": "0c7987b2"
      },
      "source": [
        "### MCQ4"
      ]
    },
    {
      "cell_type": "markdown",
      "id": "6cb68d30",
      "metadata": {
        "id": "6cb68d30"
      },
      "source": [
        "See notes from MCQ1"
      ]
    },
    {
      "cell_type": "code",
      "execution_count": null,
      "id": "ad7f446b",
      "metadata": {
        "scrolled": true,
        "id": "ad7f446b",
        "outputId": "dbac59f8-dbf4-4bd1-caec-9eadf8e237d2"
      },
      "outputs": [
        {
          "name": "stdout",
          "output_type": "stream",
          "text": [
            "E001\n",
            "30\n"
          ]
        }
      ],
      "source": [
        "class Employee:\n",
        "\n",
        "    def __init__(self, id, age):\n",
        "        self.id = id\n",
        "        self.age = age\n",
        "\n",
        "    def printID(self):\n",
        "        print(self.id)\n",
        "\n",
        "    def printAge(abc):\n",
        "        print(abc.age)\n",
        "\n",
        "\n",
        "emp1 = Employee('E001', 30)\n",
        "emp1.printID()\n",
        "emp1.printAge()"
      ]
    },
    {
      "cell_type": "markdown",
      "id": "7b638270",
      "metadata": {
        "id": "7b638270"
      },
      "source": [
        "In Python, the term \"static variables\" typically refers to class variables, while \"attributes\" can refer to both instance variables and class variables.\n",
        "\n",
        "- Static Variables (Class Variables):\n",
        "\n",
        "Static variables are defined within the class but outside of any instance methods.\n",
        "They are shared among all instances of the class and are accessed through the class itself or any instance of the class.\n",
        "Changes made to a static variable are reflected across all instances and the class itself.\n",
        "\n",
        "- Attributes:\n",
        "\n",
        "Attributes can refer to both instance variables and class variables.\n",
        "Instance variables are unique to each instance of the class. They are defined within the class's methods and are accessed using the instance (self) within these methods.\n",
        "Class variables (static variables) are shared among all instances of the class and are accessed through the class itself or any instance of the class, as mentioned earlier."
      ]
    },
    {
      "cell_type": "markdown",
      "id": "1fb9e0d4",
      "metadata": {
        "id": "1fb9e0d4"
      },
      "source": [
        "#### Example"
      ]
    },
    {
      "cell_type": "code",
      "execution_count": null,
      "id": "9a297b6a",
      "metadata": {
        "id": "9a297b6a"
      },
      "outputs": [],
      "source": [
        "class MyList:\n",
        "    data = list()\n",
        "\n",
        "l = MyList()\n",
        "l.data.append(\"SomeText\")\n",
        "print(l.data)\n",
        "l2 = MyList()\n",
        "print(l2.data)"
      ]
    },
    {
      "cell_type": "markdown",
      "id": "c4ff0908",
      "metadata": {
        "id": "c4ff0908"
      },
      "source": [
        "When you define a class attribute that is mutable (such as a list) as a default argument for a method, changes made to that mutable object affect all instances of the class that use the default value. This behavior can be unexpected if you're not aware of it."
      ]
    },
    {
      "cell_type": "markdown",
      "id": "00f7ad20",
      "metadata": {
        "id": "00f7ad20"
      },
      "source": [
        "### MCQ5"
      ]
    },
    {
      "cell_type": "markdown",
      "id": "5d3bd43e",
      "metadata": {
        "id": "5d3bd43e"
      },
      "source": [
        "The with statement in Python is used to ensure that certain operations are properly initialized and cleaned up, particularly when dealing with resources that need to be explicitly managed, such as files. It provides a more concise and readable way to work with resources, especially when it comes to opening and closing files. Failing to close a file after opening it can lead to resource leaks and potential data corruption."
      ]
    },
    {
      "cell_type": "code",
      "execution_count": null,
      "id": "9c590c1c",
      "metadata": {
        "id": "9c590c1c",
        "outputId": "78918ae1-8592-4b6a-c27c-e8c982b93dc9",
        "colab": {
          "base_uri": "https://localhost:8080/"
        }
      },
      "outputs": [
        {
          "output_type": "stream",
          "name": "stdout",
          "text": [
            "Python is my favorite programming language\n"
          ]
        }
      ],
      "source": [
        "# %%time\n",
        "with open(\"my_file.txt\", \"r\") as file:\n",
        "    text = file.read()\n",
        "    print(text)"
      ]
    },
    {
      "cell_type": "code",
      "execution_count": null,
      "id": "b7ba9a9e",
      "metadata": {
        "id": "b7ba9a9e",
        "outputId": "156f3efb-d148-48d2-8b41-eaf90bf8bec2",
        "colab": {
          "base_uri": "https://localhost:8080/"
        }
      },
      "outputs": [
        {
          "output_type": "stream",
          "name": "stdout",
          "text": [
            "Python is my favorite programming language\n",
            "CPU times: user 174 µs, sys: 1.07 ms, total: 1.24 ms\n",
            "Wall time: 1.25 ms\n"
          ]
        }
      ],
      "source": [
        "%%time\n",
        "file = open(\"my_file.txt\", \"r\")\n",
        "text = file.read()\n",
        "print(text)\n",
        "file.close()"
      ]
    },
    {
      "cell_type": "markdown",
      "id": "69ea0f0e",
      "metadata": {
        "id": "69ea0f0e"
      },
      "source": [
        "### MCQ6"
      ]
    },
    {
      "cell_type": "markdown",
      "id": "1141ef3b",
      "metadata": {
        "id": "1141ef3b"
      },
      "source": [
        "#### No such file or directory error"
      ]
    },
    {
      "cell_type": "code",
      "execution_count": null,
      "id": "2ecfcc8a",
      "metadata": {
        "id": "2ecfcc8a",
        "outputId": "c7158197-75e9-45ae-8a2c-aa821874765e",
        "colab": {
          "base_uri": "https://localhost:8080/",
          "height": 156
        }
      },
      "outputs": [
        {
          "output_type": "error",
          "ename": "FileNotFoundError",
          "evalue": "[Errno 2] No such file or directory: 'nonexisting_file.txt'",
          "traceback": [
            "\u001b[0;31m---------------------------------------------------------------------------\u001b[0m",
            "\u001b[0;31mFileNotFoundError\u001b[0m                         Traceback (most recent call last)",
            "\u001b[0;32m<ipython-input-7-92f20b216420>\u001b[0m in \u001b[0;36m<cell line: 1>\u001b[0;34m()\u001b[0m\n\u001b[0;32m----> 1\u001b[0;31m \u001b[0;32mwith\u001b[0m \u001b[0mopen\u001b[0m\u001b[0;34m(\u001b[0m\u001b[0;34m\"nonexisting_file.txt\"\u001b[0m\u001b[0;34m,\u001b[0m \u001b[0;34m\"r\"\u001b[0m\u001b[0;34m)\u001b[0m \u001b[0;32mas\u001b[0m \u001b[0mfile\u001b[0m\u001b[0;34m:\u001b[0m\u001b[0;34m\u001b[0m\u001b[0;34m\u001b[0m\u001b[0m\n\u001b[0m\u001b[1;32m      2\u001b[0m     \u001b[0mtext\u001b[0m \u001b[0;34m=\u001b[0m \u001b[0mfile\u001b[0m\u001b[0;34m.\u001b[0m\u001b[0mread\u001b[0m\u001b[0;34m(\u001b[0m\u001b[0;34m)\u001b[0m\u001b[0;34m\u001b[0m\u001b[0;34m\u001b[0m\u001b[0m\n",
            "\u001b[0;31mFileNotFoundError\u001b[0m: [Errno 2] No such file or directory: 'nonexisting_file.txt'"
          ]
        }
      ],
      "source": [
        "with open(\"nonexisting_file.txt\", \"r\") as file:\n",
        "    text = file.read()"
      ]
    },
    {
      "cell_type": "markdown",
      "id": "fda0da1e",
      "metadata": {
        "id": "fda0da1e"
      },
      "source": [
        "#### Write a file that does not exist in the specified path"
      ]
    },
    {
      "cell_type": "code",
      "execution_count": null,
      "id": "7dad5fd5",
      "metadata": {
        "id": "7dad5fd5"
      },
      "outputs": [],
      "source": [
        "with open(\"my_file2.txt\", \"w\") as file:\n",
        "    file.write(\"This is a test file\")"
      ]
    },
    {
      "cell_type": "markdown",
      "id": "7158ad9f",
      "metadata": {
        "id": "7158ad9f"
      },
      "source": [
        "#### Overwrite the already existing file"
      ]
    },
    {
      "cell_type": "code",
      "execution_count": null,
      "id": "4eb11d06",
      "metadata": {
        "id": "4eb11d06"
      },
      "outputs": [],
      "source": [
        "with open(\"my_file2.txt\", \"w\") as file:\n",
        "    file.write(\"Overwriting the previous test file\")"
      ]
    },
    {
      "cell_type": "markdown",
      "id": "f0f56240",
      "metadata": {
        "id": "f0f56240"
      },
      "source": [
        "#### Overwriting error using \"x\" option"
      ]
    },
    {
      "cell_type": "code",
      "execution_count": null,
      "id": "f16dcb25",
      "metadata": {
        "id": "f16dcb25"
      },
      "outputs": [],
      "source": [
        "with open(\"my_file3.txt\", \"x\") as file:\n",
        "    file.write(\"Overwriting the previous test file\")"
      ]
    },
    {
      "cell_type": "markdown",
      "id": "d9389ba2",
      "metadata": {
        "id": "d9389ba2"
      },
      "source": [
        "### MCQ7"
      ]
    },
    {
      "cell_type": "markdown",
      "id": "010611d6",
      "metadata": {
        "id": "010611d6"
      },
      "source": [
        "read() reads the entire content of the file as a single string.\n",
        "\n",
        "readline() reads one line at a time from the file.\n",
        "\n",
        "readlines() reads all lines at once and returns them as a list of strings."
      ]
    },
    {
      "cell_type": "markdown",
      "id": "8328e450",
      "metadata": {
        "id": "8328e450"
      },
      "source": [
        "### MCQ8"
      ]
    },
    {
      "cell_type": "code",
      "execution_count": null,
      "id": "232ba22b",
      "metadata": {
        "id": "232ba22b",
        "outputId": "9adffd3b-02b8-4fa2-f6cc-001f79f8c244",
        "colab": {
          "base_uri": "https://localhost:8080/"
        }
      },
      "outputs": [
        {
          "output_type": "stream",
          "name": "stdout",
          "text": [
            "Python is my favorite programming language\n"
          ]
        }
      ],
      "source": [
        "with open(\"my_file.txt\", \"r\") as file:\n",
        "    text = file.read()\n",
        "    print(text)"
      ]
    },
    {
      "cell_type": "markdown",
      "id": "21e95d06",
      "metadata": {
        "id": "21e95d06"
      },
      "source": [
        "### MCQ9"
      ]
    },
    {
      "cell_type": "code",
      "execution_count": null,
      "id": "dd7ddb0f",
      "metadata": {
        "id": "dd7ddb0f"
      },
      "outputs": [],
      "source": [
        "try:\n",
        "    # Code that may raise an exception\n",
        "    # ...\n",
        "except:\n",
        "    # Exception handling\n",
        "    # ...\n",
        "else:\n",
        "    # Code that runs if no exceptions are raised in the try block\n",
        "    # ...\n",
        "finally:\n",
        "    # Code that always runs, regardless of whether an exception was raised or not\n",
        "    # ..."
      ]
    },
    {
      "cell_type": "markdown",
      "id": "6bbf985f",
      "metadata": {
        "id": "6bbf985f"
      },
      "source": [
        "### MCQ10"
      ]
    },
    {
      "cell_type": "markdown",
      "id": "e9b78ebd",
      "metadata": {
        "id": "e9b78ebd"
      },
      "source": [
        "#### Division by zero throws \"ZeroDivisionError\" error"
      ]
    },
    {
      "cell_type": "code",
      "execution_count": null,
      "id": "e817255d",
      "metadata": {
        "id": "e817255d",
        "outputId": "3b1872b9-ee54-4722-f1eb-ec4a78b5cd69",
        "colab": {
          "base_uri": "https://localhost:8080/",
          "height": 173
        }
      },
      "outputs": [
        {
          "output_type": "error",
          "ename": "ZeroDivisionError",
          "evalue": "division by zero",
          "traceback": [
            "\u001b[0;31m---------------------------------------------------------------------------\u001b[0m",
            "\u001b[0;31mZeroDivisionError\u001b[0m                         Traceback (most recent call last)",
            "\u001b[0;32m<ipython-input-13-3da5060d6132>\u001b[0m in \u001b[0;36m<cell line: 4>\u001b[0;34m()\u001b[0m\n\u001b[1;32m      2\u001b[0m \u001b[0my\u001b[0m \u001b[0;34m=\u001b[0m \u001b[0;36m0\u001b[0m\u001b[0;34m\u001b[0m\u001b[0;34m\u001b[0m\u001b[0m\n\u001b[1;32m      3\u001b[0m \u001b[0;34m\u001b[0m\u001b[0m\n\u001b[0;32m----> 4\u001b[0;31m \u001b[0mz\u001b[0m \u001b[0;34m=\u001b[0m \u001b[0mx\u001b[0m \u001b[0;34m/\u001b[0m \u001b[0my\u001b[0m\u001b[0;34m\u001b[0m\u001b[0;34m\u001b[0m\u001b[0m\n\u001b[0m",
            "\u001b[0;31mZeroDivisionError\u001b[0m: division by zero"
          ]
        }
      ],
      "source": [
        "x = 500\n",
        "y = 0\n",
        "\n",
        "z = x / y"
      ]
    },
    {
      "cell_type": "markdown",
      "id": "03008021",
      "metadata": {
        "id": "03008021"
      },
      "source": [
        "This can be handled using Exception handling"
      ]
    },
    {
      "cell_type": "code",
      "execution_count": null,
      "id": "d09c2e12",
      "metadata": {
        "id": "d09c2e12",
        "outputId": "d079bfd1-7304-4c7d-9a1c-b3c5feeff2e6",
        "colab": {
          "base_uri": "https://localhost:8080/"
        }
      },
      "outputs": [
        {
          "output_type": "stream",
          "name": "stdout",
          "text": [
            "This is except block\n",
            "This is finally block\n"
          ]
        }
      ],
      "source": [
        "x = 500\n",
        "y = 0\n",
        "z = 0\n",
        "\n",
        "try:\n",
        "    z = x/y\n",
        "except:\n",
        "    print('This is except block')\n",
        "else:\n",
        "    print('This is else block')\n",
        "finally:\n",
        "    print('This is finally block')"
      ]
    },
    {
      "cell_type": "markdown",
      "id": "a27e7a20",
      "metadata": {
        "id": "a27e7a20"
      },
      "source": [
        "#### Custom Exception"
      ]
    },
    {
      "cell_type": "code",
      "execution_count": null,
      "id": "04a3b243",
      "metadata": {
        "id": "04a3b243"
      },
      "outputs": [],
      "source": [
        "# Create Custom Exception\n",
        "class CustomError(Exception):\n",
        "\n",
        "    def __init__(self, message):\n",
        "        self.message = message\n",
        "\n",
        "    def sample_method(self):\n",
        "        print(self.message)"
      ]
    },
    {
      "cell_type": "code",
      "execution_count": null,
      "id": "56a75a7c",
      "metadata": {
        "id": "56a75a7c",
        "outputId": "37c04273-4170-4cb3-c8fa-49ce64eba10f",
        "colab": {
          "base_uri": "https://localhost:8080/"
        }
      },
      "outputs": [
        {
          "output_type": "stream",
          "name": "stdout",
          "text": [
            "<class '__main__.CustomError'>\n",
            "This is a custom error!\n"
          ]
        }
      ],
      "source": [
        "try:\n",
        "    raise CustomError(\"This is a custom error!\")\n",
        "\n",
        "except Exception as e:\n",
        "    print(type(e))\n",
        "#     print(e.sample_method())\n",
        "    print(e.message)"
      ]
    },
    {
      "cell_type": "markdown",
      "id": "255e3d5f",
      "metadata": {
        "id": "255e3d5f"
      },
      "source": [
        "#### Addresing Question in Class (Beyond class curriculum)"
      ]
    },
    {
      "cell_type": "markdown",
      "id": "81276c88",
      "metadata": {
        "id": "81276c88"
      },
      "source": [
        "How to provide methods for the class in custom exception handling"
      ]
    },
    {
      "cell_type": "code",
      "execution_count": null,
      "id": "1d87fcb6",
      "metadata": {
        "id": "1d87fcb6",
        "outputId": "42b52db0-231a-4551-d6be-9b1010514231"
      },
      "outputs": [
        {
          "name": "stdout",
          "output_type": "stream",
          "text": [
            "<class '__main__.CustomError'>\n",
            "This is a custom error!\n"
          ]
        }
      ],
      "source": [
        "# Create Custom Exception\n",
        "class CustomError(Exception):\n",
        "\n",
        "    def __init__(self, message=None):\n",
        "        if message is None:\n",
        "            message = self.default_message()\n",
        "        self.message = message\n",
        "\n",
        "    @classmethod\n",
        "    def default_message(cls):\n",
        "        return \"This is a custom error!\"\n",
        "\n",
        "try:\n",
        "    raise CustomError()\n",
        "except Exception as e:\n",
        "    print(type(e))\n",
        "    print(e.message)"
      ]
    },
    {
      "cell_type": "markdown",
      "id": "e7642a61",
      "metadata": {
        "id": "e7642a61"
      },
      "source": [
        "### MCQ11"
      ]
    },
    {
      "cell_type": "markdown",
      "id": "9419d256",
      "metadata": {
        "id": "9419d256"
      },
      "source": [
        "In Python\n",
        "\n",
        "1) Lists are mutable objects\n",
        "\n",
        "2) Tuples are immutable objects"
      ]
    },
    {
      "cell_type": "markdown",
      "id": "c9f9774e",
      "metadata": {
        "id": "c9f9774e"
      },
      "source": [
        "#### List are mutable"
      ]
    },
    {
      "cell_type": "code",
      "execution_count": null,
      "id": "f784c1ab",
      "metadata": {
        "id": "f784c1ab",
        "outputId": "a5c50be8-f587-4770-9465-5be8c64714a8",
        "colab": {
          "base_uri": "https://localhost:8080/"
        }
      },
      "outputs": [
        {
          "output_type": "stream",
          "name": "stdout",
          "text": [
            "[10, 2, 3]\n"
          ]
        }
      ],
      "source": [
        "a = [1, 2, 3]\n",
        "a[0] = 10\n",
        "print(a)"
      ]
    },
    {
      "cell_type": "code",
      "source": [
        "print(id(a))"
      ],
      "metadata": {
        "id": "OtzvSIN8_aeI",
        "outputId": "4bb7b15b-d990-40e1-ebb8-2d73af9292eb",
        "colab": {
          "base_uri": "https://localhost:8080/"
        }
      },
      "id": "OtzvSIN8_aeI",
      "execution_count": null,
      "outputs": [
        {
          "output_type": "stream",
          "name": "stdout",
          "text": [
            "135836876766464\n"
          ]
        }
      ]
    },
    {
      "cell_type": "code",
      "source": [
        "a.append(5)"
      ],
      "metadata": {
        "id": "GIWLN0UW_b1h"
      },
      "id": "GIWLN0UW_b1h",
      "execution_count": null,
      "outputs": []
    },
    {
      "cell_type": "code",
      "source": [
        "a"
      ],
      "metadata": {
        "id": "Mh-nUzVu_flk",
        "outputId": "8229f090-023b-460b-d601-80fb7f5cbde7",
        "colab": {
          "base_uri": "https://localhost:8080/"
        }
      },
      "id": "Mh-nUzVu_flk",
      "execution_count": null,
      "outputs": [
        {
          "output_type": "execute_result",
          "data": {
            "text/plain": [
              "[10, 2, 3, 5]"
            ]
          },
          "metadata": {},
          "execution_count": 20
        }
      ]
    },
    {
      "cell_type": "code",
      "source": [
        "id(a)"
      ],
      "metadata": {
        "id": "m8n57dtw_hCG",
        "outputId": "20795e98-be6f-4cd4-f490-6d2f94529c29",
        "colab": {
          "base_uri": "https://localhost:8080/"
        }
      },
      "id": "m8n57dtw_hCG",
      "execution_count": null,
      "outputs": [
        {
          "output_type": "execute_result",
          "data": {
            "text/plain": [
              "135836876766464"
            ]
          },
          "metadata": {},
          "execution_count": 21
        }
      ]
    },
    {
      "cell_type": "markdown",
      "id": "089d5edd",
      "metadata": {
        "id": "089d5edd"
      },
      "source": [
        "#### Tuples are immutable"
      ]
    },
    {
      "cell_type": "code",
      "execution_count": null,
      "id": "c7475412",
      "metadata": {
        "id": "c7475412"
      },
      "outputs": [],
      "source": [
        "a = (1, 2, 3)\n",
        "a[0] = 10\n",
        "print(a)"
      ]
    },
    {
      "cell_type": "markdown",
      "id": "32f93c04",
      "metadata": {
        "id": "32f93c04"
      },
      "source": [
        "### FF3-Q1"
      ]
    },
    {
      "cell_type": "markdown",
      "id": "ae7b66ad",
      "metadata": {
        "id": "ae7b66ad"
      },
      "source": [
        "Write a Python program that uses global and local variables to perform a calculation. Print the values of both the global and local variables before and after the calculation."
      ]
    },
    {
      "cell_type": "markdown",
      "id": "65f82d4a",
      "metadata": {
        "id": "65f82d4a"
      },
      "source": [
        "#### Solution"
      ]
    },
    {
      "cell_type": "markdown",
      "id": "1b21d0d4",
      "metadata": {
        "id": "1b21d0d4"
      },
      "source": [
        "In Python, when you have a global variable defined outside of a function, it can be accessed within a function without any issues. Python allows functions to access and use global variables. However, if you intend to modify the global variable from within a function, you need to use the global keyword to indicate that you're working with the global variable and not creating a new local variable with the same name."
      ]
    },
    {
      "cell_type": "markdown",
      "id": "44a79c8b",
      "metadata": {
        "id": "44a79c8b"
      },
      "source": [
        "#### Example 1"
      ]
    },
    {
      "cell_type": "code",
      "execution_count": null,
      "id": "6384a5ef",
      "metadata": {
        "id": "6384a5ef",
        "outputId": "9f4a3486-6862-4e18-eb02-148c7565c0f2",
        "colab": {
          "base_uri": "https://localhost:8080/"
        }
      },
      "outputs": [
        {
          "output_type": "stream",
          "name": "stdout",
          "text": [
            "Accessing global_var from the function: 42\n",
            "Modified global_var: 100\n"
          ]
        }
      ],
      "source": [
        "global_var = 42  # This is a global variable\n",
        "\n",
        "def access_global():\n",
        "    print(\"Accessing global_var from the function:\", global_var)\n",
        "\n",
        "def modify_global():\n",
        "\n",
        "    global global_var  # Declare that we are modifying the global variable\n",
        "    global_var = 100   # Modify the global variable\n",
        "\n",
        "access_global()  # Access the global variable\n",
        "modify_global()  # Modify the global variable\n",
        "\n",
        "# Check the modified global variable\n",
        "print(\"Modified global_var:\", global_var)"
      ]
    },
    {
      "cell_type": "markdown",
      "id": "028acbe6",
      "metadata": {
        "id": "028acbe6"
      },
      "source": [
        "#### Example 2"
      ]
    },
    {
      "cell_type": "code",
      "execution_count": null,
      "id": "ea95c323",
      "metadata": {
        "id": "ea95c323"
      },
      "outputs": [],
      "source": [
        "global_variable = 10\n",
        "\n",
        "def perform_calculation():\n",
        "\n",
        "    local_variable = 5\n",
        "\n",
        "    global global_variable\n",
        "\n",
        "    print(\"\\n\\nBefore Calculation:\\n\")\n",
        "    print(\"  Global Variable:\", global_variable)\n",
        "    print(\"  Local Variable:\", local_variable)\n",
        "\n",
        "    local_variable += 5\n",
        "    global_variable += 5\n",
        "\n",
        "    print(\"\\nAfter Calculation:\\n\")\n",
        "    print(\"  Global Variable:\", global_variable)\n",
        "    print(\"  Local Variable:\", local_variable)"
      ]
    },
    {
      "cell_type": "code",
      "execution_count": null,
      "id": "3d34f9ca",
      "metadata": {
        "id": "3d34f9ca",
        "outputId": "0c189215-0670-48b6-91da-385e5bdff303",
        "colab": {
          "base_uri": "https://localhost:8080/"
        }
      },
      "outputs": [
        {
          "output_type": "stream",
          "name": "stdout",
          "text": [
            "Global Variable Initial Value:  10\n",
            "\n",
            "\n",
            "Before Calculation:\n",
            "\n",
            "  Global Variable: 10\n",
            "  Local Variable: 5\n",
            "\n",
            "After Calculation:\n",
            "\n",
            "  Global Variable: 15\n",
            "  Local Variable: 10\n",
            "\n",
            "\n",
            "Global Variable Updated Value:  15\n"
          ]
        }
      ],
      "source": [
        "# Call the function\n",
        "print(\"Global Variable Initial Value: \", global_variable)\n",
        "perform_calculation()\n",
        "print(\"\\n\\nGlobal Variable Updated Value: \", global_variable)"
      ]
    },
    {
      "cell_type": "markdown",
      "id": "dbec4fcd",
      "metadata": {
        "id": "dbec4fcd"
      },
      "source": [
        "### FF3-Q2"
      ]
    },
    {
      "cell_type": "markdown",
      "id": "f9888342",
      "metadata": {
        "id": "f9888342"
      },
      "source": [
        "Write a Python program to sort a list of strings based on the length of each string. Define a custom sort function that takes a list of strings and returns a sorted list."
      ]
    },
    {
      "cell_type": "markdown",
      "id": "d023acfe",
      "metadata": {
        "id": "d023acfe"
      },
      "source": [
        "#### Solution"
      ]
    },
    {
      "cell_type": "markdown",
      "id": "bfdee76b",
      "metadata": {
        "id": "bfdee76b"
      },
      "source": [
        "Python custom sorting function syntax:\n",
        "\n",
        "- sorted(iterable, key=None, reverse=False)"
      ]
    },
    {
      "cell_type": "code",
      "source": [
        "example_str = ['a', 'c', 'abc', 'de', 'f']"
      ],
      "metadata": {
        "id": "nqSfEwp4BmKH"
      },
      "id": "nqSfEwp4BmKH",
      "execution_count": null,
      "outputs": []
    },
    {
      "cell_type": "code",
      "source": [
        "sorted(example_str)"
      ],
      "metadata": {
        "id": "55g3raqGBxzD",
        "outputId": "06b9c551-02a5-4d68-c627-cae778e58ddd",
        "colab": {
          "base_uri": "https://localhost:8080/"
        }
      },
      "id": "55g3raqGBxzD",
      "execution_count": null,
      "outputs": [
        {
          "output_type": "execute_result",
          "data": {
            "text/plain": [
              "['a', 'abc', 'c', 'de', 'f']"
            ]
          },
          "metadata": {},
          "execution_count": 27
        }
      ]
    },
    {
      "cell_type": "code",
      "source": [
        "sorted(example_str, key = lambda x: len(x))"
      ],
      "metadata": {
        "id": "p4jbzvksCGOX",
        "outputId": "f6618e64-c5c1-430d-9050-33f50bb1673a",
        "colab": {
          "base_uri": "https://localhost:8080/"
        }
      },
      "id": "p4jbzvksCGOX",
      "execution_count": null,
      "outputs": [
        {
          "output_type": "execute_result",
          "data": {
            "text/plain": [
              "['a', 'c', 'f', 'de', 'abc']"
            ]
          },
          "metadata": {},
          "execution_count": 28
        }
      ]
    },
    {
      "cell_type": "code",
      "execution_count": null,
      "id": "e0ac25ba",
      "metadata": {
        "id": "e0ac25ba",
        "outputId": "952e4722-eac5-46df-ead1-4e4cb353fbad",
        "colab": {
          "base_uri": "https://localhost:8080/"
        }
      },
      "outputs": [
        {
          "output_type": "stream",
          "name": "stdout",
          "text": [
            "['a', 'abcd', 'ab', 'abcde', 'abc']\n",
            "['a', 'ab', 'abc', 'abcd', 'abcde']\n"
          ]
        }
      ],
      "source": [
        "def custom_sort(strings):\n",
        "    sorted_list = sorted(strings, key=lambda x: len(x))\n",
        "#     sorted_list = sorted(strings, key=len)\n",
        "    return sorted_list\n",
        "\n",
        "string_list = ['a', 'abcd', 'ab', 'abcde' ,'abc']\n",
        "sorted_list = custom_sort(string_list)\n",
        "\n",
        "print(string_list)\n",
        "print(sorted_list)"
      ]
    },
    {
      "cell_type": "markdown",
      "id": "01236765",
      "metadata": {
        "id": "01236765"
      },
      "source": [
        "#### Some point on the possibilities of \"key\""
      ]
    },
    {
      "cell_type": "markdown",
      "id": "41569168",
      "metadata": {
        "id": "41569168"
      },
      "source": [
        "\n",
        "In Python, the sorted() function's key parameter is quite versatile, as it allows you to specify a function that will be called on each element of the iterable being sorted. This function will determine the sorting order based on the values returned. Therefore, you can use any function that accepts an element of the iterable as input and returns a value that can be used for sorting.\n",
        "\n",
        "Here are some possibilities of what you can use instead of len:\n",
        "\n",
        "Alphabetical Sorting:\n",
        "\n",
        "- str.lower: Sorts strings in a case-insensitive manner.\n",
        "- str.upper: Sorts strings in a case-insensitive manner.\n",
        "- str.casefold: Sorts strings in a case-insensitive manner, but more aggressively than str.lower.\n",
        "\n",
        "Numerical Sorting:\n",
        "\n",
        "- int: Sorts integers numerically.\n",
        "- float: Sorts floating-point numbers numerically."
      ]
    },
    {
      "cell_type": "markdown",
      "id": "02319b62",
      "metadata": {
        "id": "02319b62"
      },
      "source": [
        "See the following for more information and examples: https://docs.python.org/3/library/functions.html#sorted"
      ]
    },
    {
      "cell_type": "markdown",
      "id": "cfc40c32",
      "metadata": {
        "id": "cfc40c32"
      },
      "source": [
        "### FF3-Q3"
      ]
    },
    {
      "cell_type": "markdown",
      "id": "e7293647",
      "metadata": {
        "id": "e7293647"
      },
      "source": [
        "How can you ensure that a certain code block runs no matter whether there’s an exception or not?"
      ]
    },
    {
      "cell_type": "code",
      "execution_count": null,
      "id": "f61e8038",
      "metadata": {
        "id": "f61e8038"
      },
      "outputs": [],
      "source": [
        "try:\n",
        "    # Code that may raise an exception\n",
        "    # ...\n",
        "except:\n",
        "    # Exception handling\n",
        "    # ...\n",
        "else:\n",
        "    # Code that runs if no exceptions are raised in the try block\n",
        "    # ...\n",
        "finally:\n",
        "    # Code that always runs, regardless of whether an exception was raised or not\n",
        "    # ..."
      ]
    },
    {
      "cell_type": "markdown",
      "id": "545f56f8",
      "metadata": {
        "id": "545f56f8"
      },
      "source": [
        "### FF3-Q4"
      ]
    },
    {
      "cell_type": "markdown",
      "id": "c0884e7e",
      "metadata": {
        "id": "c0884e7e"
      },
      "source": [
        "What do you understand about the traceback module in Python?"
      ]
    },
    {
      "cell_type": "markdown",
      "id": "fb153ea0",
      "metadata": {
        "id": "fb153ea0"
      },
      "source": [
        "#### Solution"
      ]
    },
    {
      "cell_type": "markdown",
      "id": "34de45f0",
      "metadata": {
        "id": "34de45f0"
      },
      "source": [
        "The traceback module in Python provides functions for extracting, formatting, and printing stack traces of Python programs. A stack trace, also known as a traceback, is a report of the active stack frames at a certain point in time during the execution of a program. It shows the sequence of function calls that led to an exception or an error."
      ]
    },
    {
      "cell_type": "markdown",
      "id": "9e8a8f04",
      "metadata": {
        "id": "9e8a8f04"
      },
      "source": [
        "The traceback module is particularly useful for debugging and diagnosing issues in Python programs. It allows developers to inspect the call stack and identify where errors occurred, providing valuable information for troubleshooting and fixing problems. Some of the key functions provided by the traceback module include:"
      ]
    },
    {
      "cell_type": "markdown",
      "id": "57292cbc",
      "metadata": {
        "id": "57292cbc"
      },
      "source": [
        "- traceback.print_tb(): Prints the stack trace to the standard error stream in a format similar to what is printed when an unhandled exception occurs.\n",
        "\n",
        "- traceback.print_exception(): Similar to print_tb(), but also prints the exception type, value, and traceback.\n",
        "\n",
        "- traceback.print_exc(): Prints the exception information to the standard error stream. If no exception is being handled, it behaves like print_exception().\n",
        "\n",
        "- traceback.format_tb(), traceback.format_exception(), traceback.format_exc(): These functions return the formatted stack trace information as strings instead of printing it.\n",
        "\n",
        "- traceback.extract_tb(), traceback.extract_stack(): These functions return lists of Traceback objects representing the stack frames."
      ]
    },
    {
      "cell_type": "code",
      "execution_count": null,
      "id": "e2223815",
      "metadata": {
        "id": "e2223815",
        "outputId": "97f080db-b496-4c21-8e7e-9b2fdd9aff2b"
      },
      "outputs": [
        {
          "name": "stderr",
          "output_type": "stream",
          "text": [
            "Traceback (most recent call last):\n",
            "  File \"/var/folders/hb/wtt1c23d1gx2v__dtdk3t0mw0000gn/T/ipykernel_18064/4118056983.py\", line 7, in <module>\n",
            "    function_with_error()\n",
            "  File \"/var/folders/hb/wtt1c23d1gx2v__dtdk3t0mw0000gn/T/ipykernel_18064/4118056983.py\", line 4, in function_with_error\n",
            "    raise ValueError(\"An error occured\")\n",
            "ValueError: An error occured\n"
          ]
        }
      ],
      "source": [
        "import traceback, sys\n",
        "\n",
        "def function_with_error():\n",
        "    raise ValueError(\"An error occured\")\n",
        "\n",
        "try:\n",
        "    function_with_error()\n",
        "except:\n",
        "    traceback.print_exc()"
      ]
    },
    {
      "cell_type": "code",
      "execution_count": null,
      "id": "4b8c86d7",
      "metadata": {
        "id": "4b8c86d7",
        "outputId": "63e1e5fa-0b6a-4d48-e322-4c50717b65a9"
      },
      "outputs": [
        {
          "name": "stdout",
          "output_type": "stream",
          "text": [
            "File name: /var/folders/hb/wtt1c23d1gx2v__dtdk3t0mw0000gn/T/ipykernel_18064/2903379465.py\n",
            "Line number: 2\n",
            "Name: <module>\n",
            "Error line: function_with_error()\n",
            "\n",
            "File name: /var/folders/hb/wtt1c23d1gx2v__dtdk3t0mw0000gn/T/ipykernel_18064/4118056983.py\n",
            "Line number: 4\n",
            "Name: function_with_error\n",
            "Error line: raise ValueError(\"An error occured\")\n",
            "\n"
          ]
        }
      ],
      "source": [
        "try:\n",
        "    function_with_error()\n",
        "except:\n",
        "    exc_type, exc_value, exc_traceback = sys.exc_info()\n",
        "    frames = traceback.extract_tb(exc_traceback)\n",
        "    for frame in frames:\n",
        "        print(\"File name:\", frame.filename)\n",
        "        print(\"Line number:\", frame.lineno)\n",
        "        print(\"Name:\", frame.name)\n",
        "        print(\"Error line:\", frame.line)\n",
        "        print()"
      ]
    },
    {
      "cell_type": "markdown",
      "id": "43d5e272",
      "metadata": {
        "id": "43d5e272"
      },
      "source": [
        "#### Logging vs Traceback"
      ]
    },
    {
      "cell_type": "markdown",
      "id": "eceb182a",
      "metadata": {
        "id": "eceb182a"
      },
      "source": [
        "These examples demonstrate how logging can be used to record events and messages during program execution, and how traceback information can be printed to help diagnose and debug errors."
      ]
    },
    {
      "cell_type": "code",
      "source": [
        "! pwd"
      ],
      "metadata": {
        "id": "Cb_bGpp4FlQd",
        "outputId": "390bd968-44ad-4eb6-f567-ae546e1e30cc",
        "colab": {
          "base_uri": "https://localhost:8080/"
        }
      },
      "id": "Cb_bGpp4FlQd",
      "execution_count": null,
      "outputs": [
        {
          "output_type": "stream",
          "name": "stdout",
          "text": [
            "/content\n"
          ]
        }
      ]
    },
    {
      "cell_type": "code",
      "execution_count": null,
      "id": "9bc306a8",
      "metadata": {
        "id": "9bc306a8",
        "outputId": "c675a709-5716-4c50-8273-745783a9f25d",
        "colab": {
          "base_uri": "https://localhost:8080/"
        }
      },
      "outputs": [
        {
          "output_type": "stream",
          "name": "stderr",
          "text": [
            "ERROR:root:Division by zero error: division by zero\n"
          ]
        },
        {
          "output_type": "stream",
          "name": "stdout",
          "text": [
            "logging saved\n",
            "logging saved\n"
          ]
        }
      ],
      "source": [
        "import logging\n",
        "\n",
        "logging.basicConfig(filename='/content/example.log', level=logging.INFO, format='%(asctime)s - %(levelname)s: %(message)s')\n",
        "\n",
        "def divide(a, b):\n",
        "    try:\n",
        "        result = a / b\n",
        "        logging.info(f'Division successful: {a} / {b} = {result}')\n",
        "        return result\n",
        "    except ZeroDivisionError as e:\n",
        "        logging.error(f'Division by zero error: {e}')\n",
        "        return None\n",
        "    finally:\n",
        "        print('logging saved')\n",
        "\n",
        "result = divide(10, 2)\n",
        "result = divide(10, 0)"
      ]
    },
    {
      "cell_type": "code",
      "execution_count": null,
      "id": "cd28a88e",
      "metadata": {
        "id": "cd28a88e"
      },
      "outputs": [],
      "source": [
        "import traceback\n",
        "\n",
        "def divide(a, b):\n",
        "    try:\n",
        "        result = a / b\n",
        "        return result\n",
        "    except ZeroDivisionError as e:\n",
        "        traceback.print_exc()\n",
        "        return None\n",
        "\n",
        "result = divide(10, 2)\n",
        "result = divide(10, 0)"
      ]
    },
    {
      "cell_type": "code",
      "source": [
        "! pwd"
      ],
      "metadata": {
        "id": "PKumuZmeLhTA",
        "outputId": "7f33679d-eaad-47d5-ebaf-9a2e32a5f197",
        "colab": {
          "base_uri": "https://localhost:8080/"
        }
      },
      "id": "PKumuZmeLhTA",
      "execution_count": null,
      "outputs": [
        {
          "output_type": "stream",
          "name": "stdout",
          "text": [
            "/content\n"
          ]
        }
      ]
    },
    {
      "cell_type": "markdown",
      "id": "7d5a5cb0",
      "metadata": {
        "id": "7d5a5cb0"
      },
      "source": [
        "An example of log forging that can happen in Python"
      ]
    },
    {
      "cell_type": "code",
      "execution_count": null,
      "id": "edf7c68f",
      "metadata": {
        "id": "edf7c68f"
      },
      "outputs": [],
      "source": [
        "import logging\n",
        "\n",
        "# Configure the logging system to log to a file\n",
        "logging.basicConfig(filename='/content/application.log', level=logging.INFO, format='%(asctime)s - %(message)s')\n",
        "\n",
        "# User input\n",
        "user_input = \"attacker_ip  -  Authentication successful.\"\n",
        "\n",
        "# Log the user input (log forging)\n",
        "logging.info(user_input)"
      ]
    },
    {
      "cell_type": "markdown",
      "id": "a471176a",
      "metadata": {
        "id": "a471176a"
      },
      "source": [
        "#### Documentation"
      ]
    },
    {
      "cell_type": "markdown",
      "id": "4fad351a",
      "metadata": {
        "id": "4fad351a"
      },
      "source": [
        "Documents for traceback module:\n",
        "\n",
        "- https://docs.python.org/3/library/traceback.html\n",
        "- https://www.geeksforgeeks.org/traceback-in-python/\n",
        "\n",
        "Documents for logging in Python:\n",
        "\n",
        "- https://docs.python.org/3/library/logging.html\n",
        "- https://docs.python.org/3/howto/logging-cookbook.html\n",
        "- https://www.youtube.com/watch?v=-ARI4Cz-awo&ab_channel=CoreySchafer"
      ]
    },
    {
      "cell_type": "markdown",
      "id": "ee30d5f2",
      "metadata": {
        "id": "ee30d5f2"
      },
      "source": [
        "### FF3-Q5"
      ]
    },
    {
      "cell_type": "markdown",
      "id": "0f9afdf6",
      "metadata": {
        "id": "0f9afdf6"
      },
      "source": [
        " Write a Python program to find the longest word in a file."
      ]
    },
    {
      "cell_type": "markdown",
      "id": "687ccb5a",
      "metadata": {
        "id": "687ccb5a"
      },
      "source": [
        "#### Solution"
      ]
    },
    {
      "cell_type": "code",
      "execution_count": null,
      "id": "cc27ac87",
      "metadata": {
        "id": "cc27ac87",
        "outputId": "42436517-7445-4739-b676-1eeb33c981c4",
        "colab": {
          "base_uri": "https://localhost:8080/",
          "height": 35
        }
      },
      "outputs": [
        {
          "output_type": "execute_result",
          "data": {
            "text/plain": [
              "'programming'"
            ],
            "application/vnd.google.colaboratory.intrinsic+json": {
              "type": "string"
            }
          },
          "metadata": {},
          "execution_count": 33
        }
      ],
      "source": [
        "with open(\"my_file.txt\", \"r\") as file:\n",
        "    text = file.read()\n",
        "\n",
        "words_list = text.split()\n",
        "\n",
        "longest_word = sorted(words_list, key=len)[-1]\n",
        "# longest_word = max(words_list, key=len)\n",
        "\n",
        "longest_word"
      ]
    },
    {
      "cell_type": "code",
      "source": [
        "sorted(words_list, key=len)[-1]"
      ],
      "metadata": {
        "id": "0JSFlOkPFPxw",
        "outputId": "ce616b3b-1c8e-4abd-d445-6a892f810b0b",
        "colab": {
          "base_uri": "https://localhost:8080/",
          "height": 35
        }
      },
      "id": "0JSFlOkPFPxw",
      "execution_count": null,
      "outputs": [
        {
          "output_type": "execute_result",
          "data": {
            "text/plain": [
              "'programming'"
            ],
            "application/vnd.google.colaboratory.intrinsic+json": {
              "type": "string"
            }
          },
          "metadata": {},
          "execution_count": 39
        }
      ]
    },
    {
      "cell_type": "markdown",
      "id": "48df12b6",
      "metadata": {
        "id": "48df12b6"
      },
      "source": [
        "### FF3-Q6"
      ]
    },
    {
      "cell_type": "markdown",
      "id": "2ca07ef4",
      "metadata": {
        "id": "2ca07ef4"
      },
      "source": [
        "Write a Python program that prompts the user for two numbers and divides them. Handle any exceptions that may arise from the division."
      ]
    },
    {
      "cell_type": "markdown",
      "id": "cfb309c5",
      "metadata": {
        "id": "cfb309c5"
      },
      "source": [
        "#### Solution"
      ]
    },
    {
      "cell_type": "code",
      "execution_count": null,
      "id": "2d505640",
      "metadata": {
        "id": "2d505640",
        "outputId": "54a895ce-3d75-4a3b-e775-1ba91de22bdf",
        "colab": {
          "base_uri": "https://localhost:8080/"
        }
      },
      "outputs": [
        {
          "output_type": "stream",
          "name": "stdout",
          "text": [
            "Enter number 1: 2\n",
            "Enter number 2: 0\n",
            "\n",
            "Division by zero error\n",
            "\n",
            "We did it!\n"
          ]
        }
      ],
      "source": [
        "num1 = int(input(\"Enter number 1: \"))\n",
        "num2 = int(input(\"Enter number 2: \"))\n",
        "\n",
        "try:\n",
        "#     if num2 == 0:\n",
        "#         raise ZeroDivisionError\n",
        "    result = num1 / num2\n",
        "except:\n",
        "    print(\"\\nDivision by zero error\")\n",
        "else:\n",
        "    print(result)\n",
        "finally:\n",
        "    print(\"\\nWe did it!\")"
      ]
    },
    {
      "cell_type": "markdown",
      "id": "5116bd3b",
      "metadata": {
        "id": "5116bd3b"
      },
      "source": [
        "### FF3-Q7"
      ]
    },
    {
      "cell_type": "markdown",
      "id": "23f0d0b4",
      "metadata": {
        "id": "23f0d0b4"
      },
      "source": [
        "Write a Python program that reads data from a JSON file and prints the contents of the file to the console."
      ]
    },
    {
      "cell_type": "markdown",
      "id": "44a1b146",
      "metadata": {
        "id": "44a1b146"
      },
      "source": [
        "#### Solution"
      ]
    },
    {
      "cell_type": "code",
      "execution_count": null,
      "id": "278614aa",
      "metadata": {
        "id": "278614aa"
      },
      "outputs": [],
      "source": [
        "import json"
      ]
    },
    {
      "cell_type": "code",
      "execution_count": null,
      "id": "da5b0e21",
      "metadata": {
        "id": "da5b0e21",
        "outputId": "d419f42f-f510-47a6-be4b-9ccf691632c6",
        "colab": {
          "base_uri": "https://localhost:8080/"
        }
      },
      "outputs": [
        {
          "output_type": "stream",
          "name": "stdout",
          "text": [
            "<class 'str'>\n",
            "{\"name\": \"John\", \"age\": 30, \"city\": \"New York\", \"hasChildren\": false, \"titles\": [\"engineer\", \"programmer\"]}\n"
          ]
        }
      ],
      "source": [
        "with open(\"person1.json\", \"r\") as file:\n",
        "#     person = json.load(file)\n",
        "    content = file.read()\n",
        "\n",
        "# print(type(person))\n",
        "# print(person)\n",
        "# print(person['titles'])\n",
        "\n",
        "print(type(content))\n",
        "print(content)"
      ]
    },
    {
      "cell_type": "markdown",
      "source": [
        "## Logging in google colab"
      ],
      "metadata": {
        "id": "EujEfB4MTx7S"
      },
      "id": "EujEfB4MTx7S"
    },
    {
      "cell_type": "code",
      "source": [
        "import logging\n",
        "\n",
        "logging.basicConfig(level=logging.DEBUG,\n",
        "                    format='%(asctime)s - %(levelname)s - %(message)s')\n",
        "\n",
        "# Add file handler\n",
        "file_handler = logging.FileHandler('/content/my_app.log')\n",
        "formatter = logging.Formatter('%(asctime)s - %(levelname)s - %(message)s')\n",
        "file_handler.setFormatter(formatter)\n",
        "logging.getLogger().addHandler(file_handler)\n",
        "\n",
        "# Log messages\n",
        "logging.debug('Debug message')\n",
        "logging.info('Info message')\n",
        "logging.warning('Warning message')\n",
        "\n",
        "# Shutdown to write logs\n",
        "logging.shutdown()\n",
        "print(os.listdir('/content'))\n"
      ],
      "metadata": {
        "colab": {
          "base_uri": "https://localhost:8080/"
        },
        "id": "3WQP_ACURzyj",
        "outputId": "c995b1fd-2e7a-4b45-a0e0-a019fd65aa1e"
      },
      "id": "3WQP_ACURzyj",
      "execution_count": 4,
      "outputs": [
        {
          "output_type": "stream",
          "name": "stderr",
          "text": [
            "WARNING:root:Warning message\n"
          ]
        },
        {
          "output_type": "stream",
          "name": "stdout",
          "text": [
            "['.config', 'my_app.log', 'sample_data']\n"
          ]
        }
      ]
    },
    {
      "cell_type": "markdown",
      "source": [
        "## Sort without using keys argument in sorted function"
      ],
      "metadata": {
        "id": "qOQ4-kRKT8oK"
      },
      "id": "qOQ4-kRKT8oK"
    },
    {
      "cell_type": "code",
      "source": [
        "strings = [\"apple\", \"banana\", \"kiwi\", \"cherry\", \"fig\", \"grape\"]\n",
        "\n",
        "temp_list = [(len(s), s) for s in strings]  # Embed length into tuples\n",
        "temp_list.sort()\n",
        "strings = [s[1] for s in temp_list]  # Extract the original strings\n",
        "\n",
        "print(strings)"
      ],
      "metadata": {
        "colab": {
          "base_uri": "https://localhost:8080/"
        },
        "id": "VkdG2DdNT0vT",
        "outputId": "0d75cb3c-a1ec-454e-820d-8fb6f3529eeb"
      },
      "id": "VkdG2DdNT0vT",
      "execution_count": 5,
      "outputs": [
        {
          "output_type": "stream",
          "name": "stdout",
          "text": [
            "['fig', 'kiwi', 'apple', 'grape', 'banana', 'cherry']\n"
          ]
        }
      ]
    }
  ],
  "metadata": {
    "kernelspec": {
      "display_name": "Python 3 (ipykernel)",
      "language": "python",
      "name": "python3"
    },
    "language_info": {
      "codemirror_mode": {
        "name": "ipython",
        "version": 3
      },
      "file_extension": ".py",
      "mimetype": "text/x-python",
      "name": "python",
      "nbconvert_exporter": "python",
      "pygments_lexer": "ipython3",
      "version": "3.10.9"
    },
    "colab": {
      "provenance": [],
      "include_colab_link": true
    }
  },
  "nbformat": 4,
  "nbformat_minor": 5
}