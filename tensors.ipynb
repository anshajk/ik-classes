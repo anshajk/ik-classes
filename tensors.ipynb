{
  "nbformat": 4,
  "nbformat_minor": 0,
  "metadata": {
    "colab": {
      "provenance": [],
      "gpuType": "T4",
      "include_colab_link": true
    },
    "kernelspec": {
      "name": "python3",
      "display_name": "Python 3"
    },
    "language_info": {
      "name": "python"
    },
    "accelerator": "GPU"
  },
  "cells": [
    {
      "cell_type": "markdown",
      "metadata": {
        "id": "view-in-github",
        "colab_type": "text"
      },
      "source": [
        "<a href=\"https://colab.research.google.com/github/anshajk/ik-classes/blob/main/tensors.ipynb\" target=\"_parent\"><img src=\"https://colab.research.google.com/assets/colab-badge.svg\" alt=\"Open In Colab\"/></a>"
      ]
    },
    {
      "cell_type": "markdown",
      "source": [
        "# What is a Tensor?\n",
        "\n",
        "A tensor is a generalization of vectors and matrices to potentially higher dimensions, see the Table below. Internally, TensorFlow represents tensors as n-dimensional arrays of base datatypes. Each element in the Tensor has the same data type, and the data type is always known. Simply, tensor, in relation to machine learning, is a generalization of scalars, vectors and, matrices.\n",
        "<br><br>\n",
        "<center>\n",
        "<img src= \"https://cdn.iisc.talentsprint.com/AIandMLOps/Images/Intro_tensor.png\" width=700px/>\n",
        "</center>\n"
      ],
      "metadata": {
        "id": "uBnPB8kW-Uj3"
      }
    },
    {
      "cell_type": "code",
      "source": [
        "!pip install torch"
      ],
      "metadata": {
        "colab": {
          "base_uri": "https://localhost:8080/"
        },
        "id": "cJc4WmIg6oOl",
        "outputId": "b64b1579-a022-4d0f-8141-5e562e03de45"
      },
      "execution_count": null,
      "outputs": [
        {
          "output_type": "stream",
          "name": "stdout",
          "text": [
            "Requirement already satisfied: torch in /usr/local/lib/python3.10/dist-packages (2.1.0+cu118)\n",
            "Requirement already satisfied: filelock in /usr/local/lib/python3.10/dist-packages (from torch) (3.13.1)\n",
            "Requirement already satisfied: typing-extensions in /usr/local/lib/python3.10/dist-packages (from torch) (4.5.0)\n",
            "Requirement already satisfied: sympy in /usr/local/lib/python3.10/dist-packages (from torch) (1.12)\n",
            "Requirement already satisfied: networkx in /usr/local/lib/python3.10/dist-packages (from torch) (3.2.1)\n",
            "Requirement already satisfied: jinja2 in /usr/local/lib/python3.10/dist-packages (from torch) (3.1.2)\n",
            "Requirement already satisfied: fsspec in /usr/local/lib/python3.10/dist-packages (from torch) (2023.6.0)\n",
            "Requirement already satisfied: triton==2.1.0 in /usr/local/lib/python3.10/dist-packages (from torch) (2.1.0)\n",
            "Requirement already satisfied: MarkupSafe>=2.0 in /usr/local/lib/python3.10/dist-packages (from jinja2->torch) (2.1.3)\n",
            "Requirement already satisfied: mpmath>=0.19 in /usr/local/lib/python3.10/dist-packages (from sympy->torch) (1.3.0)\n"
          ]
        }
      ]
    },
    {
      "cell_type": "code",
      "source": [
        "import torch\n",
        "# Create a 3-dimensional tensor with random values from a uniform distribution\n",
        "random_tensor = torch.rand(2, 3, 4)\n",
        "print(random_tensor)"
      ],
      "metadata": {
        "colab": {
          "base_uri": "https://localhost:8080/"
        },
        "id": "APr5Upbcgoqg",
        "outputId": "8ae6359c-bc62-4c89-ce9d-add53296e366"
      },
      "execution_count": null,
      "outputs": [
        {
          "output_type": "stream",
          "name": "stdout",
          "text": [
            "tensor([[[0.2255, 0.6296, 0.9297, 0.5870],\n",
            "         [0.9187, 0.8767, 0.9741, 0.4177],\n",
            "         [0.5564, 0.7664, 0.0808, 0.3424]],\n",
            "\n",
            "        [[0.5428, 0.5708, 0.8021, 0.0125],\n",
            "         [0.8073, 0.3359, 0.6528, 0.8686],\n",
            "         [0.5637, 0.4990, 0.9806, 0.6358]]])\n"
          ]
        }
      ]
    },
    {
      "cell_type": "markdown",
      "source": [
        "## Basic Mathematical Operations on Tensors\n",
        "\n",
        "\n"
      ],
      "metadata": {
        "id": "BNm9-Gg_tgHo"
      }
    },
    {
      "cell_type": "markdown",
      "source": [
        "\n",
        "💥 Addition: Adds corresponding elements of tensors together, allowing for combining information or increasing values.\n",
        "\n",
        "💥 Subtraction: Subtracts corresponding elements of tensors, useful for computing differences or detecting changes.\n",
        "\n",
        "💥 Multiplication: Performs element-wise multiplication of tensors, enabling scaling or emphasizing certain features.\n",
        "To perform matrix like multiplication of tensors: torch.matmul(tensor1, tensor2)\n",
        "\n",
        "💥 Division: Divides corresponding elements of tensors, useful for normalization or finding relative proportions."
      ],
      "metadata": {
        "id": "FnWO5BDFF0U-"
      }
    },
    {
      "cell_type": "code",
      "source": [
        "import torch\n",
        "# Create a base tensor\n",
        "base_tensor = torch. tensor ([[1, 2], [3,4]])\n",
        "# Create another tensor\n",
        "second_tensor = torch.tensor ([[2, 2], [1,1]])\n",
        "# Addition\n",
        "addition_tensor = base_tensor + second_tensor\n",
        "print(\"Addition: \\\\n\", addition_tensor)\n",
        "# Subtraction\n",
        "subtraction_tensor = base_tensor - second_tensor\n",
        "print(\"Subtraction: \\\\n\", subtraction_tensor)\n",
        "# Multiplication\n",
        "multiplication_tensor = base_tensor * second_tensor\n",
        "print(\"Multiplication: \\\\n\", multiplication_tensor)\n",
        "# Division\n",
        "division_tensor = base_tensor / second_tensor\n",
        "print(\"Division: In\", division_tensor)\n"
      ],
      "metadata": {
        "colab": {
          "base_uri": "https://localhost:8080/"
        },
        "id": "FHUisZwctrd7",
        "outputId": "a7d1cc80-2402-4455-ed3d-2574cb49b270"
      },
      "execution_count": null,
      "outputs": [
        {
          "output_type": "stream",
          "name": "stdout",
          "text": [
            "Addition: \\n tensor([[3, 4],\n",
            "        [4, 5]])\n",
            "Subtraction: \\n tensor([[-1,  0],\n",
            "        [ 2,  3]])\n",
            "Multiplication: \\n tensor([[2, 4],\n",
            "        [3, 4]])\n",
            "Division: In tensor([[0.5000, 1.0000],\n",
            "        [3.0000, 4.0000]])\n"
          ]
        }
      ]
    },
    {
      "cell_type": "markdown",
      "source": [
        "## Tensor indexing and slicing"
      ],
      "metadata": {
        "id": "ymAddp0-t_72"
      }
    },
    {
      "cell_type": "code",
      "source": [
        "import torch\n",
        "# Create a tensor with size (2, 3, 3)\n",
        "tensor = torch.tensor ([\n",
        "\t[[1, 2, 3], [4, 5, 6], [7, 8, 9]],\n",
        "\t[[10, 11, 12], [13, 14, 15],[16, 17,18]]\n",
        "])\n",
        "print (\"Original Tensor:\")\n",
        "print (tensor)\n",
        "print(\"\\\\nTensor Shape:\", tensor.shape)\n"
      ],
      "metadata": {
        "colab": {
          "base_uri": "https://localhost:8080/"
        },
        "id": "7KWgPlimuFxK",
        "outputId": "bb7390bf-82bc-4ffe-fd21-012eb756ae55"
      },
      "execution_count": null,
      "outputs": [
        {
          "output_type": "stream",
          "name": "stdout",
          "text": [
            "Original Tensor:\n",
            "tensor([[[ 1,  2,  3],\n",
            "         [ 4,  5,  6],\n",
            "         [ 7,  8,  9]],\n",
            "\n",
            "        [[10, 11, 12],\n",
            "         [13, 14, 15],\n",
            "         [16, 17, 18]]])\n",
            "\\nTensor Shape: torch.Size([2, 3, 3])\n"
          ]
        }
      ]
    },
    {
      "cell_type": "markdown",
      "source": [
        "### Row Slice (Slice of the second row)"
      ],
      "metadata": {
        "id": "fIsmhVOTuM3N"
      }
    },
    {
      "cell_type": "code",
      "source": [
        "# Row Slice (Slice of the second row)\n",
        "row_slice = tensor[:, 1, :]\n",
        "print(\"\\\\now Slice:\")\n",
        "print (row_slice)\n",
        "print (\"Row Slice Shape:\", row_slice.shape)\n",
        "\n"
      ],
      "metadata": {
        "colab": {
          "base_uri": "https://localhost:8080/"
        },
        "id": "GY0chQy3uXBQ",
        "outputId": "322d8caa-666c-459f-97b6-54640434b10e"
      },
      "execution_count": null,
      "outputs": [
        {
          "output_type": "stream",
          "name": "stdout",
          "text": [
            "\\now Slice:\n",
            "tensor([[ 4,  5,  6],\n",
            "        [13, 14, 15]])\n",
            "Row Slice Shape: torch.Size([2, 3])\n"
          ]
        }
      ]
    },
    {
      "cell_type": "markdown",
      "source": [
        "### Column Slice (Slice of the third column)"
      ],
      "metadata": {
        "id": "yPSqTtguui-0"
      }
    },
    {
      "cell_type": "code",
      "source": [
        "# Column Slice (Slice of the third column)\n",
        "column_slice = tensor[:,:, 2]\n",
        "print (\"\\\\nColumn Slice:\")\n",
        "print(column_slice)\n",
        "print (\"Column Slice Shape:\", column_slice.shape)\n"
      ],
      "metadata": {
        "colab": {
          "base_uri": "https://localhost:8080/"
        },
        "id": "TJ99d0Y1uo8q",
        "outputId": "575508a2-1f0a-48d6-8216-17318ab8bfa0"
      },
      "execution_count": null,
      "outputs": [
        {
          "output_type": "stream",
          "name": "stdout",
          "text": [
            "\\nColumn Slice:\n",
            "tensor([[ 3,  6,  9],\n",
            "        [12, 15, 18]])\n",
            "Column Slice Shape: torch.Size([2, 3])\n"
          ]
        }
      ]
    },
    {
      "cell_type": "markdown",
      "source": [
        "### Mixed Slice"
      ],
      "metadata": {
        "id": "AoV5FGayusZV"
      }
    },
    {
      "cell_type": "code",
      "source": [
        "# Mixed Slice (Mixed slice of rows and columns)\n",
        "mixed_slice = tensor[:, 0:2, 1:3]\n",
        "print(\"\\\\nMixed Slice:\")\n",
        "print (mixed_slice)\n",
        "print(\"Mixed Slice Shape:\", mixed_slice.shape)\n",
        "\n"
      ],
      "metadata": {
        "colab": {
          "base_uri": "https://localhost:8080/"
        },
        "id": "gopWgt3fuzmB",
        "outputId": "58824bf7-9f11-4852-e60d-958e036a6702"
      },
      "execution_count": null,
      "outputs": [
        {
          "output_type": "stream",
          "name": "stdout",
          "text": [
            "\\nMixed Slice:\n",
            "tensor([[[ 2,  3],\n",
            "         [ 5,  6]],\n",
            "\n",
            "        [[11, 12],\n",
            "         [14, 15]]])\n",
            "Mixed Slice Shape: torch.Size([2, 2, 2])\n"
          ]
        }
      ]
    },
    {
      "cell_type": "markdown",
      "source": [
        "## Reshaping and View in Tensors"
      ],
      "metadata": {
        "id": "0wOw7cR9xCDd"
      }
    },
    {
      "cell_type": "code",
      "source": [
        "# Create a contiguous 2D tensor\n",
        "tensor = torch. tensor([\n",
        "\t[1, 2, 3],\n",
        "\t[4, 5, 6]\n",
        "])\n",
        "# Reshape the tensor using view\n",
        "reshaped_tensor = tensor.view(3, 2)\n",
        "print(\"Original Tensor:\")\n",
        "print (tensor)\n",
        "print (\"\\\\nReshaped Tensor:\")\n",
        "print (reshaped_tensor)\n",
        "\n"
      ],
      "metadata": {
        "colab": {
          "base_uri": "https://localhost:8080/"
        },
        "id": "ZDd5G7LOxI7E",
        "outputId": "86e3a502-af1a-42e1-d357-c2343fb7f13c"
      },
      "execution_count": null,
      "outputs": [
        {
          "output_type": "stream",
          "name": "stdout",
          "text": [
            "Original Tensor:\n",
            "tensor([[1, 2, 3],\n",
            "        [4, 5, 6]])\n",
            "\\nReshaped Tensor:\n",
            "tensor([[1, 2],\n",
            "        [3, 4],\n",
            "        [5, 6]])\n"
          ]
        }
      ]
    },
    {
      "cell_type": "code",
      "source": [
        "import torch\n",
        "# Create a non-contiguous 2D tensor using slicing\n",
        "tensor = torch. tensor([[1, 2, 3, 4, 5, 6]])\n",
        "sliced_tensor = tensor[:, :3]\n",
        "# Reshape the tensor using reshape\n",
        "reshaped_tensor = torch.reshape(sliced_tensor, (1, 3))\n",
        "print (\"Original Tensor:\")\n",
        "print (sliced_tensor)\n",
        "print(\"\\\\nReshaped Tensor:\")\n",
        "print (reshaped_tensor)\n",
        "\n"
      ],
      "metadata": {
        "colab": {
          "base_uri": "https://localhost:8080/"
        },
        "id": "HrDc9ZuvxZNQ",
        "outputId": "6705add7-e0ab-4208-bcb8-c845e10aeb05"
      },
      "execution_count": null,
      "outputs": [
        {
          "output_type": "stream",
          "name": "stdout",
          "text": [
            "Original Tensor:\n",
            "tensor([[1, 2, 3]])\n",
            "\\nReshaped Tensor:\n",
            "tensor([[1, 2, 3]])\n"
          ]
        }
      ]
    },
    {
      "cell_type": "markdown",
      "source": [
        "## The -1 trick in view()"
      ],
      "metadata": {
        "id": "zRQJsMSZxiFA"
      }
    },
    {
      "cell_type": "code",
      "source": [
        "import torch\n",
        "# Create a tensor with size (2, 4)\n",
        "tensor = torch. tensor([\n",
        "\t[1, 2, 3, 4],\n",
        "\t[5, 6, 7, 8]\n",
        "])\n",
        "# Reshape the tensor using view and -1 trick\n",
        "reshaped_tensor = tensor.view(-1, 2)\n",
        "print(\"Original Tensor:\")\n",
        "print (tensor)\n",
        "print (\"\\\\nReshaped Tensor:\")\n",
        "print (reshaped_tensor)\n"
      ],
      "metadata": {
        "colab": {
          "base_uri": "https://localhost:8080/"
        },
        "id": "cAfkbskgxnc0",
        "outputId": "6bd44582-a3fb-407b-832f-7d0b0867b36a"
      },
      "execution_count": null,
      "outputs": [
        {
          "output_type": "stream",
          "name": "stdout",
          "text": [
            "Original Tensor:\n",
            "tensor([[1, 2, 3, 4],\n",
            "        [5, 6, 7, 8]])\n",
            "\\nReshaped Tensor:\n",
            "tensor([[1, 2],\n",
            "        [3, 4],\n",
            "        [5, 6],\n",
            "        [7, 8]])\n"
          ]
        }
      ]
    },
    {
      "cell_type": "code",
      "source": [
        "a= torch.ones(2,3,4)\n",
        "b= a.view(1,4,-1)\n",
        "print(b.shape)"
      ],
      "metadata": {
        "colab": {
          "base_uri": "https://localhost:8080/"
        },
        "id": "62ZcRavgYlZe",
        "outputId": "fe59b917-4460-4249-f7f5-b3c6320080a7"
      },
      "execution_count": null,
      "outputs": [
        {
          "output_type": "stream",
          "name": "stdout",
          "text": [
            "torch.Size([1, 4, 6])\n"
          ]
        }
      ]
    },
    {
      "cell_type": "markdown",
      "source": [
        "## Gradient calculation with Tensors"
      ],
      "metadata": {
        "id": "NOSt_Fk7zKJd"
      }
    },
    {
      "cell_type": "code",
      "source": [
        "import torch\n",
        "# Enable gradient tracking\n",
        "x = torch.tensor(3.0, requires_grad=True)\n",
        "# Perform operations on the tensor\n",
        "\n",
        "z = x ** 2 + 1\n",
        "# Compute gradients\n",
        "z.backward()\n",
        "# Access the computed gradients\n",
        "x_grad = x.grad\n",
        "\n",
        "print(x_grad)"
      ],
      "metadata": {
        "id": "FySgkdiAzNXB",
        "colab": {
          "base_uri": "https://localhost:8080/"
        },
        "outputId": "1f3c7c93-9470-4387-e39e-c34b9e1fa58a"
      },
      "execution_count": null,
      "outputs": [
        {
          "output_type": "stream",
          "name": "stdout",
          "text": [
            "tensor(6.)\n"
          ]
        }
      ]
    },
    {
      "cell_type": "markdown",
      "source": [
        "## Detaching and no grad()"
      ],
      "metadata": {
        "id": "dZPM53mUzZWL"
      }
    },
    {
      "cell_type": "code",
      "source": [
        "import torch\n",
        "# Create a tensor with tracking enabled\n",
        "x = torch.tensor([3.0], requires_grad=True)\n",
        "# Perform operations on the tensor\n",
        "y = x**2 + 2*x + 1\n",
        "# Stop tracking gradients using detach()\n",
        "z = y.detach()\n",
        "# Perform further operations without tracking\n",
        "with torch.no_grad() :\n",
        "  w = z * 2\n",
        "print(w)\n",
        "\n"
      ],
      "metadata": {
        "colab": {
          "base_uri": "https://localhost:8080/"
        },
        "id": "PWx3fNy2zgYV",
        "outputId": "953bee73-26c8-440e-bbbe-66529a9a8ed2"
      },
      "execution_count": null,
      "outputs": [
        {
          "output_type": "stream",
          "name": "stdout",
          "text": [
            "tensor([32.])\n"
          ]
        }
      ]
    }
  ]
}